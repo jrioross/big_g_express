{
 "cells": [
  {
   "cell_type": "markdown",
   "metadata": {},
   "source": [
    "# Big G Express Data Preparaton & Preliminary Explorations"
   ]
  },
  {
   "cell_type": "markdown",
   "metadata": {},
   "source": [
    "## Imports"
   ]
  },
  {
   "cell_type": "code",
   "execution_count": 1,
   "metadata": {},
   "outputs": [],
   "source": [
    "import numpy as np\n",
    "import pandas as pd\n",
    "import matplotlib.pyplot as plt\n",
    "import seaborn as sns"
   ]
  },
  {
   "cell_type": "markdown",
   "metadata": {},
   "source": [
    "## Read in"
   ]
  },
  {
   "cell_type": "code",
   "execution_count": 2,
   "metadata": {},
   "outputs": [
    {
     "name": "stderr",
     "output_type": "stream",
     "text": [
      "C:\\Users\\jrior\\anaconda3\\lib\\site-packages\\IPython\\core\\interactiveshell.py:3165: DtypeWarning: Columns (15) have mixed types.Specify dtype option on import or set low_memory=False.\n",
      "  has_raised = await self.run_ast_nodes(code_ast.body, cell_name,\n",
      "C:\\Users\\jrior\\anaconda3\\lib\\site-packages\\openpyxl\\worksheet\\_reader.py:312: UserWarning: Data Validation extension is not supported and will be removed\n",
      "  warn(msg)\n"
     ]
    }
   ],
   "source": [
    "faults = pd.read_csv('../data/J1939Faults.csv')\n",
    "diag = pd.read_csv('../data/VehicleDiagnosticOnboardData.csv')\n",
    "makes = pd.read_excel('../data/Vehicle_Make.xlsx')\n",
    "fault_codes = pd.read_excel('../data/Service Fault Codes_1_0_0_167.xlsx')\n"
   ]
  },
  {
   "cell_type": "markdown",
   "metadata": {},
   "source": [
    "## Glance at each df, convert datatypes, and prepare for merging"
   ]
  },
  {
   "cell_type": "markdown",
   "metadata": {},
   "source": [
    "### faults\n",
    "- 20 columns\n",
    "- 1,187,335 rows\n",
    "- EventTimeStamp, LocationTimeStamp cast as datetimes\n",
    "- Many spn-fmi combinations have multiple rows in the dataset, usually one with an Algorithmic Description and another without one\n",
    "- 1,187,335 distinct FaultIds"
   ]
  },
  {
   "cell_type": "code",
   "execution_count": 3,
   "metadata": {},
   "outputs": [
    {
     "data": {
      "text/plain": [
       "(1187335, 20)"
      ]
     },
     "execution_count": 3,
     "metadata": {},
     "output_type": "execute_result"
    }
   ],
   "source": [
    "faults.shape"
   ]
  },
  {
   "cell_type": "code",
   "execution_count": 4,
   "metadata": {},
   "outputs": [
    {
     "data": {
      "text/html": [
       "<div>\n",
       "<style scoped>\n",
       "    .dataframe tbody tr th:only-of-type {\n",
       "        vertical-align: middle;\n",
       "    }\n",
       "\n",
       "    .dataframe tbody tr th {\n",
       "        vertical-align: top;\n",
       "    }\n",
       "\n",
       "    .dataframe thead th {\n",
       "        text-align: right;\n",
       "    }\n",
       "</style>\n",
       "<table border=\"1\" class=\"dataframe\">\n",
       "  <thead>\n",
       "    <tr style=\"text-align: right;\">\n",
       "      <th></th>\n",
       "      <th>RecordID</th>\n",
       "      <th>ESS_Id</th>\n",
       "      <th>EventTimeStamp</th>\n",
       "      <th>eventDescription</th>\n",
       "      <th>actionDescription</th>\n",
       "      <th>ecuSoftwareVersion</th>\n",
       "      <th>ecuSerialNumber</th>\n",
       "      <th>ecuModel</th>\n",
       "      <th>ecuMake</th>\n",
       "      <th>ecuSource</th>\n",
       "      <th>spn</th>\n",
       "      <th>fmi</th>\n",
       "      <th>active</th>\n",
       "      <th>activeTransitionCount</th>\n",
       "      <th>faultValue</th>\n",
       "      <th>EquipmentID</th>\n",
       "      <th>MCTNumber</th>\n",
       "      <th>Latitude</th>\n",
       "      <th>Longitude</th>\n",
       "      <th>LocationTimeStamp</th>\n",
       "    </tr>\n",
       "  </thead>\n",
       "  <tbody>\n",
       "    <tr>\n",
       "      <th>0</th>\n",
       "      <td>1</td>\n",
       "      <td>990349</td>\n",
       "      <td>2015-02-21 10:47:13.000</td>\n",
       "      <td>Low (Severity Low) Engine Coolant Level</td>\n",
       "      <td>NaN</td>\n",
       "      <td>unknown</td>\n",
       "      <td>unknown</td>\n",
       "      <td>unknown</td>\n",
       "      <td>unknown</td>\n",
       "      <td>0</td>\n",
       "      <td>111</td>\n",
       "      <td>17</td>\n",
       "      <td>True</td>\n",
       "      <td>2</td>\n",
       "      <td>NaN</td>\n",
       "      <td>1439</td>\n",
       "      <td>105354361</td>\n",
       "      <td>38.857638</td>\n",
       "      <td>-84.626851</td>\n",
       "      <td>2015-02-21 11:34:25.000</td>\n",
       "    </tr>\n",
       "    <tr>\n",
       "      <th>1</th>\n",
       "      <td>2</td>\n",
       "      <td>990360</td>\n",
       "      <td>2015-02-21 11:34:34.000</td>\n",
       "      <td>NaN</td>\n",
       "      <td>NaN</td>\n",
       "      <td>unknown</td>\n",
       "      <td>unknown</td>\n",
       "      <td>unknown</td>\n",
       "      <td>unknown</td>\n",
       "      <td>11</td>\n",
       "      <td>629</td>\n",
       "      <td>12</td>\n",
       "      <td>True</td>\n",
       "      <td>127</td>\n",
       "      <td>NaN</td>\n",
       "      <td>1439</td>\n",
       "      <td>105354361</td>\n",
       "      <td>38.857638</td>\n",
       "      <td>-84.626851</td>\n",
       "      <td>2015-02-21 11:35:10.000</td>\n",
       "    </tr>\n",
       "    <tr>\n",
       "      <th>2</th>\n",
       "      <td>3</td>\n",
       "      <td>990364</td>\n",
       "      <td>2015-02-21 11:35:31.000</td>\n",
       "      <td>Incorrect Data Steering Wheel Angle</td>\n",
       "      <td>NaN</td>\n",
       "      <td>unknown</td>\n",
       "      <td>unknown</td>\n",
       "      <td>unknown</td>\n",
       "      <td>unknown</td>\n",
       "      <td>11</td>\n",
       "      <td>1807</td>\n",
       "      <td>2</td>\n",
       "      <td>False</td>\n",
       "      <td>127</td>\n",
       "      <td>NaN</td>\n",
       "      <td>1369</td>\n",
       "      <td>105336226</td>\n",
       "      <td>41.421250</td>\n",
       "      <td>-87.767361</td>\n",
       "      <td>2015-02-21 11:35:26.000</td>\n",
       "    </tr>\n",
       "    <tr>\n",
       "      <th>3</th>\n",
       "      <td>4</td>\n",
       "      <td>990370</td>\n",
       "      <td>2015-02-21 11:35:33.000</td>\n",
       "      <td>Incorrect Data Steering Wheel Angle</td>\n",
       "      <td>NaN</td>\n",
       "      <td>unknown</td>\n",
       "      <td>unknown</td>\n",
       "      <td>unknown</td>\n",
       "      <td>unknown</td>\n",
       "      <td>11</td>\n",
       "      <td>1807</td>\n",
       "      <td>2</td>\n",
       "      <td>True</td>\n",
       "      <td>127</td>\n",
       "      <td>NaN</td>\n",
       "      <td>1369</td>\n",
       "      <td>105336226</td>\n",
       "      <td>41.421018</td>\n",
       "      <td>-87.767361</td>\n",
       "      <td>2015-02-21 11:36:08.000</td>\n",
       "    </tr>\n",
       "    <tr>\n",
       "      <th>4</th>\n",
       "      <td>5</td>\n",
       "      <td>990416</td>\n",
       "      <td>2015-02-21 11:39:41.000</td>\n",
       "      <td>NaN</td>\n",
       "      <td>NaN</td>\n",
       "      <td>22281684P01*22357957P01*22362082P01*</td>\n",
       "      <td>13063430</td>\n",
       "      <td>0USA13_13_0415_2238A</td>\n",
       "      <td>VOLVO</td>\n",
       "      <td>0</td>\n",
       "      <td>4364</td>\n",
       "      <td>17</td>\n",
       "      <td>False</td>\n",
       "      <td>2</td>\n",
       "      <td>NaN</td>\n",
       "      <td>1674</td>\n",
       "      <td>105427130</td>\n",
       "      <td>38.416481</td>\n",
       "      <td>-89.442638</td>\n",
       "      <td>2015-02-21 11:39:37.000</td>\n",
       "    </tr>\n",
       "  </tbody>\n",
       "</table>\n",
       "</div>"
      ],
      "text/plain": [
       "   RecordID  ESS_Id           EventTimeStamp  \\\n",
       "0         1  990349  2015-02-21 10:47:13.000   \n",
       "1         2  990360  2015-02-21 11:34:34.000   \n",
       "2         3  990364  2015-02-21 11:35:31.000   \n",
       "3         4  990370  2015-02-21 11:35:33.000   \n",
       "4         5  990416  2015-02-21 11:39:41.000   \n",
       "\n",
       "                          eventDescription  actionDescription  \\\n",
       "0  Low (Severity Low) Engine Coolant Level                NaN   \n",
       "1                                      NaN                NaN   \n",
       "2      Incorrect Data Steering Wheel Angle                NaN   \n",
       "3      Incorrect Data Steering Wheel Angle                NaN   \n",
       "4                                      NaN                NaN   \n",
       "\n",
       "                     ecuSoftwareVersion ecuSerialNumber              ecuModel  \\\n",
       "0                               unknown         unknown               unknown   \n",
       "1                               unknown         unknown               unknown   \n",
       "2                               unknown         unknown               unknown   \n",
       "3                               unknown         unknown               unknown   \n",
       "4  22281684P01*22357957P01*22362082P01*        13063430  0USA13_13_0415_2238A   \n",
       "\n",
       "   ecuMake  ecuSource   spn  fmi  active  activeTransitionCount  faultValue  \\\n",
       "0  unknown          0   111   17    True                      2         NaN   \n",
       "1  unknown         11   629   12    True                    127         NaN   \n",
       "2  unknown         11  1807    2   False                    127         NaN   \n",
       "3  unknown         11  1807    2    True                    127         NaN   \n",
       "4    VOLVO          0  4364   17   False                      2         NaN   \n",
       "\n",
       "  EquipmentID  MCTNumber   Latitude  Longitude        LocationTimeStamp  \n",
       "0        1439  105354361  38.857638 -84.626851  2015-02-21 11:34:25.000  \n",
       "1        1439  105354361  38.857638 -84.626851  2015-02-21 11:35:10.000  \n",
       "2        1369  105336226  41.421250 -87.767361  2015-02-21 11:35:26.000  \n",
       "3        1369  105336226  41.421018 -87.767361  2015-02-21 11:36:08.000  \n",
       "4        1674  105427130  38.416481 -89.442638  2015-02-21 11:39:37.000  "
      ]
     },
     "execution_count": 4,
     "metadata": {},
     "output_type": "execute_result"
    }
   ],
   "source": [
    "faults.head()"
   ]
  },
  {
   "cell_type": "code",
   "execution_count": 5,
   "metadata": {},
   "outputs": [],
   "source": [
    "for col in ['EventTimeStamp', 'LocationTimeStamp']:\n",
    "    faults[col] = faults[col].astype('datetime64[ns]')"
   ]
  },
  {
   "cell_type": "markdown",
   "metadata": {},
   "source": [
    "### diag (from Onboard Diagnostic Data)\n",
    "- 4 columns\n",
    "- 12,821,626 rows\n",
    "- The data is in long form. The numbers use commas as decimals, so we'll replace those so we can change the wideform columns to floats."
   ]
  },
  {
   "cell_type": "code",
   "execution_count": 7,
   "metadata": {},
   "outputs": [
    {
     "data": {
      "text/plain": [
       "(12821626, 4)"
      ]
     },
     "execution_count": 7,
     "metadata": {},
     "output_type": "execute_result"
    }
   ],
   "source": [
    "diag.shape"
   ]
  },
  {
   "cell_type": "code",
   "execution_count": 9,
   "metadata": {},
   "outputs": [
    {
     "name": "stdout",
     "output_type": "stream",
     "text": [
      "<class 'pandas.core.frame.DataFrame'>\n",
      "RangeIndex: 12821626 entries, 0 to 12821625\n",
      "Data columns (total 4 columns):\n",
      " #   Column   Dtype \n",
      "---  ------   ----- \n",
      " 0   Id       int64 \n",
      " 1   Name     object\n",
      " 2   Value    object\n",
      " 3   FaultId  int64 \n",
      "dtypes: int64(2), object(2)\n",
      "memory usage: 391.3+ MB\n"
     ]
    }
   ],
   "source": [
    "diag.info()"
   ]
  },
  {
   "cell_type": "code",
   "execution_count": 10,
   "metadata": {},
   "outputs": [
    {
     "data": {
      "text/plain": [
       "1187335"
      ]
     },
     "execution_count": 10,
     "metadata": {},
     "output_type": "execute_result"
    }
   ],
   "source": [
    "diag['FaultId'].nunique()"
   ]
  },
  {
   "cell_type": "code",
   "execution_count": 11,
   "metadata": {},
   "outputs": [
    {
     "data": {
      "text/html": [
       "<div>\n",
       "<style scoped>\n",
       "    .dataframe tbody tr th:only-of-type {\n",
       "        vertical-align: middle;\n",
       "    }\n",
       "\n",
       "    .dataframe tbody tr th {\n",
       "        vertical-align: top;\n",
       "    }\n",
       "\n",
       "    .dataframe thead th {\n",
       "        text-align: right;\n",
       "    }\n",
       "</style>\n",
       "<table border=\"1\" class=\"dataframe\">\n",
       "  <thead>\n",
       "    <tr style=\"text-align: right;\">\n",
       "      <th></th>\n",
       "      <th>Id</th>\n",
       "      <th>Name</th>\n",
       "      <th>Value</th>\n",
       "      <th>FaultId</th>\n",
       "    </tr>\n",
       "  </thead>\n",
       "  <tbody>\n",
       "    <tr>\n",
       "      <th>200754</th>\n",
       "      <td>201459</td>\n",
       "      <td>EngineOilPressure</td>\n",
       "      <td>75,98</td>\n",
       "      <td>18402</td>\n",
       "    </tr>\n",
       "    <tr>\n",
       "      <th>200755</th>\n",
       "      <td>201460</td>\n",
       "      <td>EngineOilTemperature</td>\n",
       "      <td>177,575</td>\n",
       "      <td>18402</td>\n",
       "    </tr>\n",
       "    <tr>\n",
       "      <th>200757</th>\n",
       "      <td>201462</td>\n",
       "      <td>TurboBoostPressure</td>\n",
       "      <td>33,35</td>\n",
       "      <td>18402</td>\n",
       "    </tr>\n",
       "    <tr>\n",
       "      <th>200760</th>\n",
       "      <td>201465</td>\n",
       "      <td>FuelLtd</td>\n",
       "      <td>17867,93716715</td>\n",
       "      <td>18402</td>\n",
       "    </tr>\n",
       "    <tr>\n",
       "      <th>200761</th>\n",
       "      <td>201466</td>\n",
       "      <td>FuelRate</td>\n",
       "      <td>20,68474</td>\n",
       "      <td>18402</td>\n",
       "    </tr>\n",
       "    <tr>\n",
       "      <th>...</th>\n",
       "      <td>...</td>\n",
       "      <td>...</td>\n",
       "      <td>...</td>\n",
       "      <td>...</td>\n",
       "    </tr>\n",
       "    <tr>\n",
       "      <th>5632164</th>\n",
       "      <td>5640222</td>\n",
       "      <td>IntakeManifoldTemperature</td>\n",
       "      <td>98,6</td>\n",
       "      <td>545727</td>\n",
       "    </tr>\n",
       "    <tr>\n",
       "      <th>5632166</th>\n",
       "      <td>5640224</td>\n",
       "      <td>EngineRpm</td>\n",
       "      <td>1261,5</td>\n",
       "      <td>545727</td>\n",
       "    </tr>\n",
       "    <tr>\n",
       "      <th>5632167</th>\n",
       "      <td>5640225</td>\n",
       "      <td>BarometricPressure</td>\n",
       "      <td>14,2825</td>\n",
       "      <td>545727</td>\n",
       "    </tr>\n",
       "    <tr>\n",
       "      <th>5632169</th>\n",
       "      <td>5640227</td>\n",
       "      <td>Speed</td>\n",
       "      <td>64,47697</td>\n",
       "      <td>545727</td>\n",
       "    </tr>\n",
       "    <tr>\n",
       "      <th>5632170</th>\n",
       "      <td>5640228</td>\n",
       "      <td>EngineTimeLtd</td>\n",
       "      <td>4578,85</td>\n",
       "      <td>545727</td>\n",
       "    </tr>\n",
       "  </tbody>\n",
       "</table>\n",
       "<p>304 rows × 4 columns</p>\n",
       "</div>"
      ],
      "text/plain": [
       "              Id                       Name           Value  FaultId\n",
       "200754    201459          EngineOilPressure           75,98    18402\n",
       "200755    201460       EngineOilTemperature         177,575    18402\n",
       "200757    201462         TurboBoostPressure           33,35    18402\n",
       "200760    201465                    FuelLtd  17867,93716715    18402\n",
       "200761    201466                   FuelRate        20,68474    18402\n",
       "...          ...                        ...             ...      ...\n",
       "5632164  5640222  IntakeManifoldTemperature            98,6   545727\n",
       "5632166  5640224                  EngineRpm          1261,5   545727\n",
       "5632167  5640225         BarometricPressure         14,2825   545727\n",
       "5632169  5640227                      Speed        64,47697   545727\n",
       "5632170  5640228              EngineTimeLtd         4578,85   545727\n",
       "\n",
       "[304 rows x 4 columns]"
      ]
     },
     "execution_count": 11,
     "metadata": {},
     "output_type": "execute_result"
    }
   ],
   "source": [
    "diag.loc[diag['Value'].str.contains(',')]"
   ]
  },
  {
   "cell_type": "code",
   "execution_count": 12,
   "metadata": {},
   "outputs": [
    {
     "data": {
      "text/plain": [
       "array(['EngineOilPressure', 'EngineOilTemperature', 'TurboBoostPressure',\n",
       "       'FuelLtd', 'FuelRate', 'IntakeManifoldTemperature', 'EngineRpm',\n",
       "       'BarometricPressure', 'FuelLevel', 'Speed', 'EngineTimeLtd',\n",
       "       'EngineCoolantTemperature', 'SwitchedBatteryVoltage',\n",
       "       'DistanceLtd', 'FuelTemperature', 'Throttle', 'AcceleratorPedal'],\n",
       "      dtype=object)"
      ]
     },
     "execution_count": 12,
     "metadata": {},
     "output_type": "execute_result"
    }
   ],
   "source": [
    "diag.loc[diag['Value'].str.contains(','), 'Name'].unique()"
   ]
  },
  {
   "cell_type": "code",
   "execution_count": 13,
   "metadata": {},
   "outputs": [],
   "source": [
    "diag['Value'] = diag['Value'].str.replace(',', '.')"
   ]
  },
  {
   "cell_type": "markdown",
   "metadata": {},
   "source": [
    "## fault_codes\n",
    "\n",
    "- Collection of references to interpret the faults spn and fmi columns\n",
    "- Focus here is therefore on SPN, J1939 FMI (FMI pertaining to derates), as well as the interpretations: Lamp Color, Lamp Device, Cummins Description, Algorithm Description\n",
    "- Some SPN, J1939 FMI pairs have multiple rows, and in some cases the differences are nontrivial. For example, these lines:\n",
    "\n",
    "    |Cummins Fault Code|\tSPN\t|J1939 FMI\t|Lamp Color|\tLamp Device|\tCummins Description\t|Algorithm Description|\n",
    "    |------------------|---------|----------|----------|----------------|-----------------------|----------------------|\n",
    "    |2519|\t51|\t2|\tRed|\tStop / Shutdown|\tThrottle Position Sensor - Data Erratic, Inter...\t|Throttle actuator control lost|\n",
    "    |3542|\t51|\t2|\tAmber|\tWarning\t|Engine Intake Throttle Actuator Position Senso...\t|NaN|"
   ]
  },
  {
   "cell_type": "code",
   "execution_count": 14,
   "metadata": {},
   "outputs": [
    {
     "data": {
      "text/plain": [
       "(7124, 14)"
      ]
     },
     "execution_count": 14,
     "metadata": {},
     "output_type": "execute_result"
    }
   ],
   "source": [
    "fault_codes.shape"
   ]
  },
  {
   "cell_type": "code",
   "execution_count": 52,
   "metadata": {},
   "outputs": [
    {
     "data": {
      "text/html": [
       "<div>\n",
       "<style scoped>\n",
       "    .dataframe tbody tr th:only-of-type {\n",
       "        vertical-align: middle;\n",
       "    }\n",
       "\n",
       "    .dataframe tbody tr th {\n",
       "        vertical-align: top;\n",
       "    }\n",
       "\n",
       "    .dataframe thead th {\n",
       "        text-align: right;\n",
       "    }\n",
       "</style>\n",
       "<table border=\"1\" class=\"dataframe\">\n",
       "  <thead>\n",
       "    <tr style=\"text-align: right;\">\n",
       "      <th></th>\n",
       "      <th>Cummins Fault Code</th>\n",
       "      <th>SPN</th>\n",
       "      <th>J1939 FMI</th>\n",
       "      <th>Lamp Color</th>\n",
       "      <th>Lamp Device</th>\n",
       "      <th>Cummins Description</th>\n",
       "      <th>Algorithm Description</th>\n",
       "    </tr>\n",
       "  </thead>\n",
       "  <tbody>\n",
       "    <tr>\n",
       "      <th>470</th>\n",
       "      <td>719</td>\n",
       "      <td>22</td>\n",
       "      <td>3</td>\n",
       "      <td>Amber</td>\n",
       "      <td>Warning</td>\n",
       "      <td>Extended Crankcase Blow-by Pressure Circuit - ...</td>\n",
       "      <td>High voltage has been detected in the Extended...</td>\n",
       "    </tr>\n",
       "    <tr>\n",
       "      <th>479</th>\n",
       "      <td>729</td>\n",
       "      <td>22</td>\n",
       "      <td>4</td>\n",
       "      <td>Amber</td>\n",
       "      <td>Warning</td>\n",
       "      <td>Extended Crankcase Blow-by Pressure Circuit - ...</td>\n",
       "      <td>Low voltage has been detected in the Extended ...</td>\n",
       "    </tr>\n",
       "    <tr>\n",
       "      <th>734</th>\n",
       "      <td>1228</td>\n",
       "      <td>27</td>\n",
       "      <td>2</td>\n",
       "      <td>Amber</td>\n",
       "      <td>Warning</td>\n",
       "      <td>EGR Valve Position - Data Erratic, Intermitten...</td>\n",
       "      <td>NaN</td>\n",
       "    </tr>\n",
       "    <tr>\n",
       "      <th>1457</th>\n",
       "      <td>2271</td>\n",
       "      <td>27</td>\n",
       "      <td>3</td>\n",
       "      <td>Amber</td>\n",
       "      <td>Warning</td>\n",
       "      <td>EGR Valve Position Circuit - Voltage Above Nor...</td>\n",
       "      <td>High signal voltage detected at EGR Valve Posi...</td>\n",
       "    </tr>\n",
       "    <tr>\n",
       "      <th>1458</th>\n",
       "      <td>2272</td>\n",
       "      <td>27</td>\n",
       "      <td>4</td>\n",
       "      <td>Amber</td>\n",
       "      <td>Warning</td>\n",
       "      <td>EGR Valve Position Circuit - Voltage Below Nor...</td>\n",
       "      <td>Low signal voltage has been detected at the EG...</td>\n",
       "    </tr>\n",
       "    <tr>\n",
       "      <th>1515</th>\n",
       "      <td>2348</td>\n",
       "      <td>27</td>\n",
       "      <td>13</td>\n",
       "      <td>Amber</td>\n",
       "      <td>Warning</td>\n",
       "      <td>EGR Valve Position Circuit - Out of Calibration</td>\n",
       "      <td>The EGR valve position is out of calibration.</td>\n",
       "    </tr>\n",
       "  </tbody>\n",
       "</table>\n",
       "</div>"
      ],
      "text/plain": [
       "      Cummins Fault Code  SPN  J1939 FMI Lamp Color Lamp Device  \\\n",
       "470                  719   22          3      Amber     Warning   \n",
       "479                  729   22          4      Amber     Warning   \n",
       "734                 1228   27          2      Amber     Warning   \n",
       "1457                2271   27          3      Amber     Warning   \n",
       "1458                2272   27          4      Amber     Warning   \n",
       "1515                2348   27         13      Amber     Warning   \n",
       "\n",
       "                                    Cummins Description  \\\n",
       "470   Extended Crankcase Blow-by Pressure Circuit - ...   \n",
       "479   Extended Crankcase Blow-by Pressure Circuit - ...   \n",
       "734   EGR Valve Position - Data Erratic, Intermitten...   \n",
       "1457  EGR Valve Position Circuit - Voltage Above Nor...   \n",
       "1458  EGR Valve Position Circuit - Voltage Below Nor...   \n",
       "1515    EGR Valve Position Circuit - Out of Calibration   \n",
       "\n",
       "                                  Algorithm Description  \n",
       "470   High voltage has been detected in the Extended...  \n",
       "479   Low voltage has been detected in the Extended ...  \n",
       "734                                                 NaN  \n",
       "1457  High signal voltage detected at EGR Valve Posi...  \n",
       "1458  Low signal voltage has been detected at the EG...  \n",
       "1515      The EGR valve position is out of calibration.  "
      ]
     },
     "execution_count": 52,
     "metadata": {},
     "output_type": "execute_result"
    }
   ],
   "source": [
    "fault_codes.sort_values(['SPN', 'J1939 FMI']).head(6)"
   ]
  },
  {
   "cell_type": "code",
   "execution_count": 18,
   "metadata": {},
   "outputs": [],
   "source": [
    "fault_codes = fault_codes[['Cummins Fault Code', 'SPN', 'J1939 FMI', 'Lamp Color', 'Lamp Device', 'Cummins Description', 'Algorithm Description']]"
   ]
  },
  {
   "cell_type": "markdown",
   "metadata": {},
   "source": [
    "### makes\n",
    "\n",
    "We've discovered that makes has no referential integrity with the rest of the data."
   ]
  },
  {
   "cell_type": "markdown",
   "metadata": {},
   "source": [
    "## Merge faults and diag\n",
    "\n",
    "- Widen diag so that each fault name has its own column (though we'll get a lot of NaNs). Call this diag_wide.\n",
    "- Make booleans actual boolean values rather than objects. Note that columns containing booleans and NaNs are technically mixed type and thus still \"object\" type.\n",
    "- Cast the rest of the columns as floats.\n",
    "- Merge faults and diag_wide on RecordID and FaultId, respectively. Called fdwide.\n",
    "- Merge faults_diag_wide with fault_codes on spn and fmi.\n",
    "    - This creates duplicate RecordID/FaultId values/rows because fault_codes has multiple lines for the same spn and fmi pairs. We should deal with this.\n",
    "        - [ ] Option 1: Only take the first value, prioritizing those with non-null Algorithm Descriptions\n",
    "        - [ ] Option 2: Widen the spn/fmi pairs to have multiple entries for Lamp Color, Lamp Device, Cummins Description, and Algorithm Description\n",
    "        - [x] Option 3: Wait to incorporate fault_codes until we need to interpret results. Just work with fdwide.\n",
    "- Pickle faults, diag, and fdwide for use in other notebooks."
   ]
  },
  {
   "cell_type": "code",
   "execution_count": 54,
   "metadata": {},
   "outputs": [],
   "source": [
    "diag_wide = diag.pivot(index = ['FaultId'],columns = 'Name', values = 'Value')\n",
    "\n",
    "diag_wide_booleans = ['CruiseControlActive', 'IgnStatus', 'ParkingBrake']\n",
    "boolean_mapper = {'True':True, 'False':False}\n",
    "\n",
    "for col in diag_wide_booleans:\n",
    "    diag_wide[col] = diag_wide[col].map(boolean_mapper)\n",
    "\n",
    "for col in diag_wide.loc[:,~diag_wide.columns.isin(diag_wide_booleans)].columns:\n",
    "    diag_wide[col] = diag_wide[col].astype(float)\n",
    "\n",
    "fdwide = faults.merge(diag_wide.reset_index(), left_on = 'RecordID', right_on='FaultId')\n",
    "\n",
    "full = fdwide.merge(fault_codes, \n",
    "                            left_on = ['spn', 'fmi'], \n",
    "                            right_on = ['SPN', 'J1939 FMI'], \n",
    "                            how = 'left'\n",
    "    )"
   ]
  },
  {
   "cell_type": "code",
   "execution_count": 56,
   "metadata": {},
   "outputs": [
    {
     "name": "stdout",
     "output_type": "stream",
     "text": [
      "fdwide shape:  (1187335, 45)\n",
      "fdwide dedup shape:  (1187335, 45)\n",
      "full:  (1773397, 52)\n",
      "full dedup:  (1187335, 52)\n",
      "full origin columns dedup:  (1187335, 45)\n"
     ]
    }
   ],
   "source": [
    "print('fdwide shape: ', fdwide.shape)\n",
    "print('fdwide dedup shape: ', fdwide.drop_duplicates(keep = 'first').shape)\n",
    "print('full: ', full.shape)\n",
    "print('full dedup: ', full.drop_duplicates(subset = fdwide.columns, keep = 'first').shape)\n",
    "print('full origin columns dedup: ', full[fdwide.columns].drop_duplicates(subset = fdwide.columns, keep = 'first').shape)\n",
    "#full[~((full.duplicated(subset = ['RecordID', 'spn', 'fmi'], keep = False))&(full['Algorithm Description'].isnull()))]"
   ]
  },
  {
   "cell_type": "code",
   "execution_count": 58,
   "metadata": {},
   "outputs": [],
   "source": [
    "faults.to_pickle('../data/faults_df.pickle')\n",
    "diag.to_pickle('../data/diag_df.pickle')\n",
    "fdwide.to_pickle('../data/fdwide_df.pickle')"
   ]
  }
 ],
 "metadata": {
  "interpreter": {
   "hash": "91809cd6930bcd5c93f1baaa8e75dc4fbfa15bbd921b33b01843a7cf2fa05e32"
  },
  "kernelspec": {
   "display_name": "Python 3.8.8 ('base')",
   "language": "python",
   "name": "python3"
  },
  "language_info": {
   "codemirror_mode": {
    "name": "ipython",
    "version": 3
   },
   "file_extension": ".py",
   "mimetype": "text/x-python",
   "name": "python",
   "nbconvert_exporter": "python",
   "pygments_lexer": "ipython3",
   "version": "3.8.8"
  },
  "orig_nbformat": 4
 },
 "nbformat": 4,
 "nbformat_minor": 2
}
