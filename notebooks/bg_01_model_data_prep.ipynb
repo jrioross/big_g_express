{
 "cells": [
  {
   "cell_type": "markdown",
   "metadata": {},
   "source": [
    "# Big G Express Model Data Prep: Target & Stratifier"
   ]
  },
  {
   "cell_type": "markdown",
   "metadata": {},
   "source": [
    "## Import"
   ]
  },
  {
   "cell_type": "code",
   "execution_count": 1,
   "metadata": {},
   "outputs": [],
   "source": [
    "import numpy as np\n",
    "import pandas as pd\n",
    "import matplotlib.pyplot as plt\n",
    "import seaborn as sns\n",
    "import datetime as dt"
   ]
  },
  {
   "cell_type": "markdown",
   "metadata": {},
   "source": [
    "## Read in"
   ]
  },
  {
   "cell_type": "code",
   "execution_count": 2,
   "metadata": {},
   "outputs": [],
   "source": [
    "faults = pd.read_pickle('../data/faults_df.pickle')\n",
    "diag = pd.read_pickle('../data/diag_df.pickle')\n",
    "fdwide = pd.read_pickle('../data/fdwide_df.pickle')"
   ]
  },
  {
   "cell_type": "markdown",
   "metadata": {},
   "source": [
    "## Add grouping column to fdwide: eventGroup\n",
    "\n",
    "Note that this event grouper includes 75% derate events. If we choose not to include those events, that part of the logic can easily be removed."
   ]
  },
  {
   "cell_type": "code",
   "execution_count": 3,
   "metadata": {},
   "outputs": [],
   "source": [
    "fdwide = fdwide.sort_values(['EquipmentID', 'EventTimeStamp']).reset_index(drop = True)"
   ]
  },
  {
   "cell_type": "markdown",
   "metadata": {},
   "source": [
    "## Create target column within target_hours_window number of hours, both derate types or just full derate types"
   ]
  },
  {
   "cell_type": "markdown",
   "metadata": {},
   "source": [
    "### Functionalize Target Creation"
   ]
  },
  {
   "cell_type": "code",
   "execution_count": 4,
   "metadata": {},
   "outputs": [],
   "source": [
    "def create_target_window(df, both_derate_types = False, target_window_hours = 48):\n",
    "\n",
    "    df2 = df.copy()\n",
    "    df2 = df2.sort_values(['EquipmentID', 'EventTimeStamp']).reset_index(drop = True)\n",
    "\n",
    "    if both_derate_types:\n",
    "\n",
    "        increment_check_either = (\n",
    "    \n",
    "                (df2['spn'].shift() == 5246)  # full derate in above row\n",
    "                | \n",
    "                ((df2['spn'].shift() == 1569) & (df2['fmi'].shift() == 31))   # partial derate in above row\n",
    "                | \n",
    "                (df2['EquipmentID'] != df2['EquipmentID'].shift())    # current row is different truck from previous row\n",
    "\n",
    "            )\n",
    "\n",
    "        df2['eventGroup'] = increment_check_either.cumsum()\n",
    "        eventGroupMaxIndexTransform = df2.groupby('eventGroup')['EventTimeStamp'].transform('idxmax') # get the max index of each event group\n",
    "        eventGroupEndDerate = (     \n",
    "                (\n",
    "                    (df2.loc[eventGroupMaxIndexTransform, 'spn'] == 5246) # full derate\n",
    "                    |\n",
    "                    ((df2.loc[eventGroupMaxIndexTransform, 'spn'] == 1569) & (df2.loc[eventGroupMaxIndexTransform, 'fmi'] == 31)) # partial derate\n",
    "                )\n",
    "                .reset_index(drop = True)\n",
    "            )       # check whether or not each event group ends with a derate\n",
    "\n",
    "    else:    \n",
    "\n",
    "        increment_check_full_only = (\n",
    "\n",
    "                (df2['spn'].shift() == 5246)  # full derate in above row\n",
    "                | \n",
    "                (df2['EquipmentID'] != df2['EquipmentID'].shift())    # current row is different truck from previous row\n",
    "\n",
    "            )\n",
    "\n",
    "        df2['eventGroup'] = increment_check_full_only.cumsum()\n",
    "        eventGroupMaxIndexTransform = df2.groupby('eventGroup')['EventTimeStamp'].transform('idxmax')   # get the max index of each event group\n",
    "        eventGroupEndDerate = (df2.loc[eventGroupMaxIndexTransform, 'spn'] == 5246).reset_index(drop = True) # check whether or not each event group ends with a derate\n",
    "\n",
    "    df2['timeTillLast'] = df2.groupby('eventGroup')['EventTimeStamp'].transform(max) - df2['EventTimeStamp']\n",
    "    df2['target'] = (df2['timeTillLast'] < dt.timedelta(hours = target_window_hours)) & eventGroupEndDerate\n",
    "    \n",
    "    return df2"
   ]
  },
  {
   "cell_type": "code",
   "execution_count": 5,
   "metadata": {},
   "outputs": [
    {
     "data": {
      "text/plain": [
       "0.03004291122555976"
      ]
     },
     "execution_count": 5,
     "metadata": {},
     "output_type": "execute_result"
    }
   ],
   "source": [
    "both48 = create_target_window(fdwide, both_derate_types= True)\n",
    "both48['target'].mean()"
   ]
  },
  {
   "cell_type": "code",
   "execution_count": 6,
   "metadata": {},
   "outputs": [
    {
     "data": {
      "text/plain": [
       "35671"
      ]
     },
     "execution_count": 6,
     "metadata": {},
     "output_type": "execute_result"
    }
   ],
   "source": [
    "both48['target'].sum()"
   ]
  },
  {
   "cell_type": "code",
   "execution_count": 7,
   "metadata": {},
   "outputs": [
    {
     "data": {
      "text/plain": [
       "0.0059275604610324805"
      ]
     },
     "execution_count": 7,
     "metadata": {},
     "output_type": "execute_result"
    }
   ],
   "source": [
    "full48 = create_target_window(fdwide, both_derate_types=False)\n",
    "full48['target'].mean()\n"
   ]
  },
  {
   "cell_type": "code",
   "execution_count": 8,
   "metadata": {},
   "outputs": [
    {
     "data": {
      "text/plain": [
       "7038"
      ]
     },
     "execution_count": 8,
     "metadata": {},
     "output_type": "execute_result"
    }
   ],
   "source": [
    "full48['target'].sum()"
   ]
  },
  {
   "cell_type": "code",
   "execution_count": 9,
   "metadata": {},
   "outputs": [
    {
     "data": {
      "text/html": [
       "<div>\n",
       "<style scoped>\n",
       "    .dataframe tbody tr th:only-of-type {\n",
       "        vertical-align: middle;\n",
       "    }\n",
       "\n",
       "    .dataframe tbody tr th {\n",
       "        vertical-align: top;\n",
       "    }\n",
       "\n",
       "    .dataframe thead th {\n",
       "        text-align: right;\n",
       "    }\n",
       "</style>\n",
       "<table border=\"1\" class=\"dataframe\">\n",
       "  <thead>\n",
       "    <tr style=\"text-align: right;\">\n",
       "      <th></th>\n",
       "      <th>EventTimeStamp</th>\n",
       "      <th>EquipmentID</th>\n",
       "      <th>eventGroup</th>\n",
       "      <th>spn</th>\n",
       "      <th>fmi</th>\n",
       "      <th>timeTillLast</th>\n",
       "      <th>target</th>\n",
       "    </tr>\n",
       "  </thead>\n",
       "  <tbody>\n",
       "    <tr>\n",
       "      <th>5137</th>\n",
       "      <td>2020-01-07 03:08:33</td>\n",
       "      <td>302</td>\n",
       "      <td>9</td>\n",
       "      <td>1213</td>\n",
       "      <td>5</td>\n",
       "      <td>6 days 09:06:31</td>\n",
       "      <td>False</td>\n",
       "    </tr>\n",
       "    <tr>\n",
       "      <th>5138</th>\n",
       "      <td>2020-01-07 12:02:12</td>\n",
       "      <td>302</td>\n",
       "      <td>9</td>\n",
       "      <td>1213</td>\n",
       "      <td>5</td>\n",
       "      <td>6 days 00:12:52</td>\n",
       "      <td>False</td>\n",
       "    </tr>\n",
       "    <tr>\n",
       "      <th>5139</th>\n",
       "      <td>2020-01-13 02:38:29</td>\n",
       "      <td>302</td>\n",
       "      <td>9</td>\n",
       "      <td>609</td>\n",
       "      <td>12</td>\n",
       "      <td>0 days 09:36:35</td>\n",
       "      <td>True</td>\n",
       "    </tr>\n",
       "    <tr>\n",
       "      <th>5140</th>\n",
       "      <td>2020-01-13 07:06:03</td>\n",
       "      <td>302</td>\n",
       "      <td>9</td>\n",
       "      <td>609</td>\n",
       "      <td>12</td>\n",
       "      <td>0 days 05:09:01</td>\n",
       "      <td>True</td>\n",
       "    </tr>\n",
       "    <tr>\n",
       "      <th>5141</th>\n",
       "      <td>2020-01-13 12:15:04</td>\n",
       "      <td>302</td>\n",
       "      <td>9</td>\n",
       "      <td>5246</td>\n",
       "      <td>19</td>\n",
       "      <td>0 days 00:00:00</td>\n",
       "      <td>True</td>\n",
       "    </tr>\n",
       "  </tbody>\n",
       "</table>\n",
       "</div>"
      ],
      "text/plain": [
       "          EventTimeStamp EquipmentID  eventGroup   spn  fmi    timeTillLast  \\\n",
       "5137 2020-01-07 03:08:33         302           9  1213    5 6 days 09:06:31   \n",
       "5138 2020-01-07 12:02:12         302           9  1213    5 6 days 00:12:52   \n",
       "5139 2020-01-13 02:38:29         302           9   609   12 0 days 09:36:35   \n",
       "5140 2020-01-13 07:06:03         302           9   609   12 0 days 05:09:01   \n",
       "5141 2020-01-13 12:15:04         302           9  5246   19 0 days 00:00:00   \n",
       "\n",
       "      target  \n",
       "5137   False  \n",
       "5138   False  \n",
       "5139    True  \n",
       "5140    True  \n",
       "5141    True  "
      ]
     },
     "execution_count": 9,
     "metadata": {},
     "output_type": "execute_result"
    }
   ],
   "source": [
    "# For exploration of how event groups conclude\n",
    "eG = 9\n",
    "(full48.loc[full48['eventGroup'] == eG, \n",
    "          ['EventTimeStamp','EquipmentID','eventGroup', 'spn', 'fmi', 'timeTillLast', 'target']]\n",
    "          .tail(15)\n",
    ")"
   ]
  },
  {
   "cell_type": "markdown",
   "metadata": {},
   "source": [
    "## Thinking about Train-Test-Split Stratification Strategies"
   ]
  },
  {
   "cell_type": "markdown",
   "metadata": {},
   "source": [
    "1. Cut the data into train, test, validate by giving the first 60% of events (in chronological order) to training, the next 20% to testing, and the final 20% to validation.\n",
    "2. As a refinement of above, do the same 60-20-20 division by truck, taking each truck's first 60% of events (in chronological order) and combining those all together to make the training data, then likewise with the test data, and finally likewise with the validation data."
   ]
  },
  {
   "cell_type": "markdown",
   "metadata": {},
   "source": [
    "### 1. Train-Test-Validate by Time Alone"
   ]
  },
  {
   "cell_type": "markdown",
   "metadata": {},
   "source": [
    "We have some impossible data (2026?!) that we should throw out."
   ]
  },
  {
   "cell_type": "code",
   "execution_count": 10,
   "metadata": {},
   "outputs": [
    {
     "data": {
      "text/plain": [
       "1119954   2020-03-06 14:14:13\n",
       "1119955   2020-03-06 14:15:34\n",
       "759852    2026-05-16 14:44:11\n",
       "759853    2026-05-16 14:44:11\n",
       "759854    2026-05-16 14:44:11\n",
       "Name: EventTimeStamp, dtype: datetime64[ns]"
      ]
     },
     "execution_count": 10,
     "metadata": {},
     "output_type": "execute_result"
    }
   ],
   "source": [
    "fdwide['EventTimeStamp'].sort_values().tail(5)"
   ]
  },
  {
   "cell_type": "markdown",
   "metadata": {},
   "source": [
    "Here's the distribution of events by year. Looks like almost all events are between 2015 and 2019."
   ]
  },
  {
   "cell_type": "code",
   "execution_count": 11,
   "metadata": {},
   "outputs": [
    {
     "data": {
      "text/plain": [
       "2000       219\n",
       "2002         1\n",
       "2009        24\n",
       "2010        58\n",
       "2011       244\n",
       "2015    325779\n",
       "2016    332383\n",
       "2017    254851\n",
       "2018    144510\n",
       "2019    112075\n",
       "2020     17188\n",
       "2026         3\n",
       "Name: EventTimeStamp, dtype: int64"
      ]
     },
     "execution_count": 11,
     "metadata": {},
     "output_type": "execute_result"
    }
   ],
   "source": [
    "fdwide['EventTimeStamp'].dt.year.value_counts().sort_index()"
   ]
  },
  {
   "cell_type": "code",
   "execution_count": 12,
   "metadata": {},
   "outputs": [
    {
     "data": {
      "text/plain": [
       "<AxesSubplot:>"
      ]
     },
     "execution_count": 12,
     "metadata": {},
     "output_type": "execute_result"
    },
    {
     "data": {
      "image/png": "[encoded data removed]",
      "text/plain": [
       "<Figure size 432x288 with 1 Axes>"
      ]
     },
     "metadata": {
      "needs_background": "light"
     },
     "output_type": "display_data"
    }
   ],
   "source": [
    "_.plot(kind='bar')"
   ]
  },
  {
   "cell_type": "markdown",
   "metadata": {},
   "source": [
    "Based on the quantiles below, our \n",
    "- training data will run from 2000 till 2017-03-05 09:59:10\n",
    "- testing data will run from 2017-03-05 09:59:10 till 2018-03-07 06:48:45\n",
    "- validation data will run from 2018-03-07 06:48:45 till 2020-03-06 14:15:34"
   ]
  },
  {
   "cell_type": "code",
   "execution_count": 13,
   "metadata": {},
   "outputs": [
    {
     "data": {
      "text/plain": [
       "Timestamp('2017-03-05 09:59:10')"
      ]
     },
     "execution_count": 13,
     "metadata": {},
     "output_type": "execute_result"
    }
   ],
   "source": [
    "fdwide['EventTimeStamp'].quantile(0.6)"
   ]
  },
  {
   "cell_type": "code",
   "execution_count": 14,
   "metadata": {},
   "outputs": [
    {
     "data": {
      "text/plain": [
       "Timestamp('2018-03-07 06:48:45.400000')"
      ]
     },
     "execution_count": 14,
     "metadata": {},
     "output_type": "execute_result"
    }
   ],
   "source": [
    "fdwide['EventTimeStamp'].quantile(0.8)"
   ]
  },
  {
   "cell_type": "markdown",
   "metadata": {},
   "source": [
    "The primary concern with a custom cut like this is that our labels might not be adequately stratified. Based on the check below, this stratification at least looks usable. There are more positive cases in the validation set, but not by any orders of magnitude."
   ]
  },
  {
   "cell_type": "code",
   "execution_count": 15,
   "metadata": {},
   "outputs": [
    {
     "data": {
      "text/html": [
       "<div>\n",
       "<style scoped>\n",
       "    .dataframe tbody tr th:only-of-type {\n",
       "        vertical-align: middle;\n",
       "    }\n",
       "\n",
       "    .dataframe tbody tr th {\n",
       "        vertical-align: top;\n",
       "    }\n",
       "\n",
       "    .dataframe thead th {\n",
       "        text-align: right;\n",
       "    }\n",
       "</style>\n",
       "<table border=\"1\" class=\"dataframe\">\n",
       "  <thead>\n",
       "    <tr style=\"text-align: right;\">\n",
       "      <th></th>\n",
       "      <th>mean</th>\n",
       "      <th>sum</th>\n",
       "    </tr>\n",
       "    <tr>\n",
       "      <th>train_test_val</th>\n",
       "      <th></th>\n",
       "      <th></th>\n",
       "    </tr>\n",
       "  </thead>\n",
       "  <tbody>\n",
       "    <tr>\n",
       "      <th>train</th>\n",
       "      <td>0.005743</td>\n",
       "      <td>4091</td>\n",
       "    </tr>\n",
       "    <tr>\n",
       "      <th>test</th>\n",
       "      <td>0.003984</td>\n",
       "      <td>946</td>\n",
       "    </tr>\n",
       "    <tr>\n",
       "      <th>validation</th>\n",
       "      <td>0.008426</td>\n",
       "      <td>2001</td>\n",
       "    </tr>\n",
       "  </tbody>\n",
       "</table>\n",
       "</div>"
      ],
      "text/plain": [
       "                    mean   sum\n",
       "train_test_val                \n",
       "train           0.005743  4091\n",
       "test            0.003984   946\n",
       "validation      0.008426  2001"
      ]
     },
     "execution_count": 15,
     "metadata": {},
     "output_type": "execute_result"
    }
   ],
   "source": [
    "(full48.assign(train_test_val = pd.qcut(full48['EventTimeStamp'], \n",
    "                                          q = [0, 0.6, 0.8, 1], \n",
    "                                          labels = ['train', 'test', 'validation']))\n",
    "       .groupby('train_test_val')\n",
    "       ['target']\n",
    "       .agg(['mean', 'sum'])\n",
    ")"
   ]
  },
  {
   "cell_type": "markdown",
   "metadata": {},
   "source": [
    "### 2. Train-Test-Validate by Truck and Time"
   ]
  },
  {
   "cell_type": "code",
   "execution_count": 16,
   "metadata": {},
   "outputs": [
    {
     "data": {
      "text/html": [
       "<div>\n",
       "<style scoped>\n",
       "    .dataframe tbody tr th:only-of-type {\n",
       "        vertical-align: middle;\n",
       "    }\n",
       "\n",
       "    .dataframe tbody tr th {\n",
       "        vertical-align: top;\n",
       "    }\n",
       "\n",
       "    .dataframe thead th {\n",
       "        text-align: right;\n",
       "    }\n",
       "</style>\n",
       "<table border=\"1\" class=\"dataframe\">\n",
       "  <thead>\n",
       "    <tr style=\"text-align: right;\">\n",
       "      <th></th>\n",
       "      <th>mean</th>\n",
       "      <th>sum</th>\n",
       "    </tr>\n",
       "    <tr>\n",
       "      <th>train_test_val</th>\n",
       "      <th></th>\n",
       "      <th></th>\n",
       "    </tr>\n",
       "  </thead>\n",
       "  <tbody>\n",
       "    <tr>\n",
       "      <th>test</th>\n",
       "      <td>0.005564</td>\n",
       "      <td>1319</td>\n",
       "    </tr>\n",
       "    <tr>\n",
       "      <th>train</th>\n",
       "      <td>0.004614</td>\n",
       "      <td>3289</td>\n",
       "    </tr>\n",
       "    <tr>\n",
       "      <th>validate</th>\n",
       "      <td>0.010233</td>\n",
       "      <td>2430</td>\n",
       "    </tr>\n",
       "  </tbody>\n",
       "</table>\n",
       "</div>"
      ],
      "text/plain": [
       "                    mean   sum\n",
       "train_test_val                \n",
       "test            0.005564  1319\n",
       "train           0.004614  3289\n",
       "validate        0.010233  2430"
      ]
     },
     "execution_count": 16,
     "metadata": {},
     "output_type": "execute_result"
    }
   ],
   "source": [
    "breaks = [0.6, 0.8, 1.0]\n",
    "conditions_list = [full48['EventTimeStamp'].le(full48.groupby('EquipmentID')['EventTimeStamp'].transform(lambda x: x.quantile(val))) for val in breaks]\n",
    "choice_list = ['train', 'test', 'validate']\n",
    "\n",
    "(full48.assign(train_test_val = np.select(conditions_list, choice_list))\n",
    "       .groupby('train_test_val')\n",
    "       ['target']\n",
    "       .agg(['mean', 'sum'])\n",
    ")"
   ]
  },
  {
   "cell_type": "markdown",
   "metadata": {},
   "source": [
    "### Functionaliize Stratification Labels"
   ]
  },
  {
   "cell_type": "code",
   "execution_count": 17,
   "metadata": {},
   "outputs": [],
   "source": [
    "def stratifier(df, trucks = False, breaks = [0.6, 0.8, 1.0]):\n",
    "    df2 = df.copy()\n",
    "    if trucks:\n",
    "        conditions_list = [df2['EventTimeStamp'].le(df.groupby('EquipmentID')['EventTimeStamp'].transform(lambda x: x.quantile(val))) for val in breaks]\n",
    "        choice_list = ['train', 'test', 'validate']\n",
    "\n",
    "        df2['train_test_val'] = np.select(conditions_list, choice_list)\n",
    "    else:\n",
    "        df2['train_test_val'] = pd.qcut(df2['EventTimeStamp'], \n",
    "                                          q = [0] + breaks, \n",
    "                                          labels = ['train', 'test', 'validation']).astype(str)\n",
    "    return df2"
   ]
  },
  {
   "cell_type": "code",
   "execution_count": 18,
   "metadata": {},
   "outputs": [
    {
     "data": {
      "text/html": [
       "<div>\n",
       "<style scoped>\n",
       "    .dataframe tbody tr th:only-of-type {\n",
       "        vertical-align: middle;\n",
       "    }\n",
       "\n",
       "    .dataframe tbody tr th {\n",
       "        vertical-align: top;\n",
       "    }\n",
       "\n",
       "    .dataframe thead th {\n",
       "        text-align: right;\n",
       "    }\n",
       "</style>\n",
       "<table border=\"1\" class=\"dataframe\">\n",
       "  <thead>\n",
       "    <tr style=\"text-align: right;\">\n",
       "      <th></th>\n",
       "      <th>mean</th>\n",
       "      <th>sum</th>\n",
       "    </tr>\n",
       "    <tr>\n",
       "      <th>train_test_val</th>\n",
       "      <th></th>\n",
       "      <th></th>\n",
       "    </tr>\n",
       "  </thead>\n",
       "  <tbody>\n",
       "    <tr>\n",
       "      <th>test</th>\n",
       "      <td>0.003984</td>\n",
       "      <td>946</td>\n",
       "    </tr>\n",
       "    <tr>\n",
       "      <th>train</th>\n",
       "      <td>0.005743</td>\n",
       "      <td>4091</td>\n",
       "    </tr>\n",
       "    <tr>\n",
       "      <th>validation</th>\n",
       "      <td>0.008426</td>\n",
       "      <td>2001</td>\n",
       "    </tr>\n",
       "  </tbody>\n",
       "</table>\n",
       "</div>"
      ],
      "text/plain": [
       "                    mean   sum\n",
       "train_test_val                \n",
       "test            0.003984   946\n",
       "train           0.005743  4091\n",
       "validation      0.008426  2001"
      ]
     },
     "execution_count": 18,
     "metadata": {},
     "output_type": "execute_result"
    }
   ],
   "source": [
    "stratifier(full48, trucks = False).groupby('train_test_val')['target'].agg(['mean','sum'])"
   ]
  },
  {
   "cell_type": "code",
   "execution_count": 20,
   "metadata": {},
   "outputs": [
    {
     "data": {
      "text/html": [
       "<div>\n",
       "<style scoped>\n",
       "    .dataframe tbody tr th:only-of-type {\n",
       "        vertical-align: middle;\n",
       "    }\n",
       "\n",
       "    .dataframe tbody tr th {\n",
       "        vertical-align: top;\n",
       "    }\n",
       "\n",
       "    .dataframe thead th {\n",
       "        text-align: right;\n",
       "    }\n",
       "</style>\n",
       "<table border=\"1\" class=\"dataframe\">\n",
       "  <thead>\n",
       "    <tr style=\"text-align: right;\">\n",
       "      <th></th>\n",
       "      <th>mean</th>\n",
       "      <th>sum</th>\n",
       "    </tr>\n",
       "    <tr>\n",
       "      <th>train_test_val</th>\n",
       "      <th></th>\n",
       "      <th></th>\n",
       "    </tr>\n",
       "  </thead>\n",
       "  <tbody>\n",
       "    <tr>\n",
       "      <th>test</th>\n",
       "      <td>0.005564</td>\n",
       "      <td>1319</td>\n",
       "    </tr>\n",
       "    <tr>\n",
       "      <th>train</th>\n",
       "      <td>0.004614</td>\n",
       "      <td>3289</td>\n",
       "    </tr>\n",
       "    <tr>\n",
       "      <th>validate</th>\n",
       "      <td>0.010233</td>\n",
       "      <td>2430</td>\n",
       "    </tr>\n",
       "  </tbody>\n",
       "</table>\n",
       "</div>"
      ],
      "text/plain": [
       "                    mean   sum\n",
       "train_test_val                \n",
       "test            0.005564  1319\n",
       "train           0.004614  3289\n",
       "validate        0.010233  2430"
      ]
     },
     "execution_count": 20,
     "metadata": {},
     "output_type": "execute_result"
    }
   ],
   "source": [
    "stratifier(full48, trucks = True).groupby('train_test_val')['target'].agg(['mean','sum'])"
   ]
  }
 ],
 "metadata": {
  "interpreter": {
   "hash": "91809cd6930bcd5c93f1baaa8e75dc4fbfa15bbd921b33b01843a7cf2fa05e32"
  },
  "kernelspec": {
   "display_name": "Python 3.8.8 ('base')",
   "language": "python",
   "name": "python3"
  },
  "language_info": {
   "codemirror_mode": {
    "name": "ipython",
    "version": 3
   },
   "file_extension": ".py",
   "mimetype": "text/x-python",
   "name": "python",
   "nbconvert_exporter": "python",
   "pygments_lexer": "ipython3",
   "version": "3.8.8"
  },
  "orig_nbformat": 4
 },
 "nbformat": 4,
 "nbformat_minor": 2
}
