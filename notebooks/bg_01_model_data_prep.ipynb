{
 "cells": [
  {
   "cell_type": "markdown",
   "metadata": {},
   "source": [
    "# Big G Express Model Data Prep"
   ]
  },
  {
   "cell_type": "markdown",
   "metadata": {},
   "source": [
    "## Imports"
   ]
  },
  {
   "cell_type": "code",
   "execution_count": 162,
   "metadata": {},
   "outputs": [],
   "source": [
    "import numpy as np\n",
    "import pandas as pd\n",
    "import matplotlib.pyplot as plt\n",
    "import seaborn as sns\n",
    "import datetime as dt"
   ]
  },
  {
   "cell_type": "markdown",
   "metadata": {},
   "source": [
    "## Read in"
   ]
  },
  {
   "cell_type": "code",
   "execution_count": 163,
   "metadata": {},
   "outputs": [],
   "source": [
    "faults = pd.read_pickle('../data/faults_df.pickle')\n",
    "diag = pd.read_pickle('../data/diag_df.pickle')\n",
    "fdwide = pd.read_pickle('../data/fdwide_df.pickle')"
   ]
  },
  {
   "cell_type": "markdown",
   "metadata": {},
   "source": [
    "## Add grouping column to fdwide: eventGroup\n",
    "\n",
    "Note that this event grouper includes 75% derate events. If we choose not to include those events, that part of the logic can easily be removed."
   ]
  },
  {
   "cell_type": "code",
   "execution_count": 164,
   "metadata": {},
   "outputs": [],
   "source": [
    "fdwide = fdwide.sort_values(['EquipmentID', 'EventTimeStamp']).reset_index(drop = True)"
   ]
  },
  {
   "cell_type": "code",
   "execution_count": 165,
   "metadata": {},
   "outputs": [],
   "source": [
    "increment_check_full_only = (\n",
    "\n",
    "                (fdwide['spn'].shift() == 5246)  # full derate in above row\n",
    "                | \n",
    "                (fdwide['EquipmentID'] != fdwide['EquipmentID'].shift())    # Current row is different truck from previous row\n",
    "\n",
    "    )\n",
    "\n",
    "fdwide['eventGroup'] = increment_check_full_only.cumsum()"
   ]
  },
  {
   "cell_type": "markdown",
   "metadata": {},
   "source": [
    "## Create target column within target_hours_window number of hours"
   ]
  },
  {
   "cell_type": "code",
   "execution_count": 166,
   "metadata": {},
   "outputs": [],
   "source": [
    "target_window_hours = 48\n",
    "eventGroupMaxIndexTransform = fdwide.groupby('eventGroup')['EventTimeStamp'].transform('idxmax')\n",
    "eventGroupEndDerate = (fdwide.loc[eventGroupMaxIndexTransform, 'spn'] == 5246).reset_index(drop = True)\n",
    "\n",
    "fdwide['timeTillLast'] = fdwide.groupby('eventGroup')['EventTimeStamp'].transform(max) - fdwide['EventTimeStamp']\n",
    "fdwide[f'derateWi{target_window_hours}Hours'] = (fdwide['timeTillLast'] < dt.timedelta(hours = target_window_hours)) & eventGroupEndDerate"
   ]
  },
  {
   "cell_type": "code",
   "execution_count": 168,
   "metadata": {},
   "outputs": [
    {
     "data": {
      "text/html": [
       "<div>\n",
       "<style scoped>\n",
       "    .dataframe tbody tr th:only-of-type {\n",
       "        vertical-align: middle;\n",
       "    }\n",
       "\n",
       "    .dataframe tbody tr th {\n",
       "        vertical-align: top;\n",
       "    }\n",
       "\n",
       "    .dataframe thead th {\n",
       "        text-align: right;\n",
       "    }\n",
       "</style>\n",
       "<table border=\"1\" class=\"dataframe\">\n",
       "  <thead>\n",
       "    <tr style=\"text-align: right;\">\n",
       "      <th></th>\n",
       "      <th>EventTimeStamp</th>\n",
       "      <th>EquipmentID</th>\n",
       "      <th>eventGroup</th>\n",
       "      <th>spn</th>\n",
       "      <th>fmi</th>\n",
       "      <th>timeTillLast</th>\n",
       "      <th>derateWi48Hours</th>\n",
       "    </tr>\n",
       "  </thead>\n",
       "  <tbody>\n",
       "    <tr>\n",
       "      <th>5137</th>\n",
       "      <td>2020-01-07 03:08:33</td>\n",
       "      <td>302</td>\n",
       "      <td>9</td>\n",
       "      <td>1213</td>\n",
       "      <td>5</td>\n",
       "      <td>6 days 09:06:31</td>\n",
       "      <td>False</td>\n",
       "    </tr>\n",
       "    <tr>\n",
       "      <th>5138</th>\n",
       "      <td>2020-01-07 12:02:12</td>\n",
       "      <td>302</td>\n",
       "      <td>9</td>\n",
       "      <td>1213</td>\n",
       "      <td>5</td>\n",
       "      <td>6 days 00:12:52</td>\n",
       "      <td>False</td>\n",
       "    </tr>\n",
       "    <tr>\n",
       "      <th>5139</th>\n",
       "      <td>2020-01-13 02:38:29</td>\n",
       "      <td>302</td>\n",
       "      <td>9</td>\n",
       "      <td>609</td>\n",
       "      <td>12</td>\n",
       "      <td>0 days 09:36:35</td>\n",
       "      <td>True</td>\n",
       "    </tr>\n",
       "    <tr>\n",
       "      <th>5140</th>\n",
       "      <td>2020-01-13 07:06:03</td>\n",
       "      <td>302</td>\n",
       "      <td>9</td>\n",
       "      <td>609</td>\n",
       "      <td>12</td>\n",
       "      <td>0 days 05:09:01</td>\n",
       "      <td>True</td>\n",
       "    </tr>\n",
       "    <tr>\n",
       "      <th>5141</th>\n",
       "      <td>2020-01-13 12:15:04</td>\n",
       "      <td>302</td>\n",
       "      <td>9</td>\n",
       "      <td>5246</td>\n",
       "      <td>19</td>\n",
       "      <td>0 days 00:00:00</td>\n",
       "      <td>True</td>\n",
       "    </tr>\n",
       "  </tbody>\n",
       "</table>\n",
       "</div>"
      ],
      "text/plain": [
       "          EventTimeStamp EquipmentID  eventGroup   spn  fmi    timeTillLast  \\\n",
       "5137 2020-01-07 03:08:33         302           9  1213    5 6 days 09:06:31   \n",
       "5138 2020-01-07 12:02:12         302           9  1213    5 6 days 00:12:52   \n",
       "5139 2020-01-13 02:38:29         302           9   609   12 0 days 09:36:35   \n",
       "5140 2020-01-13 07:06:03         302           9   609   12 0 days 05:09:01   \n",
       "5141 2020-01-13 12:15:04         302           9  5246   19 0 days 00:00:00   \n",
       "\n",
       "      derateWi48Hours  \n",
       "5137            False  \n",
       "5138            False  \n",
       "5139             True  \n",
       "5140             True  \n",
       "5141             True  "
      ]
     },
     "execution_count": 168,
     "metadata": {},
     "output_type": "execute_result"
    }
   ],
   "source": [
    "# For exploration of how event groups conclude\n",
    "eG = 9\n",
    "(fdwide.loc[fdwide['eventGroup'] == eG, \n",
    "          ['EventTimeStamp','EquipmentID','eventGroup', 'spn', 'fmi', 'timeTillLast',f'derateWi{target_window_hours}Hours']]\n",
    "          .tail(15)\n",
    ")"
   ]
  },
  {
   "cell_type": "markdown",
   "metadata": {},
   "source": [
    "## Appendix"
   ]
  },
  {
   "cell_type": "markdown",
   "metadata": {},
   "source": [
    "### Save this to build a functon for various model choices"
   ]
  },
  {
   "cell_type": "code",
   "execution_count": null,
   "metadata": {},
   "outputs": [],
   "source": [
    "increment_check_either = (\n",
    "    \n",
    "                (fdwide['spn'].shift() == 5246)  # full derate in above row\n",
    "                | \n",
    "                ((fdwide['spn'].shift() == 1596) & (fdwide['spn'].shift() == 31))   # partial derate in above row\n",
    "                | \n",
    "                (fdwide['EquipmentID'] != fdwide['EquipmentID'].shift())    # Current row is different truck from previous row\n",
    "\n",
    "    )\n",
    "\n",
    "#fdwide['eventGroupEither'] = increment_check_full_only.cumsum()\n",
    "#fdwide['timeTillEitherLast'] = fdwide.groupby('eventGroupFull')['EventTimeStamp'].transform(max) - fdwide['EventTimeStamp']\n",
    "#fdwide['within24HoursEither'] = fdwide['timeTillEitherLast'] < dt.timedelta(hours = 24)"
   ]
  }
 ],
 "metadata": {
  "interpreter": {
   "hash": "91809cd6930bcd5c93f1baaa8e75dc4fbfa15bbd921b33b01843a7cf2fa05e32"
  },
  "kernelspec": {
   "display_name": "Python 3.8.8 ('base')",
   "language": "python",
   "name": "python3"
  },
  "language_info": {
   "codemirror_mode": {
    "name": "ipython",
    "version": 3
   },
   "file_extension": ".py",
   "mimetype": "text/x-python",
   "name": "python",
   "nbconvert_exporter": "python",
   "pygments_lexer": "ipython3",
   "version": "3.8.8"
  },
  "orig_nbformat": 4
 },
 "nbformat": 4,
 "nbformat_minor": 2
}
