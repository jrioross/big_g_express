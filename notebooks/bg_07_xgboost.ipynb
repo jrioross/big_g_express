{
 "cells": [
  {
   "cell_type": "markdown",
   "id": "383f8f39",
   "metadata": {},
   "source": [
    "# Model Assessment of Chris H's 4/24/2022 XGBoost Model"
   ]
  },
  {
   "cell_type": "markdown",
   "id": "5da892ba",
   "metadata": {},
   "source": [
    "## Imports"
   ]
  },
  {
   "cell_type": "code",
   "execution_count": 189,
   "id": "54f02122",
   "metadata": {},
   "outputs": [
    {
     "name": "stdout",
     "output_type": "stream",
     "text": [
      "The autoreload extension is already loaded. To reload it, use:\n",
      "  %reload_ext autoreload\n"
     ]
    }
   ],
   "source": [
    "%load_ext autoreload\n",
    "%autoreload 2\n",
    "\n",
    "import pickle\n",
    "from tqdm import tqdm\n",
    "\n",
    "import pandas as pd\n",
    "import numpy as np\n",
    "import matplotlib.pyplot as plt\n",
    "import plotly.express as px\n",
    "from my_functions import plot_confusion_matrix, cost_scorer, savings_scorer, plotly_roc, create_cost_savings, plot_costs_by_threshold, plot_savings_by_threshold, quick_report\n",
    "\n",
    "import pandas as pd\n",
    "import numpy as np\n",
    "from sklearn.model_selection import train_test_split, cross_val_score\n",
    "from sklearn.metrics import classification_report, confusion_matrix, roc_curve, f1_score, auc, precision_score, recall_score\n",
    "from sklearn.preprocessing import OneHotEncoder, StandardScaler\n",
    "from imblearn.pipeline import Pipeline\n",
    "from imblearn.over_sampling import SMOTE\n",
    "from xgboost import XGBClassifier"
   ]
  },
  {
   "cell_type": "markdown",
   "id": "e4137db6",
   "metadata": {},
   "source": [
    "## Functions and Column Lists"
   ]
  },
  {
   "cell_type": "code",
   "execution_count": 110,
   "id": "bfe0d0b1",
   "metadata": {},
   "outputs": [],
   "source": [
    "def create_groups(grp, df, offset_grp = None):\n",
    "    df['full_derate'] = False\n",
    "    \n",
    "    if offset_grp is not None:\n",
    "        df = df[df[f'use_for_first_tow_hours_id_group_{offset_grp}'] == False]\n",
    "        \n",
    "    df['full_derate'] = (\n",
    "        np.where(df[f'hours_id_group_{grp}']\\\n",
    "                 .isin(list(df[f'hours_id_group_{grp}']\\\n",
    "                            .loc[(df[f'use_for_first_tow_hours_id_group_{grp}'] == True)])) &\n",
    "                 (df[f'use_for_first_tow_hours_id_group_{grp}'] == True),\n",
    "                 True,\n",
    "                 False)\n",
    "        )\n",
    "    \n",
    "    \n",
    "    mask = df.loc[(df[f'hours_id_group_{grp}']\\\n",
    "                    .isin(list(df[f'hours_id_group_{grp}']\\\n",
    "                               .loc[(df[f'use_for_first_tow_hours_id_group_{grp}'] == True)]))) &\n",
    "                    (df['full_derate'] == False)]\n",
    "    \n",
    "    row_ls = [i for i in df.index if i not in mask.index]\n",
    "    \n",
    "    df = df.loc[row_ls]\n",
    "    \n",
    "    grp_col = f'hours_id_group_{grp}'\n",
    "    \n",
    "    return df, grp_col\n",
    "\n",
    "def log_me(col):\n",
    "    bigg[col] = (\n",
    "        np.where((bigg[col].notnull()) & \n",
    "                 (np.log(bigg[col]) != -np.inf) &\n",
    "                 (np.log(bigg[col]) != np.inf), \n",
    "                 np.log(bigg[col]), np.nan)\n",
    "    )\n",
    "    \n",
    "    return bigg[col]"
   ]
  },
  {
   "cell_type": "code",
   "execution_count": 111,
   "id": "add438f8",
   "metadata": {},
   "outputs": [],
   "source": [
    "cat_var = [\n",
    "    'common_derate_lamp_status',\n",
    "    'ecu_model',\n",
    "    'ecu_make',\n",
    "    'error_category',\n",
    "    'month',\n",
    "    'maintenance_before',\n",
    "    'fuel_temperature_over_32',\n",
    "    'accelerator_pedal_over_0',\n",
    "    'cruise_control_set_speed_under_66',\n",
    "    'switched_battery_voltage_less_than_3276.75',\n",
    "    'event_description_SCR_related']\n",
    "\n",
    "normalizers = ['ltd_distance',\n",
    "             'ltd_engine_time',\n",
    "             'ltd_fuel']\n",
    "\n",
    "var = ['barometric_pressure',\n",
    "       'ltd_distance',\n",
    "       'engine_coolant_temperature',\n",
    "       'engine_load',\n",
    "       'engine_oil_pressure',\n",
    "       'engine_oil_temperature',\n",
    "       'engine_rpm',\n",
    "       'ltd_engine_time',\n",
    "       'fuel_level',\n",
    "       'ltd_fuel',\n",
    "       'fuel_rate',\n",
    "       'intake_manifold_temperature',\n",
    "       'speed',\n",
    "       'turbo_boost_pressure',\n",
    "       'error_duration_(minutes)'\n",
    "      ]\n",
    "\n",
    "log_cols = ['engine_oil_temperature',\n",
    "            'ltd_engine_time',\n",
    "            'fuel_rate',\n",
    "            'turbo_boost_pressure',\n",
    "            'speed',\n",
    "            'error_duration_(minutes)']"
   ]
  },
  {
   "cell_type": "markdown",
   "id": "3189a89e",
   "metadata": {},
   "source": [
    "## Prepare Data"
   ]
  },
  {
   "cell_type": "code",
   "execution_count": 112,
   "id": "dd0ff16a",
   "metadata": {
    "scrolled": true
   },
   "outputs": [],
   "source": [
    "bigg = pd.read_csv('../data/CJH_big_G_042322_420PM.csv', low_memory = False)"
   ]
  },
  {
   "cell_type": "code",
   "execution_count": 113,
   "id": "1a997766",
   "metadata": {},
   "outputs": [],
   "source": [
    "bigg['event_time_stamp'] = pd.to_datetime(bigg['event_time_stamp'])\n",
    "\n",
    "bigg = bigg.loc[(bigg['event_time_stamp'].dt.year > 2014) & (bigg['event_time_stamp'].dt.year <= 2020)]"
   ]
  },
  {
   "cell_type": "code",
   "execution_count": 114,
   "id": "c347fb2c",
   "metadata": {},
   "outputs": [
    {
     "name": "stderr",
     "output_type": "stream",
     "text": [
      "<ipython-input-110-138dc38fa4d7>:7: SettingWithCopyWarning:\n",
      "\n",
      "\n",
      "A value is trying to be set on a copy of a slice from a DataFrame.\n",
      "Try using .loc[row_indexer,col_indexer] = value instead\n",
      "\n",
      "See the caveats in the documentation: https://pandas.pydata.org/pandas-docs/stable/user_guide/indexing.html#returning-a-view-versus-a-copy\n",
      "\n"
     ]
    }
   ],
   "source": [
    "bigg, grp_col = create_groups('48H', bigg, '1H')"
   ]
  },
  {
   "cell_type": "code",
   "execution_count": 115,
   "id": "d178bb47",
   "metadata": {},
   "outputs": [],
   "source": [
    "bigg['common_derate_lamp_status'] = (\n",
    "    np.where((bigg['lamp_status'] == 22527) | (bigg['lamp_status'] == 18431), True, False)\n",
    ")\n",
    "\n",
    "bigg['fuel_temperature_over_32'] = (\n",
    "    np.where(bigg['fuel_temperature'] > 32, True, False)\n",
    ")\n",
    "\n",
    "bigg['accelerator_pedal_over_0'] = (\n",
    "    np.where(bigg['accelerator_pedal'] > 0, True, False)\n",
    ")\n",
    "\n",
    "bigg['cruise_control_set_speed_under_66'] = (\n",
    "    np.where(bigg['cruise_control_set_speed'] < 66, True, False)\n",
    ")\n",
    "\n",
    "bigg['switched_battery_voltage_less_than_3276.75'] = (\n",
    "    np.where(bigg['switched_battery_voltage'] < 3276.75, True, False)\n",
    "\n",
    ")\n",
    "\n",
    "bigg['event_description_SCR_related'] = (\n",
    "    np.where(bigg['event_description'].str.lower().str.contains('catalyst|aftertreatment|nox|derate'), True, False)\n",
    ")"
   ]
  },
  {
   "cell_type": "code",
   "execution_count": 116,
   "id": "37759f45",
   "metadata": {},
   "outputs": [],
   "source": [
    "ohe_col_ls = []\n",
    "for i in cat_var:\n",
    "    ohe = OneHotEncoder()\n",
    "    transformed = ohe.fit_transform(bigg[[i]])\n",
    "    bigg[ohe.get_feature_names_out()] = transformed.toarray()\n",
    "    ohe_col_ls += [i for i in ohe.get_feature_names_out()]"
   ]
  },
  {
   "cell_type": "code",
   "execution_count": 117,
   "id": "257013b8",
   "metadata": {},
   "outputs": [
    {
     "name": "stderr",
     "output_type": "stream",
     "text": [
      "C:\\Users\\jrior\\anaconda3\\lib\\site-packages\\pandas\\core\\arraylike.py:358: RuntimeWarning:\n",
      "\n",
      "invalid value encountered in log\n",
      "\n",
      "C:\\Users\\jrior\\anaconda3\\lib\\site-packages\\pandas\\core\\arraylike.py:358: RuntimeWarning:\n",
      "\n",
      "invalid value encountered in log\n",
      "\n",
      "C:\\Users\\jrior\\anaconda3\\lib\\site-packages\\pandas\\core\\arraylike.py:358: RuntimeWarning:\n",
      "\n",
      "invalid value encountered in log\n",
      "\n",
      "C:\\Users\\jrior\\anaconda3\\lib\\site-packages\\pandas\\core\\arraylike.py:358: RuntimeWarning:\n",
      "\n",
      "divide by zero encountered in log\n",
      "\n",
      "C:\\Users\\jrior\\anaconda3\\lib\\site-packages\\pandas\\core\\arraylike.py:358: RuntimeWarning:\n",
      "\n",
      "divide by zero encountered in log\n",
      "\n",
      "C:\\Users\\jrior\\anaconda3\\lib\\site-packages\\pandas\\core\\arraylike.py:358: RuntimeWarning:\n",
      "\n",
      "divide by zero encountered in log\n",
      "\n",
      "C:\\Users\\jrior\\anaconda3\\lib\\site-packages\\pandas\\core\\arraylike.py:358: RuntimeWarning:\n",
      "\n",
      "divide by zero encountered in log\n",
      "\n",
      "C:\\Users\\jrior\\anaconda3\\lib\\site-packages\\pandas\\core\\arraylike.py:358: RuntimeWarning:\n",
      "\n",
      "divide by zero encountered in log\n",
      "\n",
      "C:\\Users\\jrior\\anaconda3\\lib\\site-packages\\pandas\\core\\arraylike.py:358: RuntimeWarning:\n",
      "\n",
      "divide by zero encountered in log\n",
      "\n",
      "C:\\Users\\jrior\\anaconda3\\lib\\site-packages\\pandas\\core\\arraylike.py:358: RuntimeWarning:\n",
      "\n",
      "divide by zero encountered in log\n",
      "\n",
      "C:\\Users\\jrior\\anaconda3\\lib\\site-packages\\pandas\\core\\arraylike.py:358: RuntimeWarning:\n",
      "\n",
      "divide by zero encountered in log\n",
      "\n",
      "C:\\Users\\jrior\\anaconda3\\lib\\site-packages\\pandas\\core\\arraylike.py:358: RuntimeWarning:\n",
      "\n",
      "divide by zero encountered in log\n",
      "\n",
      "C:\\Users\\jrior\\anaconda3\\lib\\site-packages\\pandas\\core\\arraylike.py:358: RuntimeWarning:\n",
      "\n",
      "divide by zero encountered in log\n",
      "\n",
      "C:\\Users\\jrior\\anaconda3\\lib\\site-packages\\pandas\\core\\arraylike.py:358: RuntimeWarning:\n",
      "\n",
      "divide by zero encountered in log\n",
      "\n"
     ]
    }
   ],
   "source": [
    "bigg['barometric_pressure'] = np.exp(bigg['barometric_pressure'])\n",
    "\n",
    "for i in log_cols:\n",
    "    bigg[i] = log_me(i)"
   ]
  },
  {
   "cell_type": "code",
   "execution_count": 118,
   "id": "5d536c73",
   "metadata": {},
   "outputs": [],
   "source": [
    "# def normalize_me(col, normalizer):\n",
    "#     if col != normalizer:\n",
    "#         bigg[col] = (\n",
    "#             np.where((bigg[col].notnull()) & \n",
    "#                      (bigg[col]/bigg[normalizer] != -np.inf) &\n",
    "#                      (bigg[col]/bigg[normalizer] != np.inf), \n",
    "#                      bigg[col]/bigg[normalizer] * 100000, \n",
    "#                      np.nan))\n",
    "    \n",
    "#     return bigg[col]\n",
    "\n",
    "# normalized_var_ls = []\n",
    "\n",
    "# for i in var:\n",
    "#     for j in normalizers:\n",
    "#         col_name = f'{i}_{j}'\n",
    "#         bigg[col_name] = normalize_me(i, j)\n",
    "#         normalized_var_ls.append(col_name)"
   ]
  },
  {
   "cell_type": "code",
   "execution_count": 119,
   "id": "4b47da53",
   "metadata": {},
   "outputs": [],
   "source": [
    "cat_vars = bigg.groupby(grp_col)[ohe_col_ls].sum().reset_index()"
   ]
  },
  {
   "cell_type": "code",
   "execution_count": 120,
   "id": "0ce726b1",
   "metadata": {},
   "outputs": [],
   "source": [
    "mean_vars = bigg.groupby(grp_col)[var].mean().reset_index().fillna(0)\n",
    "std_vars = bigg.groupby(grp_col)[var].std().reset_index().fillna(0)"
   ]
  },
  {
   "cell_type": "code",
   "execution_count": 121,
   "id": "b518a64b",
   "metadata": {},
   "outputs": [],
   "source": [
    "target_values = bigg[[grp_col, 'full_derate']].drop_duplicates()"
   ]
  },
  {
   "cell_type": "code",
   "execution_count": 122,
   "id": "834dbc29",
   "metadata": {},
   "outputs": [],
   "source": [
    "all_vars = pd.merge(mean_vars, std_vars, on = grp_col).merge(cat_vars, on = grp_col)"
   ]
  },
  {
   "cell_type": "code",
   "execution_count": 123,
   "id": "c9b1e418",
   "metadata": {},
   "outputs": [],
   "source": [
    "X = all_vars.drop(columns = grp_col)\n",
    "y = target_values['full_derate']\n",
    "\n",
    "X_train, X_test, y_train, y_test = train_test_split(X, y, \n",
    "                                                    test_size = 0.30, \n",
    "                                                    train_size = 0.70, \n",
    "                                                    random_state = 111, \n",
    "                                                    stratify = y)"
   ]
  },
  {
   "cell_type": "markdown",
   "id": "c679d839",
   "metadata": {},
   "source": [
    "## Read In Model and Do Basic Checks"
   ]
  },
  {
   "cell_type": "code",
   "execution_count": 124,
   "id": "900db55d",
   "metadata": {},
   "outputs": [],
   "source": [
    "with open('../data/boost_42422.pkl', 'rb') as file:\n",
    "    pipe = pickle.load(file)"
   ]
  },
  {
   "cell_type": "code",
   "execution_count": 125,
   "id": "5b098d38",
   "metadata": {
    "scrolled": false
   },
   "outputs": [
    {
     "name": "stdout",
     "output_type": "stream",
     "text": [
      "              precision    recall  f1-score   support\n",
      "\n",
      "       False       1.00      1.00      1.00     35587\n",
      "        True       0.50      0.30      0.37        98\n",
      "\n",
      "    accuracy                           1.00     35685\n",
      "   macro avg       0.75      0.65      0.69     35685\n",
      "weighted avg       1.00      1.00      1.00     35685\n",
      "\n"
     ]
    }
   ],
   "source": [
    "print(classification_report(y_test, pipe.predict(X_test)))"
   ]
  },
  {
   "cell_type": "code",
   "execution_count": 126,
   "id": "33f0bb1c",
   "metadata": {},
   "outputs": [
    {
     "name": "stdout",
     "output_type": "stream",
     "text": [
      "[[35558    29]\n",
      " [   69    29]]\n"
     ]
    }
   ],
   "source": [
    "print(confusion_matrix(y_test, pipe.predict(X_test)))"
   ]
  },
  {
   "cell_type": "code",
   "execution_count": 140,
   "id": "e8679fcd",
   "metadata": {
    "scrolled": false
   },
   "outputs": [
    {
     "data": {
      "text/html": [
       "<div>\n",
       "<style scoped>\n",
       "    .dataframe tbody tr th:only-of-type {\n",
       "        vertical-align: middle;\n",
       "    }\n",
       "\n",
       "    .dataframe tbody tr th {\n",
       "        vertical-align: top;\n",
       "    }\n",
       "\n",
       "    .dataframe thead th {\n",
       "        text-align: right;\n",
       "    }\n",
       "</style>\n",
       "<table border=\"1\" class=\"dataframe\">\n",
       "  <thead>\n",
       "    <tr style=\"text-align: right;\">\n",
       "      <th></th>\n",
       "      <th>variable</th>\n",
       "      <th>importance</th>\n",
       "    </tr>\n",
       "  </thead>\n",
       "  <tbody>\n",
       "    <tr>\n",
       "      <th>69</th>\n",
       "      <td>error_category_SCR-Related</td>\n",
       "      <td>0.462671</td>\n",
       "    </tr>\n",
       "    <tr>\n",
       "      <th>87</th>\n",
       "      <td>accelerator_pedal_over_0_True</td>\n",
       "      <td>0.063697</td>\n",
       "    </tr>\n",
       "    <tr>\n",
       "      <th>85</th>\n",
       "      <td>fuel_temperature_over_32_True</td>\n",
       "      <td>0.039064</td>\n",
       "    </tr>\n",
       "    <tr>\n",
       "      <th>31</th>\n",
       "      <td>common_derate_lamp_status_True</td>\n",
       "      <td>0.034841</td>\n",
       "    </tr>\n",
       "    <tr>\n",
       "      <th>66</th>\n",
       "      <td>ecu_make_Unknown</td>\n",
       "      <td>0.032636</td>\n",
       "    </tr>\n",
       "    <tr>\n",
       "      <th>91</th>\n",
       "      <td>switched_battery_voltage_less_than_3276.75_True</td>\n",
       "      <td>0.027404</td>\n",
       "    </tr>\n",
       "    <tr>\n",
       "      <th>46</th>\n",
       "      <td>ecu_model_EC60-adv</td>\n",
       "      <td>0.025020</td>\n",
       "    </tr>\n",
       "    <tr>\n",
       "      <th>1</th>\n",
       "      <td>ltd_distance_x</td>\n",
       "      <td>0.023595</td>\n",
       "    </tr>\n",
       "    <tr>\n",
       "      <th>83</th>\n",
       "      <td>maintenance_before_True</td>\n",
       "      <td>0.021423</td>\n",
       "    </tr>\n",
       "    <tr>\n",
       "      <th>7</th>\n",
       "      <td>ltd_engine_time_x</td>\n",
       "      <td>0.019931</td>\n",
       "    </tr>\n",
       "    <tr>\n",
       "      <th>56</th>\n",
       "      <td>ecu_model_MX16U15D13</td>\n",
       "      <td>0.011993</td>\n",
       "    </tr>\n",
       "    <tr>\n",
       "      <th>39</th>\n",
       "      <td>ecu_model_6X1u13D1500000000</td>\n",
       "      <td>0.011977</td>\n",
       "    </tr>\n",
       "    <tr>\n",
       "      <th>84</th>\n",
       "      <td>fuel_temperature_over_32_False</td>\n",
       "      <td>0.010498</td>\n",
       "    </tr>\n",
       "    <tr>\n",
       "      <th>44</th>\n",
       "      <td>ecu_model_CECU3B-NAMUX4</td>\n",
       "      <td>0.009769</td>\n",
       "    </tr>\n",
       "    <tr>\n",
       "      <th>93</th>\n",
       "      <td>event_description_SCR_related_True</td>\n",
       "      <td>0.009520</td>\n",
       "    </tr>\n",
       "  </tbody>\n",
       "</table>\n",
       "</div>"
      ],
      "text/plain": [
       "                                           variable  importance\n",
       "69                       error_category_SCR-Related    0.462671\n",
       "87                    accelerator_pedal_over_0_True    0.063697\n",
       "85                    fuel_temperature_over_32_True    0.039064\n",
       "31                   common_derate_lamp_status_True    0.034841\n",
       "66                                 ecu_make_Unknown    0.032636\n",
       "91  switched_battery_voltage_less_than_3276.75_True    0.027404\n",
       "46                               ecu_model_EC60-adv    0.025020\n",
       "1                                    ltd_distance_x    0.023595\n",
       "83                          maintenance_before_True    0.021423\n",
       "7                                 ltd_engine_time_x    0.019931\n",
       "56                             ecu_model_MX16U15D13    0.011993\n",
       "39                      ecu_model_6X1u13D1500000000    0.011977\n",
       "84                   fuel_temperature_over_32_False    0.010498\n",
       "44                          ecu_model_CECU3B-NAMUX4    0.009769\n",
       "93               event_description_SCR_related_True    0.009520"
      ]
     },
     "execution_count": 140,
     "metadata": {},
     "output_type": "execute_result"
    }
   ],
   "source": [
    "importances = pd.DataFrame({\n",
    "    'variable': X_train.columns,\n",
    "    'importance': pipe['boost'].feature_importances_\n",
    "})\n",
    "\n",
    "importances.sort_values('importance', ascending = False).head(15)"
   ]
  },
  {
   "cell_type": "markdown",
   "id": "b08455e2",
   "metadata": {},
   "source": [
    "## Model Assessment"
   ]
  },
  {
   "cell_type": "code",
   "execution_count": 128,
   "id": "8910e499",
   "metadata": {},
   "outputs": [],
   "source": [
    "y_train_prob = pipe.predict_proba(X_train)\n",
    "y_test_prob = pipe.predict_proba(X_test)"
   ]
  },
  {
   "cell_type": "code",
   "execution_count": 129,
   "id": "f4dd125a",
   "metadata": {},
   "outputs": [
    {
     "name": "stdout",
     "output_type": "stream",
     "text": [
      "The optimum tpr vs. fpr threshold value is: 0.0001378673\n"
     ]
    },
    {
     "data": {
      "application/vnd.plotly.v1+json": {
       "config": {
        "plotlyServerURL": "https://plotly.com"
       },
       "data": [
        {
         "customdata": [
          [
           1.998682975769043
          ],
          [
           0.9986830353736877
          ],
          [
           0.9935362935066223
          ],
          [
           0.9499597549438477
          ],
          [
           0.947785496711731
          ],
          [
           0.9036224484443665
          ],
          [
           0.8966890573501587
          ],
          [
           0.8889862895011902
          ],
          [
           0.8809162974357605
          ],
          [
           0.856101930141449
          ],
          [
           0.8257673382759094
          ],
          [
           0.8236331939697266
          ],
          [
           0.8000834584236145
          ],
          [
           0.7813015580177307
          ],
          [
           0.7538425326347351
          ],
          [
           0.7429332137107849
          ],
          [
           0.734051525592804
          ],
          [
           0.7175366282463074
          ],
          [
           0.7146307229995728
          ],
          [
           0.6911142468452454
          ],
          [
           0.6739556193351746
          ],
          [
           0.6731945872306824
          ],
          [
           0.6505451798439026
          ],
          [
           0.6455631852149963
          ],
          [
           0.570918083190918
          ],
          [
           0.551598846912384
          ],
          [
           0.5480867028236389
          ],
          [
           0.530633270740509
          ],
          [
           0.48943257331848145
          ],
          [
           0.48470067977905273
          ],
          [
           0.4682972729206085
          ],
          [
           0.4361947476863861
          ],
          [
           0.4147983193397522
          ],
          [
           0.40585416555404663
          ],
          [
           0.37764954566955566
          ],
          [
           0.3775935471057892
          ],
          [
           0.33984923362731934
          ],
          [
           0.3340383768081665
          ],
          [
           0.30120691657066345
          ],
          [
           0.28800874948501587
          ],
          [
           0.2479403018951416
          ],
          [
           0.2423078864812851
          ],
          [
           0.2354012429714203
          ],
          [
           0.2303481251001358
          ],
          [
           0.21445433795452118
          ],
          [
           0.21154332160949707
          ],
          [
           0.20941179990768433
          ],
          [
           0.194682314991951
          ],
          [
           0.187944233417511
          ],
          [
           0.18210682272911072
          ],
          [
           0.1811027228832245
          ],
          [
           0.17219659686088562
          ],
          [
           0.16941973567008972
          ],
          [
           0.15570123493671417
          ],
          [
           0.15435755252838135
          ],
          [
           0.1495194435119629
          ],
          [
           0.14860038459300995
          ],
          [
           0.14101172983646393
          ],
          [
           0.13761451840400696
          ],
          [
           0.13232429325580597
          ],
          [
           0.13186971843242645
          ],
          [
           0.11582290381193161
          ],
          [
           0.11580939590930939
          ],
          [
           0.106699638068676
          ],
          [
           0.10660320520401001
          ],
          [
           0.09993349760770798
          ],
          [
           0.09701190143823624
          ],
          [
           0.09407063573598862
          ],
          [
           0.0925341546535492
          ],
          [
           0.08328867703676224
          ],
          [
           0.0818621888756752
          ],
          [
           0.07190171629190445
          ],
          [
           0.07178790122270584
          ],
          [
           0.06679394096136093
          ],
          [
           0.0659971609711647
          ],
          [
           0.06319604068994522
          ],
          [
           0.06303760409355164
          ],
          [
           0.051518555730581284
          ],
          [
           0.051274657249450684
          ],
          [
           0.04715605825185776
          ],
          [
           0.046907540410757065
          ],
          [
           0.0438060499727726
          ],
          [
           0.043769415467977524
          ],
          [
           0.043613046407699585
          ],
          [
           0.04347639158368111
          ],
          [
           0.043371208012104034
          ],
          [
           0.04315138980746269
          ],
          [
           0.042744532227516174
          ],
          [
           0.042739760130643845
          ],
          [
           0.038053248077631
          ],
          [
           0.03786008059978485
          ],
          [
           0.03743847459554672
          ],
          [
           0.03737226873636246
          ],
          [
           0.037199702113866806
          ],
          [
           0.03552831709384918
          ],
          [
           0.03536597639322281
          ],
          [
           0.03518543019890785
          ],
          [
           0.03502364084124565
          ],
          [
           0.03441852703690529
          ],
          [
           0.034030258655548096
          ],
          [
           0.033912744373083115
          ],
          [
           0.033725909888744354
          ],
          [
           0.03360461816191673
          ],
          [
           0.03355437144637108
          ],
          [
           0.03333793953061104
          ],
          [
           0.030328938737511635
          ],
          [
           0.029852330684661865
          ],
          [
           0.029535461217164993
          ],
          [
           0.02946002222597599
          ],
          [
           0.027660250663757324
          ],
          [
           0.027515076100826263
          ],
          [
           0.026537112891674042
          ],
          [
           0.02653556875884533
          ],
          [
           0.02436593919992447
          ],
          [
           0.024313226342201233
          ],
          [
           0.02176719158887863
          ],
          [
           0.02142362669110298
          ],
          [
           0.019960086792707443
          ],
          [
           0.019899612292647362
          ],
          [
           0.01803382858633995
          ],
          [
           0.018031742423772812
          ],
          [
           0.017691727727651596
          ],
          [
           0.017661944031715393
          ],
          [
           0.017596878111362457
          ],
          [
           0.017586173489689827
          ],
          [
           0.017224252223968506
          ],
          [
           0.017192155122756958
          ],
          [
           0.01705552265048027
          ],
          [
           0.01705513894557953
          ],
          [
           0.017022021114826202
          ],
          [
           0.01701122149825096
          ],
          [
           0.015705933794379234
          ],
          [
           0.015627415850758553
          ],
          [
           0.015164360404014587
          ],
          [
           0.01512262225151062
          ],
          [
           0.014395908452570438
          ],
          [
           0.014378173276782036
          ],
          [
           0.014175977557897568
          ],
          [
           0.01415623351931572
          ],
          [
           0.01288800872862339
          ],
          [
           0.012832263484597206
          ],
          [
           0.011754561215639114
          ],
          [
           0.011724703945219517
          ],
          [
           0.011701448820531368
          ],
          [
           0.011656388640403748
          ],
          [
           0.009863194078207016
          ],
          [
           0.00979611650109291
          ],
          [
           0.008727227337658405
          ],
          [
           0.008654669858515263
          ],
          [
           0.008480670861899853
          ],
          [
           0.008456711657345295
          ],
          [
           0.007728543598204851
          ],
          [
           0.007681240793317556
          ],
          [
           0.007668457925319672
          ],
          [
           0.007667986210435629
          ],
          [
           0.007542884908616543
          ],
          [
           0.007525527849793434
          ],
          [
           0.007249803747981787
          ],
          [
           0.007238384336233139
          ],
          [
           0.007201154250651598
          ],
          [
           0.007154411170631647
          ],
          [
           0.006841139867901802
          ],
          [
           0.006834802217781544
          ],
          [
           0.006756064482033253
          ],
          [
           0.006726397201418877
          ],
          [
           0.006448725704103708
          ],
          [
           0.006438532378524542
          ],
          [
           0.006273052655160427
          ],
          [
           0.006241513881832361
          ],
          [
           0.005756683647632599
          ],
          [
           0.0056983293034136295
          ],
          [
           0.0056775156408548355
          ],
          [
           0.005668099038302898
          ],
          [
           0.005502603016793728
          ],
          [
           0.0054921722039580345
          ],
          [
           0.004981813486665487
          ],
          [
           0.0049410415813326836
          ],
          [
           0.004670929629355669
          ],
          [
           0.004617440048605204
          ],
          [
           0.004563201684504747
          ],
          [
           0.004559224471449852
          ],
          [
           0.004390109796077013
          ],
          [
           0.004361939150840044
          ],
          [
           0.004351427312940359
          ],
          [
           0.004102763254195452
          ],
          [
           0.004099277313798666
          ],
          [
           0.004007580224424601
          ],
          [
           0.003993897698819637
          ],
          [
           0.0038868095725774765
          ],
          [
           0.003861697856336832
          ],
          [
           0.0037967616226524115
          ],
          [
           0.0037713409401476383
          ],
          [
           0.003689819248393178
          ],
          [
           0.003680031280964613
          ],
          [
           0.0034726818557828665
          ],
          [
           0.0034709477331489325
          ],
          [
           0.00330092990770936
          ],
          [
           0.003300829790532589
          ],
          [
           0.0031407929491251707
          ],
          [
           0.003135227831080556
          ],
          [
           0.0025052428245544434
          ],
          [
           0.002494082087650895
          ],
          [
           0.0024611332919448614
          ],
          [
           0.0024600832257419825
          ],
          [
           0.00236151902936399
          ],
          [
           0.002361391205340624
          ],
          [
           0.002300114603713155
          ],
          [
           0.002299386076629162
          ],
          [
           0.0022910283878445625
          ],
          [
           0.0022888940293341875
          ],
          [
           0.002223717048764229
          ],
          [
           0.0022218991070985794
          ],
          [
           0.0022083015646785498
          ],
          [
           0.002198785077780485
          ],
          [
           0.002096765674650669
          ],
          [
           0.0020936939399689436
          ],
          [
           0.0020888596773147583
          ],
          [
           0.0020843709353357553
          ],
          [
           0.002015163889154792
          ],
          [
           0.0020061638206243515
          ],
          [
           0.0019084785599261522
          ],
          [
           0.001905170502141118
          ],
          [
           0.0018973029218614101
          ],
          [
           0.0018957891734316945
          ],
          [
           0.0017582111759111285
          ],
          [
           0.001757973455823958
          ],
          [
           0.00166577089112252
          ],
          [
           0.0016604395350441337
          ],
          [
           0.0015552027616649866
          ],
          [
           0.001553009613417089
          ],
          [
           0.0015151716070249677
          ],
          [
           0.0015119827585294843
          ],
          [
           0.0014685553032904863
          ],
          [
           0.0014668564544990659
          ],
          [
           0.0014630291843786836
          ],
          [
           0.001456791185773909
          ],
          [
           0.0013446822995319963
          ],
          [
           0.0013361559249460697
          ],
          [
           0.0012806381564587355
          ],
          [
           0.0012803820427507162
          ],
          [
           0.0011714586289599538
          ],
          [
           0.0011696155415847898
          ],
          [
           0.001155851292423904
          ],
          [
           0.0011552952928468585
          ],
          [
           0.0011345964157953858
          ],
          [
           0.0011326520470902324
          ],
          [
           0.0011271890252828598
          ],
          [
           0.001126642688177526
          ],
          [
           0.001114633516408503
          ],
          [
           0.001114411628805101
          ],
          [
           0.0010820821626111865
          ],
          [
           0.0010817457223311067
          ],
          [
           0.0009978048037737608
          ],
          [
           0.0009970188839361072
          ],
          [
           0.0009800656698644161
          ],
          [
           0.000978867057710886
          ],
          [
           0.0009654090972617269
          ],
          [
           0.0009626733954064548
          ],
          [
           0.0009582009515725076
          ],
          [
           0.0009576789452694356
          ],
          [
           0.000863655935972929
          ],
          [
           0.0008629386429674923
          ],
          [
           0.000808722572401166
          ],
          [
           0.0008075482328422368
          ],
          [
           0.0006699222722090781
          ],
          [
           0.0006698897341266274
          ],
          [
           0.0006688192952424288
          ],
          [
           0.000667490647174418
          ],
          [
           0.0006359178223647177
          ],
          [
           0.0006352899363264441
          ],
          [
           0.0006001636502332985
          ],
          [
           0.0006001524743624032
          ],
          [
           0.000598989543505013
          ],
          [
           0.0005979887209832668
          ],
          [
           0.0005853932234458625
          ],
          [
           0.0005851326859556139
          ],
          [
           0.0005835482152178884
          ],
          [
           0.0005833202158100903
          ],
          [
           0.000566248781979084
          ],
          [
           0.000566217175219208
          ],
          [
           0.0005586425540968776
          ],
          [
           0.0005584421451203525
          ],
          [
           0.0005441515240818262
          ],
          [
           0.0005441128741949797
          ],
          [
           0.0005137150292284787
          ],
          [
           0.0005131649668328464
          ],
          [
           0.0004909750423394144
          ],
          [
           0.0004907750408165157
          ],
          [
           0.00048136513214558363
          ],
          [
           0.00048120046267285943
          ],
          [
           0.00043712498154491186
          ],
          [
           0.0004368775407783687
          ],
          [
           0.00042585309711284935
          ],
          [
           0.000425040750997141
          ],
          [
           0.0004231997882016003
          ],
          [
           0.00042268188553862274
          ],
          [
           0.0003945922071579844
          ],
          [
           0.00039446467417292297
          ],
          [
           0.000376789626898244
          ],
          [
           0.0003767650050576776
          ],
          [
           0.00031841485179029405
          ],
          [
           0.0003179004124831408
          ],
          [
           0.00028636225033551455
          ],
          [
           0.00028616352938115597
          ],
          [
           0.00027427103486843407
          ],
          [
           0.00027424830477684736
          ],
          [
           0.0002576264087110758
          ],
          [
           0.00025756130344234407
          ],
          [
           0.00025376147823408246
          ],
          [
           0.0002537520485930145
          ],
          [
           0.0002380713849561289
          ],
          [
           0.00023770914413034916
          ],
          [
           0.00023632365628145635
          ],
          [
           0.00023624209279660136
          ],
          [
           0.00023091082402970642
          ],
          [
           0.00023085995053406805
          ],
          [
           0.00021931550872977823
          ],
          [
           0.00021911798103246838
          ],
          [
           0.00021639421174768358
          ],
          [
           0.0002163255267078057
          ],
          [
           0.0002113873342750594
          ],
          [
           0.0002112948423018679
          ],
          [
           0.00020433403551578522
          ],
          [
           0.00020431044686120003
          ],
          [
           0.00019515430903993547
          ],
          [
           0.00019503319344948977
          ],
          [
           0.0001940800721058622
          ],
          [
           0.00019400326709728688
          ],
          [
           0.00019399254233576357
          ],
          [
           0.0001780964812496677
          ],
          [
           0.00017795931489672512
          ],
          [
           0.00017750107508618385
          ],
          [
           0.00017729453975334764
          ],
          [
           0.00017460908566135913
          ],
          [
           0.0001745238550938666
          ],
          [
           0.00017019860388245434
          ],
          [
           0.00017015983758028597
          ],
          [
           0.00016743723244871944
          ],
          [
           0.00016723076987545937
          ],
          [
           0.00016410859825555235
          ],
          [
           0.0001640976406633854
          ],
          [
           0.00016389186203014106
          ],
          [
           0.0001638557732803747
          ],
          [
           0.00016199389938265085
          ],
          [
           0.00016192115435842425
          ],
          [
           0.00015878028352744877
          ],
          [
           0.00015861837891861796
          ],
          [
           0.00015750758757349104
          ],
          [
           0.0001571932662045583
          ],
          [
           0.00015243787493091077
          ],
          [
           0.00015236754552461207
          ],
          [
           0.00014902067778166384
          ],
          [
           0.0001490167051088065
          ],
          [
           0.00014331548300106078
          ],
          [
           0.0001432778954040259
          ],
          [
           0.0001431842101737857
          ],
          [
           0.00014314570580609143
          ],
          [
           0.0001415044243913144
          ],
          [
           0.0001414518046658486
          ],
          [
           0.00014118809485808015
          ],
          [
           0.0001411746343364939
          ],
          [
           0.0001396641746396199
          ],
          [
           0.00013966138067189604
          ],
          [
           0.0001379008317599073
          ],
          [
           0.00013786730414722115
          ],
          [
           0.00013186204887460917
          ],
          [
           0.00013125738769304007
          ],
          [
           0.00012876193795818835
          ],
          [
           0.00012866558972746134
          ],
          [
           0.00012456091644708067
          ],
          [
           0.00012455083196982741
          ],
          [
           0.00012418768892530352
          ],
          [
           0.00012409465853124857
          ],
          [
           0.00012167698150733486
          ],
          [
           0.00012166573287686333
          ],
          [
           0.00012152763520134613
          ],
          [
           0.00012152057024650276
          ],
          [
           0.00011819376959465444
          ],
          [
           0.00011814689059974626
          ],
          [
           0.00011606633779592812
          ],
          [
           0.00011604210885707289
          ],
          [
           0.00010927242692559958
          ],
          [
           0.0001092642851290293
          ],
          [
           0.00010914141603279859
          ],
          [
           0.00010908845433732495
          ],
          [
           0.00010851916886167601
          ],
          [
           0.00010842577466974035
          ],
          [
           0.0001060010472428985
          ],
          [
           0.00010595274216029793
          ],
          [
           0.00010137440403923392
          ],
          [
           0.00010136937635252252
          ],
          [
           0.00009919415606418625
          ],
          [
           0.00009911973756970838
          ],
          [
           0.00008482956764055416
          ],
          [
           0.00008481452096020803
          ],
          [
           0.00008458279626211151
          ],
          [
           0.0000845573958940804
          ],
          [
           0.00007714433741057292
          ],
          [
           0.00007710146746831015
          ],
          [
           0.00007412429113173857
          ],
          [
           0.00007411694241454825
          ],
          [
           0.00007048800034681335
          ],
          [
           0.000070473353844136
          ],
          [
           0.00007042491051834077
          ],
          [
           0.00007041685603326187
          ],
          [
           0.0000699745214660652
          ],
          [
           0.00006992822454776615
          ],
          [
           0.00006841151480330154
          ],
          [
           0.00006837284308858216
          ],
          [
           0.00006805838347645476
          ],
          [
           0.00006804501754231751
          ],
          [
           0.00006778362876502797
          ],
          [
           0.00006771508196834475
          ],
          [
           0.00006496679998235777
          ],
          [
           0.00006495528214145452
          ],
          [
           0.00006265114643611014
          ],
          [
           0.00006262928218347952
          ],
          [
           0.00005942076677456498
          ],
          [
           0.00005940371920587495
          ],
          [
           0.000058241865190211684
          ],
          [
           0.00005821188460686244
          ],
          [
           0.00005749221963924356
          ],
          [
           0.00005746979877585545
          ],
          [
           0.00005689407771569677
          ],
          [
           0.00005688469173037447
          ],
          [
           0.00005496789526659995
          ],
          [
           0.00005496716403285973
          ],
          [
           0.000054286414524540305
          ],
          [
           0.000054261934565147385
          ],
          [
           0.00005376637273002416
          ],
          [
           0.000053744788601761684
          ],
          [
           0.00005333535955287516
          ],
          [
           0.000053321480663726106
          ],
          [
           0.00005317670729709789
          ],
          [
           0.00005317447357811034
          ],
          [
           0.00005293198046274483
          ],
          [
           0.00005288874308462255
          ],
          [
           0.00005241201870376244
          ],
          [
           0.00005240861719357781
          ],
          [
           0.000052197083277860656
          ],
          [
           0.00005216702993493527
          ],
          [
           0.00005202832107897848
          ],
          [
           0.000052025985496584326
          ],
          [
           0.00005124186282046139
          ],
          [
           0.00005122354195918888
          ],
          [
           0.00004976970376446843
          ],
          [
           0.00004976576383342035
          ],
          [
           0.00004888052717433311
          ],
          [
           0.000048858481022762135
          ],
          [
           0.00004876454840996303
          ],
          [
           0.0000487636643811129
          ],
          [
           0.000048508340114494786
          ],
          [
           0.00004850399272982031
          ],
          [
           0.000048392968892585486
          ],
          [
           0.00004839282701141201
          ],
          [
           0.000048349975259043276
          ],
          [
           0.000046808654587948695
          ],
          [
           0.000046796470996923745
          ],
          [
           0.00004665735104936175
          ],
          [
           0.00004664569496526383
          ],
          [
           0.000046381908759940416
          ],
          [
           0.00004636487938114442
          ],
          [
           0.000045088214392308146
          ],
          [
           0.00004504502430791035
          ],
          [
           0.00004482028089114465
          ],
          [
           0.0000448191276518628
          ],
          [
           0.000044452383008319885
          ],
          [
           0.00004444865044206381
          ],
          [
           0.00004351508687250316
          ],
          [
           0.00004351147435954772
          ],
          [
           0.00004338754297350533
          ],
          [
           0.00004338315920904279
          ],
          [
           0.00004044430170324631
          ],
          [
           0.00004042999353259802
          ],
          [
           0.00004029439514852129
          ],
          [
           0.00004029324190923944
          ],
          [
           0.00003961810580221936
          ],
          [
           0.000039613874832866713
          ],
          [
           0.00003934243432013318
          ],
          [
           0.000039328067941823974
          ],
          [
           0.00003928054138668813
          ],
          [
           0.000039261893107322976
          ],
          [
           0.0000391125213354826
          ],
          [
           0.00003910890518454835
          ],
          [
           0.00003700886372826062
          ],
          [
           0.000036980989534640685
          ],
          [
           0.00003691760139190592
          ],
          [
           0.000036906723835272714
          ],
          [
           0.000036689190892502666
          ],
          [
           0.00003668579665827565
          ],
          [
           0.00003646640107035637
          ],
          [
           0.000036436260415939614
          ],
          [
           0.000035887300327885896
          ],
          [
           0.00003586266757338308
          ],
          [
           0.00003550217661540955
          ],
          [
           0.00003549594839569181
          ],
          [
           0.00003538063901942223
          ],
          [
           0.000035375207517063245
          ],
          [
           0.0000340186852554325
          ],
          [
           0.00003401294452487491
          ],
          [
           0.00003368376201251522
          ],
          [
           0.00003367316458025016
          ],
          [
           0.000033381507819285616
          ],
          [
           0.00003336025110911578
          ],
          [
           0.00003291919711045921
          ],
          [
           0.00003291006578365341
          ],
          [
           0.00003283298065070994
          ],
          [
           0.00003283182013547048
          ],
          [
           0.00003245920379413292
          ],
          [
           0.00003245908010285348
          ],
          [
           0.0000324225147778634
          ],
          [
           0.00003241327067371458
          ],
          [
           0.00003207411282346584
          ],
          [
           0.00003206303881597705
          ],
          [
           0.000031819083233131096
          ],
          [
           0.0000318028251058422
          ],
          [
           0.00003108581222477369
          ],
          [
           0.00003107318843831308
          ],
          [
           0.00003035273402929306
          ],
          [
           0.000030347293431987055
          ],
          [
           0.00003014595858985558
          ],
          [
           0.00003013130117324181
          ],
          [
           0.000029918101063231006
          ],
          [
           0.00002990112807310652
          ],
          [
           0.00002974521521537099
          ],
          [
           0.00002973903428937774
          ],
          [
           0.000029061760869808495
          ],
          [
           0.000029053722755634226
          ],
          [
           0.00002893380769819487
          ],
          [
           0.000028928481697221287
          ],
          [
           0.000027879426852450706
          ],
          [
           0.000027866853997693397
          ],
          [
           0.000027584024792304263
          ],
          [
           0.00002756969115580432
          ],
          [
           0.000027542151656234637
          ],
          [
           0.000027540996597963385
          ],
          [
           0.000027536794732441194
          ],
          [
           0.000027518732167663984
          ],
          [
           0.00002751269676082302
          ],
          [
           0.000027511623557074927
          ],
          [
           0.000027464357117423788
          ],
          [
           0.000027459958801046014
          ],
          [
           0.00002738096191023942
          ],
          [
           0.00002737276372499764
          ],
          [
           0.000027330661396263167
          ],
          [
           0.00002731591484916862
          ],
          [
           0.00002671641414053738
          ],
          [
           0.00002670535832294263
          ],
          [
           0.000026668811187846586
          ],
          [
           0.000026659658033167943
          ],
          [
           0.000026607667678035796
          ],
          [
           0.000026600864657666534
          ],
          [
           0.000026037931093014777
          ],
          [
           0.000026036292183562182
          ],
          [
           0.000026031153538497165
          ],
          [
           0.00002602693348308094
          ],
          [
           0.000025869181627058424
          ],
          [
           0.00002586883601907175
          ],
          [
           0.0000256398107012501
          ],
          [
           0.00002563122870924417
          ],
          [
           0.000025539975467836484
          ],
          [
           0.000025526314857415855
          ],
          [
           0.000025285438823630102
          ],
          [
           0.000025275794541812502
          ],
          [
           0.000025034465579665266
          ],
          [
           0.000025031624318216927
          ],
          [
           0.000024746235794737004
          ],
          [
           0.000024738659703871235
          ],
          [
           0.00002471805055392906
          ],
          [
           0.000024713241145946085
          ],
          [
           0.000024644377845106646
          ],
          [
           0.000024637940441607498
          ],
          [
           0.00002453573324601166
          ],
          [
           0.00002452960325172171
          ],
          [
           0.00002406583917036187
          ],
          [
           0.000024065378966042772
          ],
          [
           0.0000232755428442033
          ],
          [
           0.00002324621527804993
          ],
          [
           0.000023237351342686452
          ],
          [
           0.000023237327695824206
          ],
          [
           0.000022769316274207085
          ],
          [
           0.000022768121198168956
          ],
          [
           0.000022590857042814605
          ],
          [
           0.00002258532003907021
          ],
          [
           0.00002226373544544913
          ],
          [
           0.00002225670868938323
          ],
          [
           0.000022247881133807823
          ],
          [
           0.000022233924028114416
          ],
          [
           0.000022174190235091373
          ],
          [
           0.000022173278921400197
          ],
          [
           0.000022163598259794526
          ],
          [
           0.000022156160412123427
          ],
          [
           0.000022131156583782285
          ],
          [
           0.00002212231447629165
          ],
          [
           0.000022086920580477454
          ],
          [
           0.00002208426667493768
          ],
          [
           0.000022037960661691613
          ],
          [
           0.000022019936295691878
          ],
          [
           0.000021739338990300894
          ],
          [
           0.00002173923530790489
          ],
          [
           0.000021631243726005778
          ],
          [
           0.000021625346562359482
          ],
          [
           0.000021548865333897993
          ],
          [
           0.000021546913558267988
          ],
          [
           0.00002149997089873068
          ],
          [
           0.000021498986825463362
          ],
          [
           0.00002148697603843175
          ],
          [
           0.00002148070780094713
          ],
          [
           0.000021397574528236873
          ],
          [
           0.00002138413219654467
          ],
          [
           0.0000202229948627064
          ],
          [
           0.00002022172157012392
          ],
          [
           0.000020136585590080358
          ],
          [
           0.000020117528038099408
          ],
          [
           0.000019765486285905354
          ],
          [
           0.000019750357751036063
          ],
          [
           0.000019649058231152594
          ],
          [
           0.000019645760403363965
          ],
          [
           0.000019591503587435
          ],
          [
           0.00001958769280463457
          ],
          [
           0.0000194401200133143
          ],
          [
           0.000019439303287072107
          ],
          [
           0.000019311110008857213
          ],
          [
           0.00001930595317389816
          ],
          [
           0.000019130467990180477
          ],
          [
           0.000019128241547150537
          ],
          [
           0.00001911358231154736
          ],
          [
           0.000019111248548142612
          ],
          [
           0.000019043787688133307
          ],
          [
           0.000019042279745917767
          ],
          [
           0.00001888492624857463
          ],
          [
           0.000018883016309700906
          ],
          [
           0.000018785880456562154
          ],
          [
           0.000018783874111250043
          ],
          [
           0.000018780721802613698
          ],
          [
           0.000018715356418397278
          ],
          [
           0.000018714892576099373
          ],
          [
           0.000018680157154449262
          ],
          [
           0.000018679194909054786
          ],
          [
           0.00001854161382652819
          ],
          [
           0.000018541313693276607
          ],
          [
           0.000018119844753528014
          ],
          [
           0.000018111775716533884
          ],
          [
           0.000018055074178846553
          ],
          [
           0.00001805027022783179
          ],
          [
           0.000017933511117007583
          ],
          [
           0.000017932501577888615
          ],
          [
           0.000017814974853536114
          ],
          [
           0.00001781442915671505
          ],
          [
           0.00001729368705127854
          ],
          [
           0.000017281634427490644
          ],
          [
           0.00001715429789328482
          ],
          [
           0.00001713683559501078
          ],
          [
           0.000016972080629784614
          ],
          [
           0.000016969004718703218
          ],
          [
           0.000016688540199538693
          ],
          [
           0.00001668082404648885
          ],
          [
           0.00001629003781999927
          ],
          [
           0.00001628787867957726
          ],
          [
           0.00001617761154193431
          ],
          [
           0.0000161746811500052
          ],
          [
           0.00001590443389432039
          ],
          [
           0.00001590167266840581
          ],
          [
           0.000015291652744053863
          ],
          [
           0.00001529102519270964
          ],
          [
           0.00001512594553787494
          ],
          [
           0.000015125484424061142
          ],
          [
           0.000014869148799334653
          ],
          [
           0.000014868724065308925
          ],
          [
           0.000014190970432537142
          ],
          [
           0.000014189672583597712
          ],
          [
           0.000013813863006362226
          ],
          [
           0.000013813822988595348
          ],
          [
           0.00001361758495477261
          ],
          [
           0.000013615715033665765
          ],
          [
           0.000013614610907097813
          ],
          [
           0.000013613416740554385
          ],
          [
           0.000013587671674031299
          ],
          [
           0.00001358353802061174
          ],
          [
           0.00001345553664577892
          ],
          [
           0.00001345533109997632
          ],
          [
           0.000013383205441641621
          ],
          [
           0.00001338233778369613
          ],
          [
           0.000013069074157101568
          ],
          [
           0.00001306716694671195
          ],
          [
           0.000013015776858082972
          ],
          [
           0.000013015192962484434
          ],
          [
           0.000013011706869292539
          ],
          [
           0.000013011260307393968
          ],
          [
           0.000012966048416274134
          ],
          [
           0.000012965293535671663
          ],
          [
           0.000012839861483371351
          ],
          [
           0.00001283941946894629
          ],
          [
           0.000012818841241823975
          ],
          [
           0.00001281166714761639
          ],
          [
           0.000012773396520060487
          ],
          [
           0.000012772958143614233
          ],
          [
           0.000012617494576261379
          ],
          [
           0.000012615532796189655
          ],
          [
           0.000012324145245656837
          ],
          [
           0.00001232372142112581
          ],
          [
           0.000011851951967400964
          ],
          [
           0.000011851036106236279
          ],
          [
           0.000011810667274403386
          ],
          [
           0.000011809383067884482
          ],
          [
           0.000011764846021833364
          ],
          [
           0.000011760292181861587
          ],
          [
           0.00001173298187495675
          ],
          [
           0.00001173176133306697
          ],
          [
           0.000011688799531839322
          ],
          [
           0.000011683818229357712
          ],
          [
           0.000011586638720473275
          ],
          [
           0.00001157847509603016
          ],
          [
           0.000011506749615364242
          ],
          [
           0.000011505849215609487
          ],
          [
           0.00001125783546740422
          ],
          [
           0.000011257309779466596
          ],
          [
           0.000011226700735278428
          ],
          [
           0.000011221583918086253
          ],
          [
           0.000011134448868688196
          ],
          [
           0.000011133312909805682
          ],
          [
           0.000011114949302282184
          ],
          [
           0.000011113804248452652
          ],
          [
           0.000010988066605932545
          ],
          [
           0.000010985698281729128
          ],
          [
           0.000010954398021567613
          ],
          [
           0.0000109517750388477
          ],
          [
           0.000010833148735400755
          ],
          [
           0.00001082899598259246
          ],
          [
           0.0000107700743683381
          ],
          [
           0.000010768154425022658
          ],
          [
           0.000010555884728091769
          ],
          [
           0.000010552472303970717
          ],
          [
           0.000010484652193554211
          ],
          [
           0.000010481912795512471
          ],
          [
           0.000010311694495612755
          ],
          [
           0.000010311114237993024
          ],
          [
           0.00001007788068818627
          ],
          [
           0.000010075910722662229
          ],
          [
           0.000010010933692683466
          ],
          [
           0.000010008795470639598
          ],
          [
           0.000010005416697822511
          ],
          [
           0.000010004577234212775
          ],
          [
           0.000009915132068272214
          ],
          [
           0.000009914951988321263
          ],
          [
           0.000009828866495809052
          ],
          [
           0.000009828472684603184
          ],
          [
           0.000009774072168511339
          ],
          [
           0.000009770857104740571
          ],
          [
           0.0000096259009296773
          ],
          [
           0.000009625597158446908
          ],
          [
           0.00000951776746660471
          ],
          [
           0.000009516914360574447
          ],
          [
           0.00000951285801420454
          ],
          [
           0.000009511851203569677
          ],
          [
           0.000009460295586904977
          ],
          [
           0.000009459582543058787
          ],
          [
           0.000009415777640242595
          ],
          [
           0.000009411163773620501
          ],
          [
           0.000009352550478070043
          ],
          [
           0.000009351685548608657
          ],
          [
           0.000009343752026325092
          ],
          [
           0.000009340847100247629
          ],
          [
           0.000009071723980014212
          ],
          [
           0.000009070262422028463
          ],
          [
           0.00000895366338227177
          ],
          [
           0.000008946297384682111
          ],
          [
           0.000008817297384666745
          ],
          [
           0.000008815876753942575
          ],
          [
           0.000008587219781475142
          ],
          [
           0.000008584116585552692
          ],
          [
           0.000008489742867823225
          ],
          [
           0.000008488608727930114
          ],
          [
           0.00000847780847834656
          ],
          [
           0.000008475650247419253
          ],
          [
           0.000008269639693025965
          ],
          [
           0.000008266863915196154
          ],
          [
           0.000008204917321563698
          ],
          [
           0.000008204354344343301
          ],
          [
           0.000008043682100833394
          ],
          [
           0.000008043390153034125
          ],
          [
           0.000008034573511395138
          ],
          [
           0.000008031831384869292
          ],
          [
           0.000008003791663213633
          ],
          [
           0.000008003456059668679
          ],
          [
           0.000007827800800441764
          ],
          [
           0.000007826569344615564
          ],
          [
           0.000007675813321839087
          ],
          [
           0.00000767408619140042
          ],
          [
           0.000007643664503120817
          ],
          [
           0.000007639438081241678
          ],
          [
           0.000007576908956252737
          ],
          [
           0.000007575370091217337
          ],
          [
           0.0000075351435953052714
          ],
          [
           0.00000753309586798423
          ],
          [
           0.0000073899586823245045
          ],
          [
           0.000007387752702925354
          ],
          [
           0.000007352679403993534
          ],
          [
           0.0000073507867455191445
          ],
          [
           0.000007346631264226744
          ],
          [
           0.000007345439826167421
          ],
          [
           0.000007260659913299605
          ],
          [
           0.000007257081051648129
          ],
          [
           0.000007047100098134251
          ],
          [
           0.000007046191967674531
          ],
          [
           0.000006965245120227337
          ],
          [
           0.000006964919066376751
          ],
          [
           0.000006954379387025256
          ],
          [
           0.000006952820967853768
          ],
          [
           0.000006847724762337748
          ],
          [
           0.0000068461968112387694
          ],
          [
           0.000006840512469352689
          ],
          [
           0.000006840303285571281
          ],
          [
           0.000006806992132624146
          ],
          [
           0.000006806829787819879
          ],
          [
           0.000006744963229721179
          ],
          [
           0.0000067442815634422
          ],
          [
           0.000006709946319460869
          ],
          [
           0.000006709664376103319
          ],
          [
           0.00000670795634505339
          ],
          [
           0.000006706868589390069
          ],
          [
           0.0000066213779064128175
          ],
          [
           0.000006621371539949905
          ],
          [
           0.000006471721462730784
          ],
          [
           0.000006471381766459672
          ],
          [
           0.000006414705239876639
          ],
          [
           0.000006412992661353201
          ],
          [
           0.000006301316261669854
          ],
          [
           0.000006299933829723159
          ],
          [
           0.0000062919243646319956
          ],
          [
           0.0000062915282796893734
          ],
          [
           0.000006286442385317059
          ],
          [
           0.000006285795279836748
          ],
          [
           0.000006189322903082939
          ],
          [
           0.000006187227882037405
          ],
          [
           0.000006046830549166771
          ],
          [
           0.000006045210284355562
          ],
          [
           0.000006039419531589374
          ],
          [
           0.000006039413619873812
          ],
          [
           0.000005967356628389098
          ],
          [
           0.000005966246590105584
          ],
          [
           0.000005961753686278826
          ],
          [
           0.00000596141217101831
          ],
          [
           0.000005802728082926478
          ],
          [
           0.000005802235591545468
          ],
          [
           0.000005448244792205514
          ],
          [
           0.000005447818693937734
          ],
          [
           0.000005406547643360682
          ],
          [
           0.000005405769115895964
          ],
          [
           0.000005317815976013662
          ],
          [
           0.0000053173343985690735
          ],
          [
           0.000005314160716807237
          ],
          [
           0.000005313699602993438
          ],
          [
           0.000005285795396048343
          ],
          [
           0.000005284167400532169
          ],
          [
           0.000005221753781370353
          ],
          [
           0.0000052215991672710516
          ],
          [
           0.000005106126991449855
          ],
          [
           0.000005105352556711296
          ],
          [
           0.000005053969289292581
          ],
          [
           0.000005053699624113506
          ],
          [
           0.00000498751569466549
          ],
          [
           0.000004987501597497612
          ],
          [
           0.0000049209879762202036
          ],
          [
           0.000004920879746350693
          ],
          [
           0.000004895701749774162
          ],
          [
           0.000004894306130154291
          ],
          [
           0.000004768908183905296
          ],
          [
           0.00000476881268696161
          ],
          [
           0.000004763353899761569
          ],
          [
           0.0000047631588131480385
          ],
          [
           0.0000047628541324229445
          ],
          [
           0.000004762781372846803
          ],
          [
           0.000004708515007223468
          ],
          [
           0.0000047080211516004056
          ],
          [
           0.000004695622919825837
          ],
          [
           0.0000046954210120020434
          ],
          [
           0.000004632652689906536
          ],
          [
           0.000004631574938684935
          ],
          [
           0.000004612752491084393
          ],
          [
           0.000004611094482243061
          ],
          [
           0.000004488096692512045
          ],
          [
           0.000004487351816351293
          ],
          [
           0.000004243021521688206
          ],
          [
           0.000004241047463438008
          ],
          [
           0.00000419887555835885
          ],
          [
           0.000004198843271296937
          ],
          [
           0.000004125802661292255
          ],
          [
           0.000004125684881728375
          ],
          [
           0.000004088100922672311
          ],
          [
           0.000004087839897692902
          ],
          [
           0.000003952443421439966
          ],
          [
           0.000003952251518057892
          ],
          [
           0.000003937725523428526
          ],
          [
           0.000003936997018172406
          ],
          [
           0.000003907909103872953
          ],
          [
           0.000003907715381501475
          ],
          [
           0.000003849425866064848
          ],
          [
           0.000003849418590107234
          ],
          [
           0.000003817794549831888
          ],
          [
           0.000003817579454334918
          ],
          [
           0.0000037055388020235114
          ],
          [
           0.00000370519956049975
          ],
          [
           0.000003693941380333854
          ],
          [
           0.0000036937051390850684
          ],
          [
           0.000003574862603272777
          ],
          [
           0.0000035742796171689406
          ],
          [
           0.000003523258328641532
          ],
          [
           0.000003523194209265057
          ],
          [
           0.00000330969442075002
          ],
          [
           0.000003308933628431987
          ],
          [
           0.0000032307202673109714
          ],
          [
           0.0000032305106287822127
          ],
          [
           0.0000031977590424503433
          ],
          [
           0.000003197353635187028
          ],
          [
           0.000003079184807575075
          ],
          [
           0.0000030787239211349515
          ],
          [
           0.000002846757297447766
          ],
          [
           0.0000028466486128309043
          ],
          [
           0.0000027948956358159194
          ],
          [
           0.0000027948767638008576
          ],
          [
           0.000002779086571536027
          ],
          [
           0.0000027790572403318947
          ],
          [
           0.0000027396015411795815
          ],
          [
           0.0000027391181447455892
          ],
          [
           0.00000272594752459554
          ],
          [
           0.0000027258645332040032
          ],
          [
           0.000002685360186660546
          ],
          [
           0.0000026845843876799336
          ],
          [
           0.000002680859324755147
          ],
          [
           0.000002680734041859978
          ],
          [
           0.0000026786563012137776
          ],
          [
           0.0000026786538001033477
          ],
          [
           0.000002650389660630026
          ],
          [
           0.000002650361921041622
          ],
          [
           0.0000026381792395113735
          ],
          [
           0.0000026374143544671824
          ],
          [
           0.0000026211534986941842
          ],
          [
           0.000002620556188048795
          ],
          [
           0.000002609727516755811
          ],
          [
           0.000002609550620036316
          ],
          [
           0.000002600073685243842
          ],
          [
           0.0000025996546355600003
          ],
          [
           0.000002597803131720866
          ],
          [
           0.000002597719003460952
          ],
          [
           0.000002563682073741802
          ],
          [
           0.000002563474254202447
          ],
          [
           0.0000025369406557729235
          ],
          [
           0.000002536638248784584
          ],
          [
           0.0000024853343347785994
          ],
          [
           0.0000024851995021890616
          ],
          [
           0.0000024432983991573565
          ],
          [
           0.0000024431305973848794
          ],
          [
           0.000002348727321077604
          ],
          [
           0.0000023486420559493126
          ],
          [
           0.0000023474663066735957
          ],
          [
           0.000002347184363316046
          ],
          [
           0.0000022236774839257123
          ],
          [
           0.0000022234189600567333
          ],
          [
           0.000002189689212173107
          ],
          [
           0.00000218941363527847
          ],
          [
           0.0000021834812287124805
          ],
          [
           0.0000021830940113432007
          ],
          [
           0.0000021688003926101374
          ],
          [
           0.0000021685377760150004
          ],
          [
           0.0000021468556496984093
          ],
          [
           0.000002146415454262751
          ],
          [
           0.0000021208791167737218
          ],
          [
           0.0000021208225007285364
          ],
          [
           0.0000020781089915544726
          ],
          [
           0.0000020774311906279763
          ],
          [
           0.0000020304730696807383
          ],
          [
           0.0000020295574358897284
          ],
          [
           0.000001995574621105334
          ],
          [
           0.0000019952071852458175
          ],
          [
           0.0000019531321413523983
          ],
          [
           0.000001952977527253097
          ],
          [
           0.0000019497208540997235
          ],
          [
           0.000001949694933500723
          ],
          [
           0.0000019266972230980173
          ],
          [
           0.000001926388677020441
          ],
          [
           0.000001861711211859074
          ],
          [
           0.0000018615957060319488
          ],
          [
           0.0000018589861383588868
          ],
          [
           0.0000018589222463560873
          ],
          [
           0.0000018511964299250394
          ],
          [
           0.0000018509300616642577
          ],
          [
           0.0000018486366570868995
          ],
          [
           0.0000018480355947758653
          ],
          [
           0.0000018039318092633039
          ],
          [
           0.00000180389906745404
          ],
          [
           0.0000017414166677554022
          ],
          [
           0.000001740890297696751
          ],
          [
           0.0000017404785239705234
          ],
          [
           0.000001739965796332399
          ],
          [
           0.0000017286494085055892
          ],
          [
           0.0000017286081401834963
          ],
          [
           0.0000017098531088777236
          ],
          [
           0.000001709337993816007
          ],
          [
           0.000001680814534665842
          ],
          [
           0.0000016807985048217233
          ],
          [
           0.0000016752663896113518
          ],
          [
           0.0000016751018847571686
          ],
          [
           0.0000016709246892787633
          ],
          [
           0.0000016707272152416408
          ],
          [
           0.0000016326133618349559
          ],
          [
           0.0000016316529354298837
          ],
          [
           0.000001630862584534043
          ],
          [
           0.000001630825408938108
          ],
          [
           0.0000016194433101190953
          ],
          [
           0.000001619068143554614
          ],
          [
           0.000001611049583516433
          ],
          [
           0.0000016108529052871745
          ],
          [
           0.0000016041980188674643
          ],
          [
           0.0000016035891121646273
          ],
          [
           0.00000153062410390703
          ],
          [
           0.0000015306138720916351
          ],
          [
           0.0000014924277138561592
          ],
          [
           0.0000014920335615897784
          ],
          [
           0.0000014041632994121755
          ],
          [
           0.0000014041405620446312
          ],
          [
           0.0000013715051636609132
          ],
          [
           0.0000013711794508708408
          ],
          [
           0.000001341345068794908
          ],
          [
           0.000001341238885288476
          ],
          [
           0.0000013103241371936747
          ],
          [
           0.0000013102491038807784
          ],
          [
           0.0000012943867204739945
          ],
          [
           0.0000012943460205860902
          ],
          [
           0.0000012094053545297356
          ],
          [
           0.0000012094042176613584
          ],
          [
           0.0000011105170187875046
          ],
          [
           0.0000011102490589109948
          ],
          [
           0.000001014199710880348
          ],
          [
           0.0000010141551456399611
          ],
          [
           9.438346637580253e-7
          ],
          [
           9.438157348995446e-7
          ],
          [
           9.298472036789462e-7
          ],
          [
           9.296007306147658e-7
          ],
          [
           9.168090855382616e-7
          ],
          [
           9.168056180897111e-7
          ],
          [
           9.054947440745309e-7
          ],
          [
           9.054118663698318e-7
          ],
          [
           8.440783858532086e-7
          ],
          [
           8.440372880613722e-7
          ],
          [
           8.341490342900215e-7
          ],
          [
           8.340671229234431e-7
          ],
          [
           7.474990297851036e-7
          ],
          [
           7.470486025340506e-7
          ],
          [
           7.382087119367498e-7
          ],
          [
           7.381607929346501e-7
          ],
          [
           6.105659622335224e-7
          ],
          [
           6.104804128881369e-7
          ],
          [
           3.6703784189739963e-7
          ],
          [
           3.670311912173929e-7
          ],
          [
           3.5025902889174176e-7
          ],
          [
           3.498777800814423e-7
          ],
          [
           3.423600674068439e-7
          ],
          [
           3.420385894514766e-7
          ],
          [
           2.1875196409837372e-7
          ],
          [
           2.1856220655536163e-7
          ],
          [
           1.524605330871509e-8
          ]
         ],
         "hovertemplate": "False Positive Rate=%{x}<br>True Positive Rate=%{y}<br>Threshold=%{customdata[0]}<extra></extra>",
         "legendgroup": "",
         "line": {
          "color": "#636efa"
         },
         "marker": {
          "symbol": "circle"
         },
         "mode": "lines",
         "name": "",
         "orientation": "v",
         "showlegend": false,
         "stackgroup": "1",
         "type": "scatter",
         "x": [
          0,
          0,
          0.000084300446792368,
          0.000084300446792368,
          0.00011240059572315734,
          0.00011240059572315734,
          0.00014050074465394666,
          0.00014050074465394666,
          0.00022480119144631467,
          0.00022480119144631467,
          0.0002810014893078933,
          0.0002810014893078933,
          0.000337201787169472,
          0.000337201787169472,
          0.00039340208503105067,
          0.00039340208503105067,
          0.00044960238289262934,
          0.00044960238289262934,
          0.0004777025318234187,
          0.0004777025318234187,
          0.000505802680754208,
          0.000505802680754208,
          0.0005620029786157866,
          0.0005620029786157866,
          0.0007306038722005227,
          0.0007306038722005227,
          0.0007868041700621013,
          0.0007868041700621013,
          0.0008992047657852587,
          0.0008992047657852587,
          0.000927304914716048,
          0.000927304914716048,
          0.001011605361508416,
          0.001011605361508416,
          0.001180206255093152,
          0.001180206255093152,
          0.0013207069997470987,
          0.0013207069997470987,
          0.001601708489054992,
          0.001601708489054992,
          0.0017422092337089387,
          0.0017422092337089387,
          0.0018827099783628853,
          0.0018827099783628853,
          0.0021075111698092,
          0.0021075111698092,
          0.002191811616601568,
          0.002191811616601568,
          0.0022761120633939358,
          0.0023042122123247254,
          0.0023042122123247254,
          0.00252901340377104,
          0.00252901340377104,
          0.002725714446286565,
          0.002725714446286565,
          0.002866215190940512,
          0.002866215190940512,
          0.003034816084525248,
          0.003034816084525248,
          0.0031472166802484053,
          0.0031472166802484053,
          0.003540618765279456,
          0.003540618765279456,
          0.003709219658864192,
          0.0037654199567257705,
          0.003934020850310507,
          0.003934020850310507,
          0.004046421446033664,
          0.004046421446033664,
          0.004664624722511029,
          0.004720825020372608,
          0.005535729339365499,
          0.005535729339365499,
          0.005732430381881024,
          0.005732430381881024,
          0.0058729311265349705,
          0.0058729311265349705,
          0.006659735296597072,
          0.006659735296597072,
          0.007221738275212859,
          0.007221738275212859,
          0.007502739764520752,
          0.00755894006238233,
          0.0075870402113131195,
          0.007643240509174699,
          0.0077275409559670665,
          0.0077275409559670665,
          0.007783741253828645,
          0.007839941551690224,
          0.008373844381375221,
          0.0084300446792368,
          0.008514345126029168,
          0.008570545423890746,
          0.008570545423890746,
          0.008963947508921797,
          0.009020147806783375,
          0.009020147806783375,
          0.009048247955714165,
          0.009104448253575743,
          0.009188748700368113,
          0.009188748700368113,
          0.009244948998229691,
          0.009244948998229691,
          0.00927304914716048,
          0.00927304914716048,
          0.009919352572568634,
          0.009919352572568634,
          0.009975552870430213,
          0.010031753168291791,
          0.010397055104392053,
          0.01048135555118442,
          0.010790457189423104,
          0.010790457189423104,
          0.0113243600191081,
          0.01138056031696968,
          0.012083064040239413,
          0.012167364487031781,
          0.012588866720993621,
          0.012588866720993621,
          0.013235170146401775,
          0.013319470593194145,
          0.013572371933571248,
          0.013572371933571248,
          0.013600472082502037,
          0.013656672380363616,
          0.013769072976086772,
          0.013853373422879142,
          0.01390957372074072,
          0.01390957372074072,
          0.013965774018602299,
          0.014021974316463877,
          0.014864978784387558,
          0.014921179082249136,
          0.015089779975833871,
          0.01514598027369545,
          0.01559558265658808,
          0.015651782954449658,
          0.015736083401242027,
          0.015736083401242027,
          0.017028690252058335,
          0.017028690252058335,
          0.01767499367746649,
          0.01767499367746649,
          0.017731193975328068,
          0.01778739427318965,
          0.01944530306010622,
          0.01944530306010622,
          0.020456908421614635,
          0.020513108719476213,
          0.020766010059853318,
          0.020822210357714897,
          0.02180571557029252,
          0.0218619158681541,
          0.02189001601708489,
          0.02194621631494647,
          0.022199117655323574,
          0.022199117655323574,
          0.022620619889285414,
          0.022620619889285414,
          0.02270492033607778,
          0.02278922078287015,
          0.023238823165762777,
          0.023238823165762777,
          0.023351223761485934,
          0.023407424059347516,
          0.02399752718689409,
          0.024081827633686458,
          0.024250428527271193,
          0.024250428527271193,
          0.02523393373984882,
          0.0252901340377104,
          0.025346334335571978,
          0.025430634782364347,
          0.025852137016326188,
          0.025908337314187766,
          0.02694804282462697,
          0.02694804282462697,
          0.027425745356450388,
          0.027425745356450388,
          0.027566246101104336,
          0.027566246101104336,
          0.028100148930789333,
          0.028100148930789333,
          0.028184449377581702,
          0.028774552505128278,
          0.028830752802989856,
          0.02908365414336696,
          0.02913985444122854,
          0.029420855930536432,
          0.02947705622839801,
          0.029842358164498272,
          0.029842358164498272,
          0.0300390592070138,
          0.030123359653806164,
          0.030825863377075897,
          0.03088206367493748,
          0.03150026695141484,
          0.031556467249276424,
          0.032315171270407735,
          0.032315171270407735,
          0.03487228482310956,
          0.03492848512097114,
          0.03506898586562509,
          0.035125186163486664,
          0.0358276898867564,
          0.0358276898867564,
          0.03616489167392587,
          0.03622109197178745,
          0.03624919212071824,
          0.036305392418579815,
          0.03678309495040324,
          0.03683929524826481,
          0.036979795992918764,
          0.03703599629078034,
          0.03754179897153455,
          0.03759799926939613,
          0.03762609941832692,
          0.03768229971618849,
          0.03821620254587349,
          0.03830050299266586,
          0.03922780790738191,
          0.03931210835417428,
          0.03953690954562059,
          0.03959310984348217,
          0.040970017141090845,
          0.041110517885744796,
          0.04175682131115295,
          0.041813021609014525,
          0.04285272711945373,
          0.042908927417315314,
          0.0431899289066232,
          0.043246129204484784,
          0.043751931885238994,
          0.04383623233203136,
          0.043920532778823726,
          0.04397673307668531,
          0.045437940821086355,
          0.045437940821086355,
          0.04622474499114845,
          0.04630904543794082,
          0.04771405288448029,
          0.04777025318234187,
          0.04799505437378818,
          0.04805125467164976,
          0.04819175541630371,
          0.048247955714165285,
          0.048304156012026866,
          0.04836035630988844,
          0.048669457948127125,
          0.04878185854385028,
          0.04923146092674291,
          0.04928766122460449,
          0.0508331694157979,
          0.05088936971365948,
          0.0513670722454829,
          0.05147947284120606,
          0.05164807373479079,
          0.051704274032652375,
          0.0519009750751679,
          0.05195717537302948,
          0.05355888386208447,
          0.05361508415994605,
          0.05473909011717762,
          0.0547952904150392,
          0.058476409924972605,
          0.05853261022283418,
          0.05856071037176497,
          0.05861691066962655,
          0.059769016775788913,
          0.05982521707365049,
          0.06108972377553601,
          0.06108972377553601,
          0.06114592407339759,
          0.061202124371259166,
          0.061623626605221006,
          0.06184842779666732,
          0.06196082839239048,
          0.06201702869025206,
          0.06274763256245258,
          0.06280383286031416,
          0.06311293449855285,
          0.06316913479641442,
          0.06367493747716862,
          0.06367493747716862,
          0.06536094641301599,
          0.06547334700873915,
          0.06685025430634782,
          0.06690645460420941,
          0.06749655773175597,
          0.06758085817854835,
          0.0695478686037036,
          0.0695478686037036,
          0.07025037232697333,
          0.07030657262483492,
          0.07055947396521202,
          0.0706156742630736,
          0.07249838424143648,
          0.07261078483715963,
          0.07390339168797595,
          0.07395959198583753,
          0.07893331834658723,
          0.07898951864444882,
          0.08210863517576643,
          0.08227723606935117,
          0.08337314187765195,
          0.08345744232444433,
          0.08559305364318431,
          0.08570545423890746,
          0.08629555736645404,
          0.08629555736645404,
          0.08933037345097929,
          0.08941467389777166,
          0.08961137494028719,
          0.08966757523814876,
          0.09045437940821087,
          0.09045437940821087,
          0.09202798774833507,
          0.09211228819512743,
          0.09258999072695086,
          0.09264619102481243,
          0.09348919549273611,
          0.09357349593952848,
          0.09450080085424453,
          0.0945851013010369,
          0.09579340770506084,
          0.09584960800292242,
          0.09601820889650715,
          0.0961306094922303,
          0.0961306094922303,
          0.09924972602354792,
          0.0993059263214095,
          0.09941832691713266,
          0.09941832691713266,
          0.10014893078933318,
          0.10020513108719477,
          0.10118863629977239,
          0.10118863629977239,
          0.10163823868266501,
          0.10172253912945739,
          0.10234074240593476,
          0.10239694270379633,
          0.1024531430016579,
          0.10250934329951948,
          0.10290274538455053,
          0.10295894568241212,
          0.10360524910782028,
          0.10366144940568185,
          0.10402675134178212,
          0.10408295163964369,
          0.10543175878832158,
          0.10551605923511395,
          0.10672436563913788,
          0.10680866608593026,
          0.10874757636215472,
          0.1088037766600163,
          0.10883187680894708,
          0.10888807710680867,
          0.10947818023435524,
          0.10953438053221683,
          0.10967488127687076,
          0.10967488127687076,
          0.11012448365976339,
          0.11020878410655577,
          0.11088318768089471,
          0.11088318768089471,
          0.11279399780818838,
          0.11287829825498075,
          0.11377750302076602,
          0.11383370331862759,
          0.11557591255233653,
          0.1156321128501981,
          0.11577261359485205,
          0.11582881389271363,
          0.11700902014780679,
          0.11706522044566836,
          0.11720572119032231,
          0.11726192148818389,
          0.11838592744541546,
          0.11844212774327705,
          0.11931323236013151,
          0.11948183325371624,
          0.12192654621069492,
          0.12198274650855649,
          0.12201084665748728,
          0.12206704695534887,
          0.12231994829572597,
          0.12240424874251833,
          0.12369685559333464,
          0.12375305589119623,
          0.12608536825245173,
          0.1261415685503133,
          0.12718127406075252,
          0.12729367465647567,
          0.13572371933571248,
          0.13577991963357405,
          0.1359766206760896,
          0.13603282097395117,
          0.14114704807935483,
          0.1412313485261472,
          0.1438165622277798,
          0.14387276252564138,
          0.14718858009947453,
          0.1472447803973361,
          0.14732908084412846,
          0.14738528114199007,
          0.1477505830780903,
          0.1478067833759519,
          0.14923989097142215,
          0.14929609126928373,
          0.14974569365217635,
          0.14982999409896872,
          0.14999859499255347,
          0.15005479529041504,
          0.15289291033242478,
          0.15294911063028635,
          0.15483182060864922,
          0.1548880209065108,
          0.15865344086323657,
          0.15870964116109815,
          0.1599179475651221,
          0.16000224801191446,
          0.1609295529266305,
          0.1609857532244921,
          0.1622783600753084,
          0.16233456037316998,
          0.1648916739258718,
          0.1649478742237334,
          0.16590327928738022,
          0.1659594795852418,
          0.16669008345744232,
          0.16677438390423469,
          0.1673363868828505,
          0.16742068732964285,
          0.1675611880742968,
          0.16761738837215837,
          0.16809509090398178,
          0.16815129120184338,
          0.1688818950740439,
          0.16893809537190546,
          0.16919099671228258,
          0.16924719701014415,
          0.16950009835052127,
          0.16955629864838284,
          0.17048360356309888,
          0.17053980386096046,
          0.17270351532863124,
          0.1727878157754236,
          0.1741366229241015,
          0.17419282322196308,
          0.1743895242644786,
          0.17444572456234017,
          0.17483912664737122,
          0.1748953269452328,
          0.17509202798774834,
          0.1751482282856099,
          0.17523252873240228,
          0.1775929412425886,
          0.17764914154045017,
          0.17804254362548122,
          0.1780987439233428,
          0.17874504734875094,
          0.17880124764661254,
          0.1810211594121449,
          0.18107735971000646,
          0.18135836119931437,
          0.18144266164610673,
          0.18197656447579172,
          0.18208896507151487,
          0.18408407564560092,
          0.18416837609239328,
          0.1843931772838396,
          0.18444937758170118,
          0.1899570067721359,
          0.19001320706999747,
          0.19049090960182088,
          0.19054710989968246,
          0.1920645179419451,
          0.19217691853766825,
          0.1930480231545227,
          0.19318852389917668,
          0.1933571247927614,
          0.19341332509062298,
          0.19372242672886167,
          0.1938629274735156,
          0.19872425323854218,
          0.19883665383426533,
          0.19903335487678084,
          0.1990895551746424,
          0.19945485711074268,
          0.19951105740860425,
          0.20001686008935848,
          0.20007306038722006,
          0.20156236828055188,
          0.20167476887627506,
          0.20215247140809847,
          0.20220867170596005,
          0.20251777334419874,
          0.2026020737909911,
          0.20586169106696264,
          0.20591789136482425,
          0.20718239806670977,
          0.20729479866243292,
          0.20830640402394132,
          0.20839070447073368,
          0.2096552111726192,
          0.20971141147048078,
          0.20982381206620396,
          0.20990811251299632,
          0.2109759181723663,
          0.2110321184702279,
          0.2110602186191587,
          0.21122881951274342,
          0.21201562368280552,
          0.2120718239806671,
          0.2128586281507292,
          0.21294292859752156,
          0.21535954140556945,
          0.21541574170343103,
          0.21777615421361735,
          0.21783235451147892,
          0.2186472588304718,
          0.2187034591283334,
          0.21926546210694917,
          0.21932166240481074,
          0.21965886419198022,
          0.2197150644898418,
          0.22201927670216653,
          0.2221035771489589,
          0.2226374799786439,
          0.22274988057436704,
          0.22665580127574675,
          0.22674010172253914,
          0.2278360075308399,
          0.22789220782870148,
          0.22797650827549387,
          0.22803270857335545,
          0.22806080872228623,
          0.2281170090201478,
          0.22817320931800938,
          0.22822940961587096,
          0.2283980105094557,
          0.2284542108073173,
          0.2286790119987636,
          0.22873521229662516,
          0.22890381319020991,
          0.22898811363700228,
          0.23137662629611938,
          0.23146092674291174,
          0.23160142748756568,
          0.23165762778542726,
          0.2318543288279428,
          0.23193862927473516,
          0.23438334223171384,
          0.2344395425295754,
          0.234495742827437,
          0.23455194312529856,
          0.23486104476353725,
          0.23494534521032961,
          0.2357883496782533,
          0.23584454997611487,
          0.23615365161435356,
          0.2362660522100767,
          0.23741815831623908,
          0.23747435861410066,
          0.2386826650181246,
          0.23876696546491696,
          0.24008767246466406,
          0.24017197291145642,
          0.240228173209318,
          0.2402843735071796,
          0.24056537499648747,
          0.24062157529434905,
          0.24084637648579538,
          0.24090257678365695,
          0.24272908646415825,
          0.24278528676201983,
          0.24576390254868352,
          0.2458201028465451,
          0.24590440329333746,
          0.2460168038890606,
          0.24773091297383876,
          0.24781521342063112,
          0.24879871863320877,
          0.24885491893107034,
          0.25040042712226374,
          0.2504566274201253,
          0.25059712816477925,
          0.2506533284626409,
          0.25099053024981033,
          0.2510467305476719,
          0.25113103099446427,
          0.25121533144125663,
          0.25135583218591057,
          0.25135583218591057,
          0.25152443307949535,
          0.2516087335262877,
          0.25177733441987243,
          0.2518616348666648,
          0.25335094275999664,
          0.2534914435046506,
          0.2544468485682974,
          0.254503048866159,
          0.25495265124905164,
          0.255036951695844,
          0.2552898530362211,
          0.25534605333408267,
          0.25540225363194424,
          0.2554584539298058,
          0.25573945541911375,
          0.2557956557169753,
          0.2626520920560879,
          0.26276449265181107,
          0.2634950965240116,
          0.2634950965240116,
          0.2657150082895439,
          0.2657712085874055,
          0.26647371231067524,
          0.2665299126085368,
          0.26683901424677553,
          0.2668952145446371,
          0.2678787197572147,
          0.2681597212465226,
          0.26911512631016943,
          0.2692275269058926,
          0.2702672324163318,
          0.27040773316098576,
          0.2705201337567089,
          0.2705763340545705,
          0.2711383370331863,
          0.27119453733104787,
          0.2720937420968331,
          0.2721499423946947,
          0.27282434596903365,
          0.272908646415826,
          0.2729648467136876,
          0.27352684969230334,
          0.27366735043695734,
          0.27389215162840364,
          0.2739483519262652,
          0.27467895579846574,
          0.2747632562452581,
          0.27726416950009836,
          0.27732036979795993,
          0.27774187203192174,
          0.2777980723297834,
          0.27886587798915335,
          0.27892207828701493,
          0.2800741843931773,
          0.28013038469103885,
          0.2832495012223565,
          0.28330570152021806,
          0.2842892067327957,
          0.28434540703065725,
          0.28535701239216565,
          0.2854132126900273,
          0.2876331244555596,
          0.2876893247534212,
          0.29100514232725433,
          0.2910613426251159,
          0.2922134487312783,
          0.29232584932700145,
          0.2944614606457414,
          0.29460196139039535,
          0.2995194874532835,
          0.29957568775114507,
          0.3013740972827156,
          0.30145839772950794,
          0.3039312108354174,
          0.30401551128220977,
          0.3100851434512603,
          0.3101413437491219,
          0.3139629640037092,
          0.3140191643015708,
          0.3161828757692416,
          0.31623907606710316,
          0.31629527636496474,
          0.3163514766628263,
          0.316660578301065,
          0.3167729788967881,
          0.3179250850029505,
          0.3179812853008121,
          0.31885238991766657,
          0.31890859021552814,
          0.3227583106190463,
          0.32284261106583867,
          0.32351701464017757,
          0.32357321493803914,
          0.3236294152359008,
          0.32368561553376235,
          0.3242195183634473,
          0.3242757186613089,
          0.3254278247674713,
          0.32551212521426365,
          0.3256526259589176,
          0.32573692640570995,
          0.3261865287886026,
          0.32627082923539497,
          0.3280692387669655,
          0.3282097395116194,
          0.3318908590215528,
          0.33197515946834516,
          0.3376513895523646,
          0.3377075898502262,
          0.33843819372242673,
          0.3384943940202883,
          0.3392530980414196,
          0.3393092983392812,
          0.33967460027538143,
          0.33973080057324306,
          0.340264703402928,
          0.3403209037007896,
          0.34161351055160594,
          0.3416697108494675,
          0.34259701576418355,
          0.34265321606204513,
          0.34664343721021723,
          0.3466996375080788,
          0.34703683929524826,
          0.34709303959310983,
          0.34838564644392617,
          0.34846994689071853,
          0.3487790485289572,
          0.34886334897574955,
          0.3507460589541125,
          0.35080225925197406,
          0.35130806193272823,
          0.3513923623795206,
          0.3529659707196448,
          0.3530221710175064,
          0.3538370753364993,
          0.35389327563436085,
          0.35706859246354006,
          0.35712479276140163,
          0.35841739961221797,
          0.3585298002079411,
          0.3606373113777503,
          0.36069351167561187,
          0.36454323207913003,
          0.3645994323769916,
          0.36533003624919214,
          0.3653862365470537,
          0.36552673729170765,
          0.3655829375895692,
          0.36690364458931635,
          0.3669598448871779,
          0.36853345322730213,
          0.3685896535251637,
          0.36937645769522576,
          0.3694607581420182,
          0.37182117065220444,
          0.371877370950066,
          0.3736757804816366,
          0.3737881810773597,
          0.3738724815241521,
          0.37392868182201366,
          0.3748840868856605,
          0.37499648748138364,
          0.37597999269396126,
          0.37603619299182284,
          0.3770477983533313,
          0.3771039986511929,
          0.3772444993958468,
          0.3773006996937084,
          0.38283642903307386,
          0.38289262933093543,
          0.3851687413943294,
          0.38522494169219096,
          0.3877820552448928,
          0.38783825554275436,
          0.3927276814567117,
          0.39284008205243487,
          0.3945822912861438,
          0.3946384915840054,
          0.3949194930733133,
          0.3949756933711749,
          0.3995841177958243,
          0.3996403180936859,
          0.40110152583808695,
          0.4011577261359485,
          0.4043611431140585,
          0.4044173434119201,
          0.4046421446033664,
          0.40469834490122797,
          0.40509174698625905,
          0.4051479472841206,
          0.40913816843229267,
          0.40919436873015425,
          0.413100289431534,
          0.41318458987832635,
          0.4138870936015961,
          0.41394329389945766,
          0.41532020119706636,
          0.41537640149492794,
          0.4162756062607132,
          0.41633180655857477,
          0.41939472279203077,
          0.4194790232388232,
          0.4201253266642313,
          0.4201815269620929,
          0.42026582740888524,
          0.42032202770674687,
          0.4222890381319021,
          0.4223452384297637,
          0.42740326523730576,
          0.42745946553516734,
          0.42979177789642287,
          0.4299322786410768,
          0.43010087953466153,
          0.4301570798325231,
          0.43293899457667123,
          0.43299519487453286,
          0.4331918959170484,
          0.43324809621490995,
          0.43428780172534914,
          0.4343440020232107,
          0.4358052097676118,
          0.43586141006547335,
          0.4369854160227049,
          0.43706971646949727,
          0.43715401691628963,
          0.4372102172141512,
          0.4396268300221991,
          0.4396830303200607,
          0.444179054148987,
          0.44429145474471016,
          0.4462022648720038,
          0.4462865653187962,
          0.4497147834883525,
          0.44977098378621405,
          0.45008008542445277,
          0.45013628572231434,
          0.45030488661589907,
          0.45036108691376064,
          0.453648804338663,
          0.4537050046365246,
          0.4581167280186585,
          0.45825722876331243,
          0.458453929805828,
          0.4586506308483435,
          0.4608986427628066,
          0.460982943209599,
          0.46120774440104534,
          0.4612639446989069,
          0.46671537359148,
          0.4667996740382724,
          0.47789923286593416,
          0.4779554331637958,
          0.4797819428442971,
          0.47983814314215867,
          0.48292915952454546,
          0.48298535982240703,
          0.48309776041813024,
          0.4831539607159918,
          0.4842217663753618,
          0.48427796667322337,
          0.48731278275774864,
          0.4874251833534718,
          0.4914435046505746,
          0.4914997049484362,
          0.49383201730969173,
          0.4938882176075533,
          0.49613622952201647,
          0.49619242981987804,
          0.4987495433725799,
          0.49880574367044145,
          0.4997330485851575,
          0.49978924888301907,
          0.5047629752437688,
          0.5048191755416304,
          0.5049596762862844,
          0.5050439767330767,
          0.5051001770309382,
          0.5051563773287998,
          0.5076572905836401,
          0.5077134908815016,
          0.5083035940090482,
          0.5083597943069098,
          0.5118723129232585,
          0.5119285132211201,
          0.5127996178379746,
          0.5128558181358361,
          0.518616348666648,
          0.5187006491134403,
          0.5302217101750639,
          0.5302779104729255,
          0.5326664231320426,
          0.5326664231320426,
          0.5356450389187063,
          0.5357012392165679,
          0.5373029477056228,
          0.5373591480034844,
          0.5444122853851125,
          0.5444684856829741,
          0.5453114901508977,
          0.5453957905976902,
          0.5469974990867451,
          0.5470536993846067,
          0.5493579115969315,
          0.5494141118947931,
          0.5514373226178099,
          0.5515778233624639,
          0.5574507544889988,
          0.5575069547868604,
          0.5581532582122686,
          0.5582656588079917,
          0.5652344957428275,
          0.5653468963385506,
          0.5681850113805603,
          0.5682412116784219,
          0.5813077809312389,
          0.5813639812291005,
          0.5864220080366426,
          0.5864782083345041,
          0.5883609183128671,
          0.5884171186107287,
          0.5961165594177649,
          0.5961727597156264,
          0.6120212437125917,
          0.6121336443083149,
          0.6167420687329643,
          0.6167982690308259,
          0.6178941748391267,
          0.6179503751369883,
          0.6212099924129598,
          0.6212661927108214,
          0.622249697923399,
          0.6223058982212606,
          0.625312614156855,
          0.6253688144547166,
          0.6257341163908169,
          0.6257903166886785,
          0.6259308174333323,
          0.625987017731194,
          0.6284036305392419,
          0.6284598308371034,
          0.6292185348582348,
          0.6293590356028888,
          0.6306235423047742,
          0.6307359429004974,
          0.6316351476662826,
          0.6316913479641442,
          0.6328715542192374,
          0.6329277545170989,
          0.6330963554106837,
          0.6331525557085452,
          0.6355129682187316,
          0.6355691685165932,
          0.6373675780481637,
          0.6374237783460253,
          0.6421446033663979,
          0.6422008036642595,
          0.6459662236209852,
          0.6460224239188468,
          0.6551268721724225,
          0.6551830724702841,
          0.6552673729170765,
          0.6553235732149381,
          0.6687554444038554,
          0.668811644701717,
          0.6720993621266192,
          0.6721836625734117,
          0.6728299659988198,
          0.6728861662966814,
          0.6745721752325288,
          0.6746283755303903,
          0.676932587742715,
          0.6769887880405766,
          0.6798831033804479,
          0.6800236041251019,
          0.6842667266136511,
          0.6843791272093742,
          0.689071852080816,
          0.6891280523786776,
          0.6933711748672268,
          0.6934273751650883,
          0.699075505100177,
          0.6991317053980386,
          0.699468907185208,
          0.6995251074830696,
          0.7022227217804254,
          0.702278922078287,
          0.7096692612470846,
          0.7097254615449462,
          0.7101188636299772,
          0.7101750639278388,
          0.7110180683957625,
          0.7110742686936241,
          0.7112709697361396,
          0.7113271700340011,
          0.7164694972883356,
          0.7165256975861972,
          0.7239722370528564,
          0.724028437350718,
          0.7241127377975103,
          0.7241689380953719,
          0.7251805434568803,
          0.7252367437547419,
          0.7277938573074437,
          0.7278500576053053,
          0.7316435777109619,
          0.7316997780088235,
          0.7324303818810239,
          0.7324865821788855,
          0.7330204850085705,
          0.7330766853064321,
          0.7377975103268047,
          0.7379099109225279,
          0.7379942113693203,
          0.7380504116671819,
          0.7395116194115828,
          0.7395678197094444,
          0.7407199258156069,
          0.7407761261134684,
          0.7416753308792536,
          0.7417315311771152,
          0.7500210751116981,
          0.7500772754095597,
          0.7546856998342091,
          0.7547419001320707,
          0.7668249641723102,
          0.7668811644701717,
          0.7712085874055132,
          0.7712647877033748,
          0.7756765110855087,
          0.7757608115323011,
          0.7802568353612274,
          0.7803130356590889,
          0.7828139489139292,
          0.7828701492117909,
          0.795121814145615,
          0.7951780144434766,
          0.8111388990361649,
          0.8111950993340264,
          0.8263972799055835,
          0.8264534802034451,
          0.8387613454351308,
          0.8388175457329924,
          0.8412060583921095,
          0.8412903588389018,
          0.8432011689661956,
          0.8432573692640571,
          0.845280579987074,
          0.8453367802849355,
          0.8568297411976283,
          0.8568859414954899,
          0.8585719504313373,
          0.8586281507291988,
          0.8727344254924551,
          0.8727906257903167,
          0.8744204344283024,
          0.8744766347261641,
          0.8986427628066429,
          0.8986989631045045,
          0.9488296287970326,
          0.9488858290948942,
          0.952370247562312,
          0.9524264478601736,
          0.9535504538174052,
          0.9536066541152668,
          0.9770702784724759,
          0.9771264787703375,
          1
         ],
         "xaxis": "x",
         "y": [
          0,
          0.01020408163265306,
          0.01020408163265306,
          0.08163265306122448,
          0.08163265306122448,
          0.14285714285714285,
          0.14285714285714285,
          0.15306122448979592,
          0.15306122448979592,
          0.17346938775510204,
          0.17346938775510204,
          0.1836734693877551,
          0.1836734693877551,
          0.19387755102040816,
          0.19387755102040816,
          0.20408163265306123,
          0.20408163265306123,
          0.22448979591836735,
          0.22448979591836735,
          0.24489795918367346,
          0.24489795918367346,
          0.25510204081632654,
          0.25510204081632654,
          0.2653061224489796,
          0.2653061224489796,
          0.2857142857142857,
          0.2857142857142857,
          0.29591836734693877,
          0.29591836734693877,
          0.3163265306122449,
          0.3163265306122449,
          0.336734693877551,
          0.336734693877551,
          0.3469387755102041,
          0.3469387755102041,
          0.35714285714285715,
          0.35714285714285715,
          0.3673469387755102,
          0.3673469387755102,
          0.37755102040816324,
          0.37755102040816324,
          0.3877551020408163,
          0.3877551020408163,
          0.3979591836734694,
          0.3979591836734694,
          0.40816326530612246,
          0.40816326530612246,
          0.42857142857142855,
          0.42857142857142855,
          0.42857142857142855,
          0.4489795918367347,
          0.4489795918367347,
          0.45918367346938777,
          0.45918367346938777,
          0.46938775510204084,
          0.46938775510204084,
          0.47959183673469385,
          0.47959183673469385,
          0.4897959183673469,
          0.4897959183673469,
          0.5,
          0.5,
          0.5102040816326531,
          0.5102040816326531,
          0.5102040816326531,
          0.5102040816326531,
          0.5306122448979592,
          0.5306122448979592,
          0.5408163265306123,
          0.5408163265306123,
          0.5408163265306123,
          0.5408163265306123,
          0.5510204081632653,
          0.5510204081632653,
          0.5612244897959183,
          0.5612244897959183,
          0.5714285714285714,
          0.5714285714285714,
          0.5816326530612245,
          0.5816326530612245,
          0.5918367346938775,
          0.5918367346938775,
          0.5918367346938775,
          0.5918367346938775,
          0.5918367346938775,
          0.5918367346938775,
          0.6020408163265306,
          0.6020408163265306,
          0.6020408163265306,
          0.6020408163265306,
          0.6020408163265306,
          0.6020408163265306,
          0.6020408163265306,
          0.6122448979591837,
          0.6122448979591837,
          0.6122448979591837,
          0.6224489795918368,
          0.6224489795918368,
          0.6224489795918368,
          0.6224489795918368,
          0.6326530612244898,
          0.6326530612244898,
          0.6428571428571429,
          0.6428571428571429,
          0.6530612244897959,
          0.6530612244897959,
          0.6632653061224489,
          0.6632653061224489,
          0.6632653061224489,
          0.6632653061224489,
          0.6632653061224489,
          0.6632653061224489,
          0.673469387755102,
          0.673469387755102,
          0.673469387755102,
          0.673469387755102,
          0.673469387755102,
          0.673469387755102,
          0.6836734693877551,
          0.6836734693877551,
          0.6836734693877551,
          0.6836734693877551,
          0.6938775510204082,
          0.6938775510204082,
          0.6938775510204082,
          0.6938775510204082,
          0.6938775510204082,
          0.6938775510204082,
          0.7040816326530612,
          0.7040816326530612,
          0.7040816326530612,
          0.7040816326530612,
          0.7040816326530612,
          0.7040816326530612,
          0.7040816326530612,
          0.7040816326530612,
          0.7040816326530612,
          0.7040816326530612,
          0.7142857142857143,
          0.7142857142857143,
          0.7244897959183674,
          0.7244897959183674,
          0.7346938775510204,
          0.7346938775510204,
          0.7346938775510204,
          0.7346938775510204,
          0.7448979591836735,
          0.7448979591836735,
          0.7448979591836735,
          0.7448979591836735,
          0.7448979591836735,
          0.7448979591836735,
          0.7448979591836735,
          0.7448979591836735,
          0.7448979591836735,
          0.7448979591836735,
          0.7551020408163265,
          0.7551020408163265,
          0.7653061224489796,
          0.7653061224489796,
          0.7653061224489796,
          0.7653061224489796,
          0.7755102040816326,
          0.7755102040816326,
          0.7755102040816326,
          0.7755102040816326,
          0.7755102040816326,
          0.7755102040816326,
          0.7857142857142857,
          0.7857142857142857,
          0.7857142857142857,
          0.7857142857142857,
          0.7857142857142857,
          0.7857142857142857,
          0.7857142857142857,
          0.7857142857142857,
          0.7959183673469388,
          0.7959183673469388,
          0.8061224489795918,
          0.8061224489795918,
          0.8163265306122449,
          0.8163265306122449,
          0.826530612244898,
          0.826530612244898,
          0.826530612244898,
          0.826530612244898,
          0.826530612244898,
          0.826530612244898,
          0.826530612244898,
          0.826530612244898,
          0.826530612244898,
          0.8367346938775511,
          0.8367346938775511,
          0.8367346938775511,
          0.8367346938775511,
          0.8367346938775511,
          0.8367346938775511,
          0.8367346938775511,
          0.8367346938775511,
          0.8469387755102041,
          0.8469387755102041,
          0.8469387755102041,
          0.8469387755102041,
          0.8469387755102041,
          0.8469387755102041,
          0.8571428571428571,
          0.8571428571428571,
          0.8571428571428571,
          0.8571428571428571,
          0.8571428571428571,
          0.8571428571428571,
          0.8571428571428571,
          0.8571428571428571,
          0.8571428571428571,
          0.8571428571428571,
          0.8571428571428571,
          0.8571428571428571,
          0.8571428571428571,
          0.8571428571428571,
          0.8571428571428571,
          0.8571428571428571,
          0.8571428571428571,
          0.8571428571428571,
          0.8571428571428571,
          0.8571428571428571,
          0.8571428571428571,
          0.8571428571428571,
          0.8571428571428571,
          0.8571428571428571,
          0.8571428571428571,
          0.8571428571428571,
          0.8571428571428571,
          0.8571428571428571,
          0.8571428571428571,
          0.8571428571428571,
          0.8571428571428571,
          0.8571428571428571,
          0.8673469387755102,
          0.8673469387755102,
          0.8673469387755102,
          0.8673469387755102,
          0.8673469387755102,
          0.8673469387755102,
          0.8673469387755102,
          0.8673469387755102,
          0.8673469387755102,
          0.8673469387755102,
          0.8673469387755102,
          0.8673469387755102,
          0.8673469387755102,
          0.8673469387755102,
          0.8673469387755102,
          0.8673469387755102,
          0.8673469387755102,
          0.8673469387755102,
          0.8673469387755102,
          0.8673469387755102,
          0.8673469387755102,
          0.8673469387755102,
          0.8673469387755102,
          0.8673469387755102,
          0.8673469387755102,
          0.8673469387755102,
          0.8673469387755102,
          0.8673469387755102,
          0.8673469387755102,
          0.8673469387755102,
          0.8673469387755102,
          0.8673469387755102,
          0.8673469387755102,
          0.8673469387755102,
          0.8775510204081632,
          0.8775510204081632,
          0.8775510204081632,
          0.8775510204081632,
          0.8775510204081632,
          0.8775510204081632,
          0.8775510204081632,
          0.8775510204081632,
          0.8775510204081632,
          0.8775510204081632,
          0.8775510204081632,
          0.8775510204081632,
          0.8877551020408163,
          0.8877551020408163,
          0.8877551020408163,
          0.8877551020408163,
          0.8877551020408163,
          0.8877551020408163,
          0.8877551020408163,
          0.8877551020408163,
          0.8979591836734694,
          0.8979591836734694,
          0.8979591836734694,
          0.8979591836734694,
          0.8979591836734694,
          0.8979591836734694,
          0.8979591836734694,
          0.8979591836734694,
          0.8979591836734694,
          0.8979591836734694,
          0.8979591836734694,
          0.8979591836734694,
          0.8979591836734694,
          0.8979591836734694,
          0.8979591836734694,
          0.8979591836734694,
          0.8979591836734694,
          0.8979591836734694,
          0.9081632653061225,
          0.9081632653061225,
          0.9081632653061225,
          0.9081632653061225,
          0.9081632653061225,
          0.9081632653061225,
          0.9183673469387755,
          0.9183673469387755,
          0.9183673469387755,
          0.9183673469387755,
          0.9183673469387755,
          0.9183673469387755,
          0.9183673469387755,
          0.9183673469387755,
          0.9183673469387755,
          0.9183673469387755,
          0.9183673469387755,
          0.9183673469387755,
          0.9183673469387755,
          0.9285714285714286,
          0.9285714285714286,
          0.9285714285714286,
          0.9285714285714286,
          0.9387755102040817,
          0.9387755102040817,
          0.9387755102040817,
          0.9387755102040817,
          0.9489795918367347,
          0.9489795918367347,
          0.9489795918367347,
          0.9489795918367347,
          0.9489795918367347,
          0.9489795918367347,
          0.9489795918367347,
          0.9489795918367347,
          0.9489795918367347,
          0.9489795918367347,
          0.9489795918367347,
          0.9489795918367347,
          0.9489795918367347,
          0.9489795918367347,
          0.9489795918367347,
          0.9489795918367347,
          0.9489795918367347,
          0.9489795918367347,
          0.9489795918367347,
          0.9489795918367347,
          0.9489795918367347,
          0.9489795918367347,
          0.9489795918367347,
          0.9489795918367347,
          0.9591836734693877,
          0.9591836734693877,
          0.9591836734693877,
          0.9591836734693877,
          0.9693877551020408,
          0.9693877551020408,
          0.9693877551020408,
          0.9693877551020408,
          0.9693877551020408,
          0.9693877551020408,
          0.9693877551020408,
          0.9693877551020408,
          0.9693877551020408,
          0.9693877551020408,
          0.9693877551020408,
          0.9693877551020408,
          0.9693877551020408,
          0.9693877551020408,
          0.9693877551020408,
          0.9693877551020408,
          0.9693877551020408,
          0.9693877551020408,
          0.9693877551020408,
          0.9693877551020408,
          0.9693877551020408,
          0.9693877551020408,
          0.9693877551020408,
          0.9693877551020408,
          0.9693877551020408,
          0.9693877551020408,
          0.9693877551020408,
          0.9693877551020408,
          0.9693877551020408,
          0.9693877551020408,
          0.9693877551020408,
          0.9693877551020408,
          0.9693877551020408,
          0.9693877551020408,
          0.9693877551020408,
          0.9693877551020408,
          0.9693877551020408,
          0.9693877551020408,
          0.9693877551020408,
          0.9693877551020408,
          0.9693877551020408,
          0.9693877551020408,
          0.9693877551020408,
          0.9693877551020408,
          0.9693877551020408,
          0.9693877551020408,
          0.9693877551020408,
          0.9693877551020408,
          0.9693877551020408,
          0.9693877551020408,
          0.9693877551020408,
          0.9693877551020408,
          0.9693877551020408,
          0.9693877551020408,
          0.9693877551020408,
          0.9693877551020408,
          0.9693877551020408,
          0.9693877551020408,
          0.9693877551020408,
          0.9693877551020408,
          0.9693877551020408,
          0.9693877551020408,
          0.9693877551020408,
          0.9693877551020408,
          0.9693877551020408,
          0.9693877551020408,
          0.9693877551020408,
          0.9693877551020408,
          0.9693877551020408,
          0.9693877551020408,
          0.9693877551020408,
          0.9693877551020408,
          0.9693877551020408,
          0.9693877551020408,
          0.9693877551020408,
          0.9693877551020408,
          0.9693877551020408,
          0.9693877551020408,
          0.9693877551020408,
          0.9693877551020408,
          0.9693877551020408,
          0.9693877551020408,
          0.9693877551020408,
          0.9693877551020408,
          0.9693877551020408,
          0.9693877551020408,
          0.9693877551020408,
          0.9693877551020408,
          0.9693877551020408,
          0.9693877551020408,
          0.9693877551020408,
          0.9693877551020408,
          0.9693877551020408,
          0.9693877551020408,
          0.9693877551020408,
          0.9693877551020408,
          0.9693877551020408,
          0.9693877551020408,
          0.9693877551020408,
          0.9693877551020408,
          0.9693877551020408,
          0.9693877551020408,
          0.9693877551020408,
          0.9693877551020408,
          0.9693877551020408,
          0.9693877551020408,
          0.9693877551020408,
          0.9693877551020408,
          0.9693877551020408,
          0.9693877551020408,
          0.9693877551020408,
          0.9693877551020408,
          0.9693877551020408,
          0.9693877551020408,
          0.9693877551020408,
          0.9693877551020408,
          0.9693877551020408,
          0.9693877551020408,
          0.9693877551020408,
          0.9693877551020408,
          0.9693877551020408,
          0.9693877551020408,
          0.9693877551020408,
          0.9693877551020408,
          0.9693877551020408,
          0.9693877551020408,
          0.9693877551020408,
          0.9693877551020408,
          0.9693877551020408,
          0.9693877551020408,
          0.9693877551020408,
          0.9693877551020408,
          0.9693877551020408,
          0.9693877551020408,
          0.9693877551020408,
          0.9693877551020408,
          0.9693877551020408,
          0.9693877551020408,
          0.9693877551020408,
          0.9693877551020408,
          0.9693877551020408,
          0.9693877551020408,
          0.9693877551020408,
          0.9693877551020408,
          0.9693877551020408,
          0.9693877551020408,
          0.9693877551020408,
          0.9693877551020408,
          0.9693877551020408,
          0.9693877551020408,
          0.9693877551020408,
          0.9693877551020408,
          0.9693877551020408,
          0.9693877551020408,
          0.9693877551020408,
          0.9693877551020408,
          0.9693877551020408,
          0.9693877551020408,
          0.9693877551020408,
          0.9693877551020408,
          0.9693877551020408,
          0.9693877551020408,
          0.9693877551020408,
          0.9693877551020408,
          0.9693877551020408,
          0.9693877551020408,
          0.9693877551020408,
          0.9693877551020408,
          0.9693877551020408,
          0.9693877551020408,
          0.9693877551020408,
          0.9693877551020408,
          0.9693877551020408,
          0.9693877551020408,
          0.9693877551020408,
          0.9693877551020408,
          0.9693877551020408,
          0.9693877551020408,
          0.9693877551020408,
          0.9693877551020408,
          0.9693877551020408,
          0.9693877551020408,
          0.9693877551020408,
          0.9693877551020408,
          0.9693877551020408,
          0.9693877551020408,
          0.9693877551020408,
          0.9693877551020408,
          0.9693877551020408,
          0.9693877551020408,
          0.9693877551020408,
          0.9693877551020408,
          0.9693877551020408,
          0.9693877551020408,
          0.9693877551020408,
          0.9693877551020408,
          0.9693877551020408,
          0.9693877551020408,
          0.9693877551020408,
          0.9693877551020408,
          0.9693877551020408,
          0.9693877551020408,
          0.9693877551020408,
          0.9693877551020408,
          0.9693877551020408,
          0.9693877551020408,
          0.9693877551020408,
          0.9693877551020408,
          0.9693877551020408,
          0.9693877551020408,
          0.9693877551020408,
          0.9693877551020408,
          0.9693877551020408,
          0.9693877551020408,
          0.9693877551020408,
          0.9693877551020408,
          0.9693877551020408,
          0.9693877551020408,
          0.9693877551020408,
          0.9693877551020408,
          0.9693877551020408,
          0.9693877551020408,
          0.9693877551020408,
          0.9693877551020408,
          0.9693877551020408,
          0.9693877551020408,
          0.9693877551020408,
          0.9693877551020408,
          0.9693877551020408,
          0.9795918367346939,
          0.9795918367346939,
          0.9795918367346939,
          0.9795918367346939,
          0.9795918367346939,
          0.9795918367346939,
          0.9795918367346939,
          0.9795918367346939,
          0.9795918367346939,
          0.9795918367346939,
          0.9795918367346939,
          0.9795918367346939,
          0.9795918367346939,
          0.9795918367346939,
          0.9795918367346939,
          0.9795918367346939,
          0.9795918367346939,
          0.9795918367346939,
          0.9795918367346939,
          0.9795918367346939,
          0.9897959183673469,
          0.9897959183673469,
          0.9897959183673469,
          0.9897959183673469,
          0.9897959183673469,
          0.9897959183673469,
          0.9897959183673469,
          0.9897959183673469,
          0.9897959183673469,
          0.9897959183673469,
          0.9897959183673469,
          0.9897959183673469,
          0.9897959183673469,
          0.9897959183673469,
          0.9897959183673469,
          0.9897959183673469,
          0.9897959183673469,
          0.9897959183673469,
          0.9897959183673469,
          0.9897959183673469,
          0.9897959183673469,
          0.9897959183673469,
          0.9897959183673469,
          0.9897959183673469,
          0.9897959183673469,
          0.9897959183673469,
          0.9897959183673469,
          0.9897959183673469,
          0.9897959183673469,
          0.9897959183673469,
          0.9897959183673469,
          0.9897959183673469,
          0.9897959183673469,
          0.9897959183673469,
          0.9897959183673469,
          0.9897959183673469,
          0.9897959183673469,
          0.9897959183673469,
          0.9897959183673469,
          0.9897959183673469,
          0.9897959183673469,
          0.9897959183673469,
          0.9897959183673469,
          0.9897959183673469,
          0.9897959183673469,
          0.9897959183673469,
          0.9897959183673469,
          0.9897959183673469,
          0.9897959183673469,
          0.9897959183673469,
          0.9897959183673469,
          0.9897959183673469,
          0.9897959183673469,
          0.9897959183673469,
          0.9897959183673469,
          0.9897959183673469,
          0.9897959183673469,
          0.9897959183673469,
          0.9897959183673469,
          0.9897959183673469,
          0.9897959183673469,
          0.9897959183673469,
          0.9897959183673469,
          0.9897959183673469,
          0.9897959183673469,
          0.9897959183673469,
          0.9897959183673469,
          0.9897959183673469,
          0.9897959183673469,
          0.9897959183673469,
          0.9897959183673469,
          0.9897959183673469,
          0.9897959183673469,
          0.9897959183673469,
          0.9897959183673469,
          0.9897959183673469,
          0.9897959183673469,
          0.9897959183673469,
          0.9897959183673469,
          0.9897959183673469,
          0.9897959183673469,
          0.9897959183673469,
          0.9897959183673469,
          0.9897959183673469,
          0.9897959183673469,
          0.9897959183673469,
          0.9897959183673469,
          0.9897959183673469,
          0.9897959183673469,
          0.9897959183673469,
          0.9897959183673469,
          0.9897959183673469,
          0.9897959183673469,
          0.9897959183673469,
          0.9897959183673469,
          0.9897959183673469,
          0.9897959183673469,
          0.9897959183673469,
          0.9897959183673469,
          0.9897959183673469,
          0.9897959183673469,
          0.9897959183673469,
          0.9897959183673469,
          0.9897959183673469,
          0.9897959183673469,
          0.9897959183673469,
          0.9897959183673469,
          0.9897959183673469,
          0.9897959183673469,
          0.9897959183673469,
          0.9897959183673469,
          0.9897959183673469,
          0.9897959183673469,
          0.9897959183673469,
          0.9897959183673469,
          0.9897959183673469,
          0.9897959183673469,
          0.9897959183673469,
          0.9897959183673469,
          0.9897959183673469,
          0.9897959183673469,
          0.9897959183673469,
          0.9897959183673469,
          0.9897959183673469,
          0.9897959183673469,
          0.9897959183673469,
          0.9897959183673469,
          0.9897959183673469,
          0.9897959183673469,
          0.9897959183673469,
          0.9897959183673469,
          0.9897959183673469,
          0.9897959183673469,
          0.9897959183673469,
          0.9897959183673469,
          0.9897959183673469,
          0.9897959183673469,
          0.9897959183673469,
          0.9897959183673469,
          0.9897959183673469,
          0.9897959183673469,
          0.9897959183673469,
          0.9897959183673469,
          0.9897959183673469,
          0.9897959183673469,
          0.9897959183673469,
          0.9897959183673469,
          0.9897959183673469,
          0.9897959183673469,
          0.9897959183673469,
          0.9897959183673469,
          0.9897959183673469,
          0.9897959183673469,
          0.9897959183673469,
          0.9897959183673469,
          0.9897959183673469,
          0.9897959183673469,
          0.9897959183673469,
          0.9897959183673469,
          0.9897959183673469,
          0.9897959183673469,
          0.9897959183673469,
          0.9897959183673469,
          0.9897959183673469,
          0.9897959183673469,
          0.9897959183673469,
          0.9897959183673469,
          0.9897959183673469,
          0.9897959183673469,
          0.9897959183673469,
          0.9897959183673469,
          0.9897959183673469,
          0.9897959183673469,
          0.9897959183673469,
          0.9897959183673469,
          0.9897959183673469,
          0.9897959183673469,
          0.9897959183673469,
          0.9897959183673469,
          0.9897959183673469,
          0.9897959183673469,
          0.9897959183673469,
          0.9897959183673469,
          0.9897959183673469,
          0.9897959183673469,
          0.9897959183673469,
          0.9897959183673469,
          0.9897959183673469,
          0.9897959183673469,
          0.9897959183673469,
          0.9897959183673469,
          0.9897959183673469,
          0.9897959183673469,
          0.9897959183673469,
          0.9897959183673469,
          0.9897959183673469,
          0.9897959183673469,
          0.9897959183673469,
          0.9897959183673469,
          0.9897959183673469,
          0.9897959183673469,
          0.9897959183673469,
          0.9897959183673469,
          0.9897959183673469,
          0.9897959183673469,
          0.9897959183673469,
          0.9897959183673469,
          0.9897959183673469,
          0.9897959183673469,
          0.9897959183673469,
          0.9897959183673469,
          0.9897959183673469,
          0.9897959183673469,
          0.9897959183673469,
          0.9897959183673469,
          0.9897959183673469,
          0.9897959183673469,
          0.9897959183673469,
          0.9897959183673469,
          0.9897959183673469,
          0.9897959183673469,
          0.9897959183673469,
          0.9897959183673469,
          0.9897959183673469,
          0.9897959183673469,
          0.9897959183673469,
          0.9897959183673469,
          0.9897959183673469,
          0.9897959183673469,
          0.9897959183673469,
          0.9897959183673469,
          0.9897959183673469,
          0.9897959183673469,
          0.9897959183673469,
          0.9897959183673469,
          0.9897959183673469,
          0.9897959183673469,
          0.9897959183673469,
          0.9897959183673469,
          0.9897959183673469,
          0.9897959183673469,
          0.9897959183673469,
          0.9897959183673469,
          0.9897959183673469,
          0.9897959183673469,
          0.9897959183673469,
          0.9897959183673469,
          0.9897959183673469,
          0.9897959183673469,
          0.9897959183673469,
          0.9897959183673469,
          0.9897959183673469,
          0.9897959183673469,
          0.9897959183673469,
          0.9897959183673469,
          0.9897959183673469,
          0.9897959183673469,
          0.9897959183673469,
          0.9897959183673469,
          0.9897959183673469,
          0.9897959183673469,
          0.9897959183673469,
          0.9897959183673469,
          0.9897959183673469,
          0.9897959183673469,
          0.9897959183673469,
          0.9897959183673469,
          0.9897959183673469,
          0.9897959183673469,
          0.9897959183673469,
          0.9897959183673469,
          0.9897959183673469,
          0.9897959183673469,
          1,
          1,
          1,
          1,
          1,
          1,
          1,
          1,
          1,
          1,
          1,
          1,
          1,
          1,
          1,
          1,
          1,
          1,
          1,
          1,
          1,
          1,
          1,
          1,
          1,
          1,
          1,
          1,
          1,
          1,
          1,
          1,
          1,
          1,
          1,
          1,
          1,
          1,
          1,
          1,
          1,
          1,
          1,
          1,
          1,
          1,
          1,
          1,
          1,
          1,
          1,
          1,
          1,
          1,
          1,
          1,
          1,
          1,
          1,
          1,
          1,
          1,
          1,
          1,
          1,
          1,
          1,
          1,
          1,
          1,
          1,
          1,
          1,
          1,
          1,
          1,
          1,
          1,
          1,
          1,
          1,
          1,
          1,
          1,
          1,
          1,
          1,
          1,
          1,
          1,
          1,
          1,
          1,
          1,
          1,
          1,
          1,
          1,
          1,
          1,
          1,
          1,
          1,
          1,
          1,
          1,
          1,
          1,
          1,
          1,
          1,
          1,
          1,
          1,
          1,
          1,
          1,
          1,
          1,
          1,
          1,
          1,
          1,
          1,
          1,
          1,
          1,
          1,
          1,
          1,
          1,
          1,
          1,
          1,
          1,
          1,
          1,
          1,
          1,
          1,
          1,
          1,
          1,
          1,
          1,
          1,
          1,
          1,
          1,
          1,
          1,
          1,
          1,
          1,
          1,
          1,
          1,
          1,
          1,
          1,
          1,
          1,
          1,
          1,
          1,
          1,
          1,
          1,
          1,
          1,
          1,
          1,
          1,
          1,
          1,
          1
         ],
         "yaxis": "y"
        }
       ],
       "layout": {
        "height": 500,
        "legend": {
         "tracegroupgap": 0
        },
        "shapes": [
         {
          "line": {
           "dash": "dash"
          },
          "type": "line",
          "x0": 0,
          "x1": 1,
          "y0": 0,
          "y1": 1
         }
        ],
        "template": {
         "data": {
          "bar": [
           {
            "error_x": {
             "color": "#2a3f5f"
            },
            "error_y": {
             "color": "#2a3f5f"
            },
            "marker": {
             "line": {
              "color": "#E5ECF6",
              "width": 0.5
             },
             "pattern": {
              "fillmode": "overlay",
              "size": 10,
              "solidity": 0.2
             }
            },
            "type": "bar"
           }
          ],
          "barpolar": [
           {
            "marker": {
             "line": {
              "color": "#E5ECF6",
              "width": 0.5
             },
             "pattern": {
              "fillmode": "overlay",
              "size": 10,
              "solidity": 0.2
             }
            },
            "type": "barpolar"
           }
          ],
          "carpet": [
           {
            "aaxis": {
             "endlinecolor": "#2a3f5f",
             "gridcolor": "white",
             "linecolor": "white",
             "minorgridcolor": "white",
             "startlinecolor": "#2a3f5f"
            },
            "baxis": {
             "endlinecolor": "#2a3f5f",
             "gridcolor": "white",
             "linecolor": "white",
             "minorgridcolor": "white",
             "startlinecolor": "#2a3f5f"
            },
            "type": "carpet"
           }
          ],
          "choropleth": [
           {
            "colorbar": {
             "outlinewidth": 0,
             "ticks": ""
            },
            "type": "choropleth"
           }
          ],
          "contour": [
           {
            "colorbar": {
             "outlinewidth": 0,
             "ticks": ""
            },
            "colorscale": [
             [
              0,
              "#0d0887"
             ],
             [
              0.1111111111111111,
              "#46039f"
             ],
             [
              0.2222222222222222,
              "#7201a8"
             ],
             [
              0.3333333333333333,
              "#9c179e"
             ],
             [
              0.4444444444444444,
              "#bd3786"
             ],
             [
              0.5555555555555556,
              "#d8576b"
             ],
             [
              0.6666666666666666,
              "#ed7953"
             ],
             [
              0.7777777777777778,
              "#fb9f3a"
             ],
             [
              0.8888888888888888,
              "#fdca26"
             ],
             [
              1,
              "#f0f921"
             ]
            ],
            "type": "contour"
           }
          ],
          "contourcarpet": [
           {
            "colorbar": {
             "outlinewidth": 0,
             "ticks": ""
            },
            "type": "contourcarpet"
           }
          ],
          "heatmap": [
           {
            "colorbar": {
             "outlinewidth": 0,
             "ticks": ""
            },
            "colorscale": [
             [
              0,
              "#0d0887"
             ],
             [
              0.1111111111111111,
              "#46039f"
             ],
             [
              0.2222222222222222,
              "#7201a8"
             ],
             [
              0.3333333333333333,
              "#9c179e"
             ],
             [
              0.4444444444444444,
              "#bd3786"
             ],
             [
              0.5555555555555556,
              "#d8576b"
             ],
             [
              0.6666666666666666,
              "#ed7953"
             ],
             [
              0.7777777777777778,
              "#fb9f3a"
             ],
             [
              0.8888888888888888,
              "#fdca26"
             ],
             [
              1,
              "#f0f921"
             ]
            ],
            "type": "heatmap"
           }
          ],
          "heatmapgl": [
           {
            "colorbar": {
             "outlinewidth": 0,
             "ticks": ""
            },
            "colorscale": [
             [
              0,
              "#0d0887"
             ],
             [
              0.1111111111111111,
              "#46039f"
             ],
             [
              0.2222222222222222,
              "#7201a8"
             ],
             [
              0.3333333333333333,
              "#9c179e"
             ],
             [
              0.4444444444444444,
              "#bd3786"
             ],
             [
              0.5555555555555556,
              "#d8576b"
             ],
             [
              0.6666666666666666,
              "#ed7953"
             ],
             [
              0.7777777777777778,
              "#fb9f3a"
             ],
             [
              0.8888888888888888,
              "#fdca26"
             ],
             [
              1,
              "#f0f921"
             ]
            ],
            "type": "heatmapgl"
           }
          ],
          "histogram": [
           {
            "marker": {
             "pattern": {
              "fillmode": "overlay",
              "size": 10,
              "solidity": 0.2
             }
            },
            "type": "histogram"
           }
          ],
          "histogram2d": [
           {
            "colorbar": {
             "outlinewidth": 0,
             "ticks": ""
            },
            "colorscale": [
             [
              0,
              "#0d0887"
             ],
             [
              0.1111111111111111,
              "#46039f"
             ],
             [
              0.2222222222222222,
              "#7201a8"
             ],
             [
              0.3333333333333333,
              "#9c179e"
             ],
             [
              0.4444444444444444,
              "#bd3786"
             ],
             [
              0.5555555555555556,
              "#d8576b"
             ],
             [
              0.6666666666666666,
              "#ed7953"
             ],
             [
              0.7777777777777778,
              "#fb9f3a"
             ],
             [
              0.8888888888888888,
              "#fdca26"
             ],
             [
              1,
              "#f0f921"
             ]
            ],
            "type": "histogram2d"
           }
          ],
          "histogram2dcontour": [
           {
            "colorbar": {
             "outlinewidth": 0,
             "ticks": ""
            },
            "colorscale": [
             [
              0,
              "#0d0887"
             ],
             [
              0.1111111111111111,
              "#46039f"
             ],
             [
              0.2222222222222222,
              "#7201a8"
             ],
             [
              0.3333333333333333,
              "#9c179e"
             ],
             [
              0.4444444444444444,
              "#bd3786"
             ],
             [
              0.5555555555555556,
              "#d8576b"
             ],
             [
              0.6666666666666666,
              "#ed7953"
             ],
             [
              0.7777777777777778,
              "#fb9f3a"
             ],
             [
              0.8888888888888888,
              "#fdca26"
             ],
             [
              1,
              "#f0f921"
             ]
            ],
            "type": "histogram2dcontour"
           }
          ],
          "mesh3d": [
           {
            "colorbar": {
             "outlinewidth": 0,
             "ticks": ""
            },
            "type": "mesh3d"
           }
          ],
          "parcoords": [
           {
            "line": {
             "colorbar": {
              "outlinewidth": 0,
              "ticks": ""
             }
            },
            "type": "parcoords"
           }
          ],
          "pie": [
           {
            "automargin": true,
            "type": "pie"
           }
          ],
          "scatter": [
           {
            "marker": {
             "colorbar": {
              "outlinewidth": 0,
              "ticks": ""
             }
            },
            "type": "scatter"
           }
          ],
          "scatter3d": [
           {
            "line": {
             "colorbar": {
              "outlinewidth": 0,
              "ticks": ""
             }
            },
            "marker": {
             "colorbar": {
              "outlinewidth": 0,
              "ticks": ""
             }
            },
            "type": "scatter3d"
           }
          ],
          "scattercarpet": [
           {
            "marker": {
             "colorbar": {
              "outlinewidth": 0,
              "ticks": ""
             }
            },
            "type": "scattercarpet"
           }
          ],
          "scattergeo": [
           {
            "marker": {
             "colorbar": {
              "outlinewidth": 0,
              "ticks": ""
             }
            },
            "type": "scattergeo"
           }
          ],
          "scattergl": [
           {
            "marker": {
             "colorbar": {
              "outlinewidth": 0,
              "ticks": ""
             }
            },
            "type": "scattergl"
           }
          ],
          "scattermapbox": [
           {
            "marker": {
             "colorbar": {
              "outlinewidth": 0,
              "ticks": ""
             }
            },
            "type": "scattermapbox"
           }
          ],
          "scatterpolar": [
           {
            "marker": {
             "colorbar": {
              "outlinewidth": 0,
              "ticks": ""
             }
            },
            "type": "scatterpolar"
           }
          ],
          "scatterpolargl": [
           {
            "marker": {
             "colorbar": {
              "outlinewidth": 0,
              "ticks": ""
             }
            },
            "type": "scatterpolargl"
           }
          ],
          "scatterternary": [
           {
            "marker": {
             "colorbar": {
              "outlinewidth": 0,
              "ticks": ""
             }
            },
            "type": "scatterternary"
           }
          ],
          "surface": [
           {
            "colorbar": {
             "outlinewidth": 0,
             "ticks": ""
            },
            "colorscale": [
             [
              0,
              "#0d0887"
             ],
             [
              0.1111111111111111,
              "#46039f"
             ],
             [
              0.2222222222222222,
              "#7201a8"
             ],
             [
              0.3333333333333333,
              "#9c179e"
             ],
             [
              0.4444444444444444,
              "#bd3786"
             ],
             [
              0.5555555555555556,
              "#d8576b"
             ],
             [
              0.6666666666666666,
              "#ed7953"
             ],
             [
              0.7777777777777778,
              "#fb9f3a"
             ],
             [
              0.8888888888888888,
              "#fdca26"
             ],
             [
              1,
              "#f0f921"
             ]
            ],
            "type": "surface"
           }
          ],
          "table": [
           {
            "cells": {
             "fill": {
              "color": "#EBF0F8"
             },
             "line": {
              "color": "white"
             }
            },
            "header": {
             "fill": {
              "color": "#C8D4E3"
             },
             "line": {
              "color": "white"
             }
            },
            "type": "table"
           }
          ]
         },
         "layout": {
          "annotationdefaults": {
           "arrowcolor": "#2a3f5f",
           "arrowhead": 0,
           "arrowwidth": 1
          },
          "autotypenumbers": "strict",
          "coloraxis": {
           "colorbar": {
            "outlinewidth": 0,
            "ticks": ""
           }
          },
          "colorscale": {
           "diverging": [
            [
             0,
             "#8e0152"
            ],
            [
             0.1,
             "#c51b7d"
            ],
            [
             0.2,
             "#de77ae"
            ],
            [
             0.3,
             "#f1b6da"
            ],
            [
             0.4,
             "#fde0ef"
            ],
            [
             0.5,
             "#f7f7f7"
            ],
            [
             0.6,
             "#e6f5d0"
            ],
            [
             0.7,
             "#b8e186"
            ],
            [
             0.8,
             "#7fbc41"
            ],
            [
             0.9,
             "#4d9221"
            ],
            [
             1,
             "#276419"
            ]
           ],
           "sequential": [
            [
             0,
             "#0d0887"
            ],
            [
             0.1111111111111111,
             "#46039f"
            ],
            [
             0.2222222222222222,
             "#7201a8"
            ],
            [
             0.3333333333333333,
             "#9c179e"
            ],
            [
             0.4444444444444444,
             "#bd3786"
            ],
            [
             0.5555555555555556,
             "#d8576b"
            ],
            [
             0.6666666666666666,
             "#ed7953"
            ],
            [
             0.7777777777777778,
             "#fb9f3a"
            ],
            [
             0.8888888888888888,
             "#fdca26"
            ],
            [
             1,
             "#f0f921"
            ]
           ],
           "sequentialminus": [
            [
             0,
             "#0d0887"
            ],
            [
             0.1111111111111111,
             "#46039f"
            ],
            [
             0.2222222222222222,
             "#7201a8"
            ],
            [
             0.3333333333333333,
             "#9c179e"
            ],
            [
             0.4444444444444444,
             "#bd3786"
            ],
            [
             0.5555555555555556,
             "#d8576b"
            ],
            [
             0.6666666666666666,
             "#ed7953"
            ],
            [
             0.7777777777777778,
             "#fb9f3a"
            ],
            [
             0.8888888888888888,
             "#fdca26"
            ],
            [
             1,
             "#f0f921"
            ]
           ]
          },
          "colorway": [
           "#636efa",
           "#EF553B",
           "#00cc96",
           "#ab63fa",
           "#FFA15A",
           "#19d3f3",
           "#FF6692",
           "#B6E880",
           "#FF97FF",
           "#FECB52"
          ],
          "font": {
           "color": "#2a3f5f"
          },
          "geo": {
           "bgcolor": "white",
           "lakecolor": "white",
           "landcolor": "#E5ECF6",
           "showlakes": true,
           "showland": true,
           "subunitcolor": "white"
          },
          "hoverlabel": {
           "align": "left"
          },
          "hovermode": "closest",
          "mapbox": {
           "style": "light"
          },
          "paper_bgcolor": "white",
          "plot_bgcolor": "#E5ECF6",
          "polar": {
           "angularaxis": {
            "gridcolor": "white",
            "linecolor": "white",
            "ticks": ""
           },
           "bgcolor": "#E5ECF6",
           "radialaxis": {
            "gridcolor": "white",
            "linecolor": "white",
            "ticks": ""
           }
          },
          "scene": {
           "xaxis": {
            "backgroundcolor": "#E5ECF6",
            "gridcolor": "white",
            "gridwidth": 2,
            "linecolor": "white",
            "showbackground": true,
            "ticks": "",
            "zerolinecolor": "white"
           },
           "yaxis": {
            "backgroundcolor": "#E5ECF6",
            "gridcolor": "white",
            "gridwidth": 2,
            "linecolor": "white",
            "showbackground": true,
            "ticks": "",
            "zerolinecolor": "white"
           },
           "zaxis": {
            "backgroundcolor": "#E5ECF6",
            "gridcolor": "white",
            "gridwidth": 2,
            "linecolor": "white",
            "showbackground": true,
            "ticks": "",
            "zerolinecolor": "white"
           }
          },
          "shapedefaults": {
           "line": {
            "color": "#2a3f5f"
           }
          },
          "ternary": {
           "aaxis": {
            "gridcolor": "white",
            "linecolor": "white",
            "ticks": ""
           },
           "baxis": {
            "gridcolor": "white",
            "linecolor": "white",
            "ticks": ""
           },
           "bgcolor": "#E5ECF6",
           "caxis": {
            "gridcolor": "white",
            "linecolor": "white",
            "ticks": ""
           }
          },
          "title": {
           "x": 0.05
          },
          "xaxis": {
           "automargin": true,
           "gridcolor": "white",
           "linecolor": "white",
           "ticks": "",
           "title": {
            "standoff": 15
           },
           "zerolinecolor": "white",
           "zerolinewidth": 2
          },
          "yaxis": {
           "automargin": true,
           "gridcolor": "white",
           "linecolor": "white",
           "ticks": "",
           "title": {
            "standoff": 15
           },
           "zerolinecolor": "white",
           "zerolinewidth": 2
          }
         }
        },
        "title": {
         "text": "ROC Curve (AUC=0.9739)"
        },
        "width": 700,
        "xaxis": {
         "anchor": "y",
         "constrain": "domain",
         "domain": [
          0,
          1
         ],
         "title": {
          "text": "False Positive Rate"
         }
        },
        "yaxis": {
         "anchor": "x",
         "domain": [
          0,
          1
         ],
         "scaleanchor": "x",
         "scaleratio": 1,
         "title": {
          "text": "True Positive Rate"
         }
        }
       }
      }
     },
     "metadata": {},
     "output_type": "display_data"
    }
   ],
   "source": [
    "plotly_roc(y_test, y_test_prob)"
   ]
  },
  {
   "cell_type": "code",
   "execution_count": 144,
   "id": "88a535d5",
   "metadata": {},
   "outputs": [
    {
     "name": "stderr",
     "output_type": "stream",
     "text": [
      "C:\\Users\\jrior\\anaconda3\\lib\\site-packages\\sklearn\\metrics\\_classification.py:1318: UndefinedMetricWarning:\n",
      "\n",
      "Precision is ill-defined and being set to 0.0 due to no predicted samples. Use `zero_division` parameter to control this behavior.\n",
      "\n",
      "C:\\Users\\jrior\\anaconda3\\lib\\site-packages\\sklearn\\metrics\\_classification.py:1318: UndefinedMetricWarning:\n",
      "\n",
      "Precision is ill-defined and being set to 0.0 due to no predicted samples. Use `zero_division` parameter to control this behavior.\n",
      "\n",
      "C:\\Users\\jrior\\anaconda3\\lib\\site-packages\\sklearn\\metrics\\_classification.py:1318: UndefinedMetricWarning:\n",
      "\n",
      "Precision is ill-defined and being set to 0.0 due to no predicted samples. Use `zero_division` parameter to control this behavior.\n",
      "\n",
      "C:\\Users\\jrior\\anaconda3\\lib\\site-packages\\sklearn\\metrics\\_classification.py:1318: UndefinedMetricWarning:\n",
      "\n",
      "Precision is ill-defined and being set to 0.0 due to no predicted samples. Use `zero_division` parameter to control this behavior.\n",
      "\n",
      "C:\\Users\\jrior\\anaconda3\\lib\\site-packages\\sklearn\\metrics\\_classification.py:1318: UndefinedMetricWarning:\n",
      "\n",
      "Precision is ill-defined and being set to 0.0 due to no predicted samples. Use `zero_division` parameter to control this behavior.\n",
      "\n",
      "C:\\Users\\jrior\\anaconda3\\lib\\site-packages\\sklearn\\metrics\\_classification.py:1318: UndefinedMetricWarning:\n",
      "\n",
      "Precision is ill-defined and being set to 0.0 due to no predicted samples. Use `zero_division` parameter to control this behavior.\n",
      "\n",
      "C:\\Users\\jrior\\anaconda3\\lib\\site-packages\\sklearn\\metrics\\_classification.py:1318: UndefinedMetricWarning:\n",
      "\n",
      "Precision is ill-defined and being set to 0.0 due to no predicted samples. Use `zero_division` parameter to control this behavior.\n",
      "\n",
      "C:\\Users\\jrior\\anaconda3\\lib\\site-packages\\sklearn\\metrics\\_classification.py:1318: UndefinedMetricWarning:\n",
      "\n",
      "Precision is ill-defined and being set to 0.0 due to no predicted samples. Use `zero_division` parameter to control this behavior.\n",
      "\n",
      "C:\\Users\\jrior\\anaconda3\\lib\\site-packages\\sklearn\\metrics\\_classification.py:1318: UndefinedMetricWarning:\n",
      "\n",
      "Precision is ill-defined and being set to 0.0 due to no predicted samples. Use `zero_division` parameter to control this behavior.\n",
      "\n",
      "C:\\Users\\jrior\\anaconda3\\lib\\site-packages\\sklearn\\metrics\\_classification.py:1318: UndefinedMetricWarning:\n",
      "\n",
      "Precision is ill-defined and being set to 0.0 due to no predicted samples. Use `zero_division` parameter to control this behavior.\n",
      "\n",
      "C:\\Users\\jrior\\anaconda3\\lib\\site-packages\\sklearn\\metrics\\_classification.py:1318: UndefinedMetricWarning:\n",
      "\n",
      "Precision is ill-defined and being set to 0.0 due to no predicted samples. Use `zero_division` parameter to control this behavior.\n",
      "\n",
      "C:\\Users\\jrior\\anaconda3\\lib\\site-packages\\sklearn\\metrics\\_classification.py:1318: UndefinedMetricWarning:\n",
      "\n",
      "Precision is ill-defined and being set to 0.0 due to no predicted samples. Use `zero_division` parameter to control this behavior.\n",
      "\n",
      "C:\\Users\\jrior\\anaconda3\\lib\\site-packages\\sklearn\\metrics\\_classification.py:1318: UndefinedMetricWarning:\n",
      "\n",
      "Precision is ill-defined and being set to 0.0 due to no predicted samples. Use `zero_division` parameter to control this behavior.\n",
      "\n",
      "C:\\Users\\jrior\\anaconda3\\lib\\site-packages\\sklearn\\metrics\\_classification.py:1318: UndefinedMetricWarning:\n",
      "\n",
      "Precision is ill-defined and being set to 0.0 due to no predicted samples. Use `zero_division` parameter to control this behavior.\n",
      "\n",
      "C:\\Users\\jrior\\anaconda3\\lib\\site-packages\\sklearn\\metrics\\_classification.py:1318: UndefinedMetricWarning:\n",
      "\n",
      "Precision is ill-defined and being set to 0.0 due to no predicted samples. Use `zero_division` parameter to control this behavior.\n",
      "\n",
      "C:\\Users\\jrior\\anaconda3\\lib\\site-packages\\sklearn\\metrics\\_classification.py:1318: UndefinedMetricWarning:\n",
      "\n",
      "Precision is ill-defined and being set to 0.0 due to no predicted samples. Use `zero_division` parameter to control this behavior.\n",
      "\n",
      "C:\\Users\\jrior\\anaconda3\\lib\\site-packages\\sklearn\\metrics\\_classification.py:1318: UndefinedMetricWarning:\n",
      "\n",
      "Precision is ill-defined and being set to 0.0 due to no predicted samples. Use `zero_division` parameter to control this behavior.\n",
      "\n",
      "C:\\Users\\jrior\\anaconda3\\lib\\site-packages\\sklearn\\metrics\\_classification.py:1318: UndefinedMetricWarning:\n",
      "\n",
      "Precision is ill-defined and being set to 0.0 due to no predicted samples. Use `zero_division` parameter to control this behavior.\n",
      "\n",
      "C:\\Users\\jrior\\anaconda3\\lib\\site-packages\\sklearn\\metrics\\_classification.py:1318: UndefinedMetricWarning:\n",
      "\n",
      "Precision is ill-defined and being set to 0.0 due to no predicted samples. Use `zero_division` parameter to control this behavior.\n",
      "\n",
      "C:\\Users\\jrior\\anaconda3\\lib\\site-packages\\sklearn\\metrics\\_classification.py:1318: UndefinedMetricWarning:\n",
      "\n",
      "Precision is ill-defined and being set to 0.0 due to no predicted samples. Use `zero_division` parameter to control this behavior.\n",
      "\n",
      "C:\\Users\\jrior\\anaconda3\\lib\\site-packages\\sklearn\\metrics\\_classification.py:1318: UndefinedMetricWarning:\n",
      "\n",
      "Precision is ill-defined and being set to 0.0 due to no predicted samples. Use `zero_division` parameter to control this behavior.\n",
      "\n",
      "C:\\Users\\jrior\\anaconda3\\lib\\site-packages\\sklearn\\metrics\\_classification.py:1318: UndefinedMetricWarning:\n",
      "\n",
      "Precision is ill-defined and being set to 0.0 due to no predicted samples. Use `zero_division` parameter to control this behavior.\n",
      "\n"
     ]
    }
   ],
   "source": [
    "train_savings_df = create_cost_savings(y_train, y_train_prob, type = 'savings')\n",
    "test_savings_df = create_cost_savings(y_test, y_test_prob, type = 'savings')"
   ]
  },
  {
   "cell_type": "code",
   "execution_count": 145,
   "id": "f61079a3",
   "metadata": {},
   "outputs": [
    {
     "data": {
      "text/html": [
       "<div>\n",
       "<style scoped>\n",
       "    .dataframe tbody tr th:only-of-type {\n",
       "        vertical-align: middle;\n",
       "    }\n",
       "\n",
       "    .dataframe tbody tr th {\n",
       "        vertical-align: top;\n",
       "    }\n",
       "\n",
       "    .dataframe thead th {\n",
       "        text-align: right;\n",
       "    }\n",
       "</style>\n",
       "<table border=\"1\" class=\"dataframe\">\n",
       "  <thead>\n",
       "    <tr style=\"text-align: right;\">\n",
       "      <th></th>\n",
       "      <th>threshold</th>\n",
       "      <th>total_savings</th>\n",
       "      <th>f1_score</th>\n",
       "      <th>precision</th>\n",
       "      <th>recall</th>\n",
       "    </tr>\n",
       "  </thead>\n",
       "  <tbody>\n",
       "    <tr>\n",
       "      <th>21</th>\n",
       "      <td>0.4</td>\n",
       "      <td>173000.0</td>\n",
       "      <td>0.232945</td>\n",
       "      <td>0.165094</td>\n",
       "      <td>0.395480</td>\n",
       "    </tr>\n",
       "    <tr>\n",
       "      <th>23</th>\n",
       "      <td>0.6</td>\n",
       "      <td>171000.0</td>\n",
       "      <td>0.251748</td>\n",
       "      <td>0.214286</td>\n",
       "      <td>0.305085</td>\n",
       "    </tr>\n",
       "    <tr>\n",
       "      <th>22</th>\n",
       "      <td>0.5</td>\n",
       "      <td>169000.0</td>\n",
       "      <td>0.239216</td>\n",
       "      <td>0.183183</td>\n",
       "      <td>0.344633</td>\n",
       "    </tr>\n",
       "    <tr>\n",
       "      <th>24</th>\n",
       "      <td>0.7</td>\n",
       "      <td>142000.0</td>\n",
       "      <td>0.236620</td>\n",
       "      <td>0.235955</td>\n",
       "      <td>0.237288</td>\n",
       "    </tr>\n",
       "    <tr>\n",
       "      <th>20</th>\n",
       "      <td>0.3</td>\n",
       "      <td>141500.0</td>\n",
       "      <td>0.207447</td>\n",
       "      <td>0.135652</td>\n",
       "      <td>0.440678</td>\n",
       "    </tr>\n",
       "  </tbody>\n",
       "</table>\n",
       "</div>"
      ],
      "text/plain": [
       "    threshold  total_savings  f1_score  precision    recall\n",
       "21        0.4       173000.0  0.232945   0.165094  0.395480\n",
       "23        0.6       171000.0  0.251748   0.214286  0.305085\n",
       "22        0.5       169000.0  0.239216   0.183183  0.344633\n",
       "24        0.7       142000.0  0.236620   0.235955  0.237288\n",
       "20        0.3       141500.0  0.207447   0.135652  0.440678"
      ]
     },
     "execution_count": 145,
     "metadata": {},
     "output_type": "execute_result"
    }
   ],
   "source": [
    "train_savings_df.nlargest(5, 'total_savings')"
   ]
  },
  {
   "cell_type": "code",
   "execution_count": 132,
   "id": "6509a004",
   "metadata": {},
   "outputs": [
    {
     "data": {
      "application/vnd.plotly.v1+json": {
       "config": {
        "plotlyServerURL": "https://plotly.com"
       },
       "data": [
        {
         "hovertemplate": "threshold=%{x}<br>total_savings=%{y}<extra></extra>",
         "legendgroup": "",
         "line": {
          "color": "#636efa",
          "dash": "solid"
         },
         "marker": {
          "symbol": "circle"
         },
         "mode": "lines",
         "name": "",
         "orientation": "v",
         "showlegend": false,
         "type": "scatter",
         "x": [
          0.001,
          0.002,
          0.003,
          0.004,
          0.005,
          0.006,
          0.007,
          0.008,
          0.009000000000000001,
          0.01,
          0.02,
          0.03,
          0.04,
          0.05,
          0.060000000000000005,
          0.06999999999999999,
          0.08,
          0.09,
          0.1,
          0.2,
          0.30000000000000004,
          0.4,
          0.5,
          0.6,
          0.7000000000000001,
          0.8,
          0.9,
          0.91,
          0.92,
          0.93,
          0.9400000000000001,
          0.9500000000000001,
          0.9600000000000001,
          0.9700000000000001,
          0.9800000000000001,
          0.9900000000000001,
          0.99,
          0.991,
          0.992,
          0.993,
          0.994,
          0.995,
          0.996,
          0.997,
          0.998,
          0.999,
          0.9991,
          0.9992,
          0.9993,
          0.9994,
          0.9994999999999999,
          0.9995999999999999,
          0.9996999999999999,
          0.9997999999999999,
          0.9998999999999999,
          0.9999999999999999
         ],
         "xaxis": "x",
         "y": [
          -1133500,
          -667000,
          -436000,
          -319000,
          -215000,
          -140500,
          -92000,
          -30500,
          -3000,
          44500,
          255500,
          358000,
          422500,
          462500,
          486000,
          496000,
          495500,
          482500,
          470000,
          459000,
          430000,
          398500,
          358500,
          331500,
          293000,
          223000,
          182500,
          163500,
          148500,
          139000,
          129000,
          104000,
          74000,
          50000,
          21500,
          13000,
          13000,
          13500,
          13500,
          14000,
          14000,
          9000,
          4000,
          -1000,
          -500,
          -500,
          0,
          0,
          0,
          0,
          0,
          0,
          0,
          0,
          0,
          0
         ],
         "yaxis": "y"
        }
       ],
       "layout": {
        "height": 500,
        "legend": {
         "tracegroupgap": 0
        },
        "template": {
         "data": {
          "bar": [
           {
            "error_x": {
             "color": "#2a3f5f"
            },
            "error_y": {
             "color": "#2a3f5f"
            },
            "marker": {
             "line": {
              "color": "#E5ECF6",
              "width": 0.5
             },
             "pattern": {
              "fillmode": "overlay",
              "size": 10,
              "solidity": 0.2
             }
            },
            "type": "bar"
           }
          ],
          "barpolar": [
           {
            "marker": {
             "line": {
              "color": "#E5ECF6",
              "width": 0.5
             },
             "pattern": {
              "fillmode": "overlay",
              "size": 10,
              "solidity": 0.2
             }
            },
            "type": "barpolar"
           }
          ],
          "carpet": [
           {
            "aaxis": {
             "endlinecolor": "#2a3f5f",
             "gridcolor": "white",
             "linecolor": "white",
             "minorgridcolor": "white",
             "startlinecolor": "#2a3f5f"
            },
            "baxis": {
             "endlinecolor": "#2a3f5f",
             "gridcolor": "white",
             "linecolor": "white",
             "minorgridcolor": "white",
             "startlinecolor": "#2a3f5f"
            },
            "type": "carpet"
           }
          ],
          "choropleth": [
           {
            "colorbar": {
             "outlinewidth": 0,
             "ticks": ""
            },
            "type": "choropleth"
           }
          ],
          "contour": [
           {
            "colorbar": {
             "outlinewidth": 0,
             "ticks": ""
            },
            "colorscale": [
             [
              0,
              "#0d0887"
             ],
             [
              0.1111111111111111,
              "#46039f"
             ],
             [
              0.2222222222222222,
              "#7201a8"
             ],
             [
              0.3333333333333333,
              "#9c179e"
             ],
             [
              0.4444444444444444,
              "#bd3786"
             ],
             [
              0.5555555555555556,
              "#d8576b"
             ],
             [
              0.6666666666666666,
              "#ed7953"
             ],
             [
              0.7777777777777778,
              "#fb9f3a"
             ],
             [
              0.8888888888888888,
              "#fdca26"
             ],
             [
              1,
              "#f0f921"
             ]
            ],
            "type": "contour"
           }
          ],
          "contourcarpet": [
           {
            "colorbar": {
             "outlinewidth": 0,
             "ticks": ""
            },
            "type": "contourcarpet"
           }
          ],
          "heatmap": [
           {
            "colorbar": {
             "outlinewidth": 0,
             "ticks": ""
            },
            "colorscale": [
             [
              0,
              "#0d0887"
             ],
             [
              0.1111111111111111,
              "#46039f"
             ],
             [
              0.2222222222222222,
              "#7201a8"
             ],
             [
              0.3333333333333333,
              "#9c179e"
             ],
             [
              0.4444444444444444,
              "#bd3786"
             ],
             [
              0.5555555555555556,
              "#d8576b"
             ],
             [
              0.6666666666666666,
              "#ed7953"
             ],
             [
              0.7777777777777778,
              "#fb9f3a"
             ],
             [
              0.8888888888888888,
              "#fdca26"
             ],
             [
              1,
              "#f0f921"
             ]
            ],
            "type": "heatmap"
           }
          ],
          "heatmapgl": [
           {
            "colorbar": {
             "outlinewidth": 0,
             "ticks": ""
            },
            "colorscale": [
             [
              0,
              "#0d0887"
             ],
             [
              0.1111111111111111,
              "#46039f"
             ],
             [
              0.2222222222222222,
              "#7201a8"
             ],
             [
              0.3333333333333333,
              "#9c179e"
             ],
             [
              0.4444444444444444,
              "#bd3786"
             ],
             [
              0.5555555555555556,
              "#d8576b"
             ],
             [
              0.6666666666666666,
              "#ed7953"
             ],
             [
              0.7777777777777778,
              "#fb9f3a"
             ],
             [
              0.8888888888888888,
              "#fdca26"
             ],
             [
              1,
              "#f0f921"
             ]
            ],
            "type": "heatmapgl"
           }
          ],
          "histogram": [
           {
            "marker": {
             "pattern": {
              "fillmode": "overlay",
              "size": 10,
              "solidity": 0.2
             }
            },
            "type": "histogram"
           }
          ],
          "histogram2d": [
           {
            "colorbar": {
             "outlinewidth": 0,
             "ticks": ""
            },
            "colorscale": [
             [
              0,
              "#0d0887"
             ],
             [
              0.1111111111111111,
              "#46039f"
             ],
             [
              0.2222222222222222,
              "#7201a8"
             ],
             [
              0.3333333333333333,
              "#9c179e"
             ],
             [
              0.4444444444444444,
              "#bd3786"
             ],
             [
              0.5555555555555556,
              "#d8576b"
             ],
             [
              0.6666666666666666,
              "#ed7953"
             ],
             [
              0.7777777777777778,
              "#fb9f3a"
             ],
             [
              0.8888888888888888,
              "#fdca26"
             ],
             [
              1,
              "#f0f921"
             ]
            ],
            "type": "histogram2d"
           }
          ],
          "histogram2dcontour": [
           {
            "colorbar": {
             "outlinewidth": 0,
             "ticks": ""
            },
            "colorscale": [
             [
              0,
              "#0d0887"
             ],
             [
              0.1111111111111111,
              "#46039f"
             ],
             [
              0.2222222222222222,
              "#7201a8"
             ],
             [
              0.3333333333333333,
              "#9c179e"
             ],
             [
              0.4444444444444444,
              "#bd3786"
             ],
             [
              0.5555555555555556,
              "#d8576b"
             ],
             [
              0.6666666666666666,
              "#ed7953"
             ],
             [
              0.7777777777777778,
              "#fb9f3a"
             ],
             [
              0.8888888888888888,
              "#fdca26"
             ],
             [
              1,
              "#f0f921"
             ]
            ],
            "type": "histogram2dcontour"
           }
          ],
          "mesh3d": [
           {
            "colorbar": {
             "outlinewidth": 0,
             "ticks": ""
            },
            "type": "mesh3d"
           }
          ],
          "parcoords": [
           {
            "line": {
             "colorbar": {
              "outlinewidth": 0,
              "ticks": ""
             }
            },
            "type": "parcoords"
           }
          ],
          "pie": [
           {
            "automargin": true,
            "type": "pie"
           }
          ],
          "scatter": [
           {
            "marker": {
             "colorbar": {
              "outlinewidth": 0,
              "ticks": ""
             }
            },
            "type": "scatter"
           }
          ],
          "scatter3d": [
           {
            "line": {
             "colorbar": {
              "outlinewidth": 0,
              "ticks": ""
             }
            },
            "marker": {
             "colorbar": {
              "outlinewidth": 0,
              "ticks": ""
             }
            },
            "type": "scatter3d"
           }
          ],
          "scattercarpet": [
           {
            "marker": {
             "colorbar": {
              "outlinewidth": 0,
              "ticks": ""
             }
            },
            "type": "scattercarpet"
           }
          ],
          "scattergeo": [
           {
            "marker": {
             "colorbar": {
              "outlinewidth": 0,
              "ticks": ""
             }
            },
            "type": "scattergeo"
           }
          ],
          "scattergl": [
           {
            "marker": {
             "colorbar": {
              "outlinewidth": 0,
              "ticks": ""
             }
            },
            "type": "scattergl"
           }
          ],
          "scattermapbox": [
           {
            "marker": {
             "colorbar": {
              "outlinewidth": 0,
              "ticks": ""
             }
            },
            "type": "scattermapbox"
           }
          ],
          "scatterpolar": [
           {
            "marker": {
             "colorbar": {
              "outlinewidth": 0,
              "ticks": ""
             }
            },
            "type": "scatterpolar"
           }
          ],
          "scatterpolargl": [
           {
            "marker": {
             "colorbar": {
              "outlinewidth": 0,
              "ticks": ""
             }
            },
            "type": "scatterpolargl"
           }
          ],
          "scatterternary": [
           {
            "marker": {
             "colorbar": {
              "outlinewidth": 0,
              "ticks": ""
             }
            },
            "type": "scatterternary"
           }
          ],
          "surface": [
           {
            "colorbar": {
             "outlinewidth": 0,
             "ticks": ""
            },
            "colorscale": [
             [
              0,
              "#0d0887"
             ],
             [
              0.1111111111111111,
              "#46039f"
             ],
             [
              0.2222222222222222,
              "#7201a8"
             ],
             [
              0.3333333333333333,
              "#9c179e"
             ],
             [
              0.4444444444444444,
              "#bd3786"
             ],
             [
              0.5555555555555556,
              "#d8576b"
             ],
             [
              0.6666666666666666,
              "#ed7953"
             ],
             [
              0.7777777777777778,
              "#fb9f3a"
             ],
             [
              0.8888888888888888,
              "#fdca26"
             ],
             [
              1,
              "#f0f921"
             ]
            ],
            "type": "surface"
           }
          ],
          "table": [
           {
            "cells": {
             "fill": {
              "color": "#EBF0F8"
             },
             "line": {
              "color": "white"
             }
            },
            "header": {
             "fill": {
              "color": "#C8D4E3"
             },
             "line": {
              "color": "white"
             }
            },
            "type": "table"
           }
          ]
         },
         "layout": {
          "annotationdefaults": {
           "arrowcolor": "#2a3f5f",
           "arrowhead": 0,
           "arrowwidth": 1
          },
          "autotypenumbers": "strict",
          "coloraxis": {
           "colorbar": {
            "outlinewidth": 0,
            "ticks": ""
           }
          },
          "colorscale": {
           "diverging": [
            [
             0,
             "#8e0152"
            ],
            [
             0.1,
             "#c51b7d"
            ],
            [
             0.2,
             "#de77ae"
            ],
            [
             0.3,
             "#f1b6da"
            ],
            [
             0.4,
             "#fde0ef"
            ],
            [
             0.5,
             "#f7f7f7"
            ],
            [
             0.6,
             "#e6f5d0"
            ],
            [
             0.7,
             "#b8e186"
            ],
            [
             0.8,
             "#7fbc41"
            ],
            [
             0.9,
             "#4d9221"
            ],
            [
             1,
             "#276419"
            ]
           ],
           "sequential": [
            [
             0,
             "#0d0887"
            ],
            [
             0.1111111111111111,
             "#46039f"
            ],
            [
             0.2222222222222222,
             "#7201a8"
            ],
            [
             0.3333333333333333,
             "#9c179e"
            ],
            [
             0.4444444444444444,
             "#bd3786"
            ],
            [
             0.5555555555555556,
             "#d8576b"
            ],
            [
             0.6666666666666666,
             "#ed7953"
            ],
            [
             0.7777777777777778,
             "#fb9f3a"
            ],
            [
             0.8888888888888888,
             "#fdca26"
            ],
            [
             1,
             "#f0f921"
            ]
           ],
           "sequentialminus": [
            [
             0,
             "#0d0887"
            ],
            [
             0.1111111111111111,
             "#46039f"
            ],
            [
             0.2222222222222222,
             "#7201a8"
            ],
            [
             0.3333333333333333,
             "#9c179e"
            ],
            [
             0.4444444444444444,
             "#bd3786"
            ],
            [
             0.5555555555555556,
             "#d8576b"
            ],
            [
             0.6666666666666666,
             "#ed7953"
            ],
            [
             0.7777777777777778,
             "#fb9f3a"
            ],
            [
             0.8888888888888888,
             "#fdca26"
            ],
            [
             1,
             "#f0f921"
            ]
           ]
          },
          "colorway": [
           "#636efa",
           "#EF553B",
           "#00cc96",
           "#ab63fa",
           "#FFA15A",
           "#19d3f3",
           "#FF6692",
           "#B6E880",
           "#FF97FF",
           "#FECB52"
          ],
          "font": {
           "color": "#2a3f5f"
          },
          "geo": {
           "bgcolor": "white",
           "lakecolor": "white",
           "landcolor": "#E5ECF6",
           "showlakes": true,
           "showland": true,
           "subunitcolor": "white"
          },
          "hoverlabel": {
           "align": "left"
          },
          "hovermode": "closest",
          "mapbox": {
           "style": "light"
          },
          "paper_bgcolor": "white",
          "plot_bgcolor": "#E5ECF6",
          "polar": {
           "angularaxis": {
            "gridcolor": "white",
            "linecolor": "white",
            "ticks": ""
           },
           "bgcolor": "#E5ECF6",
           "radialaxis": {
            "gridcolor": "white",
            "linecolor": "white",
            "ticks": ""
           }
          },
          "scene": {
           "xaxis": {
            "backgroundcolor": "#E5ECF6",
            "gridcolor": "white",
            "gridwidth": 2,
            "linecolor": "white",
            "showbackground": true,
            "ticks": "",
            "zerolinecolor": "white"
           },
           "yaxis": {
            "backgroundcolor": "#E5ECF6",
            "gridcolor": "white",
            "gridwidth": 2,
            "linecolor": "white",
            "showbackground": true,
            "ticks": "",
            "zerolinecolor": "white"
           },
           "zaxis": {
            "backgroundcolor": "#E5ECF6",
            "gridcolor": "white",
            "gridwidth": 2,
            "linecolor": "white",
            "showbackground": true,
            "ticks": "",
            "zerolinecolor": "white"
           }
          },
          "shapedefaults": {
           "line": {
            "color": "#2a3f5f"
           }
          },
          "ternary": {
           "aaxis": {
            "gridcolor": "white",
            "linecolor": "white",
            "ticks": ""
           },
           "baxis": {
            "gridcolor": "white",
            "linecolor": "white",
            "ticks": ""
           },
           "bgcolor": "#E5ECF6",
           "caxis": {
            "gridcolor": "white",
            "linecolor": "white",
            "ticks": ""
           }
          },
          "title": {
           "x": 0.05
          },
          "xaxis": {
           "automargin": true,
           "gridcolor": "white",
           "linecolor": "white",
           "ticks": "",
           "title": {
            "standoff": 15
           },
           "zerolinecolor": "white",
           "zerolinewidth": 2
          },
          "yaxis": {
           "automargin": true,
           "gridcolor": "white",
           "linecolor": "white",
           "ticks": "",
           "title": {
            "standoff": 15
           },
           "zerolinecolor": "white",
           "zerolinewidth": 2
          }
         }
        },
        "title": {
         "text": "Maximum Total Savings are $496,000.00<br>with a Threshold of 0.06999999999999999"
        },
        "width": 700,
        "xaxis": {
         "anchor": "y",
         "domain": [
          0,
          1
         ],
         "title": {
          "text": "threshold"
         }
        },
        "yaxis": {
         "anchor": "x",
         "domain": [
          0,
          1
         ],
         "title": {
          "text": "total_savings"
         }
        }
       }
      }
     },
     "metadata": {},
     "output_type": "display_data"
    }
   ],
   "source": [
    "plot_savings_by_threshold(train_savings_df)"
   ]
  },
  {
   "cell_type": "code",
   "execution_count": 133,
   "id": "edbf43a0",
   "metadata": {},
   "outputs": [
    {
     "data": {
      "application/vnd.plotly.v1+json": {
       "config": {
        "plotlyServerURL": "https://plotly.com"
       },
       "data": [
        {
         "hovertemplate": "threshold=%{x}<br>total_savings=%{y}<extra></extra>",
         "legendgroup": "",
         "line": {
          "color": "#636efa",
          "dash": "solid"
         },
         "marker": {
          "symbol": "circle"
         },
         "mode": "lines",
         "name": "",
         "orientation": "v",
         "showlegend": false,
         "type": "scatter",
         "x": [
          0.001,
          0.002,
          0.003,
          0.004,
          0.005,
          0.006,
          0.007,
          0.008,
          0.009000000000000001,
          0.01,
          0.02,
          0.03,
          0.04,
          0.05,
          0.060000000000000005,
          0.06999999999999999,
          0.08,
          0.09,
          0.1,
          0.2,
          0.30000000000000004,
          0.4,
          0.5,
          0.6,
          0.7000000000000001,
          0.8,
          0.9,
          0.91,
          0.92,
          0.93,
          0.9400000000000001,
          0.9500000000000001,
          0.9600000000000001,
          0.9700000000000001,
          0.9800000000000001,
          0.9900000000000001,
          0.99,
          0.991,
          0.992,
          0.993,
          0.994,
          0.995,
          0.996,
          0.997,
          0.998,
          0.999,
          0.9991,
          0.9992,
          0.9993,
          0.9994,
          0.9994999999999999,
          0.9995999999999999,
          0.9996999999999999,
          0.9997999999999999,
          0.9998999999999999,
          0.9999999999999999
         ],
         "xaxis": "x",
         "y": [
          -477000,
          -263000,
          -166000,
          -112500,
          -93500,
          -56500,
          -33000,
          -16500,
          6000,
          16000,
          107000,
          143500,
          151000,
          164000,
          172500,
          170500,
          178000,
          190500,
          180500,
          166000,
          151500,
          152000,
          130500,
          118000,
          106500,
          84000,
          68000,
          58000,
          58000,
          58000,
          48000,
          33500,
          28500,
          23500,
          13500,
          8500,
          8500,
          3500,
          3500,
          3500,
          4000,
          4500,
          4500,
          4500,
          4500,
          0,
          0,
          0,
          0,
          0,
          0,
          0,
          0,
          0,
          0,
          0
         ],
         "yaxis": "y"
        }
       ],
       "layout": {
        "height": 500,
        "legend": {
         "tracegroupgap": 0
        },
        "template": {
         "data": {
          "bar": [
           {
            "error_x": {
             "color": "#2a3f5f"
            },
            "error_y": {
             "color": "#2a3f5f"
            },
            "marker": {
             "line": {
              "color": "#E5ECF6",
              "width": 0.5
             },
             "pattern": {
              "fillmode": "overlay",
              "size": 10,
              "solidity": 0.2
             }
            },
            "type": "bar"
           }
          ],
          "barpolar": [
           {
            "marker": {
             "line": {
              "color": "#E5ECF6",
              "width": 0.5
             },
             "pattern": {
              "fillmode": "overlay",
              "size": 10,
              "solidity": 0.2
             }
            },
            "type": "barpolar"
           }
          ],
          "carpet": [
           {
            "aaxis": {
             "endlinecolor": "#2a3f5f",
             "gridcolor": "white",
             "linecolor": "white",
             "minorgridcolor": "white",
             "startlinecolor": "#2a3f5f"
            },
            "baxis": {
             "endlinecolor": "#2a3f5f",
             "gridcolor": "white",
             "linecolor": "white",
             "minorgridcolor": "white",
             "startlinecolor": "#2a3f5f"
            },
            "type": "carpet"
           }
          ],
          "choropleth": [
           {
            "colorbar": {
             "outlinewidth": 0,
             "ticks": ""
            },
            "type": "choropleth"
           }
          ],
          "contour": [
           {
            "colorbar": {
             "outlinewidth": 0,
             "ticks": ""
            },
            "colorscale": [
             [
              0,
              "#0d0887"
             ],
             [
              0.1111111111111111,
              "#46039f"
             ],
             [
              0.2222222222222222,
              "#7201a8"
             ],
             [
              0.3333333333333333,
              "#9c179e"
             ],
             [
              0.4444444444444444,
              "#bd3786"
             ],
             [
              0.5555555555555556,
              "#d8576b"
             ],
             [
              0.6666666666666666,
              "#ed7953"
             ],
             [
              0.7777777777777778,
              "#fb9f3a"
             ],
             [
              0.8888888888888888,
              "#fdca26"
             ],
             [
              1,
              "#f0f921"
             ]
            ],
            "type": "contour"
           }
          ],
          "contourcarpet": [
           {
            "colorbar": {
             "outlinewidth": 0,
             "ticks": ""
            },
            "type": "contourcarpet"
           }
          ],
          "heatmap": [
           {
            "colorbar": {
             "outlinewidth": 0,
             "ticks": ""
            },
            "colorscale": [
             [
              0,
              "#0d0887"
             ],
             [
              0.1111111111111111,
              "#46039f"
             ],
             [
              0.2222222222222222,
              "#7201a8"
             ],
             [
              0.3333333333333333,
              "#9c179e"
             ],
             [
              0.4444444444444444,
              "#bd3786"
             ],
             [
              0.5555555555555556,
              "#d8576b"
             ],
             [
              0.6666666666666666,
              "#ed7953"
             ],
             [
              0.7777777777777778,
              "#fb9f3a"
             ],
             [
              0.8888888888888888,
              "#fdca26"
             ],
             [
              1,
              "#f0f921"
             ]
            ],
            "type": "heatmap"
           }
          ],
          "heatmapgl": [
           {
            "colorbar": {
             "outlinewidth": 0,
             "ticks": ""
            },
            "colorscale": [
             [
              0,
              "#0d0887"
             ],
             [
              0.1111111111111111,
              "#46039f"
             ],
             [
              0.2222222222222222,
              "#7201a8"
             ],
             [
              0.3333333333333333,
              "#9c179e"
             ],
             [
              0.4444444444444444,
              "#bd3786"
             ],
             [
              0.5555555555555556,
              "#d8576b"
             ],
             [
              0.6666666666666666,
              "#ed7953"
             ],
             [
              0.7777777777777778,
              "#fb9f3a"
             ],
             [
              0.8888888888888888,
              "#fdca26"
             ],
             [
              1,
              "#f0f921"
             ]
            ],
            "type": "heatmapgl"
           }
          ],
          "histogram": [
           {
            "marker": {
             "pattern": {
              "fillmode": "overlay",
              "size": 10,
              "solidity": 0.2
             }
            },
            "type": "histogram"
           }
          ],
          "histogram2d": [
           {
            "colorbar": {
             "outlinewidth": 0,
             "ticks": ""
            },
            "colorscale": [
             [
              0,
              "#0d0887"
             ],
             [
              0.1111111111111111,
              "#46039f"
             ],
             [
              0.2222222222222222,
              "#7201a8"
             ],
             [
              0.3333333333333333,
              "#9c179e"
             ],
             [
              0.4444444444444444,
              "#bd3786"
             ],
             [
              0.5555555555555556,
              "#d8576b"
             ],
             [
              0.6666666666666666,
              "#ed7953"
             ],
             [
              0.7777777777777778,
              "#fb9f3a"
             ],
             [
              0.8888888888888888,
              "#fdca26"
             ],
             [
              1,
              "#f0f921"
             ]
            ],
            "type": "histogram2d"
           }
          ],
          "histogram2dcontour": [
           {
            "colorbar": {
             "outlinewidth": 0,
             "ticks": ""
            },
            "colorscale": [
             [
              0,
              "#0d0887"
             ],
             [
              0.1111111111111111,
              "#46039f"
             ],
             [
              0.2222222222222222,
              "#7201a8"
             ],
             [
              0.3333333333333333,
              "#9c179e"
             ],
             [
              0.4444444444444444,
              "#bd3786"
             ],
             [
              0.5555555555555556,
              "#d8576b"
             ],
             [
              0.6666666666666666,
              "#ed7953"
             ],
             [
              0.7777777777777778,
              "#fb9f3a"
             ],
             [
              0.8888888888888888,
              "#fdca26"
             ],
             [
              1,
              "#f0f921"
             ]
            ],
            "type": "histogram2dcontour"
           }
          ],
          "mesh3d": [
           {
            "colorbar": {
             "outlinewidth": 0,
             "ticks": ""
            },
            "type": "mesh3d"
           }
          ],
          "parcoords": [
           {
            "line": {
             "colorbar": {
              "outlinewidth": 0,
              "ticks": ""
             }
            },
            "type": "parcoords"
           }
          ],
          "pie": [
           {
            "automargin": true,
            "type": "pie"
           }
          ],
          "scatter": [
           {
            "marker": {
             "colorbar": {
              "outlinewidth": 0,
              "ticks": ""
             }
            },
            "type": "scatter"
           }
          ],
          "scatter3d": [
           {
            "line": {
             "colorbar": {
              "outlinewidth": 0,
              "ticks": ""
             }
            },
            "marker": {
             "colorbar": {
              "outlinewidth": 0,
              "ticks": ""
             }
            },
            "type": "scatter3d"
           }
          ],
          "scattercarpet": [
           {
            "marker": {
             "colorbar": {
              "outlinewidth": 0,
              "ticks": ""
             }
            },
            "type": "scattercarpet"
           }
          ],
          "scattergeo": [
           {
            "marker": {
             "colorbar": {
              "outlinewidth": 0,
              "ticks": ""
             }
            },
            "type": "scattergeo"
           }
          ],
          "scattergl": [
           {
            "marker": {
             "colorbar": {
              "outlinewidth": 0,
              "ticks": ""
             }
            },
            "type": "scattergl"
           }
          ],
          "scattermapbox": [
           {
            "marker": {
             "colorbar": {
              "outlinewidth": 0,
              "ticks": ""
             }
            },
            "type": "scattermapbox"
           }
          ],
          "scatterpolar": [
           {
            "marker": {
             "colorbar": {
              "outlinewidth": 0,
              "ticks": ""
             }
            },
            "type": "scatterpolar"
           }
          ],
          "scatterpolargl": [
           {
            "marker": {
             "colorbar": {
              "outlinewidth": 0,
              "ticks": ""
             }
            },
            "type": "scatterpolargl"
           }
          ],
          "scatterternary": [
           {
            "marker": {
             "colorbar": {
              "outlinewidth": 0,
              "ticks": ""
             }
            },
            "type": "scatterternary"
           }
          ],
          "surface": [
           {
            "colorbar": {
             "outlinewidth": 0,
             "ticks": ""
            },
            "colorscale": [
             [
              0,
              "#0d0887"
             ],
             [
              0.1111111111111111,
              "#46039f"
             ],
             [
              0.2222222222222222,
              "#7201a8"
             ],
             [
              0.3333333333333333,
              "#9c179e"
             ],
             [
              0.4444444444444444,
              "#bd3786"
             ],
             [
              0.5555555555555556,
              "#d8576b"
             ],
             [
              0.6666666666666666,
              "#ed7953"
             ],
             [
              0.7777777777777778,
              "#fb9f3a"
             ],
             [
              0.8888888888888888,
              "#fdca26"
             ],
             [
              1,
              "#f0f921"
             ]
            ],
            "type": "surface"
           }
          ],
          "table": [
           {
            "cells": {
             "fill": {
              "color": "#EBF0F8"
             },
             "line": {
              "color": "white"
             }
            },
            "header": {
             "fill": {
              "color": "#C8D4E3"
             },
             "line": {
              "color": "white"
             }
            },
            "type": "table"
           }
          ]
         },
         "layout": {
          "annotationdefaults": {
           "arrowcolor": "#2a3f5f",
           "arrowhead": 0,
           "arrowwidth": 1
          },
          "autotypenumbers": "strict",
          "coloraxis": {
           "colorbar": {
            "outlinewidth": 0,
            "ticks": ""
           }
          },
          "colorscale": {
           "diverging": [
            [
             0,
             "#8e0152"
            ],
            [
             0.1,
             "#c51b7d"
            ],
            [
             0.2,
             "#de77ae"
            ],
            [
             0.3,
             "#f1b6da"
            ],
            [
             0.4,
             "#fde0ef"
            ],
            [
             0.5,
             "#f7f7f7"
            ],
            [
             0.6,
             "#e6f5d0"
            ],
            [
             0.7,
             "#b8e186"
            ],
            [
             0.8,
             "#7fbc41"
            ],
            [
             0.9,
             "#4d9221"
            ],
            [
             1,
             "#276419"
            ]
           ],
           "sequential": [
            [
             0,
             "#0d0887"
            ],
            [
             0.1111111111111111,
             "#46039f"
            ],
            [
             0.2222222222222222,
             "#7201a8"
            ],
            [
             0.3333333333333333,
             "#9c179e"
            ],
            [
             0.4444444444444444,
             "#bd3786"
            ],
            [
             0.5555555555555556,
             "#d8576b"
            ],
            [
             0.6666666666666666,
             "#ed7953"
            ],
            [
             0.7777777777777778,
             "#fb9f3a"
            ],
            [
             0.8888888888888888,
             "#fdca26"
            ],
            [
             1,
             "#f0f921"
            ]
           ],
           "sequentialminus": [
            [
             0,
             "#0d0887"
            ],
            [
             0.1111111111111111,
             "#46039f"
            ],
            [
             0.2222222222222222,
             "#7201a8"
            ],
            [
             0.3333333333333333,
             "#9c179e"
            ],
            [
             0.4444444444444444,
             "#bd3786"
            ],
            [
             0.5555555555555556,
             "#d8576b"
            ],
            [
             0.6666666666666666,
             "#ed7953"
            ],
            [
             0.7777777777777778,
             "#fb9f3a"
            ],
            [
             0.8888888888888888,
             "#fdca26"
            ],
            [
             1,
             "#f0f921"
            ]
           ]
          },
          "colorway": [
           "#636efa",
           "#EF553B",
           "#00cc96",
           "#ab63fa",
           "#FFA15A",
           "#19d3f3",
           "#FF6692",
           "#B6E880",
           "#FF97FF",
           "#FECB52"
          ],
          "font": {
           "color": "#2a3f5f"
          },
          "geo": {
           "bgcolor": "white",
           "lakecolor": "white",
           "landcolor": "#E5ECF6",
           "showlakes": true,
           "showland": true,
           "subunitcolor": "white"
          },
          "hoverlabel": {
           "align": "left"
          },
          "hovermode": "closest",
          "mapbox": {
           "style": "light"
          },
          "paper_bgcolor": "white",
          "plot_bgcolor": "#E5ECF6",
          "polar": {
           "angularaxis": {
            "gridcolor": "white",
            "linecolor": "white",
            "ticks": ""
           },
           "bgcolor": "#E5ECF6",
           "radialaxis": {
            "gridcolor": "white",
            "linecolor": "white",
            "ticks": ""
           }
          },
          "scene": {
           "xaxis": {
            "backgroundcolor": "#E5ECF6",
            "gridcolor": "white",
            "gridwidth": 2,
            "linecolor": "white",
            "showbackground": true,
            "ticks": "",
            "zerolinecolor": "white"
           },
           "yaxis": {
            "backgroundcolor": "#E5ECF6",
            "gridcolor": "white",
            "gridwidth": 2,
            "linecolor": "white",
            "showbackground": true,
            "ticks": "",
            "zerolinecolor": "white"
           },
           "zaxis": {
            "backgroundcolor": "#E5ECF6",
            "gridcolor": "white",
            "gridwidth": 2,
            "linecolor": "white",
            "showbackground": true,
            "ticks": "",
            "zerolinecolor": "white"
           }
          },
          "shapedefaults": {
           "line": {
            "color": "#2a3f5f"
           }
          },
          "ternary": {
           "aaxis": {
            "gridcolor": "white",
            "linecolor": "white",
            "ticks": ""
           },
           "baxis": {
            "gridcolor": "white",
            "linecolor": "white",
            "ticks": ""
           },
           "bgcolor": "#E5ECF6",
           "caxis": {
            "gridcolor": "white",
            "linecolor": "white",
            "ticks": ""
           }
          },
          "title": {
           "x": 0.05
          },
          "xaxis": {
           "automargin": true,
           "gridcolor": "white",
           "linecolor": "white",
           "ticks": "",
           "title": {
            "standoff": 15
           },
           "zerolinecolor": "white",
           "zerolinewidth": 2
          },
          "yaxis": {
           "automargin": true,
           "gridcolor": "white",
           "linecolor": "white",
           "ticks": "",
           "title": {
            "standoff": 15
           },
           "zerolinecolor": "white",
           "zerolinewidth": 2
          }
         }
        },
        "title": {
         "text": "Maximum Total Savings are $190,500.00<br>with a Threshold of 0.09"
        },
        "width": 700,
        "xaxis": {
         "anchor": "y",
         "domain": [
          0,
          1
         ],
         "title": {
          "text": "threshold"
         }
        },
        "yaxis": {
         "anchor": "x",
         "domain": [
          0,
          1
         ],
         "title": {
          "text": "total_savings"
         }
        }
       }
      }
     },
     "metadata": {},
     "output_type": "display_data"
    }
   ],
   "source": [
    "plot_savings_by_threshold(test_savings_df)"
   ]
  },
  {
   "cell_type": "code",
   "execution_count": 134,
   "id": "b8c63843",
   "metadata": {},
   "outputs": [
    {
     "name": "stdout",
     "output_type": "stream",
     "text": [
      "confusion matrix:\n",
      " [[35388   199]\n",
      " [   44    54]]\n",
      "False Positives:  199 \n",
      "False Negatives:  44\n",
      "f1 score:  0.30769230769230765\n",
      "precision score:  0.2134387351778656\n",
      "recall score:  0.5510204081632653\n",
      "Total Costs:  $319,500.00\n",
      "Total Savings:  $170,500.00\n"
     ]
    }
   ],
   "source": [
    "quick_report(y_test, y_test_prob, threshold=0.07)"
   ]
  },
  {
   "cell_type": "markdown",
   "id": "88aee589",
   "metadata": {},
   "source": [
    "## Test Model on Different Offsets"
   ]
  },
  {
   "cell_type": "code",
   "execution_count": 147,
   "id": "53aeb155",
   "metadata": {},
   "outputs": [],
   "source": [
    "# Read in data\n",
    "\n",
    "bigg = pd.read_csv('../data/CJH_big_G_042322_420PM.csv', low_memory = False)\n",
    "\n",
    "# Convert to datetime and filter to relevant years\n",
    "\n",
    "bigg['event_time_stamp'] = pd.to_datetime(bigg['event_time_stamp'])\n",
    "\n",
    "bigg = bigg.loc[(bigg['event_time_stamp'].dt.year > 2014) & (bigg['event_time_stamp'].dt.year <= 2020)]"
   ]
  },
  {
   "cell_type": "code",
   "execution_count": 148,
   "id": "89ee08aa",
   "metadata": {},
   "outputs": [],
   "source": [
    "def prep_model_data(offset_grp = None):\n",
    "\n",
    "    # Create groups\n",
    "\n",
    "    bigg_new, grp_col = create_groups('48H', bigg, offset_grp = offset_grp)\n",
    "\n",
    "    # Create some columns\n",
    "\n",
    "    bigg_new['common_derate_lamp_status'] = (\n",
    "        np.where((bigg_new['lamp_status'] == 22527) | (bigg_new['lamp_status'] == 18431), True, False)\n",
    "    )\n",
    "\n",
    "    bigg_new['fuel_temperature_over_32'] = (\n",
    "        np.where(bigg_new['fuel_temperature'] > 32, True, False)\n",
    "    )\n",
    "\n",
    "    bigg_new['accelerator_pedal_over_0'] = (\n",
    "        np.where(bigg_new['accelerator_pedal'] > 0, True, False)\n",
    "    )\n",
    "\n",
    "    bigg_new['cruise_control_set_speed_under_66'] = (\n",
    "        np.where(bigg_new['cruise_control_set_speed'] < 66, True, False)\n",
    "    )\n",
    "\n",
    "    bigg_new['switched_battery_voltage_less_than_3276.75'] = (\n",
    "        np.where(bigg_new['switched_battery_voltage'] < 3276.75, True, False)\n",
    "\n",
    "    )\n",
    "\n",
    "    bigg_new['event_description_SCR_related'] = (\n",
    "        np.where(bigg_new['event_description'].str.lower().str.contains('catalyst|aftertreatment|nox|derate'), True, False)\n",
    "    )\n",
    "\n",
    "    # Get list of OHE columns\n",
    "\n",
    "    ohe_col_ls = []\n",
    "    for i in cat_var:\n",
    "        ohe = OneHotEncoder()\n",
    "        transformed = ohe.fit_transform(bigg_new[[i]])\n",
    "        bigg_new[ohe.get_feature_names_out()] = transformed.toarray()\n",
    "        ohe_col_ls += [i for i in ohe.get_feature_names_out()]\n",
    "\n",
    "    # Log/Exp-transform skewed columns\n",
    "\n",
    "    bigg_new['barometric_pressure'] = np.exp(bigg_new['barometric_pressure'])\n",
    "\n",
    "    for i in log_cols:\n",
    "        bigg_new[i] = log_me(i)\n",
    "\n",
    "    # Create aggregated variables\n",
    "\n",
    "    cat_vars = bigg_new.groupby(grp_col)[ohe_col_ls].sum().reset_index()\n",
    "    mean_vars = bigg_new.groupby(grp_col)[var].mean().reset_index().fillna(0)\n",
    "    std_vars = bigg_new.groupby(grp_col)[var].std().reset_index().fillna(0)\n",
    "    target_values = bigg_new[[grp_col, 'full_derate']].drop_duplicates()\n",
    "    all_vars = pd.merge(mean_vars, std_vars, on = grp_col).merge(cat_vars, on = grp_col)\n",
    "\n",
    "    # train-test split\n",
    "\n",
    "    X = all_vars.drop(columns = grp_col)\n",
    "    y = target_values['full_derate']\n",
    "\n",
    "    X_train, X_test, y_train, y_test = train_test_split(X, y, \n",
    "                                                        test_size = 0.30, \n",
    "                                                        train_size = 0.70, \n",
    "                                                        random_state = 111, \n",
    "                                                        stratify = y)\n",
    "\n",
    "    return X_train, X_test, y_train, y_test"
   ]
  },
  {
   "cell_type": "code",
   "execution_count": 190,
   "id": "68a0c487",
   "metadata": {},
   "outputs": [
    {
     "name": "stderr",
     "output_type": "stream",
     "text": [
      "  0%|          | 0/11 [00:00<?, ?it/s]C:\\Users\\jrior\\anaconda3\\lib\\site-packages\\pandas\\core\\arraylike.py:358: RuntimeWarning:\n",
      "\n",
      "invalid value encountered in log\n",
      "\n",
      "C:\\Users\\jrior\\anaconda3\\lib\\site-packages\\pandas\\core\\arraylike.py:358: RuntimeWarning:\n",
      "\n",
      "invalid value encountered in log\n",
      "\n",
      "C:\\Users\\jrior\\anaconda3\\lib\\site-packages\\pandas\\core\\arraylike.py:358: RuntimeWarning:\n",
      "\n",
      "invalid value encountered in log\n",
      "\n",
      "C:\\Users\\jrior\\anaconda3\\lib\\site-packages\\sklearn\\metrics\\_classification.py:1318: UndefinedMetricWarning:\n",
      "\n",
      "Precision is ill-defined and being set to 0.0 due to no predicted samples. Use `zero_division` parameter to control this behavior.\n",
      "\n",
      "C:\\Users\\jrior\\anaconda3\\lib\\site-packages\\sklearn\\metrics\\_classification.py:1318: UndefinedMetricWarning:\n",
      "\n",
      "Precision is ill-defined and being set to 0.0 due to no predicted samples. Use `zero_division` parameter to control this behavior.\n",
      "\n",
      "C:\\Users\\jrior\\anaconda3\\lib\\site-packages\\sklearn\\metrics\\_classification.py:1318: UndefinedMetricWarning:\n",
      "\n",
      "Precision is ill-defined and being set to 0.0 due to no predicted samples. Use `zero_division` parameter to control this behavior.\n",
      "\n",
      "C:\\Users\\jrior\\anaconda3\\lib\\site-packages\\sklearn\\metrics\\_classification.py:1318: UndefinedMetricWarning:\n",
      "\n",
      "Precision is ill-defined and being set to 0.0 due to no predicted samples. Use `zero_division` parameter to control this behavior.\n",
      "\n",
      "C:\\Users\\jrior\\anaconda3\\lib\\site-packages\\sklearn\\metrics\\_classification.py:1318: UndefinedMetricWarning:\n",
      "\n",
      "Precision is ill-defined and being set to 0.0 due to no predicted samples. Use `zero_division` parameter to control this behavior.\n",
      "\n",
      "C:\\Users\\jrior\\anaconda3\\lib\\site-packages\\sklearn\\metrics\\_classification.py:1318: UndefinedMetricWarning:\n",
      "\n",
      "Precision is ill-defined and being set to 0.0 due to no predicted samples. Use `zero_division` parameter to control this behavior.\n",
      "\n",
      "C:\\Users\\jrior\\anaconda3\\lib\\site-packages\\sklearn\\metrics\\_classification.py:1318: UndefinedMetricWarning:\n",
      "\n",
      "Precision is ill-defined and being set to 0.0 due to no predicted samples. Use `zero_division` parameter to control this behavior.\n",
      "\n",
      "C:\\Users\\jrior\\anaconda3\\lib\\site-packages\\sklearn\\metrics\\_classification.py:1318: UndefinedMetricWarning:\n",
      "\n",
      "Precision is ill-defined and being set to 0.0 due to no predicted samples. Use `zero_division` parameter to control this behavior.\n",
      "\n",
      "C:\\Users\\jrior\\anaconda3\\lib\\site-packages\\sklearn\\metrics\\_classification.py:1318: UndefinedMetricWarning:\n",
      "\n",
      "Precision is ill-defined and being set to 0.0 due to no predicted samples. Use `zero_division` parameter to control this behavior.\n",
      "\n",
      "C:\\Users\\jrior\\anaconda3\\lib\\site-packages\\sklearn\\metrics\\_classification.py:1318: UndefinedMetricWarning:\n",
      "\n",
      "Precision is ill-defined and being set to 0.0 due to no predicted samples. Use `zero_division` parameter to control this behavior.\n",
      "\n",
      "C:\\Users\\jrior\\anaconda3\\lib\\site-packages\\sklearn\\metrics\\_classification.py:1318: UndefinedMetricWarning:\n",
      "\n",
      "Precision is ill-defined and being set to 0.0 due to no predicted samples. Use `zero_division` parameter to control this behavior.\n",
      "\n",
      "C:\\Users\\jrior\\anaconda3\\lib\\site-packages\\sklearn\\metrics\\_classification.py:1318: UndefinedMetricWarning:\n",
      "\n",
      "Precision is ill-defined and being set to 0.0 due to no predicted samples. Use `zero_division` parameter to control this behavior.\n",
      "\n",
      "C:\\Users\\jrior\\anaconda3\\lib\\site-packages\\sklearn\\metrics\\_classification.py:1318: UndefinedMetricWarning:\n",
      "\n",
      "Precision is ill-defined and being set to 0.0 due to no predicted samples. Use `zero_division` parameter to control this behavior.\n",
      "\n",
      "C:\\Users\\jrior\\anaconda3\\lib\\site-packages\\sklearn\\metrics\\_classification.py:1318: UndefinedMetricWarning:\n",
      "\n",
      "Precision is ill-defined and being set to 0.0 due to no predicted samples. Use `zero_division` parameter to control this behavior.\n",
      "\n",
      "C:\\Users\\jrior\\anaconda3\\lib\\site-packages\\sklearn\\metrics\\_classification.py:1318: UndefinedMetricWarning:\n",
      "\n",
      "Precision is ill-defined and being set to 0.0 due to no predicted samples. Use `zero_division` parameter to control this behavior.\n",
      "\n",
      "C:\\Users\\jrior\\anaconda3\\lib\\site-packages\\sklearn\\metrics\\_classification.py:1318: UndefinedMetricWarning:\n",
      "\n",
      "Precision is ill-defined and being set to 0.0 due to no predicted samples. Use `zero_division` parameter to control this behavior.\n",
      "\n",
      "  9%|▉         | 1/11 [02:22<23:40, 142.07s/it]<ipython-input-110-138dc38fa4d7>:7: SettingWithCopyWarning:\n",
      "\n",
      "\n",
      "A value is trying to be set on a copy of a slice from a DataFrame.\n",
      "Try using .loc[row_indexer,col_indexer] = value instead\n",
      "\n",
      "See the caveats in the documentation: https://pandas.pydata.org/pandas-docs/stable/user_guide/indexing.html#returning-a-view-versus-a-copy\n",
      "\n",
      "C:\\Users\\jrior\\anaconda3\\lib\\site-packages\\sklearn\\metrics\\_classification.py:1318: UndefinedMetricWarning:\n",
      "\n",
      "Precision is ill-defined and being set to 0.0 due to no predicted samples. Use `zero_division` parameter to control this behavior.\n",
      "\n",
      "C:\\Users\\jrior\\anaconda3\\lib\\site-packages\\sklearn\\metrics\\_classification.py:1318: UndefinedMetricWarning:\n",
      "\n",
      "Precision is ill-defined and being set to 0.0 due to no predicted samples. Use `zero_division` parameter to control this behavior.\n",
      "\n",
      "C:\\Users\\jrior\\anaconda3\\lib\\site-packages\\sklearn\\metrics\\_classification.py:1318: UndefinedMetricWarning:\n",
      "\n",
      "Precision is ill-defined and being set to 0.0 due to no predicted samples. Use `zero_division` parameter to control this behavior.\n",
      "\n",
      "C:\\Users\\jrior\\anaconda3\\lib\\site-packages\\sklearn\\metrics\\_classification.py:1318: UndefinedMetricWarning:\n",
      "\n",
      "Precision is ill-defined and being set to 0.0 due to no predicted samples. Use `zero_division` parameter to control this behavior.\n",
      "\n",
      "C:\\Users\\jrior\\anaconda3\\lib\\site-packages\\sklearn\\metrics\\_classification.py:1318: UndefinedMetricWarning:\n",
      "\n",
      "Precision is ill-defined and being set to 0.0 due to no predicted samples. Use `zero_division` parameter to control this behavior.\n",
      "\n",
      "C:\\Users\\jrior\\anaconda3\\lib\\site-packages\\sklearn\\metrics\\_classification.py:1318: UndefinedMetricWarning:\n",
      "\n",
      "Precision is ill-defined and being set to 0.0 due to no predicted samples. Use `zero_division` parameter to control this behavior.\n",
      "\n",
      "C:\\Users\\jrior\\anaconda3\\lib\\site-packages\\sklearn\\metrics\\_classification.py:1318: UndefinedMetricWarning:\n",
      "\n",
      "Precision is ill-defined and being set to 0.0 due to no predicted samples. Use `zero_division` parameter to control this behavior.\n",
      "\n",
      "C:\\Users\\jrior\\anaconda3\\lib\\site-packages\\sklearn\\metrics\\_classification.py:1318: UndefinedMetricWarning:\n",
      "\n",
      "Precision is ill-defined and being set to 0.0 due to no predicted samples. Use `zero_division` parameter to control this behavior.\n",
      "\n",
      "C:\\Users\\jrior\\anaconda3\\lib\\site-packages\\sklearn\\metrics\\_classification.py:1318: UndefinedMetricWarning:\n",
      "\n",
      "Precision is ill-defined and being set to 0.0 due to no predicted samples. Use `zero_division` parameter to control this behavior.\n",
      "\n",
      "C:\\Users\\jrior\\anaconda3\\lib\\site-packages\\sklearn\\metrics\\_classification.py:1318: UndefinedMetricWarning:\n",
      "\n",
      "Precision is ill-defined and being set to 0.0 due to no predicted samples. Use `zero_division` parameter to control this behavior.\n",
      "\n",
      "C:\\Users\\jrior\\anaconda3\\lib\\site-packages\\sklearn\\metrics\\_classification.py:1318: UndefinedMetricWarning:\n",
      "\n",
      "Precision is ill-defined and being set to 0.0 due to no predicted samples. Use `zero_division` parameter to control this behavior.\n",
      "\n",
      "C:\\Users\\jrior\\anaconda3\\lib\\site-packages\\sklearn\\metrics\\_classification.py:1318: UndefinedMetricWarning:\n",
      "\n",
      "Precision is ill-defined and being set to 0.0 due to no predicted samples. Use `zero_division` parameter to control this behavior.\n",
      "\n",
      "C:\\Users\\jrior\\anaconda3\\lib\\site-packages\\sklearn\\metrics\\_classification.py:1318: UndefinedMetricWarning:\n",
      "\n",
      "Precision is ill-defined and being set to 0.0 due to no predicted samples. Use `zero_division` parameter to control this behavior.\n",
      "\n",
      "C:\\Users\\jrior\\anaconda3\\lib\\site-packages\\sklearn\\metrics\\_classification.py:1318: UndefinedMetricWarning:\n",
      "\n",
      "Precision is ill-defined and being set to 0.0 due to no predicted samples. Use `zero_division` parameter to control this behavior.\n",
      "\n",
      "C:\\Users\\jrior\\anaconda3\\lib\\site-packages\\sklearn\\metrics\\_classification.py:1318: UndefinedMetricWarning:\n",
      "\n",
      "Precision is ill-defined and being set to 0.0 due to no predicted samples. Use `zero_division` parameter to control this behavior.\n",
      "\n",
      "C:\\Users\\jrior\\anaconda3\\lib\\site-packages\\sklearn\\metrics\\_classification.py:1318: UndefinedMetricWarning:\n",
      "\n",
      "Precision is ill-defined and being set to 0.0 due to no predicted samples. Use `zero_division` parameter to control this behavior.\n",
      "\n",
      "C:\\Users\\jrior\\anaconda3\\lib\\site-packages\\sklearn\\metrics\\_classification.py:1318: UndefinedMetricWarning:\n",
      "\n",
      "Precision is ill-defined and being set to 0.0 due to no predicted samples. Use `zero_division` parameter to control this behavior.\n",
      "\n",
      "C:\\Users\\jrior\\anaconda3\\lib\\site-packages\\sklearn\\metrics\\_classification.py:1318: UndefinedMetricWarning:\n",
      "\n",
      "Precision is ill-defined and being set to 0.0 due to no predicted samples. Use `zero_division` parameter to control this behavior.\n",
      "\n",
      "C:\\Users\\jrior\\anaconda3\\lib\\site-packages\\sklearn\\metrics\\_classification.py:1318: UndefinedMetricWarning:\n",
      "\n",
      "Precision is ill-defined and being set to 0.0 due to no predicted samples. Use `zero_division` parameter to control this behavior.\n",
      "\n",
      "C:\\Users\\jrior\\anaconda3\\lib\\site-packages\\sklearn\\metrics\\_classification.py:1318: UndefinedMetricWarning:\n",
      "\n",
      "Precision is ill-defined and being set to 0.0 due to no predicted samples. Use `zero_division` parameter to control this behavior.\n",
      "\n",
      "C:\\Users\\jrior\\anaconda3\\lib\\site-packages\\sklearn\\metrics\\_classification.py:1318: UndefinedMetricWarning:\n",
      "\n",
      "Precision is ill-defined and being set to 0.0 due to no predicted samples. Use `zero_division` parameter to control this behavior.\n",
      "\n",
      "C:\\Users\\jrior\\anaconda3\\lib\\site-packages\\sklearn\\metrics\\_classification.py:1318: UndefinedMetricWarning:\n",
      "\n",
      "Precision is ill-defined and being set to 0.0 due to no predicted samples. Use `zero_division` parameter to control this behavior.\n",
      "\n",
      "C:\\Users\\jrior\\anaconda3\\lib\\site-packages\\sklearn\\metrics\\_classification.py:1318: UndefinedMetricWarning:\n",
      "\n",
      "Precision is ill-defined and being set to 0.0 due to no predicted samples. Use `zero_division` parameter to control this behavior.\n",
      "\n",
      "C:\\Users\\jrior\\anaconda3\\lib\\site-packages\\sklearn\\metrics\\_classification.py:1318: UndefinedMetricWarning:\n",
      "\n",
      "Precision is ill-defined and being set to 0.0 due to no predicted samples. Use `zero_division` parameter to control this behavior.\n",
      "\n",
      "C:\\Users\\jrior\\anaconda3\\lib\\site-packages\\sklearn\\metrics\\_classification.py:1318: UndefinedMetricWarning:\n",
      "\n",
      "Precision is ill-defined and being set to 0.0 due to no predicted samples. Use `zero_division` parameter to control this behavior.\n",
      "\n",
      "C:\\Users\\jrior\\anaconda3\\lib\\site-packages\\sklearn\\metrics\\_classification.py:1318: UndefinedMetricWarning:\n",
      "\n",
      "Precision is ill-defined and being set to 0.0 due to no predicted samples. Use `zero_division` parameter to control this behavior.\n",
      "\n",
      "C:\\Users\\jrior\\anaconda3\\lib\\site-packages\\sklearn\\metrics\\_classification.py:1318: UndefinedMetricWarning:\n",
      "\n",
      "Precision is ill-defined and being set to 0.0 due to no predicted samples. Use `zero_division` parameter to control this behavior.\n",
      "\n",
      "C:\\Users\\jrior\\anaconda3\\lib\\site-packages\\sklearn\\metrics\\_classification.py:1318: UndefinedMetricWarning:\n",
      "\n",
      "Precision is ill-defined and being set to 0.0 due to no predicted samples. Use `zero_division` parameter to control this behavior.\n",
      "\n",
      "C:\\Users\\jrior\\anaconda3\\lib\\site-packages\\sklearn\\metrics\\_classification.py:1318: UndefinedMetricWarning:\n",
      "\n",
      "Precision is ill-defined and being set to 0.0 due to no predicted samples. Use `zero_division` parameter to control this behavior.\n",
      "\n",
      "C:\\Users\\jrior\\anaconda3\\lib\\site-packages\\sklearn\\metrics\\_classification.py:1318: UndefinedMetricWarning:\n",
      "\n",
      "Precision is ill-defined and being set to 0.0 due to no predicted samples. Use `zero_division` parameter to control this behavior.\n",
      "\n",
      "C:\\Users\\jrior\\anaconda3\\lib\\site-packages\\sklearn\\metrics\\_classification.py:1318: UndefinedMetricWarning:\n",
      "\n",
      "Precision is ill-defined and being set to 0.0 due to no predicted samples. Use `zero_division` parameter to control this behavior.\n",
      "\n",
      "C:\\Users\\jrior\\anaconda3\\lib\\site-packages\\sklearn\\metrics\\_classification.py:1318: UndefinedMetricWarning:\n",
      "\n",
      "Precision is ill-defined and being set to 0.0 due to no predicted samples. Use `zero_division` parameter to control this behavior.\n",
      "\n",
      "C:\\Users\\jrior\\anaconda3\\lib\\site-packages\\sklearn\\metrics\\_classification.py:1318: UndefinedMetricWarning:\n",
      "\n",
      "Precision is ill-defined and being set to 0.0 due to no predicted samples. Use `zero_division` parameter to control this behavior.\n",
      "\n",
      "C:\\Users\\jrior\\anaconda3\\lib\\site-packages\\sklearn\\metrics\\_classification.py:1318: UndefinedMetricWarning:\n",
      "\n",
      "Precision is ill-defined and being set to 0.0 due to no predicted samples. Use `zero_division` parameter to control this behavior.\n",
      "\n",
      "C:\\Users\\jrior\\anaconda3\\lib\\site-packages\\sklearn\\metrics\\_classification.py:1318: UndefinedMetricWarning:\n",
      "\n",
      "Precision is ill-defined and being set to 0.0 due to no predicted samples. Use `zero_division` parameter to control this behavior.\n",
      "\n",
      "C:\\Users\\jrior\\anaconda3\\lib\\site-packages\\sklearn\\metrics\\_classification.py:1318: UndefinedMetricWarning:\n",
      "\n",
      "Precision is ill-defined and being set to 0.0 due to no predicted samples. Use `zero_division` parameter to control this behavior.\n",
      "\n",
      "C:\\Users\\jrior\\anaconda3\\lib\\site-packages\\sklearn\\metrics\\_classification.py:1318: UndefinedMetricWarning:\n",
      "\n",
      "Precision is ill-defined and being set to 0.0 due to no predicted samples. Use `zero_division` parameter to control this behavior.\n",
      "\n",
      "C:\\Users\\jrior\\anaconda3\\lib\\site-packages\\sklearn\\metrics\\_classification.py:1318: UndefinedMetricWarning:\n",
      "\n",
      "Precision is ill-defined and being set to 0.0 due to no predicted samples. Use `zero_division` parameter to control this behavior.\n",
      "\n",
      "C:\\Users\\jrior\\anaconda3\\lib\\site-packages\\sklearn\\metrics\\_classification.py:1318: UndefinedMetricWarning:\n",
      "\n",
      "Precision is ill-defined and being set to 0.0 due to no predicted samples. Use `zero_division` parameter to control this behavior.\n",
      "\n",
      "C:\\Users\\jrior\\anaconda3\\lib\\site-packages\\sklearn\\metrics\\_classification.py:1318: UndefinedMetricWarning:\n",
      "\n",
      "Precision is ill-defined and being set to 0.0 due to no predicted samples. Use `zero_division` parameter to control this behavior.\n",
      "\n",
      "C:\\Users\\jrior\\anaconda3\\lib\\site-packages\\sklearn\\metrics\\_classification.py:1318: UndefinedMetricWarning:\n",
      "\n",
      "Precision is ill-defined and being set to 0.0 due to no predicted samples. Use `zero_division` parameter to control this behavior.\n",
      "\n",
      "C:\\Users\\jrior\\anaconda3\\lib\\site-packages\\sklearn\\metrics\\_classification.py:1318: UndefinedMetricWarning:\n",
      "\n",
      "Precision is ill-defined and being set to 0.0 due to no predicted samples. Use `zero_division` parameter to control this behavior.\n",
      "\n",
      "C:\\Users\\jrior\\anaconda3\\lib\\site-packages\\sklearn\\metrics\\_classification.py:1318: UndefinedMetricWarning:\n",
      "\n",
      "Precision is ill-defined and being set to 0.0 due to no predicted samples. Use `zero_division` parameter to control this behavior.\n",
      "\n",
      "C:\\Users\\jrior\\anaconda3\\lib\\site-packages\\sklearn\\metrics\\_classification.py:1318: UndefinedMetricWarning:\n",
      "\n",
      "Precision is ill-defined and being set to 0.0 due to no predicted samples. Use `zero_division` parameter to control this behavior.\n",
      "\n",
      " 18%|█▊        | 2/11 [04:43<21:15, 141.69s/it]<ipython-input-110-138dc38fa4d7>:7: SettingWithCopyWarning:\n",
      "\n",
      "\n",
      "A value is trying to be set on a copy of a slice from a DataFrame.\n",
      "Try using .loc[row_indexer,col_indexer] = value instead\n",
      "\n",
      "See the caveats in the documentation: https://pandas.pydata.org/pandas-docs/stable/user_guide/indexing.html#returning-a-view-versus-a-copy\n",
      "\n",
      "C:\\Users\\jrior\\anaconda3\\lib\\site-packages\\sklearn\\metrics\\_classification.py:1318: UndefinedMetricWarning:\n",
      "\n",
      "Precision is ill-defined and being set to 0.0 due to no predicted samples. Use `zero_division` parameter to control this behavior.\n",
      "\n",
      "C:\\Users\\jrior\\anaconda3\\lib\\site-packages\\sklearn\\metrics\\_classification.py:1318: UndefinedMetricWarning:\n",
      "\n",
      "Precision is ill-defined and being set to 0.0 due to no predicted samples. Use `zero_division` parameter to control this behavior.\n",
      "\n",
      "C:\\Users\\jrior\\anaconda3\\lib\\site-packages\\sklearn\\metrics\\_classification.py:1318: UndefinedMetricWarning:\n",
      "\n",
      "Precision is ill-defined and being set to 0.0 due to no predicted samples. Use `zero_division` parameter to control this behavior.\n",
      "\n",
      "C:\\Users\\jrior\\anaconda3\\lib\\site-packages\\sklearn\\metrics\\_classification.py:1318: UndefinedMetricWarning:\n",
      "\n",
      "Precision is ill-defined and being set to 0.0 due to no predicted samples. Use `zero_division` parameter to control this behavior.\n",
      "\n",
      "C:\\Users\\jrior\\anaconda3\\lib\\site-packages\\sklearn\\metrics\\_classification.py:1318: UndefinedMetricWarning:\n",
      "\n",
      "Precision is ill-defined and being set to 0.0 due to no predicted samples. Use `zero_division` parameter to control this behavior.\n",
      "\n",
      "C:\\Users\\jrior\\anaconda3\\lib\\site-packages\\sklearn\\metrics\\_classification.py:1318: UndefinedMetricWarning:\n",
      "\n",
      "Precision is ill-defined and being set to 0.0 due to no predicted samples. Use `zero_division` parameter to control this behavior.\n",
      "\n",
      "C:\\Users\\jrior\\anaconda3\\lib\\site-packages\\sklearn\\metrics\\_classification.py:1318: UndefinedMetricWarning:\n",
      "\n",
      "Precision is ill-defined and being set to 0.0 due to no predicted samples. Use `zero_division` parameter to control this behavior.\n",
      "\n",
      "C:\\Users\\jrior\\anaconda3\\lib\\site-packages\\sklearn\\metrics\\_classification.py:1318: UndefinedMetricWarning:\n",
      "\n",
      "Precision is ill-defined and being set to 0.0 due to no predicted samples. Use `zero_division` parameter to control this behavior.\n",
      "\n",
      "C:\\Users\\jrior\\anaconda3\\lib\\site-packages\\sklearn\\metrics\\_classification.py:1318: UndefinedMetricWarning:\n",
      "\n",
      "Precision is ill-defined and being set to 0.0 due to no predicted samples. Use `zero_division` parameter to control this behavior.\n",
      "\n",
      "C:\\Users\\jrior\\anaconda3\\lib\\site-packages\\sklearn\\metrics\\_classification.py:1318: UndefinedMetricWarning:\n",
      "\n",
      "Precision is ill-defined and being set to 0.0 due to no predicted samples. Use `zero_division` parameter to control this behavior.\n",
      "\n",
      "C:\\Users\\jrior\\anaconda3\\lib\\site-packages\\sklearn\\metrics\\_classification.py:1318: UndefinedMetricWarning:\n",
      "\n",
      "Precision is ill-defined and being set to 0.0 due to no predicted samples. Use `zero_division` parameter to control this behavior.\n",
      "\n",
      "C:\\Users\\jrior\\anaconda3\\lib\\site-packages\\sklearn\\metrics\\_classification.py:1318: UndefinedMetricWarning:\n",
      "\n",
      "Precision is ill-defined and being set to 0.0 due to no predicted samples. Use `zero_division` parameter to control this behavior.\n",
      "\n",
      "C:\\Users\\jrior\\anaconda3\\lib\\site-packages\\sklearn\\metrics\\_classification.py:1318: UndefinedMetricWarning:\n",
      "\n",
      "Precision is ill-defined and being set to 0.0 due to no predicted samples. Use `zero_division` parameter to control this behavior.\n",
      "\n",
      "C:\\Users\\jrior\\anaconda3\\lib\\site-packages\\sklearn\\metrics\\_classification.py:1318: UndefinedMetricWarning:\n",
      "\n",
      "Precision is ill-defined and being set to 0.0 due to no predicted samples. Use `zero_division` parameter to control this behavior.\n",
      "\n",
      "C:\\Users\\jrior\\anaconda3\\lib\\site-packages\\sklearn\\metrics\\_classification.py:1318: UndefinedMetricWarning:\n",
      "\n",
      "Precision is ill-defined and being set to 0.0 due to no predicted samples. Use `zero_division` parameter to control this behavior.\n",
      "\n",
      "C:\\Users\\jrior\\anaconda3\\lib\\site-packages\\sklearn\\metrics\\_classification.py:1318: UndefinedMetricWarning:\n",
      "\n",
      "Precision is ill-defined and being set to 0.0 due to no predicted samples. Use `zero_division` parameter to control this behavior.\n",
      "\n",
      "C:\\Users\\jrior\\anaconda3\\lib\\site-packages\\sklearn\\metrics\\_classification.py:1318: UndefinedMetricWarning:\n",
      "\n",
      "Precision is ill-defined and being set to 0.0 due to no predicted samples. Use `zero_division` parameter to control this behavior.\n",
      "\n",
      "C:\\Users\\jrior\\anaconda3\\lib\\site-packages\\sklearn\\metrics\\_classification.py:1318: UndefinedMetricWarning:\n",
      "\n",
      "Precision is ill-defined and being set to 0.0 due to no predicted samples. Use `zero_division` parameter to control this behavior.\n",
      "\n",
      "C:\\Users\\jrior\\anaconda3\\lib\\site-packages\\sklearn\\metrics\\_classification.py:1318: UndefinedMetricWarning:\n",
      "\n",
      "Precision is ill-defined and being set to 0.0 due to no predicted samples. Use `zero_division` parameter to control this behavior.\n",
      "\n",
      "C:\\Users\\jrior\\anaconda3\\lib\\site-packages\\sklearn\\metrics\\_classification.py:1318: UndefinedMetricWarning:\n",
      "\n",
      "Precision is ill-defined and being set to 0.0 due to no predicted samples. Use `zero_division` parameter to control this behavior.\n",
      "\n",
      "C:\\Users\\jrior\\anaconda3\\lib\\site-packages\\sklearn\\metrics\\_classification.py:1318: UndefinedMetricWarning:\n",
      "\n",
      "Precision is ill-defined and being set to 0.0 due to no predicted samples. Use `zero_division` parameter to control this behavior.\n",
      "\n",
      "C:\\Users\\jrior\\anaconda3\\lib\\site-packages\\sklearn\\metrics\\_classification.py:1318: UndefinedMetricWarning:\n",
      "\n",
      "Precision is ill-defined and being set to 0.0 due to no predicted samples. Use `zero_division` parameter to control this behavior.\n",
      "\n",
      "C:\\Users\\jrior\\anaconda3\\lib\\site-packages\\sklearn\\metrics\\_classification.py:1318: UndefinedMetricWarning:\n",
      "\n",
      "Precision is ill-defined and being set to 0.0 due to no predicted samples. Use `zero_division` parameter to control this behavior.\n",
      "\n",
      "C:\\Users\\jrior\\anaconda3\\lib\\site-packages\\sklearn\\metrics\\_classification.py:1318: UndefinedMetricWarning:\n",
      "\n",
      "Precision is ill-defined and being set to 0.0 due to no predicted samples. Use `zero_division` parameter to control this behavior.\n",
      "\n",
      "C:\\Users\\jrior\\anaconda3\\lib\\site-packages\\sklearn\\metrics\\_classification.py:1318: UndefinedMetricWarning:\n",
      "\n",
      "Precision is ill-defined and being set to 0.0 due to no predicted samples. Use `zero_division` parameter to control this behavior.\n",
      "\n",
      "C:\\Users\\jrior\\anaconda3\\lib\\site-packages\\sklearn\\metrics\\_classification.py:1318: UndefinedMetricWarning:\n",
      "\n",
      "Precision is ill-defined and being set to 0.0 due to no predicted samples. Use `zero_division` parameter to control this behavior.\n",
      "\n",
      "C:\\Users\\jrior\\anaconda3\\lib\\site-packages\\sklearn\\metrics\\_classification.py:1318: UndefinedMetricWarning:\n",
      "\n",
      "Precision is ill-defined and being set to 0.0 due to no predicted samples. Use `zero_division` parameter to control this behavior.\n",
      "\n",
      "C:\\Users\\jrior\\anaconda3\\lib\\site-packages\\sklearn\\metrics\\_classification.py:1318: UndefinedMetricWarning:\n",
      "\n",
      "Precision is ill-defined and being set to 0.0 due to no predicted samples. Use `zero_division` parameter to control this behavior.\n",
      "\n",
      "C:\\Users\\jrior\\anaconda3\\lib\\site-packages\\sklearn\\metrics\\_classification.py:1318: UndefinedMetricWarning:\n",
      "\n",
      "Precision is ill-defined and being set to 0.0 due to no predicted samples. Use `zero_division` parameter to control this behavior.\n",
      "\n",
      "C:\\Users\\jrior\\anaconda3\\lib\\site-packages\\sklearn\\metrics\\_classification.py:1318: UndefinedMetricWarning:\n",
      "\n",
      "Precision is ill-defined and being set to 0.0 due to no predicted samples. Use `zero_division` parameter to control this behavior.\n",
      "\n",
      "C:\\Users\\jrior\\anaconda3\\lib\\site-packages\\sklearn\\metrics\\_classification.py:1318: UndefinedMetricWarning:\n",
      "\n",
      "Precision is ill-defined and being set to 0.0 due to no predicted samples. Use `zero_division` parameter to control this behavior.\n",
      "\n",
      "C:\\Users\\jrior\\anaconda3\\lib\\site-packages\\sklearn\\metrics\\_classification.py:1318: UndefinedMetricWarning:\n",
      "\n",
      "Precision is ill-defined and being set to 0.0 due to no predicted samples. Use `zero_division` parameter to control this behavior.\n",
      "\n",
      "C:\\Users\\jrior\\anaconda3\\lib\\site-packages\\sklearn\\metrics\\_classification.py:1318: UndefinedMetricWarning:\n",
      "\n",
      "Precision is ill-defined and being set to 0.0 due to no predicted samples. Use `zero_division` parameter to control this behavior.\n",
      "\n",
      "C:\\Users\\jrior\\anaconda3\\lib\\site-packages\\sklearn\\metrics\\_classification.py:1318: UndefinedMetricWarning:\n",
      "\n",
      "Precision is ill-defined and being set to 0.0 due to no predicted samples. Use `zero_division` parameter to control this behavior.\n",
      "\n",
      "C:\\Users\\jrior\\anaconda3\\lib\\site-packages\\sklearn\\metrics\\_classification.py:1318: UndefinedMetricWarning:\n",
      "\n",
      "Precision is ill-defined and being set to 0.0 due to no predicted samples. Use `zero_division` parameter to control this behavior.\n",
      "\n",
      "C:\\Users\\jrior\\anaconda3\\lib\\site-packages\\sklearn\\metrics\\_classification.py:1318: UndefinedMetricWarning:\n",
      "\n",
      "Precision is ill-defined and being set to 0.0 due to no predicted samples. Use `zero_division` parameter to control this behavior.\n",
      "\n",
      "C:\\Users\\jrior\\anaconda3\\lib\\site-packages\\sklearn\\metrics\\_classification.py:1318: UndefinedMetricWarning:\n",
      "\n",
      "Precision is ill-defined and being set to 0.0 due to no predicted samples. Use `zero_division` parameter to control this behavior.\n",
      "\n",
      "C:\\Users\\jrior\\anaconda3\\lib\\site-packages\\sklearn\\metrics\\_classification.py:1318: UndefinedMetricWarning:\n",
      "\n",
      "Precision is ill-defined and being set to 0.0 due to no predicted samples. Use `zero_division` parameter to control this behavior.\n",
      "\n",
      "C:\\Users\\jrior\\anaconda3\\lib\\site-packages\\sklearn\\metrics\\_classification.py:1318: UndefinedMetricWarning:\n",
      "\n",
      "Precision is ill-defined and being set to 0.0 due to no predicted samples. Use `zero_division` parameter to control this behavior.\n",
      "\n",
      "C:\\Users\\jrior\\anaconda3\\lib\\site-packages\\sklearn\\metrics\\_classification.py:1318: UndefinedMetricWarning:\n",
      "\n",
      "Precision is ill-defined and being set to 0.0 due to no predicted samples. Use `zero_division` parameter to control this behavior.\n",
      "\n",
      "C:\\Users\\jrior\\anaconda3\\lib\\site-packages\\sklearn\\metrics\\_classification.py:1318: UndefinedMetricWarning:\n",
      "\n",
      "Precision is ill-defined and being set to 0.0 due to no predicted samples. Use `zero_division` parameter to control this behavior.\n",
      "\n",
      "C:\\Users\\jrior\\anaconda3\\lib\\site-packages\\sklearn\\metrics\\_classification.py:1318: UndefinedMetricWarning:\n",
      "\n",
      "Precision is ill-defined and being set to 0.0 due to no predicted samples. Use `zero_division` parameter to control this behavior.\n",
      "\n",
      "C:\\Users\\jrior\\anaconda3\\lib\\site-packages\\sklearn\\metrics\\_classification.py:1318: UndefinedMetricWarning:\n",
      "\n",
      "Precision is ill-defined and being set to 0.0 due to no predicted samples. Use `zero_division` parameter to control this behavior.\n",
      "\n",
      "C:\\Users\\jrior\\anaconda3\\lib\\site-packages\\sklearn\\metrics\\_classification.py:1318: UndefinedMetricWarning:\n",
      "\n",
      "Precision is ill-defined and being set to 0.0 due to no predicted samples. Use `zero_division` parameter to control this behavior.\n",
      "\n",
      " 27%|██▋       | 3/11 [07:06<18:58, 142.37s/it]<ipython-input-110-138dc38fa4d7>:7: SettingWithCopyWarning:\n",
      "\n",
      "\n",
      "A value is trying to be set on a copy of a slice from a DataFrame.\n",
      "Try using .loc[row_indexer,col_indexer] = value instead\n",
      "\n",
      "See the caveats in the documentation: https://pandas.pydata.org/pandas-docs/stable/user_guide/indexing.html#returning-a-view-versus-a-copy\n",
      "\n",
      "C:\\Users\\jrior\\anaconda3\\lib\\site-packages\\sklearn\\metrics\\_classification.py:1318: UndefinedMetricWarning:\n",
      "\n",
      "Precision is ill-defined and being set to 0.0 due to no predicted samples. Use `zero_division` parameter to control this behavior.\n",
      "\n",
      "C:\\Users\\jrior\\anaconda3\\lib\\site-packages\\sklearn\\metrics\\_classification.py:1318: UndefinedMetricWarning:\n",
      "\n",
      "Precision is ill-defined and being set to 0.0 due to no predicted samples. Use `zero_division` parameter to control this behavior.\n",
      "\n",
      "C:\\Users\\jrior\\anaconda3\\lib\\site-packages\\sklearn\\metrics\\_classification.py:1318: UndefinedMetricWarning:\n",
      "\n",
      "Precision is ill-defined and being set to 0.0 due to no predicted samples. Use `zero_division` parameter to control this behavior.\n",
      "\n",
      "C:\\Users\\jrior\\anaconda3\\lib\\site-packages\\sklearn\\metrics\\_classification.py:1318: UndefinedMetricWarning:\n",
      "\n",
      "Precision is ill-defined and being set to 0.0 due to no predicted samples. Use `zero_division` parameter to control this behavior.\n",
      "\n",
      "C:\\Users\\jrior\\anaconda3\\lib\\site-packages\\sklearn\\metrics\\_classification.py:1318: UndefinedMetricWarning:\n",
      "\n",
      "Precision is ill-defined and being set to 0.0 due to no predicted samples. Use `zero_division` parameter to control this behavior.\n",
      "\n",
      "C:\\Users\\jrior\\anaconda3\\lib\\site-packages\\sklearn\\metrics\\_classification.py:1318: UndefinedMetricWarning:\n",
      "\n",
      "Precision is ill-defined and being set to 0.0 due to no predicted samples. Use `zero_division` parameter to control this behavior.\n",
      "\n",
      "C:\\Users\\jrior\\anaconda3\\lib\\site-packages\\sklearn\\metrics\\_classification.py:1318: UndefinedMetricWarning:\n",
      "\n",
      "Precision is ill-defined and being set to 0.0 due to no predicted samples. Use `zero_division` parameter to control this behavior.\n",
      "\n",
      "C:\\Users\\jrior\\anaconda3\\lib\\site-packages\\sklearn\\metrics\\_classification.py:1318: UndefinedMetricWarning:\n",
      "\n",
      "Precision is ill-defined and being set to 0.0 due to no predicted samples. Use `zero_division` parameter to control this behavior.\n",
      "\n",
      "C:\\Users\\jrior\\anaconda3\\lib\\site-packages\\sklearn\\metrics\\_classification.py:1318: UndefinedMetricWarning:\n",
      "\n",
      "Precision is ill-defined and being set to 0.0 due to no predicted samples. Use `zero_division` parameter to control this behavior.\n",
      "\n",
      "C:\\Users\\jrior\\anaconda3\\lib\\site-packages\\sklearn\\metrics\\_classification.py:1318: UndefinedMetricWarning:\n",
      "\n",
      "Precision is ill-defined and being set to 0.0 due to no predicted samples. Use `zero_division` parameter to control this behavior.\n",
      "\n",
      "C:\\Users\\jrior\\anaconda3\\lib\\site-packages\\sklearn\\metrics\\_classification.py:1318: UndefinedMetricWarning:\n",
      "\n",
      "Precision is ill-defined and being set to 0.0 due to no predicted samples. Use `zero_division` parameter to control this behavior.\n",
      "\n",
      "C:\\Users\\jrior\\anaconda3\\lib\\site-packages\\sklearn\\metrics\\_classification.py:1318: UndefinedMetricWarning:\n",
      "\n",
      "Precision is ill-defined and being set to 0.0 due to no predicted samples. Use `zero_division` parameter to control this behavior.\n",
      "\n",
      "C:\\Users\\jrior\\anaconda3\\lib\\site-packages\\sklearn\\metrics\\_classification.py:1318: UndefinedMetricWarning:\n",
      "\n",
      "Precision is ill-defined and being set to 0.0 due to no predicted samples. Use `zero_division` parameter to control this behavior.\n",
      "\n",
      "C:\\Users\\jrior\\anaconda3\\lib\\site-packages\\sklearn\\metrics\\_classification.py:1318: UndefinedMetricWarning:\n",
      "\n",
      "Precision is ill-defined and being set to 0.0 due to no predicted samples. Use `zero_division` parameter to control this behavior.\n",
      "\n",
      "C:\\Users\\jrior\\anaconda3\\lib\\site-packages\\sklearn\\metrics\\_classification.py:1318: UndefinedMetricWarning:\n",
      "\n",
      "Precision is ill-defined and being set to 0.0 due to no predicted samples. Use `zero_division` parameter to control this behavior.\n",
      "\n",
      "C:\\Users\\jrior\\anaconda3\\lib\\site-packages\\sklearn\\metrics\\_classification.py:1318: UndefinedMetricWarning:\n",
      "\n",
      "Precision is ill-defined and being set to 0.0 due to no predicted samples. Use `zero_division` parameter to control this behavior.\n",
      "\n",
      "C:\\Users\\jrior\\anaconda3\\lib\\site-packages\\sklearn\\metrics\\_classification.py:1318: UndefinedMetricWarning:\n",
      "\n",
      "Precision is ill-defined and being set to 0.0 due to no predicted samples. Use `zero_division` parameter to control this behavior.\n",
      "\n",
      "C:\\Users\\jrior\\anaconda3\\lib\\site-packages\\sklearn\\metrics\\_classification.py:1318: UndefinedMetricWarning:\n",
      "\n",
      "Precision is ill-defined and being set to 0.0 due to no predicted samples. Use `zero_division` parameter to control this behavior.\n",
      "\n",
      "C:\\Users\\jrior\\anaconda3\\lib\\site-packages\\sklearn\\metrics\\_classification.py:1318: UndefinedMetricWarning:\n",
      "\n",
      "Precision is ill-defined and being set to 0.0 due to no predicted samples. Use `zero_division` parameter to control this behavior.\n",
      "\n",
      "C:\\Users\\jrior\\anaconda3\\lib\\site-packages\\sklearn\\metrics\\_classification.py:1318: UndefinedMetricWarning:\n",
      "\n",
      "Precision is ill-defined and being set to 0.0 due to no predicted samples. Use `zero_division` parameter to control this behavior.\n",
      "\n",
      "C:\\Users\\jrior\\anaconda3\\lib\\site-packages\\sklearn\\metrics\\_classification.py:1318: UndefinedMetricWarning:\n",
      "\n",
      "Precision is ill-defined and being set to 0.0 due to no predicted samples. Use `zero_division` parameter to control this behavior.\n",
      "\n",
      "C:\\Users\\jrior\\anaconda3\\lib\\site-packages\\sklearn\\metrics\\_classification.py:1318: UndefinedMetricWarning:\n",
      "\n",
      "Precision is ill-defined and being set to 0.0 due to no predicted samples. Use `zero_division` parameter to control this behavior.\n",
      "\n",
      "C:\\Users\\jrior\\anaconda3\\lib\\site-packages\\sklearn\\metrics\\_classification.py:1318: UndefinedMetricWarning:\n",
      "\n",
      "Precision is ill-defined and being set to 0.0 due to no predicted samples. Use `zero_division` parameter to control this behavior.\n",
      "\n",
      "C:\\Users\\jrior\\anaconda3\\lib\\site-packages\\sklearn\\metrics\\_classification.py:1318: UndefinedMetricWarning:\n",
      "\n",
      "Precision is ill-defined and being set to 0.0 due to no predicted samples. Use `zero_division` parameter to control this behavior.\n",
      "\n",
      "C:\\Users\\jrior\\anaconda3\\lib\\site-packages\\sklearn\\metrics\\_classification.py:1318: UndefinedMetricWarning:\n",
      "\n",
      "Precision is ill-defined and being set to 0.0 due to no predicted samples. Use `zero_division` parameter to control this behavior.\n",
      "\n",
      "C:\\Users\\jrior\\anaconda3\\lib\\site-packages\\sklearn\\metrics\\_classification.py:1318: UndefinedMetricWarning:\n",
      "\n",
      "Precision is ill-defined and being set to 0.0 due to no predicted samples. Use `zero_division` parameter to control this behavior.\n",
      "\n",
      "C:\\Users\\jrior\\anaconda3\\lib\\site-packages\\sklearn\\metrics\\_classification.py:1318: UndefinedMetricWarning:\n",
      "\n",
      "Precision is ill-defined and being set to 0.0 due to no predicted samples. Use `zero_division` parameter to control this behavior.\n",
      "\n",
      "C:\\Users\\jrior\\anaconda3\\lib\\site-packages\\sklearn\\metrics\\_classification.py:1318: UndefinedMetricWarning:\n",
      "\n",
      "Precision is ill-defined and being set to 0.0 due to no predicted samples. Use `zero_division` parameter to control this behavior.\n",
      "\n",
      "C:\\Users\\jrior\\anaconda3\\lib\\site-packages\\sklearn\\metrics\\_classification.py:1318: UndefinedMetricWarning:\n",
      "\n",
      "Precision is ill-defined and being set to 0.0 due to no predicted samples. Use `zero_division` parameter to control this behavior.\n",
      "\n",
      "C:\\Users\\jrior\\anaconda3\\lib\\site-packages\\sklearn\\metrics\\_classification.py:1318: UndefinedMetricWarning:\n",
      "\n",
      "Precision is ill-defined and being set to 0.0 due to no predicted samples. Use `zero_division` parameter to control this behavior.\n",
      "\n",
      "C:\\Users\\jrior\\anaconda3\\lib\\site-packages\\sklearn\\metrics\\_classification.py:1318: UndefinedMetricWarning:\n",
      "\n",
      "Precision is ill-defined and being set to 0.0 due to no predicted samples. Use `zero_division` parameter to control this behavior.\n",
      "\n",
      "C:\\Users\\jrior\\anaconda3\\lib\\site-packages\\sklearn\\metrics\\_classification.py:1318: UndefinedMetricWarning:\n",
      "\n",
      "Precision is ill-defined and being set to 0.0 due to no predicted samples. Use `zero_division` parameter to control this behavior.\n",
      "\n",
      "C:\\Users\\jrior\\anaconda3\\lib\\site-packages\\sklearn\\metrics\\_classification.py:1318: UndefinedMetricWarning:\n",
      "\n",
      "Precision is ill-defined and being set to 0.0 due to no predicted samples. Use `zero_division` parameter to control this behavior.\n",
      "\n",
      "C:\\Users\\jrior\\anaconda3\\lib\\site-packages\\sklearn\\metrics\\_classification.py:1318: UndefinedMetricWarning:\n",
      "\n",
      "Precision is ill-defined and being set to 0.0 due to no predicted samples. Use `zero_division` parameter to control this behavior.\n",
      "\n",
      "C:\\Users\\jrior\\anaconda3\\lib\\site-packages\\sklearn\\metrics\\_classification.py:1318: UndefinedMetricWarning:\n",
      "\n",
      "Precision is ill-defined and being set to 0.0 due to no predicted samples. Use `zero_division` parameter to control this behavior.\n",
      "\n",
      "C:\\Users\\jrior\\anaconda3\\lib\\site-packages\\sklearn\\metrics\\_classification.py:1318: UndefinedMetricWarning:\n",
      "\n",
      "Precision is ill-defined and being set to 0.0 due to no predicted samples. Use `zero_division` parameter to control this behavior.\n",
      "\n",
      "C:\\Users\\jrior\\anaconda3\\lib\\site-packages\\sklearn\\metrics\\_classification.py:1318: UndefinedMetricWarning:\n",
      "\n",
      "Precision is ill-defined and being set to 0.0 due to no predicted samples. Use `zero_division` parameter to control this behavior.\n",
      "\n",
      "C:\\Users\\jrior\\anaconda3\\lib\\site-packages\\sklearn\\metrics\\_classification.py:1318: UndefinedMetricWarning:\n",
      "\n",
      "Precision is ill-defined and being set to 0.0 due to no predicted samples. Use `zero_division` parameter to control this behavior.\n",
      "\n",
      "C:\\Users\\jrior\\anaconda3\\lib\\site-packages\\sklearn\\metrics\\_classification.py:1318: UndefinedMetricWarning:\n",
      "\n",
      "Precision is ill-defined and being set to 0.0 due to no predicted samples. Use `zero_division` parameter to control this behavior.\n",
      "\n",
      "C:\\Users\\jrior\\anaconda3\\lib\\site-packages\\sklearn\\metrics\\_classification.py:1318: UndefinedMetricWarning:\n",
      "\n",
      "Precision is ill-defined and being set to 0.0 due to no predicted samples. Use `zero_division` parameter to control this behavior.\n",
      "\n",
      "C:\\Users\\jrior\\anaconda3\\lib\\site-packages\\sklearn\\metrics\\_classification.py:1318: UndefinedMetricWarning:\n",
      "\n",
      "Precision is ill-defined and being set to 0.0 due to no predicted samples. Use `zero_division` parameter to control this behavior.\n",
      "\n",
      "C:\\Users\\jrior\\anaconda3\\lib\\site-packages\\sklearn\\metrics\\_classification.py:1318: UndefinedMetricWarning:\n",
      "\n",
      "Precision is ill-defined and being set to 0.0 due to no predicted samples. Use `zero_division` parameter to control this behavior.\n",
      "\n",
      "C:\\Users\\jrior\\anaconda3\\lib\\site-packages\\sklearn\\metrics\\_classification.py:1318: UndefinedMetricWarning:\n",
      "\n",
      "Precision is ill-defined and being set to 0.0 due to no predicted samples. Use `zero_division` parameter to control this behavior.\n",
      "\n",
      "C:\\Users\\jrior\\anaconda3\\lib\\site-packages\\sklearn\\metrics\\_classification.py:1318: UndefinedMetricWarning:\n",
      "\n",
      "Precision is ill-defined and being set to 0.0 due to no predicted samples. Use `zero_division` parameter to control this behavior.\n",
      "\n",
      " 36%|███▋      | 4/11 [09:28<16:36, 142.33s/it]<ipython-input-110-138dc38fa4d7>:7: SettingWithCopyWarning:\n",
      "\n",
      "\n",
      "A value is trying to be set on a copy of a slice from a DataFrame.\n",
      "Try using .loc[row_indexer,col_indexer] = value instead\n",
      "\n",
      "See the caveats in the documentation: https://pandas.pydata.org/pandas-docs/stable/user_guide/indexing.html#returning-a-view-versus-a-copy\n",
      "\n",
      "C:\\Users\\jrior\\anaconda3\\lib\\site-packages\\sklearn\\metrics\\_classification.py:1318: UndefinedMetricWarning:\n",
      "\n",
      "Precision is ill-defined and being set to 0.0 due to no predicted samples. Use `zero_division` parameter to control this behavior.\n",
      "\n",
      "C:\\Users\\jrior\\anaconda3\\lib\\site-packages\\sklearn\\metrics\\_classification.py:1318: UndefinedMetricWarning:\n",
      "\n",
      "Precision is ill-defined and being set to 0.0 due to no predicted samples. Use `zero_division` parameter to control this behavior.\n",
      "\n",
      "C:\\Users\\jrior\\anaconda3\\lib\\site-packages\\sklearn\\metrics\\_classification.py:1318: UndefinedMetricWarning:\n",
      "\n",
      "Precision is ill-defined and being set to 0.0 due to no predicted samples. Use `zero_division` parameter to control this behavior.\n",
      "\n",
      "C:\\Users\\jrior\\anaconda3\\lib\\site-packages\\sklearn\\metrics\\_classification.py:1318: UndefinedMetricWarning:\n",
      "\n",
      "Precision is ill-defined and being set to 0.0 due to no predicted samples. Use `zero_division` parameter to control this behavior.\n",
      "\n",
      "C:\\Users\\jrior\\anaconda3\\lib\\site-packages\\sklearn\\metrics\\_classification.py:1318: UndefinedMetricWarning:\n",
      "\n",
      "Precision is ill-defined and being set to 0.0 due to no predicted samples. Use `zero_division` parameter to control this behavior.\n",
      "\n",
      "C:\\Users\\jrior\\anaconda3\\lib\\site-packages\\sklearn\\metrics\\_classification.py:1318: UndefinedMetricWarning:\n",
      "\n",
      "Precision is ill-defined and being set to 0.0 due to no predicted samples. Use `zero_division` parameter to control this behavior.\n",
      "\n",
      "C:\\Users\\jrior\\anaconda3\\lib\\site-packages\\sklearn\\metrics\\_classification.py:1318: UndefinedMetricWarning:\n",
      "\n",
      "Precision is ill-defined and being set to 0.0 due to no predicted samples. Use `zero_division` parameter to control this behavior.\n",
      "\n",
      "C:\\Users\\jrior\\anaconda3\\lib\\site-packages\\sklearn\\metrics\\_classification.py:1318: UndefinedMetricWarning:\n",
      "\n",
      "Precision is ill-defined and being set to 0.0 due to no predicted samples. Use `zero_division` parameter to control this behavior.\n",
      "\n",
      "C:\\Users\\jrior\\anaconda3\\lib\\site-packages\\sklearn\\metrics\\_classification.py:1318: UndefinedMetricWarning:\n",
      "\n",
      "Precision is ill-defined and being set to 0.0 due to no predicted samples. Use `zero_division` parameter to control this behavior.\n",
      "\n",
      "C:\\Users\\jrior\\anaconda3\\lib\\site-packages\\sklearn\\metrics\\_classification.py:1318: UndefinedMetricWarning:\n",
      "\n",
      "Precision is ill-defined and being set to 0.0 due to no predicted samples. Use `zero_division` parameter to control this behavior.\n",
      "\n",
      "C:\\Users\\jrior\\anaconda3\\lib\\site-packages\\sklearn\\metrics\\_classification.py:1318: UndefinedMetricWarning:\n",
      "\n",
      "Precision is ill-defined and being set to 0.0 due to no predicted samples. Use `zero_division` parameter to control this behavior.\n",
      "\n",
      "C:\\Users\\jrior\\anaconda3\\lib\\site-packages\\sklearn\\metrics\\_classification.py:1318: UndefinedMetricWarning:\n",
      "\n",
      "Precision is ill-defined and being set to 0.0 due to no predicted samples. Use `zero_division` parameter to control this behavior.\n",
      "\n",
      "C:\\Users\\jrior\\anaconda3\\lib\\site-packages\\sklearn\\metrics\\_classification.py:1318: UndefinedMetricWarning:\n",
      "\n",
      "Precision is ill-defined and being set to 0.0 due to no predicted samples. Use `zero_division` parameter to control this behavior.\n",
      "\n",
      "C:\\Users\\jrior\\anaconda3\\lib\\site-packages\\sklearn\\metrics\\_classification.py:1318: UndefinedMetricWarning:\n",
      "\n",
      "Precision is ill-defined and being set to 0.0 due to no predicted samples. Use `zero_division` parameter to control this behavior.\n",
      "\n",
      "C:\\Users\\jrior\\anaconda3\\lib\\site-packages\\sklearn\\metrics\\_classification.py:1318: UndefinedMetricWarning:\n",
      "\n",
      "Precision is ill-defined and being set to 0.0 due to no predicted samples. Use `zero_division` parameter to control this behavior.\n",
      "\n",
      "C:\\Users\\jrior\\anaconda3\\lib\\site-packages\\sklearn\\metrics\\_classification.py:1318: UndefinedMetricWarning:\n",
      "\n",
      "Precision is ill-defined and being set to 0.0 due to no predicted samples. Use `zero_division` parameter to control this behavior.\n",
      "\n",
      "C:\\Users\\jrior\\anaconda3\\lib\\site-packages\\sklearn\\metrics\\_classification.py:1318: UndefinedMetricWarning:\n",
      "\n",
      "Precision is ill-defined and being set to 0.0 due to no predicted samples. Use `zero_division` parameter to control this behavior.\n",
      "\n",
      "C:\\Users\\jrior\\anaconda3\\lib\\site-packages\\sklearn\\metrics\\_classification.py:1318: UndefinedMetricWarning:\n",
      "\n",
      "Precision is ill-defined and being set to 0.0 due to no predicted samples. Use `zero_division` parameter to control this behavior.\n",
      "\n",
      "C:\\Users\\jrior\\anaconda3\\lib\\site-packages\\sklearn\\metrics\\_classification.py:1318: UndefinedMetricWarning:\n",
      "\n",
      "Precision is ill-defined and being set to 0.0 due to no predicted samples. Use `zero_division` parameter to control this behavior.\n",
      "\n",
      "C:\\Users\\jrior\\anaconda3\\lib\\site-packages\\sklearn\\metrics\\_classification.py:1318: UndefinedMetricWarning:\n",
      "\n",
      "Precision is ill-defined and being set to 0.0 due to no predicted samples. Use `zero_division` parameter to control this behavior.\n",
      "\n",
      "C:\\Users\\jrior\\anaconda3\\lib\\site-packages\\sklearn\\metrics\\_classification.py:1318: UndefinedMetricWarning:\n",
      "\n",
      "Precision is ill-defined and being set to 0.0 due to no predicted samples. Use `zero_division` parameter to control this behavior.\n",
      "\n",
      "C:\\Users\\jrior\\anaconda3\\lib\\site-packages\\sklearn\\metrics\\_classification.py:1318: UndefinedMetricWarning:\n",
      "\n",
      "Precision is ill-defined and being set to 0.0 due to no predicted samples. Use `zero_division` parameter to control this behavior.\n",
      "\n",
      "C:\\Users\\jrior\\anaconda3\\lib\\site-packages\\sklearn\\metrics\\_classification.py:1318: UndefinedMetricWarning:\n",
      "\n",
      "Precision is ill-defined and being set to 0.0 due to no predicted samples. Use `zero_division` parameter to control this behavior.\n",
      "\n",
      "C:\\Users\\jrior\\anaconda3\\lib\\site-packages\\sklearn\\metrics\\_classification.py:1318: UndefinedMetricWarning:\n",
      "\n",
      "Precision is ill-defined and being set to 0.0 due to no predicted samples. Use `zero_division` parameter to control this behavior.\n",
      "\n",
      "C:\\Users\\jrior\\anaconda3\\lib\\site-packages\\sklearn\\metrics\\_classification.py:1318: UndefinedMetricWarning:\n",
      "\n",
      "Precision is ill-defined and being set to 0.0 due to no predicted samples. Use `zero_division` parameter to control this behavior.\n",
      "\n",
      "C:\\Users\\jrior\\anaconda3\\lib\\site-packages\\sklearn\\metrics\\_classification.py:1318: UndefinedMetricWarning:\n",
      "\n",
      "Precision is ill-defined and being set to 0.0 due to no predicted samples. Use `zero_division` parameter to control this behavior.\n",
      "\n",
      "C:\\Users\\jrior\\anaconda3\\lib\\site-packages\\sklearn\\metrics\\_classification.py:1318: UndefinedMetricWarning:\n",
      "\n",
      "Precision is ill-defined and being set to 0.0 due to no predicted samples. Use `zero_division` parameter to control this behavior.\n",
      "\n",
      "C:\\Users\\jrior\\anaconda3\\lib\\site-packages\\sklearn\\metrics\\_classification.py:1318: UndefinedMetricWarning:\n",
      "\n",
      "Precision is ill-defined and being set to 0.0 due to no predicted samples. Use `zero_division` parameter to control this behavior.\n",
      "\n",
      "C:\\Users\\jrior\\anaconda3\\lib\\site-packages\\sklearn\\metrics\\_classification.py:1318: UndefinedMetricWarning:\n",
      "\n",
      "Precision is ill-defined and being set to 0.0 due to no predicted samples. Use `zero_division` parameter to control this behavior.\n",
      "\n",
      "C:\\Users\\jrior\\anaconda3\\lib\\site-packages\\sklearn\\metrics\\_classification.py:1318: UndefinedMetricWarning:\n",
      "\n",
      "Precision is ill-defined and being set to 0.0 due to no predicted samples. Use `zero_division` parameter to control this behavior.\n",
      "\n",
      "C:\\Users\\jrior\\anaconda3\\lib\\site-packages\\sklearn\\metrics\\_classification.py:1318: UndefinedMetricWarning:\n",
      "\n",
      "Precision is ill-defined and being set to 0.0 due to no predicted samples. Use `zero_division` parameter to control this behavior.\n",
      "\n",
      "C:\\Users\\jrior\\anaconda3\\lib\\site-packages\\sklearn\\metrics\\_classification.py:1318: UndefinedMetricWarning:\n",
      "\n",
      "Precision is ill-defined and being set to 0.0 due to no predicted samples. Use `zero_division` parameter to control this behavior.\n",
      "\n",
      "C:\\Users\\jrior\\anaconda3\\lib\\site-packages\\sklearn\\metrics\\_classification.py:1318: UndefinedMetricWarning:\n",
      "\n",
      "Precision is ill-defined and being set to 0.0 due to no predicted samples. Use `zero_division` parameter to control this behavior.\n",
      "\n",
      "C:\\Users\\jrior\\anaconda3\\lib\\site-packages\\sklearn\\metrics\\_classification.py:1318: UndefinedMetricWarning:\n",
      "\n",
      "Precision is ill-defined and being set to 0.0 due to no predicted samples. Use `zero_division` parameter to control this behavior.\n",
      "\n",
      "C:\\Users\\jrior\\anaconda3\\lib\\site-packages\\sklearn\\metrics\\_classification.py:1318: UndefinedMetricWarning:\n",
      "\n",
      "Precision is ill-defined and being set to 0.0 due to no predicted samples. Use `zero_division` parameter to control this behavior.\n",
      "\n",
      "C:\\Users\\jrior\\anaconda3\\lib\\site-packages\\sklearn\\metrics\\_classification.py:1318: UndefinedMetricWarning:\n",
      "\n",
      "Precision is ill-defined and being set to 0.0 due to no predicted samples. Use `zero_division` parameter to control this behavior.\n",
      "\n",
      "C:\\Users\\jrior\\anaconda3\\lib\\site-packages\\sklearn\\metrics\\_classification.py:1318: UndefinedMetricWarning:\n",
      "\n",
      "Precision is ill-defined and being set to 0.0 due to no predicted samples. Use `zero_division` parameter to control this behavior.\n",
      "\n",
      "C:\\Users\\jrior\\anaconda3\\lib\\site-packages\\sklearn\\metrics\\_classification.py:1318: UndefinedMetricWarning:\n",
      "\n",
      "Precision is ill-defined and being set to 0.0 due to no predicted samples. Use `zero_division` parameter to control this behavior.\n",
      "\n",
      "C:\\Users\\jrior\\anaconda3\\lib\\site-packages\\sklearn\\metrics\\_classification.py:1318: UndefinedMetricWarning:\n",
      "\n",
      "Precision is ill-defined and being set to 0.0 due to no predicted samples. Use `zero_division` parameter to control this behavior.\n",
      "\n",
      "C:\\Users\\jrior\\anaconda3\\lib\\site-packages\\sklearn\\metrics\\_classification.py:1318: UndefinedMetricWarning:\n",
      "\n",
      "Precision is ill-defined and being set to 0.0 due to no predicted samples. Use `zero_division` parameter to control this behavior.\n",
      "\n",
      "C:\\Users\\jrior\\anaconda3\\lib\\site-packages\\sklearn\\metrics\\_classification.py:1318: UndefinedMetricWarning:\n",
      "\n",
      "Precision is ill-defined and being set to 0.0 due to no predicted samples. Use `zero_division` parameter to control this behavior.\n",
      "\n",
      "C:\\Users\\jrior\\anaconda3\\lib\\site-packages\\sklearn\\metrics\\_classification.py:1318: UndefinedMetricWarning:\n",
      "\n",
      "Precision is ill-defined and being set to 0.0 due to no predicted samples. Use `zero_division` parameter to control this behavior.\n",
      "\n",
      "C:\\Users\\jrior\\anaconda3\\lib\\site-packages\\sklearn\\metrics\\_classification.py:1318: UndefinedMetricWarning:\n",
      "\n",
      "Precision is ill-defined and being set to 0.0 due to no predicted samples. Use `zero_division` parameter to control this behavior.\n",
      "\n",
      "C:\\Users\\jrior\\anaconda3\\lib\\site-packages\\sklearn\\metrics\\_classification.py:1318: UndefinedMetricWarning:\n",
      "\n",
      "Precision is ill-defined and being set to 0.0 due to no predicted samples. Use `zero_division` parameter to control this behavior.\n",
      "\n",
      "C:\\Users\\jrior\\anaconda3\\lib\\site-packages\\sklearn\\metrics\\_classification.py:1318: UndefinedMetricWarning:\n",
      "\n",
      "Precision is ill-defined and being set to 0.0 due to no predicted samples. Use `zero_division` parameter to control this behavior.\n",
      "\n",
      "C:\\Users\\jrior\\anaconda3\\lib\\site-packages\\sklearn\\metrics\\_classification.py:1318: UndefinedMetricWarning:\n",
      "\n",
      "Precision is ill-defined and being set to 0.0 due to no predicted samples. Use `zero_division` parameter to control this behavior.\n",
      "\n",
      "C:\\Users\\jrior\\anaconda3\\lib\\site-packages\\sklearn\\metrics\\_classification.py:1318: UndefinedMetricWarning:\n",
      "\n",
      "Precision is ill-defined and being set to 0.0 due to no predicted samples. Use `zero_division` parameter to control this behavior.\n",
      "\n",
      "C:\\Users\\jrior\\anaconda3\\lib\\site-packages\\sklearn\\metrics\\_classification.py:1318: UndefinedMetricWarning:\n",
      "\n",
      "Precision is ill-defined and being set to 0.0 due to no predicted samples. Use `zero_division` parameter to control this behavior.\n",
      "\n",
      " 45%|████▌     | 5/11 [11:49<14:09, 141.52s/it]<ipython-input-110-138dc38fa4d7>:7: SettingWithCopyWarning:\n",
      "\n",
      "\n",
      "A value is trying to be set on a copy of a slice from a DataFrame.\n",
      "Try using .loc[row_indexer,col_indexer] = value instead\n",
      "\n",
      "See the caveats in the documentation: https://pandas.pydata.org/pandas-docs/stable/user_guide/indexing.html#returning-a-view-versus-a-copy\n",
      "\n",
      "C:\\Users\\jrior\\anaconda3\\lib\\site-packages\\sklearn\\metrics\\_classification.py:1318: UndefinedMetricWarning:\n",
      "\n",
      "Precision is ill-defined and being set to 0.0 due to no predicted samples. Use `zero_division` parameter to control this behavior.\n",
      "\n",
      "C:\\Users\\jrior\\anaconda3\\lib\\site-packages\\sklearn\\metrics\\_classification.py:1318: UndefinedMetricWarning:\n",
      "\n",
      "Precision is ill-defined and being set to 0.0 due to no predicted samples. Use `zero_division` parameter to control this behavior.\n",
      "\n",
      "C:\\Users\\jrior\\anaconda3\\lib\\site-packages\\sklearn\\metrics\\_classification.py:1318: UndefinedMetricWarning:\n",
      "\n",
      "Precision is ill-defined and being set to 0.0 due to no predicted samples. Use `zero_division` parameter to control this behavior.\n",
      "\n",
      "C:\\Users\\jrior\\anaconda3\\lib\\site-packages\\sklearn\\metrics\\_classification.py:1318: UndefinedMetricWarning:\n",
      "\n",
      "Precision is ill-defined and being set to 0.0 due to no predicted samples. Use `zero_division` parameter to control this behavior.\n",
      "\n",
      "C:\\Users\\jrior\\anaconda3\\lib\\site-packages\\sklearn\\metrics\\_classification.py:1318: UndefinedMetricWarning:\n",
      "\n",
      "Precision is ill-defined and being set to 0.0 due to no predicted samples. Use `zero_division` parameter to control this behavior.\n",
      "\n",
      "C:\\Users\\jrior\\anaconda3\\lib\\site-packages\\sklearn\\metrics\\_classification.py:1318: UndefinedMetricWarning:\n",
      "\n",
      "Precision is ill-defined and being set to 0.0 due to no predicted samples. Use `zero_division` parameter to control this behavior.\n",
      "\n",
      "C:\\Users\\jrior\\anaconda3\\lib\\site-packages\\sklearn\\metrics\\_classification.py:1318: UndefinedMetricWarning:\n",
      "\n",
      "Precision is ill-defined and being set to 0.0 due to no predicted samples. Use `zero_division` parameter to control this behavior.\n",
      "\n",
      "C:\\Users\\jrior\\anaconda3\\lib\\site-packages\\sklearn\\metrics\\_classification.py:1318: UndefinedMetricWarning:\n",
      "\n",
      "Precision is ill-defined and being set to 0.0 due to no predicted samples. Use `zero_division` parameter to control this behavior.\n",
      "\n",
      "C:\\Users\\jrior\\anaconda3\\lib\\site-packages\\sklearn\\metrics\\_classification.py:1318: UndefinedMetricWarning:\n",
      "\n",
      "Precision is ill-defined and being set to 0.0 due to no predicted samples. Use `zero_division` parameter to control this behavior.\n",
      "\n",
      "C:\\Users\\jrior\\anaconda3\\lib\\site-packages\\sklearn\\metrics\\_classification.py:1318: UndefinedMetricWarning:\n",
      "\n",
      "Precision is ill-defined and being set to 0.0 due to no predicted samples. Use `zero_division` parameter to control this behavior.\n",
      "\n",
      "C:\\Users\\jrior\\anaconda3\\lib\\site-packages\\sklearn\\metrics\\_classification.py:1318: UndefinedMetricWarning:\n",
      "\n",
      "Precision is ill-defined and being set to 0.0 due to no predicted samples. Use `zero_division` parameter to control this behavior.\n",
      "\n",
      "C:\\Users\\jrior\\anaconda3\\lib\\site-packages\\sklearn\\metrics\\_classification.py:1318: UndefinedMetricWarning:\n",
      "\n",
      "Precision is ill-defined and being set to 0.0 due to no predicted samples. Use `zero_division` parameter to control this behavior.\n",
      "\n",
      "C:\\Users\\jrior\\anaconda3\\lib\\site-packages\\sklearn\\metrics\\_classification.py:1318: UndefinedMetricWarning:\n",
      "\n",
      "Precision is ill-defined and being set to 0.0 due to no predicted samples. Use `zero_division` parameter to control this behavior.\n",
      "\n",
      "C:\\Users\\jrior\\anaconda3\\lib\\site-packages\\sklearn\\metrics\\_classification.py:1318: UndefinedMetricWarning:\n",
      "\n",
      "Precision is ill-defined and being set to 0.0 due to no predicted samples. Use `zero_division` parameter to control this behavior.\n",
      "\n",
      "C:\\Users\\jrior\\anaconda3\\lib\\site-packages\\sklearn\\metrics\\_classification.py:1318: UndefinedMetricWarning:\n",
      "\n",
      "Precision is ill-defined and being set to 0.0 due to no predicted samples. Use `zero_division` parameter to control this behavior.\n",
      "\n",
      "C:\\Users\\jrior\\anaconda3\\lib\\site-packages\\sklearn\\metrics\\_classification.py:1318: UndefinedMetricWarning:\n",
      "\n",
      "Precision is ill-defined and being set to 0.0 due to no predicted samples. Use `zero_division` parameter to control this behavior.\n",
      "\n",
      "C:\\Users\\jrior\\anaconda3\\lib\\site-packages\\sklearn\\metrics\\_classification.py:1318: UndefinedMetricWarning:\n",
      "\n",
      "Precision is ill-defined and being set to 0.0 due to no predicted samples. Use `zero_division` parameter to control this behavior.\n",
      "\n",
      "C:\\Users\\jrior\\anaconda3\\lib\\site-packages\\sklearn\\metrics\\_classification.py:1318: UndefinedMetricWarning:\n",
      "\n",
      "Precision is ill-defined and being set to 0.0 due to no predicted samples. Use `zero_division` parameter to control this behavior.\n",
      "\n",
      "C:\\Users\\jrior\\anaconda3\\lib\\site-packages\\sklearn\\metrics\\_classification.py:1318: UndefinedMetricWarning:\n",
      "\n",
      "Precision is ill-defined and being set to 0.0 due to no predicted samples. Use `zero_division` parameter to control this behavior.\n",
      "\n",
      "C:\\Users\\jrior\\anaconda3\\lib\\site-packages\\sklearn\\metrics\\_classification.py:1318: UndefinedMetricWarning:\n",
      "\n",
      "Precision is ill-defined and being set to 0.0 due to no predicted samples. Use `zero_division` parameter to control this behavior.\n",
      "\n",
      "C:\\Users\\jrior\\anaconda3\\lib\\site-packages\\sklearn\\metrics\\_classification.py:1318: UndefinedMetricWarning:\n",
      "\n",
      "Precision is ill-defined and being set to 0.0 due to no predicted samples. Use `zero_division` parameter to control this behavior.\n",
      "\n",
      "C:\\Users\\jrior\\anaconda3\\lib\\site-packages\\sklearn\\metrics\\_classification.py:1318: UndefinedMetricWarning:\n",
      "\n",
      "Precision is ill-defined and being set to 0.0 due to no predicted samples. Use `zero_division` parameter to control this behavior.\n",
      "\n",
      "C:\\Users\\jrior\\anaconda3\\lib\\site-packages\\sklearn\\metrics\\_classification.py:1318: UndefinedMetricWarning:\n",
      "\n",
      "Precision is ill-defined and being set to 0.0 due to no predicted samples. Use `zero_division` parameter to control this behavior.\n",
      "\n",
      "C:\\Users\\jrior\\anaconda3\\lib\\site-packages\\sklearn\\metrics\\_classification.py:1318: UndefinedMetricWarning:\n",
      "\n",
      "Precision is ill-defined and being set to 0.0 due to no predicted samples. Use `zero_division` parameter to control this behavior.\n",
      "\n",
      "C:\\Users\\jrior\\anaconda3\\lib\\site-packages\\sklearn\\metrics\\_classification.py:1318: UndefinedMetricWarning:\n",
      "\n",
      "Precision is ill-defined and being set to 0.0 due to no predicted samples. Use `zero_division` parameter to control this behavior.\n",
      "\n",
      "C:\\Users\\jrior\\anaconda3\\lib\\site-packages\\sklearn\\metrics\\_classification.py:1318: UndefinedMetricWarning:\n",
      "\n",
      "Precision is ill-defined and being set to 0.0 due to no predicted samples. Use `zero_division` parameter to control this behavior.\n",
      "\n",
      "C:\\Users\\jrior\\anaconda3\\lib\\site-packages\\sklearn\\metrics\\_classification.py:1318: UndefinedMetricWarning:\n",
      "\n",
      "Precision is ill-defined and being set to 0.0 due to no predicted samples. Use `zero_division` parameter to control this behavior.\n",
      "\n",
      "C:\\Users\\jrior\\anaconda3\\lib\\site-packages\\sklearn\\metrics\\_classification.py:1318: UndefinedMetricWarning:\n",
      "\n",
      "Precision is ill-defined and being set to 0.0 due to no predicted samples. Use `zero_division` parameter to control this behavior.\n",
      "\n",
      "C:\\Users\\jrior\\anaconda3\\lib\\site-packages\\sklearn\\metrics\\_classification.py:1318: UndefinedMetricWarning:\n",
      "\n",
      "Precision is ill-defined and being set to 0.0 due to no predicted samples. Use `zero_division` parameter to control this behavior.\n",
      "\n",
      "C:\\Users\\jrior\\anaconda3\\lib\\site-packages\\sklearn\\metrics\\_classification.py:1318: UndefinedMetricWarning:\n",
      "\n",
      "Precision is ill-defined and being set to 0.0 due to no predicted samples. Use `zero_division` parameter to control this behavior.\n",
      "\n",
      "C:\\Users\\jrior\\anaconda3\\lib\\site-packages\\sklearn\\metrics\\_classification.py:1318: UndefinedMetricWarning:\n",
      "\n",
      "Precision is ill-defined and being set to 0.0 due to no predicted samples. Use `zero_division` parameter to control this behavior.\n",
      "\n",
      "C:\\Users\\jrior\\anaconda3\\lib\\site-packages\\sklearn\\metrics\\_classification.py:1318: UndefinedMetricWarning:\n",
      "\n",
      "Precision is ill-defined and being set to 0.0 due to no predicted samples. Use `zero_division` parameter to control this behavior.\n",
      "\n",
      "C:\\Users\\jrior\\anaconda3\\lib\\site-packages\\sklearn\\metrics\\_classification.py:1318: UndefinedMetricWarning:\n",
      "\n",
      "Precision is ill-defined and being set to 0.0 due to no predicted samples. Use `zero_division` parameter to control this behavior.\n",
      "\n",
      "C:\\Users\\jrior\\anaconda3\\lib\\site-packages\\sklearn\\metrics\\_classification.py:1318: UndefinedMetricWarning:\n",
      "\n",
      "Precision is ill-defined and being set to 0.0 due to no predicted samples. Use `zero_division` parameter to control this behavior.\n",
      "\n",
      "C:\\Users\\jrior\\anaconda3\\lib\\site-packages\\sklearn\\metrics\\_classification.py:1318: UndefinedMetricWarning:\n",
      "\n",
      "Precision is ill-defined and being set to 0.0 due to no predicted samples. Use `zero_division` parameter to control this behavior.\n",
      "\n",
      "C:\\Users\\jrior\\anaconda3\\lib\\site-packages\\sklearn\\metrics\\_classification.py:1318: UndefinedMetricWarning:\n",
      "\n",
      "Precision is ill-defined and being set to 0.0 due to no predicted samples. Use `zero_division` parameter to control this behavior.\n",
      "\n",
      "C:\\Users\\jrior\\anaconda3\\lib\\site-packages\\sklearn\\metrics\\_classification.py:1318: UndefinedMetricWarning:\n",
      "\n",
      "Precision is ill-defined and being set to 0.0 due to no predicted samples. Use `zero_division` parameter to control this behavior.\n",
      "\n",
      "C:\\Users\\jrior\\anaconda3\\lib\\site-packages\\sklearn\\metrics\\_classification.py:1318: UndefinedMetricWarning:\n",
      "\n",
      "Precision is ill-defined and being set to 0.0 due to no predicted samples. Use `zero_division` parameter to control this behavior.\n",
      "\n",
      "C:\\Users\\jrior\\anaconda3\\lib\\site-packages\\sklearn\\metrics\\_classification.py:1318: UndefinedMetricWarning:\n",
      "\n",
      "Precision is ill-defined and being set to 0.0 due to no predicted samples. Use `zero_division` parameter to control this behavior.\n",
      "\n",
      "C:\\Users\\jrior\\anaconda3\\lib\\site-packages\\sklearn\\metrics\\_classification.py:1318: UndefinedMetricWarning:\n",
      "\n",
      "Precision is ill-defined and being set to 0.0 due to no predicted samples. Use `zero_division` parameter to control this behavior.\n",
      "\n",
      "C:\\Users\\jrior\\anaconda3\\lib\\site-packages\\sklearn\\metrics\\_classification.py:1318: UndefinedMetricWarning:\n",
      "\n",
      "Precision is ill-defined and being set to 0.0 due to no predicted samples. Use `zero_division` parameter to control this behavior.\n",
      "\n",
      "C:\\Users\\jrior\\anaconda3\\lib\\site-packages\\sklearn\\metrics\\_classification.py:1318: UndefinedMetricWarning:\n",
      "\n",
      "Precision is ill-defined and being set to 0.0 due to no predicted samples. Use `zero_division` parameter to control this behavior.\n",
      "\n",
      "C:\\Users\\jrior\\anaconda3\\lib\\site-packages\\sklearn\\metrics\\_classification.py:1318: UndefinedMetricWarning:\n",
      "\n",
      "Precision is ill-defined and being set to 0.0 due to no predicted samples. Use `zero_division` parameter to control this behavior.\n",
      "\n",
      "C:\\Users\\jrior\\anaconda3\\lib\\site-packages\\sklearn\\metrics\\_classification.py:1318: UndefinedMetricWarning:\n",
      "\n",
      "Precision is ill-defined and being set to 0.0 due to no predicted samples. Use `zero_division` parameter to control this behavior.\n",
      "\n",
      " 55%|█████▍    | 6/11 [14:21<12:06, 145.35s/it]<ipython-input-110-138dc38fa4d7>:7: SettingWithCopyWarning:\n",
      "\n",
      "\n",
      "A value is trying to be set on a copy of a slice from a DataFrame.\n",
      "Try using .loc[row_indexer,col_indexer] = value instead\n",
      "\n",
      "See the caveats in the documentation: https://pandas.pydata.org/pandas-docs/stable/user_guide/indexing.html#returning-a-view-versus-a-copy\n",
      "\n",
      "C:\\Users\\jrior\\anaconda3\\lib\\site-packages\\sklearn\\metrics\\_classification.py:1318: UndefinedMetricWarning:\n",
      "\n",
      "Precision is ill-defined and being set to 0.0 due to no predicted samples. Use `zero_division` parameter to control this behavior.\n",
      "\n",
      "C:\\Users\\jrior\\anaconda3\\lib\\site-packages\\sklearn\\metrics\\_classification.py:1318: UndefinedMetricWarning:\n",
      "\n",
      "Precision is ill-defined and being set to 0.0 due to no predicted samples. Use `zero_division` parameter to control this behavior.\n",
      "\n",
      "C:\\Users\\jrior\\anaconda3\\lib\\site-packages\\sklearn\\metrics\\_classification.py:1318: UndefinedMetricWarning:\n",
      "\n",
      "Precision is ill-defined and being set to 0.0 due to no predicted samples. Use `zero_division` parameter to control this behavior.\n",
      "\n",
      "C:\\Users\\jrior\\anaconda3\\lib\\site-packages\\sklearn\\metrics\\_classification.py:1318: UndefinedMetricWarning:\n",
      "\n",
      "Precision is ill-defined and being set to 0.0 due to no predicted samples. Use `zero_division` parameter to control this behavior.\n",
      "\n",
      "C:\\Users\\jrior\\anaconda3\\lib\\site-packages\\sklearn\\metrics\\_classification.py:1318: UndefinedMetricWarning:\n",
      "\n",
      "Precision is ill-defined and being set to 0.0 due to no predicted samples. Use `zero_division` parameter to control this behavior.\n",
      "\n",
      "C:\\Users\\jrior\\anaconda3\\lib\\site-packages\\sklearn\\metrics\\_classification.py:1318: UndefinedMetricWarning:\n",
      "\n",
      "Precision is ill-defined and being set to 0.0 due to no predicted samples. Use `zero_division` parameter to control this behavior.\n",
      "\n",
      "C:\\Users\\jrior\\anaconda3\\lib\\site-packages\\sklearn\\metrics\\_classification.py:1318: UndefinedMetricWarning:\n",
      "\n",
      "Precision is ill-defined and being set to 0.0 due to no predicted samples. Use `zero_division` parameter to control this behavior.\n",
      "\n",
      "C:\\Users\\jrior\\anaconda3\\lib\\site-packages\\sklearn\\metrics\\_classification.py:1318: UndefinedMetricWarning:\n",
      "\n",
      "Precision is ill-defined and being set to 0.0 due to no predicted samples. Use `zero_division` parameter to control this behavior.\n",
      "\n",
      "C:\\Users\\jrior\\anaconda3\\lib\\site-packages\\sklearn\\metrics\\_classification.py:1318: UndefinedMetricWarning:\n",
      "\n",
      "Precision is ill-defined and being set to 0.0 due to no predicted samples. Use `zero_division` parameter to control this behavior.\n",
      "\n",
      "C:\\Users\\jrior\\anaconda3\\lib\\site-packages\\sklearn\\metrics\\_classification.py:1318: UndefinedMetricWarning:\n",
      "\n",
      "Precision is ill-defined and being set to 0.0 due to no predicted samples. Use `zero_division` parameter to control this behavior.\n",
      "\n",
      "C:\\Users\\jrior\\anaconda3\\lib\\site-packages\\sklearn\\metrics\\_classification.py:1318: UndefinedMetricWarning:\n",
      "\n",
      "Precision is ill-defined and being set to 0.0 due to no predicted samples. Use `zero_division` parameter to control this behavior.\n",
      "\n",
      "C:\\Users\\jrior\\anaconda3\\lib\\site-packages\\sklearn\\metrics\\_classification.py:1318: UndefinedMetricWarning:\n",
      "\n",
      "Precision is ill-defined and being set to 0.0 due to no predicted samples. Use `zero_division` parameter to control this behavior.\n",
      "\n",
      "C:\\Users\\jrior\\anaconda3\\lib\\site-packages\\sklearn\\metrics\\_classification.py:1318: UndefinedMetricWarning:\n",
      "\n",
      "Precision is ill-defined and being set to 0.0 due to no predicted samples. Use `zero_division` parameter to control this behavior.\n",
      "\n",
      "C:\\Users\\jrior\\anaconda3\\lib\\site-packages\\sklearn\\metrics\\_classification.py:1318: UndefinedMetricWarning:\n",
      "\n",
      "Precision is ill-defined and being set to 0.0 due to no predicted samples. Use `zero_division` parameter to control this behavior.\n",
      "\n",
      "C:\\Users\\jrior\\anaconda3\\lib\\site-packages\\sklearn\\metrics\\_classification.py:1318: UndefinedMetricWarning:\n",
      "\n",
      "Precision is ill-defined and being set to 0.0 due to no predicted samples. Use `zero_division` parameter to control this behavior.\n",
      "\n",
      "C:\\Users\\jrior\\anaconda3\\lib\\site-packages\\sklearn\\metrics\\_classification.py:1318: UndefinedMetricWarning:\n",
      "\n",
      "Precision is ill-defined and being set to 0.0 due to no predicted samples. Use `zero_division` parameter to control this behavior.\n",
      "\n",
      "C:\\Users\\jrior\\anaconda3\\lib\\site-packages\\sklearn\\metrics\\_classification.py:1318: UndefinedMetricWarning:\n",
      "\n",
      "Precision is ill-defined and being set to 0.0 due to no predicted samples. Use `zero_division` parameter to control this behavior.\n",
      "\n",
      "C:\\Users\\jrior\\anaconda3\\lib\\site-packages\\sklearn\\metrics\\_classification.py:1318: UndefinedMetricWarning:\n",
      "\n",
      "Precision is ill-defined and being set to 0.0 due to no predicted samples. Use `zero_division` parameter to control this behavior.\n",
      "\n",
      "C:\\Users\\jrior\\anaconda3\\lib\\site-packages\\sklearn\\metrics\\_classification.py:1318: UndefinedMetricWarning:\n",
      "\n",
      "Precision is ill-defined and being set to 0.0 due to no predicted samples. Use `zero_division` parameter to control this behavior.\n",
      "\n",
      "C:\\Users\\jrior\\anaconda3\\lib\\site-packages\\sklearn\\metrics\\_classification.py:1318: UndefinedMetricWarning:\n",
      "\n",
      "Precision is ill-defined and being set to 0.0 due to no predicted samples. Use `zero_division` parameter to control this behavior.\n",
      "\n",
      "C:\\Users\\jrior\\anaconda3\\lib\\site-packages\\sklearn\\metrics\\_classification.py:1318: UndefinedMetricWarning:\n",
      "\n",
      "Precision is ill-defined and being set to 0.0 due to no predicted samples. Use `zero_division` parameter to control this behavior.\n",
      "\n",
      "C:\\Users\\jrior\\anaconda3\\lib\\site-packages\\sklearn\\metrics\\_classification.py:1318: UndefinedMetricWarning:\n",
      "\n",
      "Precision is ill-defined and being set to 0.0 due to no predicted samples. Use `zero_division` parameter to control this behavior.\n",
      "\n",
      "C:\\Users\\jrior\\anaconda3\\lib\\site-packages\\sklearn\\metrics\\_classification.py:1318: UndefinedMetricWarning:\n",
      "\n",
      "Precision is ill-defined and being set to 0.0 due to no predicted samples. Use `zero_division` parameter to control this behavior.\n",
      "\n",
      "C:\\Users\\jrior\\anaconda3\\lib\\site-packages\\sklearn\\metrics\\_classification.py:1318: UndefinedMetricWarning:\n",
      "\n",
      "Precision is ill-defined and being set to 0.0 due to no predicted samples. Use `zero_division` parameter to control this behavior.\n",
      "\n",
      "C:\\Users\\jrior\\anaconda3\\lib\\site-packages\\sklearn\\metrics\\_classification.py:1318: UndefinedMetricWarning:\n",
      "\n",
      "Precision is ill-defined and being set to 0.0 due to no predicted samples. Use `zero_division` parameter to control this behavior.\n",
      "\n",
      "C:\\Users\\jrior\\anaconda3\\lib\\site-packages\\sklearn\\metrics\\_classification.py:1318: UndefinedMetricWarning:\n",
      "\n",
      "Precision is ill-defined and being set to 0.0 due to no predicted samples. Use `zero_division` parameter to control this behavior.\n",
      "\n",
      "C:\\Users\\jrior\\anaconda3\\lib\\site-packages\\sklearn\\metrics\\_classification.py:1318: UndefinedMetricWarning:\n",
      "\n",
      "Precision is ill-defined and being set to 0.0 due to no predicted samples. Use `zero_division` parameter to control this behavior.\n",
      "\n",
      "C:\\Users\\jrior\\anaconda3\\lib\\site-packages\\sklearn\\metrics\\_classification.py:1318: UndefinedMetricWarning:\n",
      "\n",
      "Precision is ill-defined and being set to 0.0 due to no predicted samples. Use `zero_division` parameter to control this behavior.\n",
      "\n",
      "C:\\Users\\jrior\\anaconda3\\lib\\site-packages\\sklearn\\metrics\\_classification.py:1318: UndefinedMetricWarning:\n",
      "\n",
      "Precision is ill-defined and being set to 0.0 due to no predicted samples. Use `zero_division` parameter to control this behavior.\n",
      "\n",
      "C:\\Users\\jrior\\anaconda3\\lib\\site-packages\\sklearn\\metrics\\_classification.py:1318: UndefinedMetricWarning:\n",
      "\n",
      "Precision is ill-defined and being set to 0.0 due to no predicted samples. Use `zero_division` parameter to control this behavior.\n",
      "\n",
      "C:\\Users\\jrior\\anaconda3\\lib\\site-packages\\sklearn\\metrics\\_classification.py:1318: UndefinedMetricWarning:\n",
      "\n",
      "Precision is ill-defined and being set to 0.0 due to no predicted samples. Use `zero_division` parameter to control this behavior.\n",
      "\n",
      "C:\\Users\\jrior\\anaconda3\\lib\\site-packages\\sklearn\\metrics\\_classification.py:1318: UndefinedMetricWarning:\n",
      "\n",
      "Precision is ill-defined and being set to 0.0 due to no predicted samples. Use `zero_division` parameter to control this behavior.\n",
      "\n",
      "C:\\Users\\jrior\\anaconda3\\lib\\site-packages\\sklearn\\metrics\\_classification.py:1318: UndefinedMetricWarning:\n",
      "\n",
      "Precision is ill-defined and being set to 0.0 due to no predicted samples. Use `zero_division` parameter to control this behavior.\n",
      "\n",
      "C:\\Users\\jrior\\anaconda3\\lib\\site-packages\\sklearn\\metrics\\_classification.py:1318: UndefinedMetricWarning:\n",
      "\n",
      "Precision is ill-defined and being set to 0.0 due to no predicted samples. Use `zero_division` parameter to control this behavior.\n",
      "\n",
      "C:\\Users\\jrior\\anaconda3\\lib\\site-packages\\sklearn\\metrics\\_classification.py:1318: UndefinedMetricWarning:\n",
      "\n",
      "Precision is ill-defined and being set to 0.0 due to no predicted samples. Use `zero_division` parameter to control this behavior.\n",
      "\n",
      "C:\\Users\\jrior\\anaconda3\\lib\\site-packages\\sklearn\\metrics\\_classification.py:1318: UndefinedMetricWarning:\n",
      "\n",
      "Precision is ill-defined and being set to 0.0 due to no predicted samples. Use `zero_division` parameter to control this behavior.\n",
      "\n",
      "C:\\Users\\jrior\\anaconda3\\lib\\site-packages\\sklearn\\metrics\\_classification.py:1318: UndefinedMetricWarning:\n",
      "\n",
      "Precision is ill-defined and being set to 0.0 due to no predicted samples. Use `zero_division` parameter to control this behavior.\n",
      "\n",
      "C:\\Users\\jrior\\anaconda3\\lib\\site-packages\\sklearn\\metrics\\_classification.py:1318: UndefinedMetricWarning:\n",
      "\n",
      "Precision is ill-defined and being set to 0.0 due to no predicted samples. Use `zero_division` parameter to control this behavior.\n",
      "\n",
      "C:\\Users\\jrior\\anaconda3\\lib\\site-packages\\sklearn\\metrics\\_classification.py:1318: UndefinedMetricWarning:\n",
      "\n",
      "Precision is ill-defined and being set to 0.0 due to no predicted samples. Use `zero_division` parameter to control this behavior.\n",
      "\n",
      "C:\\Users\\jrior\\anaconda3\\lib\\site-packages\\sklearn\\metrics\\_classification.py:1318: UndefinedMetricWarning:\n",
      "\n",
      "Precision is ill-defined and being set to 0.0 due to no predicted samples. Use `zero_division` parameter to control this behavior.\n",
      "\n",
      "C:\\Users\\jrior\\anaconda3\\lib\\site-packages\\sklearn\\metrics\\_classification.py:1318: UndefinedMetricWarning:\n",
      "\n",
      "Precision is ill-defined and being set to 0.0 due to no predicted samples. Use `zero_division` parameter to control this behavior.\n",
      "\n",
      "C:\\Users\\jrior\\anaconda3\\lib\\site-packages\\sklearn\\metrics\\_classification.py:1318: UndefinedMetricWarning:\n",
      "\n",
      "Precision is ill-defined and being set to 0.0 due to no predicted samples. Use `zero_division` parameter to control this behavior.\n",
      "\n",
      "C:\\Users\\jrior\\anaconda3\\lib\\site-packages\\sklearn\\metrics\\_classification.py:1318: UndefinedMetricWarning:\n",
      "\n",
      "Precision is ill-defined and being set to 0.0 due to no predicted samples. Use `zero_division` parameter to control this behavior.\n",
      "\n",
      "C:\\Users\\jrior\\anaconda3\\lib\\site-packages\\sklearn\\metrics\\_classification.py:1318: UndefinedMetricWarning:\n",
      "\n",
      "Precision is ill-defined and being set to 0.0 due to no predicted samples. Use `zero_division` parameter to control this behavior.\n",
      "\n",
      " 64%|██████▎   | 7/11 [17:01<10:00, 150.11s/it]<ipython-input-110-138dc38fa4d7>:7: SettingWithCopyWarning:\n",
      "\n",
      "\n",
      "A value is trying to be set on a copy of a slice from a DataFrame.\n",
      "Try using .loc[row_indexer,col_indexer] = value instead\n",
      "\n",
      "See the caveats in the documentation: https://pandas.pydata.org/pandas-docs/stable/user_guide/indexing.html#returning-a-view-versus-a-copy\n",
      "\n",
      "C:\\Users\\jrior\\anaconda3\\lib\\site-packages\\sklearn\\metrics\\_classification.py:1318: UndefinedMetricWarning:\n",
      "\n",
      "Precision is ill-defined and being set to 0.0 due to no predicted samples. Use `zero_division` parameter to control this behavior.\n",
      "\n",
      "C:\\Users\\jrior\\anaconda3\\lib\\site-packages\\sklearn\\metrics\\_classification.py:1318: UndefinedMetricWarning:\n",
      "\n",
      "Precision is ill-defined and being set to 0.0 due to no predicted samples. Use `zero_division` parameter to control this behavior.\n",
      "\n",
      "C:\\Users\\jrior\\anaconda3\\lib\\site-packages\\sklearn\\metrics\\_classification.py:1318: UndefinedMetricWarning:\n",
      "\n",
      "Precision is ill-defined and being set to 0.0 due to no predicted samples. Use `zero_division` parameter to control this behavior.\n",
      "\n",
      "C:\\Users\\jrior\\anaconda3\\lib\\site-packages\\sklearn\\metrics\\_classification.py:1318: UndefinedMetricWarning:\n",
      "\n",
      "Precision is ill-defined and being set to 0.0 due to no predicted samples. Use `zero_division` parameter to control this behavior.\n",
      "\n",
      "C:\\Users\\jrior\\anaconda3\\lib\\site-packages\\sklearn\\metrics\\_classification.py:1318: UndefinedMetricWarning:\n",
      "\n",
      "Precision is ill-defined and being set to 0.0 due to no predicted samples. Use `zero_division` parameter to control this behavior.\n",
      "\n",
      "C:\\Users\\jrior\\anaconda3\\lib\\site-packages\\sklearn\\metrics\\_classification.py:1318: UndefinedMetricWarning:\n",
      "\n",
      "Precision is ill-defined and being set to 0.0 due to no predicted samples. Use `zero_division` parameter to control this behavior.\n",
      "\n",
      "C:\\Users\\jrior\\anaconda3\\lib\\site-packages\\sklearn\\metrics\\_classification.py:1318: UndefinedMetricWarning:\n",
      "\n",
      "Precision is ill-defined and being set to 0.0 due to no predicted samples. Use `zero_division` parameter to control this behavior.\n",
      "\n",
      "C:\\Users\\jrior\\anaconda3\\lib\\site-packages\\sklearn\\metrics\\_classification.py:1318: UndefinedMetricWarning:\n",
      "\n",
      "Precision is ill-defined and being set to 0.0 due to no predicted samples. Use `zero_division` parameter to control this behavior.\n",
      "\n",
      "C:\\Users\\jrior\\anaconda3\\lib\\site-packages\\sklearn\\metrics\\_classification.py:1318: UndefinedMetricWarning:\n",
      "\n",
      "Precision is ill-defined and being set to 0.0 due to no predicted samples. Use `zero_division` parameter to control this behavior.\n",
      "\n",
      "C:\\Users\\jrior\\anaconda3\\lib\\site-packages\\sklearn\\metrics\\_classification.py:1318: UndefinedMetricWarning:\n",
      "\n",
      "Precision is ill-defined and being set to 0.0 due to no predicted samples. Use `zero_division` parameter to control this behavior.\n",
      "\n",
      "C:\\Users\\jrior\\anaconda3\\lib\\site-packages\\sklearn\\metrics\\_classification.py:1318: UndefinedMetricWarning:\n",
      "\n",
      "Precision is ill-defined and being set to 0.0 due to no predicted samples. Use `zero_division` parameter to control this behavior.\n",
      "\n",
      "C:\\Users\\jrior\\anaconda3\\lib\\site-packages\\sklearn\\metrics\\_classification.py:1318: UndefinedMetricWarning:\n",
      "\n",
      "Precision is ill-defined and being set to 0.0 due to no predicted samples. Use `zero_division` parameter to control this behavior.\n",
      "\n",
      "C:\\Users\\jrior\\anaconda3\\lib\\site-packages\\sklearn\\metrics\\_classification.py:1318: UndefinedMetricWarning:\n",
      "\n",
      "Precision is ill-defined and being set to 0.0 due to no predicted samples. Use `zero_division` parameter to control this behavior.\n",
      "\n",
      "C:\\Users\\jrior\\anaconda3\\lib\\site-packages\\sklearn\\metrics\\_classification.py:1318: UndefinedMetricWarning:\n",
      "\n",
      "Precision is ill-defined and being set to 0.0 due to no predicted samples. Use `zero_division` parameter to control this behavior.\n",
      "\n",
      "C:\\Users\\jrior\\anaconda3\\lib\\site-packages\\sklearn\\metrics\\_classification.py:1318: UndefinedMetricWarning:\n",
      "\n",
      "Precision is ill-defined and being set to 0.0 due to no predicted samples. Use `zero_division` parameter to control this behavior.\n",
      "\n",
      "C:\\Users\\jrior\\anaconda3\\lib\\site-packages\\sklearn\\metrics\\_classification.py:1318: UndefinedMetricWarning:\n",
      "\n",
      "Precision is ill-defined and being set to 0.0 due to no predicted samples. Use `zero_division` parameter to control this behavior.\n",
      "\n",
      "C:\\Users\\jrior\\anaconda3\\lib\\site-packages\\sklearn\\metrics\\_classification.py:1318: UndefinedMetricWarning:\n",
      "\n",
      "Precision is ill-defined and being set to 0.0 due to no predicted samples. Use `zero_division` parameter to control this behavior.\n",
      "\n",
      "C:\\Users\\jrior\\anaconda3\\lib\\site-packages\\sklearn\\metrics\\_classification.py:1318: UndefinedMetricWarning:\n",
      "\n",
      "Precision is ill-defined and being set to 0.0 due to no predicted samples. Use `zero_division` parameter to control this behavior.\n",
      "\n",
      "C:\\Users\\jrior\\anaconda3\\lib\\site-packages\\sklearn\\metrics\\_classification.py:1318: UndefinedMetricWarning:\n",
      "\n",
      "Precision is ill-defined and being set to 0.0 due to no predicted samples. Use `zero_division` parameter to control this behavior.\n",
      "\n",
      "C:\\Users\\jrior\\anaconda3\\lib\\site-packages\\sklearn\\metrics\\_classification.py:1318: UndefinedMetricWarning:\n",
      "\n",
      "Precision is ill-defined and being set to 0.0 due to no predicted samples. Use `zero_division` parameter to control this behavior.\n",
      "\n",
      "C:\\Users\\jrior\\anaconda3\\lib\\site-packages\\sklearn\\metrics\\_classification.py:1318: UndefinedMetricWarning:\n",
      "\n",
      "Precision is ill-defined and being set to 0.0 due to no predicted samples. Use `zero_division` parameter to control this behavior.\n",
      "\n",
      "C:\\Users\\jrior\\anaconda3\\lib\\site-packages\\sklearn\\metrics\\_classification.py:1318: UndefinedMetricWarning:\n",
      "\n",
      "Precision is ill-defined and being set to 0.0 due to no predicted samples. Use `zero_division` parameter to control this behavior.\n",
      "\n",
      "C:\\Users\\jrior\\anaconda3\\lib\\site-packages\\sklearn\\metrics\\_classification.py:1318: UndefinedMetricWarning:\n",
      "\n",
      "Precision is ill-defined and being set to 0.0 due to no predicted samples. Use `zero_division` parameter to control this behavior.\n",
      "\n",
      "C:\\Users\\jrior\\anaconda3\\lib\\site-packages\\sklearn\\metrics\\_classification.py:1318: UndefinedMetricWarning:\n",
      "\n",
      "Precision is ill-defined and being set to 0.0 due to no predicted samples. Use `zero_division` parameter to control this behavior.\n",
      "\n",
      "C:\\Users\\jrior\\anaconda3\\lib\\site-packages\\sklearn\\metrics\\_classification.py:1318: UndefinedMetricWarning:\n",
      "\n",
      "Precision is ill-defined and being set to 0.0 due to no predicted samples. Use `zero_division` parameter to control this behavior.\n",
      "\n",
      "C:\\Users\\jrior\\anaconda3\\lib\\site-packages\\sklearn\\metrics\\_classification.py:1318: UndefinedMetricWarning:\n",
      "\n",
      "Precision is ill-defined and being set to 0.0 due to no predicted samples. Use `zero_division` parameter to control this behavior.\n",
      "\n",
      "C:\\Users\\jrior\\anaconda3\\lib\\site-packages\\sklearn\\metrics\\_classification.py:1318: UndefinedMetricWarning:\n",
      "\n",
      "Precision is ill-defined and being set to 0.0 due to no predicted samples. Use `zero_division` parameter to control this behavior.\n",
      "\n",
      "C:\\Users\\jrior\\anaconda3\\lib\\site-packages\\sklearn\\metrics\\_classification.py:1318: UndefinedMetricWarning:\n",
      "\n",
      "Precision is ill-defined and being set to 0.0 due to no predicted samples. Use `zero_division` parameter to control this behavior.\n",
      "\n",
      "C:\\Users\\jrior\\anaconda3\\lib\\site-packages\\sklearn\\metrics\\_classification.py:1318: UndefinedMetricWarning:\n",
      "\n",
      "Precision is ill-defined and being set to 0.0 due to no predicted samples. Use `zero_division` parameter to control this behavior.\n",
      "\n",
      "C:\\Users\\jrior\\anaconda3\\lib\\site-packages\\sklearn\\metrics\\_classification.py:1318: UndefinedMetricWarning:\n",
      "\n",
      "Precision is ill-defined and being set to 0.0 due to no predicted samples. Use `zero_division` parameter to control this behavior.\n",
      "\n",
      "C:\\Users\\jrior\\anaconda3\\lib\\site-packages\\sklearn\\metrics\\_classification.py:1318: UndefinedMetricWarning:\n",
      "\n",
      "Precision is ill-defined and being set to 0.0 due to no predicted samples. Use `zero_division` parameter to control this behavior.\n",
      "\n",
      "C:\\Users\\jrior\\anaconda3\\lib\\site-packages\\sklearn\\metrics\\_classification.py:1318: UndefinedMetricWarning:\n",
      "\n",
      "Precision is ill-defined and being set to 0.0 due to no predicted samples. Use `zero_division` parameter to control this behavior.\n",
      "\n",
      "C:\\Users\\jrior\\anaconda3\\lib\\site-packages\\sklearn\\metrics\\_classification.py:1318: UndefinedMetricWarning:\n",
      "\n",
      "Precision is ill-defined and being set to 0.0 due to no predicted samples. Use `zero_division` parameter to control this behavior.\n",
      "\n",
      "C:\\Users\\jrior\\anaconda3\\lib\\site-packages\\sklearn\\metrics\\_classification.py:1318: UndefinedMetricWarning:\n",
      "\n",
      "Precision is ill-defined and being set to 0.0 due to no predicted samples. Use `zero_division` parameter to control this behavior.\n",
      "\n",
      "C:\\Users\\jrior\\anaconda3\\lib\\site-packages\\sklearn\\metrics\\_classification.py:1318: UndefinedMetricWarning:\n",
      "\n",
      "Precision is ill-defined and being set to 0.0 due to no predicted samples. Use `zero_division` parameter to control this behavior.\n",
      "\n",
      "C:\\Users\\jrior\\anaconda3\\lib\\site-packages\\sklearn\\metrics\\_classification.py:1318: UndefinedMetricWarning:\n",
      "\n",
      "Precision is ill-defined and being set to 0.0 due to no predicted samples. Use `zero_division` parameter to control this behavior.\n",
      "\n",
      "C:\\Users\\jrior\\anaconda3\\lib\\site-packages\\sklearn\\metrics\\_classification.py:1318: UndefinedMetricWarning:\n",
      "\n",
      "Precision is ill-defined and being set to 0.0 due to no predicted samples. Use `zero_division` parameter to control this behavior.\n",
      "\n",
      "C:\\Users\\jrior\\anaconda3\\lib\\site-packages\\sklearn\\metrics\\_classification.py:1318: UndefinedMetricWarning:\n",
      "\n",
      "Precision is ill-defined and being set to 0.0 due to no predicted samples. Use `zero_division` parameter to control this behavior.\n",
      "\n",
      "C:\\Users\\jrior\\anaconda3\\lib\\site-packages\\sklearn\\metrics\\_classification.py:1318: UndefinedMetricWarning:\n",
      "\n",
      "Precision is ill-defined and being set to 0.0 due to no predicted samples. Use `zero_division` parameter to control this behavior.\n",
      "\n",
      "C:\\Users\\jrior\\anaconda3\\lib\\site-packages\\sklearn\\metrics\\_classification.py:1318: UndefinedMetricWarning:\n",
      "\n",
      "Precision is ill-defined and being set to 0.0 due to no predicted samples. Use `zero_division` parameter to control this behavior.\n",
      "\n",
      "C:\\Users\\jrior\\anaconda3\\lib\\site-packages\\sklearn\\metrics\\_classification.py:1318: UndefinedMetricWarning:\n",
      "\n",
      "Precision is ill-defined and being set to 0.0 due to no predicted samples. Use `zero_division` parameter to control this behavior.\n",
      "\n",
      "C:\\Users\\jrior\\anaconda3\\lib\\site-packages\\sklearn\\metrics\\_classification.py:1318: UndefinedMetricWarning:\n",
      "\n",
      "Precision is ill-defined and being set to 0.0 due to no predicted samples. Use `zero_division` parameter to control this behavior.\n",
      "\n",
      "C:\\Users\\jrior\\anaconda3\\lib\\site-packages\\sklearn\\metrics\\_classification.py:1318: UndefinedMetricWarning:\n",
      "\n",
      "Precision is ill-defined and being set to 0.0 due to no predicted samples. Use `zero_division` parameter to control this behavior.\n",
      "\n",
      "C:\\Users\\jrior\\anaconda3\\lib\\site-packages\\sklearn\\metrics\\_classification.py:1318: UndefinedMetricWarning:\n",
      "\n",
      "Precision is ill-defined and being set to 0.0 due to no predicted samples. Use `zero_division` parameter to control this behavior.\n",
      "\n",
      " 73%|███████▎  | 8/11 [19:23<07:22, 147.49s/it]<ipython-input-110-138dc38fa4d7>:7: SettingWithCopyWarning:\n",
      "\n",
      "\n",
      "A value is trying to be set on a copy of a slice from a DataFrame.\n",
      "Try using .loc[row_indexer,col_indexer] = value instead\n",
      "\n",
      "See the caveats in the documentation: https://pandas.pydata.org/pandas-docs/stable/user_guide/indexing.html#returning-a-view-versus-a-copy\n",
      "\n",
      "C:\\Users\\jrior\\anaconda3\\lib\\site-packages\\sklearn\\metrics\\_classification.py:1318: UndefinedMetricWarning:\n",
      "\n",
      "Precision is ill-defined and being set to 0.0 due to no predicted samples. Use `zero_division` parameter to control this behavior.\n",
      "\n",
      "C:\\Users\\jrior\\anaconda3\\lib\\site-packages\\sklearn\\metrics\\_classification.py:1318: UndefinedMetricWarning:\n",
      "\n",
      "Precision is ill-defined and being set to 0.0 due to no predicted samples. Use `zero_division` parameter to control this behavior.\n",
      "\n",
      "C:\\Users\\jrior\\anaconda3\\lib\\site-packages\\sklearn\\metrics\\_classification.py:1318: UndefinedMetricWarning:\n",
      "\n",
      "Precision is ill-defined and being set to 0.0 due to no predicted samples. Use `zero_division` parameter to control this behavior.\n",
      "\n",
      "C:\\Users\\jrior\\anaconda3\\lib\\site-packages\\sklearn\\metrics\\_classification.py:1318: UndefinedMetricWarning:\n",
      "\n",
      "Precision is ill-defined and being set to 0.0 due to no predicted samples. Use `zero_division` parameter to control this behavior.\n",
      "\n",
      "C:\\Users\\jrior\\anaconda3\\lib\\site-packages\\sklearn\\metrics\\_classification.py:1318: UndefinedMetricWarning:\n",
      "\n",
      "Precision is ill-defined and being set to 0.0 due to no predicted samples. Use `zero_division` parameter to control this behavior.\n",
      "\n",
      "C:\\Users\\jrior\\anaconda3\\lib\\site-packages\\sklearn\\metrics\\_classification.py:1318: UndefinedMetricWarning:\n",
      "\n",
      "Precision is ill-defined and being set to 0.0 due to no predicted samples. Use `zero_division` parameter to control this behavior.\n",
      "\n",
      "C:\\Users\\jrior\\anaconda3\\lib\\site-packages\\sklearn\\metrics\\_classification.py:1318: UndefinedMetricWarning:\n",
      "\n",
      "Precision is ill-defined and being set to 0.0 due to no predicted samples. Use `zero_division` parameter to control this behavior.\n",
      "\n",
      "C:\\Users\\jrior\\anaconda3\\lib\\site-packages\\sklearn\\metrics\\_classification.py:1318: UndefinedMetricWarning:\n",
      "\n",
      "Precision is ill-defined and being set to 0.0 due to no predicted samples. Use `zero_division` parameter to control this behavior.\n",
      "\n",
      "C:\\Users\\jrior\\anaconda3\\lib\\site-packages\\sklearn\\metrics\\_classification.py:1318: UndefinedMetricWarning:\n",
      "\n",
      "Precision is ill-defined and being set to 0.0 due to no predicted samples. Use `zero_division` parameter to control this behavior.\n",
      "\n",
      "C:\\Users\\jrior\\anaconda3\\lib\\site-packages\\sklearn\\metrics\\_classification.py:1318: UndefinedMetricWarning:\n",
      "\n",
      "Precision is ill-defined and being set to 0.0 due to no predicted samples. Use `zero_division` parameter to control this behavior.\n",
      "\n",
      "C:\\Users\\jrior\\anaconda3\\lib\\site-packages\\sklearn\\metrics\\_classification.py:1318: UndefinedMetricWarning:\n",
      "\n",
      "Precision is ill-defined and being set to 0.0 due to no predicted samples. Use `zero_division` parameter to control this behavior.\n",
      "\n",
      "C:\\Users\\jrior\\anaconda3\\lib\\site-packages\\sklearn\\metrics\\_classification.py:1318: UndefinedMetricWarning:\n",
      "\n",
      "Precision is ill-defined and being set to 0.0 due to no predicted samples. Use `zero_division` parameter to control this behavior.\n",
      "\n",
      "C:\\Users\\jrior\\anaconda3\\lib\\site-packages\\sklearn\\metrics\\_classification.py:1318: UndefinedMetricWarning:\n",
      "\n",
      "Precision is ill-defined and being set to 0.0 due to no predicted samples. Use `zero_division` parameter to control this behavior.\n",
      "\n",
      "C:\\Users\\jrior\\anaconda3\\lib\\site-packages\\sklearn\\metrics\\_classification.py:1318: UndefinedMetricWarning:\n",
      "\n",
      "Precision is ill-defined and being set to 0.0 due to no predicted samples. Use `zero_division` parameter to control this behavior.\n",
      "\n",
      "C:\\Users\\jrior\\anaconda3\\lib\\site-packages\\sklearn\\metrics\\_classification.py:1318: UndefinedMetricWarning:\n",
      "\n",
      "Precision is ill-defined and being set to 0.0 due to no predicted samples. Use `zero_division` parameter to control this behavior.\n",
      "\n",
      "C:\\Users\\jrior\\anaconda3\\lib\\site-packages\\sklearn\\metrics\\_classification.py:1318: UndefinedMetricWarning:\n",
      "\n",
      "Precision is ill-defined and being set to 0.0 due to no predicted samples. Use `zero_division` parameter to control this behavior.\n",
      "\n",
      "C:\\Users\\jrior\\anaconda3\\lib\\site-packages\\sklearn\\metrics\\_classification.py:1318: UndefinedMetricWarning:\n",
      "\n",
      "Precision is ill-defined and being set to 0.0 due to no predicted samples. Use `zero_division` parameter to control this behavior.\n",
      "\n",
      "C:\\Users\\jrior\\anaconda3\\lib\\site-packages\\sklearn\\metrics\\_classification.py:1318: UndefinedMetricWarning:\n",
      "\n",
      "Precision is ill-defined and being set to 0.0 due to no predicted samples. Use `zero_division` parameter to control this behavior.\n",
      "\n",
      "C:\\Users\\jrior\\anaconda3\\lib\\site-packages\\sklearn\\metrics\\_classification.py:1318: UndefinedMetricWarning:\n",
      "\n",
      "Precision is ill-defined and being set to 0.0 due to no predicted samples. Use `zero_division` parameter to control this behavior.\n",
      "\n",
      "C:\\Users\\jrior\\anaconda3\\lib\\site-packages\\sklearn\\metrics\\_classification.py:1318: UndefinedMetricWarning:\n",
      "\n",
      "Precision is ill-defined and being set to 0.0 due to no predicted samples. Use `zero_division` parameter to control this behavior.\n",
      "\n",
      "C:\\Users\\jrior\\anaconda3\\lib\\site-packages\\sklearn\\metrics\\_classification.py:1318: UndefinedMetricWarning:\n",
      "\n",
      "Precision is ill-defined and being set to 0.0 due to no predicted samples. Use `zero_division` parameter to control this behavior.\n",
      "\n",
      "C:\\Users\\jrior\\anaconda3\\lib\\site-packages\\sklearn\\metrics\\_classification.py:1318: UndefinedMetricWarning:\n",
      "\n",
      "Precision is ill-defined and being set to 0.0 due to no predicted samples. Use `zero_division` parameter to control this behavior.\n",
      "\n",
      "C:\\Users\\jrior\\anaconda3\\lib\\site-packages\\sklearn\\metrics\\_classification.py:1318: UndefinedMetricWarning:\n",
      "\n",
      "Precision is ill-defined and being set to 0.0 due to no predicted samples. Use `zero_division` parameter to control this behavior.\n",
      "\n",
      "C:\\Users\\jrior\\anaconda3\\lib\\site-packages\\sklearn\\metrics\\_classification.py:1318: UndefinedMetricWarning:\n",
      "\n",
      "Precision is ill-defined and being set to 0.0 due to no predicted samples. Use `zero_division` parameter to control this behavior.\n",
      "\n",
      "C:\\Users\\jrior\\anaconda3\\lib\\site-packages\\sklearn\\metrics\\_classification.py:1318: UndefinedMetricWarning:\n",
      "\n",
      "Precision is ill-defined and being set to 0.0 due to no predicted samples. Use `zero_division` parameter to control this behavior.\n",
      "\n",
      "C:\\Users\\jrior\\anaconda3\\lib\\site-packages\\sklearn\\metrics\\_classification.py:1318: UndefinedMetricWarning:\n",
      "\n",
      "Precision is ill-defined and being set to 0.0 due to no predicted samples. Use `zero_division` parameter to control this behavior.\n",
      "\n",
      "C:\\Users\\jrior\\anaconda3\\lib\\site-packages\\sklearn\\metrics\\_classification.py:1318: UndefinedMetricWarning:\n",
      "\n",
      "Precision is ill-defined and being set to 0.0 due to no predicted samples. Use `zero_division` parameter to control this behavior.\n",
      "\n",
      "C:\\Users\\jrior\\anaconda3\\lib\\site-packages\\sklearn\\metrics\\_classification.py:1318: UndefinedMetricWarning:\n",
      "\n",
      "Precision is ill-defined and being set to 0.0 due to no predicted samples. Use `zero_division` parameter to control this behavior.\n",
      "\n",
      "C:\\Users\\jrior\\anaconda3\\lib\\site-packages\\sklearn\\metrics\\_classification.py:1318: UndefinedMetricWarning:\n",
      "\n",
      "Precision is ill-defined and being set to 0.0 due to no predicted samples. Use `zero_division` parameter to control this behavior.\n",
      "\n",
      "C:\\Users\\jrior\\anaconda3\\lib\\site-packages\\sklearn\\metrics\\_classification.py:1318: UndefinedMetricWarning:\n",
      "\n",
      "Precision is ill-defined and being set to 0.0 due to no predicted samples. Use `zero_division` parameter to control this behavior.\n",
      "\n",
      "C:\\Users\\jrior\\anaconda3\\lib\\site-packages\\sklearn\\metrics\\_classification.py:1318: UndefinedMetricWarning:\n",
      "\n",
      "Precision is ill-defined and being set to 0.0 due to no predicted samples. Use `zero_division` parameter to control this behavior.\n",
      "\n",
      "C:\\Users\\jrior\\anaconda3\\lib\\site-packages\\sklearn\\metrics\\_classification.py:1318: UndefinedMetricWarning:\n",
      "\n",
      "Precision is ill-defined and being set to 0.0 due to no predicted samples. Use `zero_division` parameter to control this behavior.\n",
      "\n",
      "C:\\Users\\jrior\\anaconda3\\lib\\site-packages\\sklearn\\metrics\\_classification.py:1318: UndefinedMetricWarning:\n",
      "\n",
      "Precision is ill-defined and being set to 0.0 due to no predicted samples. Use `zero_division` parameter to control this behavior.\n",
      "\n",
      "C:\\Users\\jrior\\anaconda3\\lib\\site-packages\\sklearn\\metrics\\_classification.py:1318: UndefinedMetricWarning:\n",
      "\n",
      "Precision is ill-defined and being set to 0.0 due to no predicted samples. Use `zero_division` parameter to control this behavior.\n",
      "\n",
      "C:\\Users\\jrior\\anaconda3\\lib\\site-packages\\sklearn\\metrics\\_classification.py:1318: UndefinedMetricWarning:\n",
      "\n",
      "Precision is ill-defined and being set to 0.0 due to no predicted samples. Use `zero_division` parameter to control this behavior.\n",
      "\n",
      "C:\\Users\\jrior\\anaconda3\\lib\\site-packages\\sklearn\\metrics\\_classification.py:1318: UndefinedMetricWarning:\n",
      "\n",
      "Precision is ill-defined and being set to 0.0 due to no predicted samples. Use `zero_division` parameter to control this behavior.\n",
      "\n",
      "C:\\Users\\jrior\\anaconda3\\lib\\site-packages\\sklearn\\metrics\\_classification.py:1318: UndefinedMetricWarning:\n",
      "\n",
      "Precision is ill-defined and being set to 0.0 due to no predicted samples. Use `zero_division` parameter to control this behavior.\n",
      "\n",
      "C:\\Users\\jrior\\anaconda3\\lib\\site-packages\\sklearn\\metrics\\_classification.py:1318: UndefinedMetricWarning:\n",
      "\n",
      "Precision is ill-defined and being set to 0.0 due to no predicted samples. Use `zero_division` parameter to control this behavior.\n",
      "\n",
      "C:\\Users\\jrior\\anaconda3\\lib\\site-packages\\sklearn\\metrics\\_classification.py:1318: UndefinedMetricWarning:\n",
      "\n",
      "Precision is ill-defined and being set to 0.0 due to no predicted samples. Use `zero_division` parameter to control this behavior.\n",
      "\n",
      "C:\\Users\\jrior\\anaconda3\\lib\\site-packages\\sklearn\\metrics\\_classification.py:1318: UndefinedMetricWarning:\n",
      "\n",
      "Precision is ill-defined and being set to 0.0 due to no predicted samples. Use `zero_division` parameter to control this behavior.\n",
      "\n",
      "C:\\Users\\jrior\\anaconda3\\lib\\site-packages\\sklearn\\metrics\\_classification.py:1318: UndefinedMetricWarning:\n",
      "\n",
      "Precision is ill-defined and being set to 0.0 due to no predicted samples. Use `zero_division` parameter to control this behavior.\n",
      "\n",
      "C:\\Users\\jrior\\anaconda3\\lib\\site-packages\\sklearn\\metrics\\_classification.py:1318: UndefinedMetricWarning:\n",
      "\n",
      "Precision is ill-defined and being set to 0.0 due to no predicted samples. Use `zero_division` parameter to control this behavior.\n",
      "\n",
      "C:\\Users\\jrior\\anaconda3\\lib\\site-packages\\sklearn\\metrics\\_classification.py:1318: UndefinedMetricWarning:\n",
      "\n",
      "Precision is ill-defined and being set to 0.0 due to no predicted samples. Use `zero_division` parameter to control this behavior.\n",
      "\n",
      "C:\\Users\\jrior\\anaconda3\\lib\\site-packages\\sklearn\\metrics\\_classification.py:1318: UndefinedMetricWarning:\n",
      "\n",
      "Precision is ill-defined and being set to 0.0 due to no predicted samples. Use `zero_division` parameter to control this behavior.\n",
      "\n",
      " 82%|████████▏ | 9/11 [21:47<04:52, 146.26s/it]<ipython-input-110-138dc38fa4d7>:7: SettingWithCopyWarning:\n",
      "\n",
      "\n",
      "A value is trying to be set on a copy of a slice from a DataFrame.\n",
      "Try using .loc[row_indexer,col_indexer] = value instead\n",
      "\n",
      "See the caveats in the documentation: https://pandas.pydata.org/pandas-docs/stable/user_guide/indexing.html#returning-a-view-versus-a-copy\n",
      "\n",
      "C:\\Users\\jrior\\anaconda3\\lib\\site-packages\\sklearn\\metrics\\_classification.py:1318: UndefinedMetricWarning:\n",
      "\n",
      "Precision is ill-defined and being set to 0.0 due to no predicted samples. Use `zero_division` parameter to control this behavior.\n",
      "\n",
      "C:\\Users\\jrior\\anaconda3\\lib\\site-packages\\sklearn\\metrics\\_classification.py:1318: UndefinedMetricWarning:\n",
      "\n",
      "Precision is ill-defined and being set to 0.0 due to no predicted samples. Use `zero_division` parameter to control this behavior.\n",
      "\n",
      "C:\\Users\\jrior\\anaconda3\\lib\\site-packages\\sklearn\\metrics\\_classification.py:1318: UndefinedMetricWarning:\n",
      "\n",
      "Precision is ill-defined and being set to 0.0 due to no predicted samples. Use `zero_division` parameter to control this behavior.\n",
      "\n",
      "C:\\Users\\jrior\\anaconda3\\lib\\site-packages\\sklearn\\metrics\\_classification.py:1318: UndefinedMetricWarning:\n",
      "\n",
      "Precision is ill-defined and being set to 0.0 due to no predicted samples. Use `zero_division` parameter to control this behavior.\n",
      "\n",
      "C:\\Users\\jrior\\anaconda3\\lib\\site-packages\\sklearn\\metrics\\_classification.py:1318: UndefinedMetricWarning:\n",
      "\n",
      "Precision is ill-defined and being set to 0.0 due to no predicted samples. Use `zero_division` parameter to control this behavior.\n",
      "\n",
      "C:\\Users\\jrior\\anaconda3\\lib\\site-packages\\sklearn\\metrics\\_classification.py:1318: UndefinedMetricWarning:\n",
      "\n",
      "Precision is ill-defined and being set to 0.0 due to no predicted samples. Use `zero_division` parameter to control this behavior.\n",
      "\n",
      "C:\\Users\\jrior\\anaconda3\\lib\\site-packages\\sklearn\\metrics\\_classification.py:1318: UndefinedMetricWarning:\n",
      "\n",
      "Precision is ill-defined and being set to 0.0 due to no predicted samples. Use `zero_division` parameter to control this behavior.\n",
      "\n",
      "C:\\Users\\jrior\\anaconda3\\lib\\site-packages\\sklearn\\metrics\\_classification.py:1318: UndefinedMetricWarning:\n",
      "\n",
      "Precision is ill-defined and being set to 0.0 due to no predicted samples. Use `zero_division` parameter to control this behavior.\n",
      "\n",
      "C:\\Users\\jrior\\anaconda3\\lib\\site-packages\\sklearn\\metrics\\_classification.py:1318: UndefinedMetricWarning:\n",
      "\n",
      "Precision is ill-defined and being set to 0.0 due to no predicted samples. Use `zero_division` parameter to control this behavior.\n",
      "\n",
      "C:\\Users\\jrior\\anaconda3\\lib\\site-packages\\sklearn\\metrics\\_classification.py:1318: UndefinedMetricWarning:\n",
      "\n",
      "Precision is ill-defined and being set to 0.0 due to no predicted samples. Use `zero_division` parameter to control this behavior.\n",
      "\n",
      "C:\\Users\\jrior\\anaconda3\\lib\\site-packages\\sklearn\\metrics\\_classification.py:1318: UndefinedMetricWarning:\n",
      "\n",
      "Precision is ill-defined and being set to 0.0 due to no predicted samples. Use `zero_division` parameter to control this behavior.\n",
      "\n",
      "C:\\Users\\jrior\\anaconda3\\lib\\site-packages\\sklearn\\metrics\\_classification.py:1318: UndefinedMetricWarning:\n",
      "\n",
      "Precision is ill-defined and being set to 0.0 due to no predicted samples. Use `zero_division` parameter to control this behavior.\n",
      "\n",
      "C:\\Users\\jrior\\anaconda3\\lib\\site-packages\\sklearn\\metrics\\_classification.py:1318: UndefinedMetricWarning:\n",
      "\n",
      "Precision is ill-defined and being set to 0.0 due to no predicted samples. Use `zero_division` parameter to control this behavior.\n",
      "\n",
      "C:\\Users\\jrior\\anaconda3\\lib\\site-packages\\sklearn\\metrics\\_classification.py:1318: UndefinedMetricWarning:\n",
      "\n",
      "Precision is ill-defined and being set to 0.0 due to no predicted samples. Use `zero_division` parameter to control this behavior.\n",
      "\n",
      "C:\\Users\\jrior\\anaconda3\\lib\\site-packages\\sklearn\\metrics\\_classification.py:1318: UndefinedMetricWarning:\n",
      "\n",
      "Precision is ill-defined and being set to 0.0 due to no predicted samples. Use `zero_division` parameter to control this behavior.\n",
      "\n",
      "C:\\Users\\jrior\\anaconda3\\lib\\site-packages\\sklearn\\metrics\\_classification.py:1318: UndefinedMetricWarning:\n",
      "\n",
      "Precision is ill-defined and being set to 0.0 due to no predicted samples. Use `zero_division` parameter to control this behavior.\n",
      "\n",
      "C:\\Users\\jrior\\anaconda3\\lib\\site-packages\\sklearn\\metrics\\_classification.py:1318: UndefinedMetricWarning:\n",
      "\n",
      "Precision is ill-defined and being set to 0.0 due to no predicted samples. Use `zero_division` parameter to control this behavior.\n",
      "\n",
      "C:\\Users\\jrior\\anaconda3\\lib\\site-packages\\sklearn\\metrics\\_classification.py:1318: UndefinedMetricWarning:\n",
      "\n",
      "Precision is ill-defined and being set to 0.0 due to no predicted samples. Use `zero_division` parameter to control this behavior.\n",
      "\n",
      "C:\\Users\\jrior\\anaconda3\\lib\\site-packages\\sklearn\\metrics\\_classification.py:1318: UndefinedMetricWarning:\n",
      "\n",
      "Precision is ill-defined and being set to 0.0 due to no predicted samples. Use `zero_division` parameter to control this behavior.\n",
      "\n",
      "C:\\Users\\jrior\\anaconda3\\lib\\site-packages\\sklearn\\metrics\\_classification.py:1318: UndefinedMetricWarning:\n",
      "\n",
      "Precision is ill-defined and being set to 0.0 due to no predicted samples. Use `zero_division` parameter to control this behavior.\n",
      "\n",
      "C:\\Users\\jrior\\anaconda3\\lib\\site-packages\\sklearn\\metrics\\_classification.py:1318: UndefinedMetricWarning:\n",
      "\n",
      "Precision is ill-defined and being set to 0.0 due to no predicted samples. Use `zero_division` parameter to control this behavior.\n",
      "\n",
      "C:\\Users\\jrior\\anaconda3\\lib\\site-packages\\sklearn\\metrics\\_classification.py:1318: UndefinedMetricWarning:\n",
      "\n",
      "Precision is ill-defined and being set to 0.0 due to no predicted samples. Use `zero_division` parameter to control this behavior.\n",
      "\n",
      "C:\\Users\\jrior\\anaconda3\\lib\\site-packages\\sklearn\\metrics\\_classification.py:1318: UndefinedMetricWarning:\n",
      "\n",
      "Precision is ill-defined and being set to 0.0 due to no predicted samples. Use `zero_division` parameter to control this behavior.\n",
      "\n",
      "C:\\Users\\jrior\\anaconda3\\lib\\site-packages\\sklearn\\metrics\\_classification.py:1318: UndefinedMetricWarning:\n",
      "\n",
      "Precision is ill-defined and being set to 0.0 due to no predicted samples. Use `zero_division` parameter to control this behavior.\n",
      "\n",
      "C:\\Users\\jrior\\anaconda3\\lib\\site-packages\\sklearn\\metrics\\_classification.py:1318: UndefinedMetricWarning:\n",
      "\n",
      "Precision is ill-defined and being set to 0.0 due to no predicted samples. Use `zero_division` parameter to control this behavior.\n",
      "\n",
      "C:\\Users\\jrior\\anaconda3\\lib\\site-packages\\sklearn\\metrics\\_classification.py:1318: UndefinedMetricWarning:\n",
      "\n",
      "Precision is ill-defined and being set to 0.0 due to no predicted samples. Use `zero_division` parameter to control this behavior.\n",
      "\n",
      " 91%|█████████ | 10/11 [24:06<02:24, 144.14s/it]<ipython-input-110-138dc38fa4d7>:7: SettingWithCopyWarning:\n",
      "\n",
      "\n",
      "A value is trying to be set on a copy of a slice from a DataFrame.\n",
      "Try using .loc[row_indexer,col_indexer] = value instead\n",
      "\n",
      "See the caveats in the documentation: https://pandas.pydata.org/pandas-docs/stable/user_guide/indexing.html#returning-a-view-versus-a-copy\n",
      "\n",
      "C:\\Users\\jrior\\anaconda3\\lib\\site-packages\\sklearn\\metrics\\_classification.py:1318: UndefinedMetricWarning:\n",
      "\n",
      "Precision is ill-defined and being set to 0.0 due to no predicted samples. Use `zero_division` parameter to control this behavior.\n",
      "\n",
      "C:\\Users\\jrior\\anaconda3\\lib\\site-packages\\sklearn\\metrics\\_classification.py:1318: UndefinedMetricWarning:\n",
      "\n",
      "Precision is ill-defined and being set to 0.0 due to no predicted samples. Use `zero_division` parameter to control this behavior.\n",
      "\n",
      "C:\\Users\\jrior\\anaconda3\\lib\\site-packages\\sklearn\\metrics\\_classification.py:1318: UndefinedMetricWarning:\n",
      "\n",
      "Precision is ill-defined and being set to 0.0 due to no predicted samples. Use `zero_division` parameter to control this behavior.\n",
      "\n",
      "C:\\Users\\jrior\\anaconda3\\lib\\site-packages\\sklearn\\metrics\\_classification.py:1318: UndefinedMetricWarning:\n",
      "\n",
      "Precision is ill-defined and being set to 0.0 due to no predicted samples. Use `zero_division` parameter to control this behavior.\n",
      "\n",
      "C:\\Users\\jrior\\anaconda3\\lib\\site-packages\\sklearn\\metrics\\_classification.py:1318: UndefinedMetricWarning:\n",
      "\n",
      "Precision is ill-defined and being set to 0.0 due to no predicted samples. Use `zero_division` parameter to control this behavior.\n",
      "\n",
      "C:\\Users\\jrior\\anaconda3\\lib\\site-packages\\sklearn\\metrics\\_classification.py:1318: UndefinedMetricWarning:\n",
      "\n",
      "Precision is ill-defined and being set to 0.0 due to no predicted samples. Use `zero_division` parameter to control this behavior.\n",
      "\n",
      "C:\\Users\\jrior\\anaconda3\\lib\\site-packages\\sklearn\\metrics\\_classification.py:1318: UndefinedMetricWarning:\n",
      "\n",
      "Precision is ill-defined and being set to 0.0 due to no predicted samples. Use `zero_division` parameter to control this behavior.\n",
      "\n",
      "C:\\Users\\jrior\\anaconda3\\lib\\site-packages\\sklearn\\metrics\\_classification.py:1318: UndefinedMetricWarning:\n",
      "\n",
      "Precision is ill-defined and being set to 0.0 due to no predicted samples. Use `zero_division` parameter to control this behavior.\n",
      "\n",
      "C:\\Users\\jrior\\anaconda3\\lib\\site-packages\\sklearn\\metrics\\_classification.py:1318: UndefinedMetricWarning:\n",
      "\n",
      "Precision is ill-defined and being set to 0.0 due to no predicted samples. Use `zero_division` parameter to control this behavior.\n",
      "\n",
      "C:\\Users\\jrior\\anaconda3\\lib\\site-packages\\sklearn\\metrics\\_classification.py:1318: UndefinedMetricWarning:\n",
      "\n",
      "Precision is ill-defined and being set to 0.0 due to no predicted samples. Use `zero_division` parameter to control this behavior.\n",
      "\n",
      "C:\\Users\\jrior\\anaconda3\\lib\\site-packages\\sklearn\\metrics\\_classification.py:1318: UndefinedMetricWarning:\n",
      "\n",
      "Precision is ill-defined and being set to 0.0 due to no predicted samples. Use `zero_division` parameter to control this behavior.\n",
      "\n",
      "C:\\Users\\jrior\\anaconda3\\lib\\site-packages\\sklearn\\metrics\\_classification.py:1318: UndefinedMetricWarning:\n",
      "\n",
      "Precision is ill-defined and being set to 0.0 due to no predicted samples. Use `zero_division` parameter to control this behavior.\n",
      "\n",
      "C:\\Users\\jrior\\anaconda3\\lib\\site-packages\\sklearn\\metrics\\_classification.py:1318: UndefinedMetricWarning:\n",
      "\n",
      "Precision is ill-defined and being set to 0.0 due to no predicted samples. Use `zero_division` parameter to control this behavior.\n",
      "\n",
      "C:\\Users\\jrior\\anaconda3\\lib\\site-packages\\sklearn\\metrics\\_classification.py:1318: UndefinedMetricWarning:\n",
      "\n",
      "Precision is ill-defined and being set to 0.0 due to no predicted samples. Use `zero_division` parameter to control this behavior.\n",
      "\n",
      "C:\\Users\\jrior\\anaconda3\\lib\\site-packages\\sklearn\\metrics\\_classification.py:1318: UndefinedMetricWarning:\n",
      "\n",
      "Precision is ill-defined and being set to 0.0 due to no predicted samples. Use `zero_division` parameter to control this behavior.\n",
      "\n",
      "C:\\Users\\jrior\\anaconda3\\lib\\site-packages\\sklearn\\metrics\\_classification.py:1318: UndefinedMetricWarning:\n",
      "\n",
      "Precision is ill-defined and being set to 0.0 due to no predicted samples. Use `zero_division` parameter to control this behavior.\n",
      "\n",
      "C:\\Users\\jrior\\anaconda3\\lib\\site-packages\\sklearn\\metrics\\_classification.py:1318: UndefinedMetricWarning:\n",
      "\n",
      "Precision is ill-defined and being set to 0.0 due to no predicted samples. Use `zero_division` parameter to control this behavior.\n",
      "\n",
      "C:\\Users\\jrior\\anaconda3\\lib\\site-packages\\sklearn\\metrics\\_classification.py:1318: UndefinedMetricWarning:\n",
      "\n",
      "Precision is ill-defined and being set to 0.0 due to no predicted samples. Use `zero_division` parameter to control this behavior.\n",
      "\n",
      "C:\\Users\\jrior\\anaconda3\\lib\\site-packages\\sklearn\\metrics\\_classification.py:1318: UndefinedMetricWarning:\n",
      "\n",
      "Precision is ill-defined and being set to 0.0 due to no predicted samples. Use `zero_division` parameter to control this behavior.\n",
      "\n",
      "C:\\Users\\jrior\\anaconda3\\lib\\site-packages\\sklearn\\metrics\\_classification.py:1318: UndefinedMetricWarning:\n",
      "\n",
      "Precision is ill-defined and being set to 0.0 due to no predicted samples. Use `zero_division` parameter to control this behavior.\n",
      "\n",
      "C:\\Users\\jrior\\anaconda3\\lib\\site-packages\\sklearn\\metrics\\_classification.py:1318: UndefinedMetricWarning:\n",
      "\n",
      "Precision is ill-defined and being set to 0.0 due to no predicted samples. Use `zero_division` parameter to control this behavior.\n",
      "\n",
      "C:\\Users\\jrior\\anaconda3\\lib\\site-packages\\sklearn\\metrics\\_classification.py:1318: UndefinedMetricWarning:\n",
      "\n",
      "Precision is ill-defined and being set to 0.0 due to no predicted samples. Use `zero_division` parameter to control this behavior.\n",
      "\n",
      "C:\\Users\\jrior\\anaconda3\\lib\\site-packages\\sklearn\\metrics\\_classification.py:1318: UndefinedMetricWarning:\n",
      "\n",
      "Precision is ill-defined and being set to 0.0 due to no predicted samples. Use `zero_division` parameter to control this behavior.\n",
      "\n",
      "C:\\Users\\jrior\\anaconda3\\lib\\site-packages\\sklearn\\metrics\\_classification.py:1318: UndefinedMetricWarning:\n",
      "\n",
      "Precision is ill-defined and being set to 0.0 due to no predicted samples. Use `zero_division` parameter to control this behavior.\n",
      "\n",
      "C:\\Users\\jrior\\anaconda3\\lib\\site-packages\\sklearn\\metrics\\_classification.py:1318: UndefinedMetricWarning:\n",
      "\n",
      "Precision is ill-defined and being set to 0.0 due to no predicted samples. Use `zero_division` parameter to control this behavior.\n",
      "\n",
      "C:\\Users\\jrior\\anaconda3\\lib\\site-packages\\sklearn\\metrics\\_classification.py:1318: UndefinedMetricWarning:\n",
      "\n",
      "Precision is ill-defined and being set to 0.0 due to no predicted samples. Use `zero_division` parameter to control this behavior.\n",
      "\n",
      "C:\\Users\\jrior\\anaconda3\\lib\\site-packages\\sklearn\\metrics\\_classification.py:1318: UndefinedMetricWarning:\n",
      "\n",
      "Precision is ill-defined and being set to 0.0 due to no predicted samples. Use `zero_division` parameter to control this behavior.\n",
      "\n",
      "C:\\Users\\jrior\\anaconda3\\lib\\site-packages\\sklearn\\metrics\\_classification.py:1318: UndefinedMetricWarning:\n",
      "\n",
      "Precision is ill-defined and being set to 0.0 due to no predicted samples. Use `zero_division` parameter to control this behavior.\n",
      "\n",
      "C:\\Users\\jrior\\anaconda3\\lib\\site-packages\\sklearn\\metrics\\_classification.py:1318: UndefinedMetricWarning:\n",
      "\n",
      "Precision is ill-defined and being set to 0.0 due to no predicted samples. Use `zero_division` parameter to control this behavior.\n",
      "\n",
      "C:\\Users\\jrior\\anaconda3\\lib\\site-packages\\sklearn\\metrics\\_classification.py:1318: UndefinedMetricWarning:\n",
      "\n",
      "Precision is ill-defined and being set to 0.0 due to no predicted samples. Use `zero_division` parameter to control this behavior.\n",
      "\n",
      "C:\\Users\\jrior\\anaconda3\\lib\\site-packages\\sklearn\\metrics\\_classification.py:1318: UndefinedMetricWarning:\n",
      "\n",
      "Precision is ill-defined and being set to 0.0 due to no predicted samples. Use `zero_division` parameter to control this behavior.\n",
      "\n",
      "C:\\Users\\jrior\\anaconda3\\lib\\site-packages\\sklearn\\metrics\\_classification.py:1318: UndefinedMetricWarning:\n",
      "\n",
      "Precision is ill-defined and being set to 0.0 due to no predicted samples. Use `zero_division` parameter to control this behavior.\n",
      "\n",
      "C:\\Users\\jrior\\anaconda3\\lib\\site-packages\\sklearn\\metrics\\_classification.py:1318: UndefinedMetricWarning:\n",
      "\n",
      "Precision is ill-defined and being set to 0.0 due to no predicted samples. Use `zero_division` parameter to control this behavior.\n",
      "\n",
      "C:\\Users\\jrior\\anaconda3\\lib\\site-packages\\sklearn\\metrics\\_classification.py:1318: UndefinedMetricWarning:\n",
      "\n",
      "Precision is ill-defined and being set to 0.0 due to no predicted samples. Use `zero_division` parameter to control this behavior.\n",
      "\n",
      "C:\\Users\\jrior\\anaconda3\\lib\\site-packages\\sklearn\\metrics\\_classification.py:1318: UndefinedMetricWarning:\n",
      "\n",
      "Precision is ill-defined and being set to 0.0 due to no predicted samples. Use `zero_division` parameter to control this behavior.\n",
      "\n",
      "C:\\Users\\jrior\\anaconda3\\lib\\site-packages\\sklearn\\metrics\\_classification.py:1318: UndefinedMetricWarning:\n",
      "\n",
      "Precision is ill-defined and being set to 0.0 due to no predicted samples. Use `zero_division` parameter to control this behavior.\n",
      "\n",
      "C:\\Users\\jrior\\anaconda3\\lib\\site-packages\\sklearn\\metrics\\_classification.py:1318: UndefinedMetricWarning:\n",
      "\n",
      "Precision is ill-defined and being set to 0.0 due to no predicted samples. Use `zero_division` parameter to control this behavior.\n",
      "\n",
      "C:\\Users\\jrior\\anaconda3\\lib\\site-packages\\sklearn\\metrics\\_classification.py:1318: UndefinedMetricWarning:\n",
      "\n",
      "Precision is ill-defined and being set to 0.0 due to no predicted samples. Use `zero_division` parameter to control this behavior.\n",
      "\n",
      "C:\\Users\\jrior\\anaconda3\\lib\\site-packages\\sklearn\\metrics\\_classification.py:1318: UndefinedMetricWarning:\n",
      "\n",
      "Precision is ill-defined and being set to 0.0 due to no predicted samples. Use `zero_division` parameter to control this behavior.\n",
      "\n",
      "C:\\Users\\jrior\\anaconda3\\lib\\site-packages\\sklearn\\metrics\\_classification.py:1318: UndefinedMetricWarning:\n",
      "\n",
      "Precision is ill-defined and being set to 0.0 due to no predicted samples. Use `zero_division` parameter to control this behavior.\n",
      "\n",
      "C:\\Users\\jrior\\anaconda3\\lib\\site-packages\\sklearn\\metrics\\_classification.py:1318: UndefinedMetricWarning:\n",
      "\n",
      "Precision is ill-defined and being set to 0.0 due to no predicted samples. Use `zero_division` parameter to control this behavior.\n",
      "\n",
      "C:\\Users\\jrior\\anaconda3\\lib\\site-packages\\sklearn\\metrics\\_classification.py:1318: UndefinedMetricWarning:\n",
      "\n",
      "Precision is ill-defined and being set to 0.0 due to no predicted samples. Use `zero_division` parameter to control this behavior.\n",
      "\n",
      "C:\\Users\\jrior\\anaconda3\\lib\\site-packages\\sklearn\\metrics\\_classification.py:1318: UndefinedMetricWarning:\n",
      "\n",
      "Precision is ill-defined and being set to 0.0 due to no predicted samples. Use `zero_division` parameter to control this behavior.\n",
      "\n",
      "C:\\Users\\jrior\\anaconda3\\lib\\site-packages\\sklearn\\metrics\\_classification.py:1318: UndefinedMetricWarning:\n",
      "\n",
      "Precision is ill-defined and being set to 0.0 due to no predicted samples. Use `zero_division` parameter to control this behavior.\n",
      "\n",
      "100%|██████████| 11/11 [26:27<00:00, 144.36s/it]\n"
     ]
    }
   ],
   "source": [
    "offsets = [None, '15min', '30min', '45min', '1H', '2H', '3H', '6H', '8H', '11H', '14H']\n",
    "\n",
    "selected_thresholds = []\n",
    "test_savings = []\n",
    "windows_dict = {'costs': {'train': dict(), 'test': dict()}, \n",
    "                'savings': {'train': dict(), 'test': dict()}}\n",
    "probs_dict = {'train': dict(), 'test': dict()}\n",
    "true_dict = {'train': dict(), 'test': dict()}\n",
    "\n",
    "for offset in tqdm(offsets):\n",
    "    X_train, X_test, y_train, y_test = prep_model_data(offset_grp=offset)\n",
    "\n",
    "    y_train_prob = pipe.predict_proba(X_train)\n",
    "    y_test_prob = pipe.predict_proba(X_test)\n",
    "\n",
    "    train_savings_df = create_cost_savings(y_train, y_train_prob, type = 'savings')\n",
    "    test_savings_df = create_cost_savings(y_test, y_test_prob, type = 'savings')\n",
    "\n",
    "    train_cost_df = create_cost_savings(y_train, y_train_prob, type = 'costs')\n",
    "    test_cost_df = create_cost_savings(y_test, y_test_prob, type = 'costs')\n",
    "\n",
    "    train_cost_df['threshold'] = train_cost_df['threshold'].round(4)\n",
    "    test_cost_df['threshold'] = test_cost_df['threshold'].round(4)\n",
    "    train_cost_df['percent_of_savings'] = 100*train_cost_df['total_costs']/train_cost_df.loc[train_cost_df['threshold'] == 1, 'total_costs'].values\n",
    "    test_cost_df['percent_of_savings'] = 100*test_cost_df['total_costs']/test_cost_df.loc[test_cost_df['threshold'] == 1, 'total_costs'].values\n",
    "\n",
    "    best_thresh = train_savings_df.nlargest(1, 'total_savings')['threshold'].values[0]\n",
    "    selected_thresholds.append(best_thresh)\n",
    "    test_savings.append(test_savings_df.loc[test_savings_df['threshold'] == best_thresh, 'total_savings'].values[0])\n",
    "\n",
    "    true_dict['train'][offset] = y_train\n",
    "    true_dict['test'][offset] = y_test\n",
    "\n",
    "    probs_dict['train'][offset] = y_train_prob\n",
    "    probs_dict['test'][offset] = y_test_prob\n",
    "\n",
    "    windows_dict['costs']['train'][offset] = train_cost_df\n",
    "    windows_dict['costs']['test'][offset] = test_cost_df\n",
    "    windows_dict['savings']['train'][offset] = train_savings_df\n",
    "    windows_dict['savings']['test'][offset] = test_savings_df"
   ]
  },
  {
   "cell_type": "code",
   "execution_count": 198,
   "id": "095fc40d",
   "metadata": {},
   "outputs": [],
   "source": [
    "with open('../data/xgboost_assessment/windows_dict.pickle', 'wb') as file:\n",
    "    pickle.dump(windows_dict, file, protocol=-1)\n",
    "\n",
    "with open('../data/xgboost_assessment/probs_dict.pickle', 'wb') as file:\n",
    "    pickle.dump(probs_dict, file, protocol=-1)\n",
    "\n",
    "with open('../data/xgboost_assessment/true_dict.pickle', 'wb') as file:\n",
    "    pickle.dump(true_dict, file, protocol=-1)\n",
    "\n",
    "with open('../data/xgboost_assessment/selected_thresholds_list.pickle', 'wb') as file:\n",
    "    pickle.dump(selected_thresholds, file, protocol=-1)\n",
    "\n",
    "with open('../data/xgboost_assessment/test_savings_list.pickle', 'wb') as file:\n",
    "    pickle.dump(test_savings, file, protocol=-1)"
   ]
  },
  {
   "cell_type": "code",
   "execution_count": 215,
   "id": "6acf5575",
   "metadata": {},
   "outputs": [
    {
     "data": {
      "text/html": [
       "<div>\n",
       "<style scoped>\n",
       "    .dataframe tbody tr th:only-of-type {\n",
       "        vertical-align: middle;\n",
       "    }\n",
       "\n",
       "    .dataframe tbody tr th {\n",
       "        vertical-align: top;\n",
       "    }\n",
       "\n",
       "    .dataframe thead th {\n",
       "        text-align: right;\n",
       "    }\n",
       "</style>\n",
       "<table border=\"1\" class=\"dataframe\">\n",
       "  <thead>\n",
       "    <tr style=\"text-align: right;\">\n",
       "      <th></th>\n",
       "      <th>window</th>\n",
       "      <th>test_savings</th>\n",
       "      <th>precision</th>\n",
       "      <th>recall</th>\n",
       "      <th>percent_of_actual_costs</th>\n",
       "    </tr>\n",
       "  </thead>\n",
       "  <tbody>\n",
       "    <tr>\n",
       "      <th>0</th>\n",
       "      <td>0min</td>\n",
       "      <td>459500.0</td>\n",
       "      <td>0.389286</td>\n",
       "      <td>0.660606</td>\n",
       "      <td>44.303030</td>\n",
       "    </tr>\n",
       "    <tr>\n",
       "      <th>1</th>\n",
       "      <td>15min</td>\n",
       "      <td>191000.0</td>\n",
       "      <td>0.324841</td>\n",
       "      <td>0.467890</td>\n",
       "      <td>62.935780</td>\n",
       "    </tr>\n",
       "    <tr>\n",
       "      <th>2</th>\n",
       "      <td>30min</td>\n",
       "      <td>168500.0</td>\n",
       "      <td>0.242574</td>\n",
       "      <td>0.475728</td>\n",
       "      <td>67.281553</td>\n",
       "    </tr>\n",
       "    <tr>\n",
       "      <th>3</th>\n",
       "      <td>45min</td>\n",
       "      <td>159500.0</td>\n",
       "      <td>0.245989</td>\n",
       "      <td>0.442308</td>\n",
       "      <td>69.326923</td>\n",
       "    </tr>\n",
       "    <tr>\n",
       "      <th>4</th>\n",
       "      <td>1H</td>\n",
       "      <td>114000.0</td>\n",
       "      <td>0.234899</td>\n",
       "      <td>0.357143</td>\n",
       "      <td>75.918367</td>\n",
       "    </tr>\n",
       "    <tr>\n",
       "      <th>5</th>\n",
       "      <td>2H</td>\n",
       "      <td>124500.0</td>\n",
       "      <td>0.234940</td>\n",
       "      <td>0.423913</td>\n",
       "      <td>71.413043</td>\n",
       "    </tr>\n",
       "    <tr>\n",
       "      <th>6</th>\n",
       "      <td>3H</td>\n",
       "      <td>145500.0</td>\n",
       "      <td>0.220588</td>\n",
       "      <td>0.511364</td>\n",
       "      <td>66.931818</td>\n",
       "    </tr>\n",
       "    <tr>\n",
       "      <th>7</th>\n",
       "      <td>6H</td>\n",
       "      <td>54500.0</td>\n",
       "      <td>0.207921</td>\n",
       "      <td>0.276316</td>\n",
       "      <td>82.894737</td>\n",
       "    </tr>\n",
       "    <tr>\n",
       "      <th>8</th>\n",
       "      <td>8H</td>\n",
       "      <td>62000.0</td>\n",
       "      <td>0.157895</td>\n",
       "      <td>0.385714</td>\n",
       "      <td>82.000000</td>\n",
       "    </tr>\n",
       "    <tr>\n",
       "      <th>9</th>\n",
       "      <td>11H</td>\n",
       "      <td>62000.0</td>\n",
       "      <td>0.208333</td>\n",
       "      <td>0.307692</td>\n",
       "      <td>80.923077</td>\n",
       "    </tr>\n",
       "    <tr>\n",
       "      <th>10</th>\n",
       "      <td>14H</td>\n",
       "      <td>48500.0</td>\n",
       "      <td>0.147929</td>\n",
       "      <td>0.416667</td>\n",
       "      <td>82.333333</td>\n",
       "    </tr>\n",
       "  </tbody>\n",
       "</table>\n",
       "</div>"
      ],
      "text/plain": [
       "   window  test_savings  precision    recall  percent_of_actual_costs\n",
       "0    0min      459500.0   0.389286  0.660606                44.303030\n",
       "1   15min      191000.0   0.324841  0.467890                62.935780\n",
       "2   30min      168500.0   0.242574  0.475728                67.281553\n",
       "3   45min      159500.0   0.245989  0.442308                69.326923\n",
       "4      1H      114000.0   0.234899  0.357143                75.918367\n",
       "5      2H      124500.0   0.234940  0.423913                71.413043\n",
       "6      3H      145500.0   0.220588  0.511364                66.931818\n",
       "7      6H       54500.0   0.207921  0.276316                82.894737\n",
       "8      8H       62000.0   0.157895  0.385714                82.000000\n",
       "9     11H       62000.0   0.208333  0.307692                80.923077\n",
       "10    14H       48500.0   0.147929  0.416667                82.333333"
      ]
     },
     "execution_count": 215,
     "metadata": {},
     "output_type": "execute_result"
    }
   ],
   "source": [
    "offsets_readable = ['0min']+offsets[1:]\n",
    "windows_df = pd.DataFrame({\n",
    "        'window': offsets_readable,\n",
    "        'test_savings': test_savings,\n",
    "        'precision': [windows_dict['savings']['test'][x].nlargest(1, 'total_savings')['precision'].values[0] for x in offsets],\n",
    "        'recall': [windows_dict['savings']['test'][x].nlargest(1, 'total_savings')['recall'].values[0] for x in offsets],\n",
    "        'percent_of_actual_costs': [windows_dict['costs']['test'][x].nsmallest(1, 'total_costs')['percent_of_savings'].values[0] for x in offsets]\n",
    "})\n",
    "\n",
    "windows_df"
   ]
  },
  {
   "cell_type": "code",
   "execution_count": 249,
   "id": "77cf2a48",
   "metadata": {},
   "outputs": [
    {
     "name": "stdout",
     "output_type": "stream",
     "text": [
      "The optimum tpr vs. fpr threshold value is: 0.0012985094\n"
     ]
    },
    {
     "data": {
      "application/vnd.plotly.v1+json": {
       "config": {
        "plotlyServerURL": "https://plotly.com"
       },
       "data": [
        {
         "customdata": [
          [
           1.9982327222824097
          ],
          [
           0.9982327222824097
          ],
          [
           0.9857229590415955
          ],
          [
           0.985080897808075
          ],
          [
           0.9813124537467957
          ],
          [
           0.9773863554000854
          ],
          [
           0.9750315546989441
          ],
          [
           0.9700149893760681
          ],
          [
           0.9693427681922913
          ],
          [
           0.969189465045929
          ],
          [
           0.9672235250473022
          ],
          [
           0.9565080404281616
          ],
          [
           0.9538024663925171
          ],
          [
           0.9513039588928223
          ],
          [
           0.9501051902770996
          ],
          [
           0.9416218996047974
          ],
          [
           0.9371533989906311
          ],
          [
           0.9281535148620605
          ],
          [
           0.9006235003471375
          ],
          [
           0.8939427137374878
          ],
          [
           0.8892182111740112
          ],
          [
           0.8873881697654724
          ],
          [
           0.8857777118682861
          ],
          [
           0.8847156167030334
          ],
          [
           0.8649301528930664
          ],
          [
           0.8648366928100586
          ],
          [
           0.8634897470474243
          ],
          [
           0.8620847463607788
          ],
          [
           0.8589736819267273
          ],
          [
           0.8495827913284302
          ],
          [
           0.8371374607086182
          ],
          [
           0.8360128402709961
          ],
          [
           0.817214846611023
          ],
          [
           0.8129574060440063
          ],
          [
           0.7686346769332886
          ],
          [
           0.7573337554931641
          ],
          [
           0.7390449643135071
          ],
          [
           0.7358150482177734
          ],
          [
           0.7252443432807922
          ],
          [
           0.7175366878509521
          ],
          [
           0.7129552960395813
          ],
          [
           0.7107690572738647
          ],
          [
           0.6964206695556641
          ],
          [
           0.6869814991950989
          ],
          [
           0.6869114637374878
          ],
          [
           0.6846132278442383
          ],
          [
           0.6770864725112915
          ],
          [
           0.6667115688323975
          ],
          [
           0.6441857218742371
          ],
          [
           0.6434732675552368
          ],
          [
           0.5957269668579102
          ],
          [
           0.593605637550354
          ],
          [
           0.5802592635154724
          ],
          [
           0.5787783265113831
          ],
          [
           0.5786409974098206
          ],
          [
           0.5761867761611938
          ],
          [
           0.5668147206306458
          ],
          [
           0.5659688711166382
          ],
          [
           0.5480766296386719
          ],
          [
           0.5478425621986389
          ],
          [
           0.5112413167953491
          ],
          [
           0.5101205706596375
          ],
          [
           0.474282830953598
          ],
          [
           0.47328171133995056
          ],
          [
           0.45608028769493103
          ],
          [
           0.4553861916065216
          ],
          [
           0.4537274241447449
          ],
          [
           0.45248979330062866
          ],
          [
           0.43869590759277344
          ],
          [
           0.43723440170288086
          ],
          [
           0.41083627939224243
          ],
          [
           0.4058946371078491
          ],
          [
           0.38619711995124817
          ],
          [
           0.38209259510040283
          ],
          [
           0.3687589466571808
          ],
          [
           0.3687398135662079
          ],
          [
           0.3420896828174591
          ],
          [
           0.341014564037323
          ],
          [
           0.27940818667411804
          ],
          [
           0.27318689227104187
          ],
          [
           0.2442023903131485
          ],
          [
           0.2419423907995224
          ],
          [
           0.20038771629333496
          ],
          [
           0.2003200501203537
          ],
          [
           0.19564484059810638
          ],
          [
           0.19510766863822937
          ],
          [
           0.1769411563873291
          ],
          [
           0.17611229419708252
          ],
          [
           0.16985470056533813
          ],
          [
           0.16978657245635986
          ],
          [
           0.16901832818984985
          ],
          [
           0.16687819361686707
          ],
          [
           0.1543053388595581
          ],
          [
           0.15391452610492706
          ],
          [
           0.14828898012638092
          ],
          [
           0.14814963936805725
          ],
          [
           0.1478009670972824
          ],
          [
           0.14706574380397797
          ],
          [
           0.1424192637205124
          ],
          [
           0.14167830348014832
          ],
          [
           0.14141656458377838
          ],
          [
           0.14087946712970734
          ],
          [
           0.13561555743217468
          ],
          [
           0.13552476465702057
          ],
          [
           0.12656131386756897
          ],
          [
           0.1256929486989975
          ],
          [
           0.12469165027141571
          ],
          [
           0.12321113049983978
          ],
          [
           0.12198906391859055
          ],
          [
           0.12136613577604294
          ],
          [
           0.11710688471794128
          ],
          [
           0.11706896126270294
          ],
          [
           0.11702907085418701
          ],
          [
           0.11400531977415085
          ],
          [
           0.11340183764696121
          ],
          [
           0.11255643516778946
          ],
          [
           0.11198744922876358
          ],
          [
           0.11188856512308121
          ],
          [
           0.1096411868929863
          ],
          [
           0.10935928672552109
          ],
          [
           0.10847969353199005
          ],
          [
           0.10207824409008026
          ],
          [
           0.10194460302591324
          ],
          [
           0.0961596816778183
          ],
          [
           0.09596236795186996
          ],
          [
           0.09325087815523148
          ],
          [
           0.09319861233234406
          ],
          [
           0.08259870111942291
          ],
          [
           0.08213334530591965
          ],
          [
           0.0818621888756752
          ],
          [
           0.08185864239931107
          ],
          [
           0.08175165951251984
          ],
          [
           0.07928326725959778
          ],
          [
           0.07872665673494339
          ],
          [
           0.07858309894800186
          ],
          [
           0.07844411581754684
          ],
          [
           0.07805654406547546
          ],
          [
           0.0749172791838646
          ],
          [
           0.07465672492980957
          ],
          [
           0.0729566439986229
          ],
          [
           0.07283368706703186
          ],
          [
           0.06666170805692673
          ],
          [
           0.06548010557889938
          ],
          [
           0.06441033631563187
          ],
          [
           0.06439784914255142
          ],
          [
           0.06408228725194931
          ],
          [
           0.06376118957996368
          ],
          [
           0.06062926724553108
          ],
          [
           0.060566335916519165
          ],
          [
           0.05601061135530472
          ],
          [
           0.05596352368593216
          ],
          [
           0.05465012416243553
          ],
          [
           0.054524119943380356
          ],
          [
           0.05441233143210411
          ],
          [
           0.05367113649845123
          ],
          [
           0.0523797944188118
          ],
          [
           0.052133820950984955
          ],
          [
           0.0507449246942997
          ],
          [
           0.05035461112856865
          ],
          [
           0.0371045283973217
          ],
          [
           0.0370849072933197
          ],
          [
           0.0368356928229332
          ],
          [
           0.036773283034563065
          ],
          [
           0.03620677441358566
          ],
          [
           0.036101121455430984
          ],
          [
           0.03483295440673828
          ],
          [
           0.03476139158010483
          ],
          [
           0.033984165638685226
          ],
          [
           0.033883146941661835
          ],
          [
           0.03357679024338722
          ],
          [
           0.03354103863239288
          ],
          [
           0.03200127184391022
          ],
          [
           0.0319666750729084
          ],
          [
           0.03196345269680023
          ],
          [
           0.03077443316578865
          ],
          [
           0.03073684126138687
          ],
          [
           0.028931999579072
          ],
          [
           0.028873680159449577
          ],
          [
           0.028449855744838715
          ],
          [
           0.028349077329039574
          ],
          [
           0.025442710146307945
          ],
          [
           0.02535838447511196
          ],
          [
           0.02440544031560421
          ],
          [
           0.024403100833296776
          ],
          [
           0.02432841993868351
          ],
          [
           0.024313226342201233
          ],
          [
           0.019434800371527672
          ],
          [
           0.019388001412153244
          ],
          [
           0.018835261464118958
          ],
          [
           0.018787888810038567
          ],
          [
           0.015583151020109653
          ],
          [
           0.015500932931900024
          ],
          [
           0.015448256395757198
          ],
          [
           0.015430571511387825
          ],
          [
           0.014686482958495617
          ],
          [
           0.014629466459155083
          ],
          [
           0.013943380676209927
          ],
          [
           0.01394256018102169
          ],
          [
           0.013350926339626312
          ],
          [
           0.013341357000172138
          ],
          [
           0.013331575319170952
          ],
          [
           0.013309301808476448
          ],
          [
           0.011412731371819973
          ],
          [
           0.011395309120416641
          ],
          [
           0.011322072707116604
          ],
          [
           0.011318160220980644
          ],
          [
           0.009927604347467422
          ],
          [
           0.0099049536511302
          ],
          [
           0.00968579575419426
          ],
          [
           0.009669316932559013
          ],
          [
           0.009511410258710384
          ],
          [
           0.009509995579719543
          ],
          [
           0.009363786317408085
          ],
          [
           0.009352881461381912
          ],
          [
           0.00859153550118208
          ],
          [
           0.008590145967900753
          ],
          [
           0.008452002890408039
          ],
          [
           0.008439986035227776
          ],
          [
           0.007692589424550533
          ],
          [
           0.00768118305131793
          ],
          [
           0.007677690591663122
          ],
          [
           0.007667986210435629
          ],
          [
           0.006775447633117437
          ],
          [
           0.0067727877758443356
          ],
          [
           0.0064765228889882565
          ],
          [
           0.00647493964061141
          ],
          [
           0.00624781334772706
          ],
          [
           0.006234847940504551
          ],
          [
           0.006109543610364199
          ],
          [
           0.006105086300522089
          ],
          [
           0.0060783145017921925
          ],
          [
           0.006064241286367178
          ],
          [
           0.005770162679255009
          ],
          [
           0.00576590234413743
          ],
          [
           0.005724123679101467
          ],
          [
           0.005720601882785559
          ],
          [
           0.005567485000938177
          ],
          [
           0.005564963910728693
          ],
          [
           0.005353918299078941
          ],
          [
           0.005353557411581278
          ],
          [
           0.0049468171782791615
          ],
          [
           0.004942612256854773
          ],
          [
           0.004895258694887161
          ],
          [
           0.004893212579190731
          ],
          [
           0.004238611552864313
          ],
          [
           0.004237432032823563
          ],
          [
           0.004080139100551605
          ],
          [
           0.00407882547006011
          ],
          [
           0.00407849857583642
          ],
          [
           0.0040728989988565445
          ],
          [
           0.003968668170273304
          ],
          [
           0.003965677693486214
          ],
          [
           0.0037396992556750774
          ],
          [
           0.003731681499630213
          ],
          [
           0.003661169670522213
          ],
          [
           0.0036593908444046974
          ],
          [
           0.003305613063275814
          ],
          [
           0.0033051653299480677
          ],
          [
           0.003221880877390504
          ],
          [
           0.00322130648419261
          ],
          [
           0.0029456920456141233
          ],
          [
           0.0029428282286971807
          ],
          [
           0.0029422531370073557
          ],
          [
           0.0029366728849709034
          ],
          [
           0.0028535055462270975
          ],
          [
           0.002852631965652108
          ],
          [
           0.0028267039451748133
          ],
          [
           0.0028255090583115816
          ],
          [
           0.002793228719383478
          ],
          [
           0.0027930987998843193
          ],
          [
           0.002720641205087304
          ],
          [
           0.002718189265578985
          ],
          [
           0.0022917226888239384
          ],
          [
           0.0022904835641384125
          ],
          [
           0.0022861994802951813
          ],
          [
           0.002276801969856024
          ],
          [
           0.0022512527648359537
          ],
          [
           0.002247958444058895
          ],
          [
           0.0022219636011868715
          ],
          [
           0.0022203370463103056
          ],
          [
           0.002166787628084421
          ],
          [
           0.0021653890144079924
          ],
          [
           0.0020894145127385855
          ],
          [
           0.0020891299936920404
          ],
          [
           0.0020642243325710297
          ],
          [
           0.0020634650718420744
          ],
          [
           0.002024243585765362
          ],
          [
           0.002022696193307638
          ],
          [
           0.002007191302254796
          ],
          [
           0.0020047505386173725
          ],
          [
           0.0017938977107405663
          ],
          [
           0.0017936954973265529
          ],
          [
           0.0017863059183582664
          ],
          [
           0.0017846530536189675
          ],
          [
           0.0017726141959428787
          ],
          [
           0.0017716281581670046
          ],
          [
           0.0017352997092530131
          ],
          [
           0.0017276748549193144
          ],
          [
           0.0017092947382479906
          ],
          [
           0.0017082681879401207
          ],
          [
           0.0016682007117196918
          ],
          [
           0.001667957752943039
          ],
          [
           0.0015702694654464722
          ],
          [
           0.001569429412484169
          ],
          [
           0.0015300565864890814
          ],
          [
           0.0015290691517293453
          ],
          [
           0.001488185371272266
          ],
          [
           0.0014874152839183807
          ],
          [
           0.001408173586241901
          ],
          [
           0.0014055020874366164
          ],
          [
           0.0013896629679948092
          ],
          [
           0.0013889909023419023
          ],
          [
           0.0013728922931477427
          ],
          [
           0.001372848404571414
          ],
          [
           0.0013001045444980264
          ],
          [
           0.0012985094217583537
          ],
          [
           0.0012520774034783244
          ],
          [
           0.0012519676238298416
          ],
          [
           0.0011121485149487853
          ],
          [
           0.0011120924027636647
          ],
          [
           0.0010823043994605541
          ],
          [
           0.0010813242988660932
          ],
          [
           0.0010122493840754032
          ],
          [
           0.0010122113162651658
          ],
          [
           0.0008884933195076883
          ],
          [
           0.0008883528644219041
          ],
          [
           0.0008388205897063017
          ],
          [
           0.0008387514390051365
          ],
          [
           0.0008269601967185736
          ],
          [
           0.0008268211386166513
          ],
          [
           0.0008078268729150295
          ],
          [
           0.0008076771046034992
          ],
          [
           0.0006961951148696244
          ],
          [
           0.0006954272394068539
          ],
          [
           0.0006886428454890847
          ],
          [
           0.0006885775364935398
          ],
          [
           0.000687199819367379
          ],
          [
           0.0006869542994536459
          ],
          [
           0.0006807979079894722
          ],
          [
           0.0006806922028772533
          ],
          [
           0.0006315226200968027
          ],
          [
           0.0006303926929831505
          ],
          [
           0.000619115715380758
          ],
          [
           0.0006190738058649004
          ],
          [
           0.0005893975612707436
          ],
          [
           0.0005890409229323268
          ],
          [
           0.0005724142538383603
          ],
          [
           0.0005723651847802103
          ],
          [
           0.0005460359971038997
          ],
          [
           0.0005456634680740535
          ],
          [
           0.000538462947588414
          ],
          [
           0.0005381258670240641
          ],
          [
           0.0005282595520839095
          ],
          [
           0.0005281502963043749
          ],
          [
           0.0005152246449142694
          ],
          [
           0.0005151205696165562
          ],
          [
           0.00047952847671695054
          ],
          [
           0.0004794084816239774
          ],
          [
           0.00043789506889879704
          ],
          [
           0.000437877926742658
          ],
          [
           0.00043154877494089305
          ],
          [
           0.00043154077138751745
          ],
          [
           0.00042188444058410823
          ],
          [
           0.00042177989962510765
          ],
          [
           0.00040804623859003186
          ],
          [
           0.00040802796138450503
          ],
          [
           0.0003931263636332005
          ],
          [
           0.00039295046008192003
          ],
          [
           0.0003856319817714393
          ],
          [
           0.0003856225812342018
          ],
          [
           0.00037922870251350105
          ],
          [
           0.00037857439019717276
          ],
          [
           0.0003731698670890182
          ],
          [
           0.0003728578158188611
          ],
          [
           0.00035762685001827776
          ],
          [
           0.00035682672751136124
          ],
          [
           0.0003476572164800018
          ],
          [
           0.000347631867043674
          ],
          [
           0.00033856136724352837
          ],
          [
           0.00033796572824940085
          ],
          [
           0.00033786200219765306
          ],
          [
           0.00033043359871953726
          ],
          [
           0.0003303687262814492
          ],
          [
           0.00031576427863910794
          ],
          [
           0.00031575222965329885
          ],
          [
           0.0003111870028078556
          ],
          [
           0.0003110280376859009
          ],
          [
           0.00028633439796976745
          ],
          [
           0.0002858289808500558
          ],
          [
           0.00027953082462772727
          ],
          [
           0.0002794924657791853
          ],
          [
           0.00027322446112520993
          ],
          [
           0.00027318383217789233
          ],
          [
           0.00025760135031305254
          ],
          [
           0.0002575473044998944
          ],
          [
           0.00024138257140293717
          ],
          [
           0.00024095580738503486
          ],
          [
           0.00023742782650515437
          ],
          [
           0.00023742037592455745
          ],
          [
           0.00023644152679480612
          ],
          [
           0.0002364025276619941
          ],
          [
           0.00022767116024624556
          ],
          [
           0.0002276568120578304
          ],
          [
           0.00022393159451894462
          ],
          [
           0.00022367638302966952
          ],
          [
           0.00022131382138468325
          ],
          [
           0.00022120347421150655
          ],
          [
           0.00021047847985755652
          ],
          [
           0.0002104287123074755
          ],
          [
           0.00020916230278089643
          ],
          [
           0.00020913458138238639
          ],
          [
           0.00020739091269206256
          ],
          [
           0.0002073173673124984
          ],
          [
           0.0001989621960092336
          ],
          [
           0.00019893771968781948
          ],
          [
           0.00019510385754983872
          ],
          [
           0.00019503319344948977
          ],
          [
           0.0001904643577290699
          ],
          [
           0.00019032075942959636
          ],
          [
           0.00018968053336720914
          ],
          [
           0.0001896295289043337
          ],
          [
           0.0001833354472182691
          ],
          [
           0.0001833237474784255
          ],
          [
           0.00018324509437661618
          ],
          [
           0.00018322047253604978
          ],
          [
           0.00018280184303876013
          ],
          [
           0.00018270217697136104
          ],
          [
           0.00017361133359372616
          ],
          [
           0.00017360255878884345
          ],
          [
           0.0001676300453254953
          ],
          [
           0.0001673869410296902
          ],
          [
           0.0001648125471547246
          ],
          [
           0.00016468673129566014
          ],
          [
           0.0001618580281501636
          ],
          [
           0.00016172889445442706
          ],
          [
           0.00014919954992365092
          ],
          [
           0.0001490167051088065
          ],
          [
           0.000148096660268493
          ],
          [
           0.00014808084233663976
          ],
          [
           0.00014715381257701665
          ],
          [
           0.0001471397845307365
          ],
          [
           0.00014686434587929398
          ],
          [
           0.0001463716762373224
          ],
          [
           0.0001463122316636145
          ],
          [
           0.00014618324348703027
          ],
          [
           0.00014543136057909578
          ],
          [
           0.00014542441931553185
          ],
          [
           0.00014308989921119064
          ],
          [
           0.0001430113334208727
          ],
          [
           0.00013871824194211513
          ],
          [
           0.00013871719420421869
          ],
          [
           0.00013629549357574433
          ],
          [
           0.00013623754784930497
          ],
          [
           0.00013303165906108916
          ],
          [
           0.00013298194971866906
          ],
          [
           0.0001296319387620315
          ],
          [
           0.00012962525943294168
          ],
          [
           0.00012767758744303137
          ],
          [
           0.00012764689745381474
          ],
          [
           0.00012264744145795703
          ],
          [
           0.0001225937739945948
          ],
          [
           0.00012023571616737172
          ],
          [
           0.0001202248313347809
          ],
          [
           0.00011448490113252774
          ],
          [
           0.00011448458099039271
          ],
          [
           0.00011223035835428163
          ],
          [
           0.00011222799366805702
          ],
          [
           0.000109325788798742
          ],
          [
           0.0001092642851290293
          ],
          [
           0.00010580039088381454
          ],
          [
           0.00010578465298749506
          ],
          [
           0.00010485187522135675
          ],
          [
           0.00010483447840670124
          ],
          [
           0.00010161432874156162
          ],
          [
           0.0001015271627693437
          ],
          [
           0.00010148960427613929
          ],
          [
           0.00010139828373212367
          ],
          [
           0.00010137363278772682
          ],
          [
           0.00010136937635252252
          ],
          [
           0.00009698954818304628
          ],
          [
           0.00009696993220131844
          ],
          [
           0.00009675610635895282
          ],
          [
           0.00009673314343672246
          ],
          [
           0.00009583345672581345
          ],
          [
           0.0000958332748268731
          ],
          [
           0.00009209148993249983
          ],
          [
           0.00009207797120325267
          ],
          [
           0.00009085705096367747
          ],
          [
           0.00009085297642741352
          ],
          [
           0.00008841945236781612
          ],
          [
           0.00008834662730805576
          ],
          [
           0.00008560717105865479
          ],
          [
           0.00008556815737392753
          ],
          [
           0.0000848168638185598
          ],
          [
           0.00008481452096020803
          ],
          [
           0.00008146764594130218
          ],
          [
           0.00008138494740705937
          ],
          [
           0.00008102819265332073
          ],
          [
           0.0000810173005447723
          ],
          [
           0.00007897927571320906
          ],
          [
           0.00007894327427493408
          ],
          [
           0.00007881450437707826
          ],
          [
           0.00007880969496909529
          ],
          [
           0.00007829821697669104
          ],
          [
           0.00007828768866602331
          ],
          [
           0.00007818354060873389
          ],
          [
           0.0000781809285399504
          ],
          [
           0.00007725130853941664
          ],
          [
           0.00007724055467406288
          ],
          [
           0.00007629816536791623
          ],
          [
           0.00007629088941030204
          ],
          [
           0.00007588572771055624
          ],
          [
           0.00007583255501231179
          ],
          [
           0.00007579735392937437
          ],
          [
           0.00007574026676593348
          ],
          [
           0.00007567651482531801
          ],
          [
           0.00007566194835817441
          ],
          [
           0.00007428116077790037
          ],
          [
           0.00007427408127114177
          ],
          [
           0.00007395476859528571
          ],
          [
           0.0000739338283892721
          ],
          [
           0.00007388019002974033
          ],
          [
           0.00007387054210994393
          ],
          [
           0.000073162758781109
          ],
          [
           0.00007314336107810959
          ],
          [
           0.000071985850809142
          ],
          [
           0.00007198399543995038
          ],
          [
           0.00007172991172410548
          ],
          [
           0.00007172067853389308
          ],
          [
           0.00006814430525992066
          ],
          [
           0.00006810863851569593
          ],
          [
           0.00006760049291187897
          ],
          [
           0.00006759489042451605
          ],
          [
           0.0000668005523039028
          ],
          [
           0.000066792345023714
          ],
          [
           0.00006465161277446896
          ],
          [
           0.00006463268800871447
          ],
          [
           0.00006422668229788542
          ],
          [
           0.00006420243880711496
          ],
          [
           0.0000634707830613479
          ],
          [
           0.00006346733425743878
          ],
          [
           0.00006344203575281426
          ],
          [
           0.00006342673441395164
          ],
          [
           0.00006335280340863392
          ],
          [
           0.00006335195939755067
          ],
          [
           0.00006310523167485371
          ],
          [
           0.00006308591400738806
          ],
          [
           0.00006264755938900635
          ],
          [
           0.00006261262024054304
          ],
          [
           0.00006213594315340742
          ],
          [
           0.00006211869913386181
          ],
          [
           0.00006190202839206904
          ],
          [
           0.00006188025145092979
          ],
          [
           0.00006110381946200505
          ],
          [
           0.0000611014838796109
          ],
          [
           0.00006070782183087431
          ],
          [
           0.000060702725022565573
          ],
          [
           0.000059168356528971344
          ],
          [
           0.00005913219865760766
          ],
          [
           0.00005685253563569859
          ],
          [
           0.000056838976888684556
          ],
          [
           0.000056829496315913275
          ],
          [
           0.00005681562106474303
          ],
          [
           0.00005681491529685445
          ],
          [
           0.00005681275433744304
          ],
          [
           0.000055712414905428886
          ],
          [
           0.00005569775385083631
          ],
          [
           0.00005466939546749927
          ],
          [
           0.00005466559014166705
          ],
          [
           0.00005465563663165085
          ],
          [
           0.00005389321086113341
          ],
          [
           0.00005387224518926814
          ],
          [
           0.00005376580520533025
          ],
          [
           0.000053744788601761684
          ],
          [
           0.00005361174407880753
          ],
          [
           0.00005358690395951271
          ],
          [
           0.000052967076044296846
          ],
          [
           0.00005296374729368836
          ],
          [
           0.00005270743349683471
          ],
          [
           0.00005269029861665331
          ],
          [
           0.00005221137689659372
          ],
          [
           0.00005216702993493527
          ],
          [
           0.0000519180903211236
          ],
          [
           0.00005191101445234381
          ],
          [
           0.00005124831659486517
          ],
          [
           0.00005124235030962154
          ],
          [
           0.000051165352488169447
          ],
          [
           0.000051154420361854136
          ],
          [
           0.000050706912588793784
          ],
          [
           0.00005069815961178392
          ],
          [
           0.00005031098407926038
          ],
          [
           0.000050307000492466614
          ],
          [
           0.00004989544322597794
          ],
          [
           0.00004988545333617367
          ],
          [
           0.000048773708840599284
          ],
          [
           0.0000487636643811129
          ],
          [
           0.00004865882146987133
          ],
          [
           0.0000486448552692309
          ],
          [
           0.00004852786514675245
          ],
          [
           0.00004852693746215664
          ],
          [
           0.000048324622184736654
          ],
          [
           0.00004831757178180851
          ],
          [
           0.000047485165850957856
          ],
          [
           0.00004747679122374393
          ],
          [
           0.00004732107117888518
          ],
          [
           0.00004730997170554474
          ],
          [
           0.000046389690396608785
          ],
          [
           0.000046384648157982156
          ],
          [
           0.000045382588723441586
          ],
          [
           0.00004537955828709528
          ],
          [
           0.00004439942495082505
          ],
          [
           0.00004439459735294804
          ],
          [
           0.00004378582525532693
          ],
          [
           0.00004378528319648467
          ],
          [
           0.000043683015974238515
          ],
          [
           0.000043673935579136014
          ],
          [
           0.00004351616371423006
          ],
          [
           0.00004351147435954772
          ],
          [
           0.000043489613744895905
          ],
          [
           0.00004347402136772871
          ],
          [
           0.000042732717702165246
          ],
          [
           0.00004272786827641539
          ],
          [
           0.0000423750389018096
          ],
          [
           0.00004236821041558869
          ],
          [
           0.00004177101072855294
          ],
          [
           0.000041768937080632895
          ],
          [
           0.00004108000575797632
          ],
          [
           0.000041073071770370007
          ],
          [
           0.00004008907126262784
          ],
          [
           0.00004008704127045348
          ],
          [
           0.00003663936513476074
          ],
          [
           0.00003663541792775504
          ],
          [
           0.00003649064456112683
          ],
          [
           0.00003647874473244883
          ],
          [
           0.00003637463669292629
          ],
          [
           0.00003635739994933829
          ],
          [
           0.00003592099164961837
          ],
          [
           0.00003591763379517943
          ],
          [
           0.00003590657070162706
          ],
          [
           0.000035382763599045575
          ],
          [
           0.00003537796874297783
          ],
          [
           0.00003537591328495182
          ],
          [
           0.000035375207517063245
          ],
          [
           0.00003478787766653113
          ],
          [
           0.000034786684409482405
          ],
          [
           0.00003470606679911725
          ],
          [
           0.0000346976266882848
          ],
          [
           0.00003455962360021658
          ],
          [
           0.00003455033220234327
          ],
          [
           0.00003449472569627687
          ],
          [
           0.00003447384369792417
          ],
          [
           0.000034086719097103924
          ],
          [
           0.00003408515840419568
          ],
          [
           0.00003402176662348211
          ],
          [
           0.00003401294452487491
          ],
          [
           0.0000339183934556786
          ],
          [
           0.00003391664722585119
          ],
          [
           0.00003336645386298187
          ],
          [
           0.00003336025110911578
          ],
          [
           0.00003291737812105566
          ],
          [
           0.000032913958420976996
          ],
          [
           0.000032384628866566345
          ],
          [
           0.000032378360629081726
          ],
          [
           0.00003135843144264072
          ],
          [
           0.000031355975806945935
          ],
          [
           0.00003113218190264888
          ],
          [
           0.00003111229671048932
          ],
          [
           0.000031053932616487145
          ],
          [
           0.00003105239011347294
          ],
          [
           0.00003100182584603317
          ],
          [
           0.000030982908356236294
          ],
          [
           0.0000306066322082188
          ],
          [
           0.00003059770097024739
          ],
          [
           0.000030047998734517023
          ],
          [
           0.00003004722748300992
          ],
          [
           0.000029890210498706438
          ],
          [
           0.000029889753932366148
          ],
          [
           0.00002986319850606378
          ],
          [
           0.000029857701520086266
          ],
          [
           0.000029851156796212308
          ],
          [
           0.000029850130886188708
          ],
          [
           0.000029746070140390657
          ],
          [
           0.000029745388019364327
          ],
          [
           0.000029371894925134256
          ],
          [
           0.000029370381525950506
          ],
          [
           0.000029272541723912582
          ],
          [
           0.000029271845050971024
          ],
          [
           0.000028933585781487636
          ],
          [
           0.000028933089197380468
          ],
          [
           0.00002882139233406633
          ],
          [
           0.000028820046281907707
          ],
          [
           0.00002819374276441522
          ],
          [
           0.00002818694156303536
          ],
          [
           0.000028084392397431657
          ],
          [
           0.000028079868570785038
          ],
          [
           0.000028077029128326103
          ],
          [
           0.000028075044610886835
          ],
          [
           0.000027892352591152303
          ],
          [
           0.000027891368517884985
          ],
          [
           0.000027853890060214326
          ],
          [
           0.000027850914193550125
          ],
          [
           0.000027754085749620572
          ],
          [
           0.00002774863241938874
          ],
          [
           0.00002769837374216877
          ],
          [
           0.000027694781238096766
          ],
          [
           0.000027570873498916626
          ],
          [
           0.00002756969115580432
          ],
          [
           0.0000275619349849876
          ],
          [
           0.000027559808586374857
          ],
          [
           0.00002728790059336461
          ],
          [
           0.000027283320378046483
          ],
          [
           0.000027074827812612057
          ],
          [
           0.000027074413083028048
          ],
          [
           0.000027064501409768127
          ],
          [
           0.000027061247237725183
          ],
          [
           0.00002687497362785507
          ],
          [
           0.00002686920743144583
          ],
          [
           0.000026716386855696328
          ],
          [
           0.00002671177571755834
          ],
          [
           0.00002639962622197345
          ],
          [
           0.000026399198759463616
          ],
          [
           0.00002620280793053098
          ],
          [
           0.00002619418955873698
          ],
          [
           0.000026080924726556987
          ],
          [
           0.000026075849746121094
          ],
          [
           0.0000260298384091584
          ],
          [
           0.00002602693348308094
          ],
          [
           0.00002570069227658678
          ],
          [
           0.000025696896045701578
          ],
          [
           0.000025657080186647363
          ],
          [
           0.00002565656541264616
          ],
          [
           0.000025639836167101748
          ],
          [
           0.00002563543603173457
          ],
          [
           0.000025493205612292513
          ],
          [
           0.000025486351660219952
          ],
          [
           0.000025473107598372735
          ],
          [
           0.000025450623070355505
          ],
          [
           0.000025449289751122706
          ],
          [
           0.00002542275069572497
          ],
          [
           0.000025422217731829733
          ],
          [
           0.000025421537429792807
          ],
          [
           0.00002536221109039616
          ],
          [
           0.00002536015563237015
          ],
          [
           0.00002534584200475365
          ],
          [
           0.000025342747903778218
          ],
          [
           0.000025323663066956215
          ],
          [
           0.000025321442080894485
          ],
          [
           0.000025306355382781476
          ],
          [
           0.00002530514757381752
          ],
          [
           0.000025136185286100954
          ],
          [
           0.000025134266252280213
          ],
          [
           0.000024815901269903407
          ],
          [
           0.000024814931748551317
          ],
          [
           0.00002478151691320818
          ],
          [
           0.000024779743398539722
          ],
          [
           0.000024740689696045592
          ],
          [
           0.000024738659703871235
          ],
          [
           0.000024573384507675655
          ],
          [
           0.000024569168090238236
          ],
          [
           0.00002432739347568713
          ],
          [
           0.00002432463224977255
          ],
          [
           0.000024013408619794063
          ],
          [
           0.000024004662918741815
          ],
          [
           0.000023920818421174772
          ],
          [
           0.00002391897032794077
          ],
          [
           0.00002361726001254283
          ],
          [
           0.00002361714723519981
          ],
          [
           0.000023537799279438332
          ],
          [
           0.000023535239961347543
          ],
          [
           0.00002193664295191411
          ],
          [
           0.000021931642550043762
          ],
          [
           0.000021590232790913433
          ],
          [
           0.000021585867216344923
          ],
          [
           0.000021246860342216678
          ],
          [
           0.00002124359889421612
          ],
          [
           0.000020817265976802446
          ],
          [
           0.000020814428353332914
          ],
          [
           0.000020558052710839547
          ],
          [
           0.000020556051822495647
          ],
          [
           0.000020352661522338167
          ],
          [
           0.000020352505089249462
          ],
          [
           0.00002024008790613152
          ],
          [
           0.000020239489458617754
          ],
          [
           0.000020103143469896168
          ],
          [
           0.000020102183043491095
          ],
          [
           0.000019953076844103634
          ],
          [
           0.00001995269485632889
          ],
          [
           0.000019573781173676252
          ],
          [
           0.00001957333370228298
          ],
          [
           0.000019531082216417417
          ],
          [
           0.0000195305601664586
          ],
          [
           0.00001930635880853515
          ],
          [
           0.00001930595317389816
          ],
          [
           0.00001898907430586405
          ],
          [
           0.000018986429495271295
          ],
          [
           0.00001871994390967302
          ],
          [
           0.000018714892576099373
          ],
          [
           0.000018642747818375938
          ],
          [
           0.000018641238057170995
          ],
          [
           0.000018506671040086076
          ],
          [
           0.000018506318156141788
          ],
          [
           0.000018457336409483105
          ],
          [
           0.00001845707265601959
          ],
          [
           0.000018363212802796625
          ],
          [
           0.000018359887690166943
          ],
          [
           0.00001783528750820551
          ],
          [
           0.000017834929167293012
          ],
          [
           0.000017752072380972095
          ],
          [
           0.000017751275663613342
          ],
          [
           0.000017750344341038726
          ],
          [
           0.000017750277038430795
          ],
          [
           0.000017665081031736918
          ],
          [
           0.00001766385139490012
          ],
          [
           0.000017520143956062384
          ],
          [
           0.000017519458197057247
          ],
          [
           0.0000173340904439101
          ],
          [
           0.000017332800780422986
          ],
          [
           0.00001728127244859934
          ],
          [
           0.000017277679944527335
          ],
          [
           0.00001717747909424361
          ],
          [
           0.000017176380424643867
          ],
          [
           0.000016481191778439097
          ],
          [
           0.000016478677935083397
          ],
          [
           0.000016475660231662914
          ],
          [
           0.000016474010408273898
          ],
          [
           0.00001643989162403159
          ],
          [
           0.000016439202227047645
          ],
          [
           0.000016402682376792654
          ],
          [
           0.000016402416804339737
          ],
          [
           0.000016379470253014006
          ],
          [
           0.000016379235603380948
          ],
          [
           0.0000163649492606055
          ],
          [
           0.0000163631539180642
          ],
          [
           0.000016266085367533378
          ],
          [
           0.000016266023521893658
          ],
          [
           0.000016138827049871907
          ],
          [
           0.000016137410057126544
          ],
          [
           0.000015860250641708262
          ],
          [
           0.000015850997442612424
          ],
          [
           0.00001570646600157488
          ],
          [
           0.00001570541826367844
          ],
          [
           0.000015268789866240695
          ],
          [
           0.000015267594790202565
          ],
          [
           0.000015126349353522528
          ],
          [
           0.000015125484424061142
          ],
          [
           0.000015118186638574116
          ],
          [
           0.000015116861504793633
          ],
          [
           0.000014910300706105772
          ],
          [
           0.000014909418496245053
          ],
          [
           0.000014859665498079266
          ],
          [
           0.000014858999747957569
          ],
          [
           0.00001460691692045657
          ],
          [
           0.000014606359400204383
          ],
          [
           0.00001455195524613373
          ],
          [
           0.000014551900676451623
          ],
          [
           0.000014486751751974225
          ],
          [
           0.000014486158761428669
          ],
          [
           0.000014293912499852013
          ],
          [
           0.000014292903870227747
          ],
          [
           0.000014144168744678609
          ],
          [
           0.000014138074220682029
          ],
          [
           0.00001407705985911889
          ],
          [
           0.000014077007108426187
          ],
          [
           0.000014070402357901912
          ],
          [
           0.000014067049050936475
          ],
          [
           0.000014059431123314425
          ],
          [
           0.000014057461157790385
          ],
          [
           0.00001395237723045284
          ],
          [
           0.000013951511391496751
          ],
          [
           0.000013951352229923941
          ],
          [
           0.000013948731066193432
          ],
          [
           0.000013879413018003106
          ],
          [
           0.000013873391253582668
          ],
          [
           0.00001338330730504822
          ],
          [
           0.00001338233778369613
          ],
          [
           0.000013289382877701428
          ],
          [
           0.000013287912224768661
          ],
          [
           0.000013209702956373803
          ],
          [
           0.00001320684350503143
          ],
          [
           0.000013154553016647696
          ],
          [
           0.000013152822248230223
          ],
          [
           0.00001293874993280042
          ],
          [
           0.00001293561581405811
          ],
          [
           0.000012895338841190096
          ],
          [
           0.000012889609934063628
          ],
          [
           0.000012821763448300771
          ],
          [
           0.000012820431038562674
          ],
          [
           0.000012661382243095431
          ],
          [
           0.000012659825188165996
          ],
          [
           0.000012498096111812629
          ],
          [
           0.00001249707111128373
          ],
          [
           0.00001222057926497655
          ],
          [
           0.00001221985621668864
          ],
          [
           0.00001201093073177617
          ],
          [
           0.000012010094906145241
          ],
          [
           0.000011863305189763196
          ],
          [
           0.000011862196515721735
          ],
          [
           0.000011807705050159711
          ],
          [
           0.000011806387192336842
          ],
          [
           0.000011801918844867032
          ],
          [
           0.000011801625987573061
          ],
          [
           0.000011783722584368661
          ],
          [
           0.000011781969078583643
          ],
          [
           0.000011698947673721705
          ],
          [
           0.000011697843547153752
          ],
          [
           0.000011546047062438447
          ],
          [
           0.00001154508936451748
          ],
          [
           0.000011399437426007353
          ],
          [
           0.000011399035429349169
          ],
          [
           0.000011398601600376423
          ],
          [
           0.000011396959052945022
          ],
          [
           0.000011390646250220016
          ],
          [
           0.000011389788596716244
          ],
          [
           0.000011236812497372739
          ],
          [
           0.000011236747923248913
          ],
          [
           0.000011094500223407522
          ],
          [
           0.000011088090104749426
          ],
          [
           0.00001097037147701485
          ],
          [
           0.000010970036782964598
          ],
          [
           0.000010864610885619186
          ],
          [
           0.000010864445357583463
          ],
          [
           0.000010766922059701756
          ],
          [
           0.000010766388186311815
          ],
          [
           0.000010652257515175734
          ],
          [
           0.000010651201591826975
          ],
          [
           0.000010610608114802744
          ],
          [
           0.00001060602517100051
          ],
          [
           0.000010583877156022936
          ],
          [
           0.000010582999493635725
          ],
          [
           0.000010443308383401018
          ],
          [
           0.000010439245670568198
          ],
          [
           0.000010336959348933306
          ],
          [
           0.000010335382285120431
          ],
          [
           0.000010252507308905479
          ],
          [
           0.000010249535080220085
          ],
          [
           0.000010217057024419773
          ],
          [
           0.0000102164040072239
          ],
          [
           0.000010154520168725867
          ],
          [
           0.000010152399227081332
          ],
          [
           0.000010104904504260048
          ],
          [
           0.000010102775377163198
          ],
          [
           0.00000994894617178943
          ],
          [
           0.000009948746992449742
          ],
          [
           0.000009869142559182364
          ],
          [
           0.000009867871085589286
          ],
          [
           0.000009708125617180485
          ],
          [
           0.000009706181117508095
          ],
          [
           0.000009700313967186958
          ],
          [
           0.000009700231203169096
          ],
          [
           0.000009670783583715092
          ],
          [
           0.000009670747203927021
          ],
          [
           0.000009649926141719334
          ],
          [
           0.000009648224477132317
          ],
          [
           0.000009351409062219318
          ],
          [
           0.000009351195330964401
          ],
          [
           0.000009169628356175963
          ],
          [
           0.000009166489689960144
          ],
          [
           0.000009101099749386776
          ],
          [
           0.000009100969691644423
          ],
          [
           0.000009083922122954391
          ],
          [
           0.000009083583790925331
          ],
          [
           0.00000905314209376229
          ],
          [
           0.000009044418220582884
          ],
          [
           0.000008849056030157954
          ],
          [
           0.000008847662684274837
          ],
          [
           0.000008816271474643145
          ],
          [
           0.000008815161891106982
          ],
          [
           0.000008775135938776657
          ],
          [
           0.000008774382877163589
          ],
          [
           0.000008756435818213504
          ],
          [
           0.000008754214832151774
          ],
          [
           0.000008740608791413251
          ],
          [
           0.000008740583325561602
          ],
          [
           0.000008737059033592232
          ],
          [
           0.000008736450581636745
          ],
          [
           0.000008703369530849159
          ],
          [
           0.00000870108760864241
          ],
          [
           0.000008565349162381608
          ],
          [
           0.000008565251846448518
          ],
          [
           0.000008477348274027463
          ],
          [
           0.000008475650247419253
          ],
          [
           0.000008464874554192647
          ],
          [
           0.000008463042831863277
          ],
          [
           0.000008356010766874533
          ],
          [
           0.00000835547598398989
          ],
          [
           0.000008354815690836404
          ],
          [
           0.000008354440979019273
          ],
          [
           0.000008327141586050857
          ],
          [
           0.000008326426723215263
          ],
          [
           0.00000803549301053863
          ],
          [
           0.000008035293831198942
          ],
          [
           0.000007906804967205971
          ],
          [
           0.000007903103323769756
          ],
          [
           0.000007891722816566471
          ],
          [
           0.000007891347195254639
          ],
          [
           0.000007616886705363868
          ],
          [
           0.000007616268703714013
          ],
          [
           0.00000751768084228388
          ],
          [
           0.000007516389814554714
          ],
          [
           0.000007473140613001306
          ],
          [
           0.0000074722997851495165
          ],
          [
           0.000007379261205642251
          ],
          [
           0.000007378635018540081
          ],
          [
           0.000007365044893958839
          ],
          [
           0.000007364659268205287
          ],
          [
           0.0000072769362304825336
          ],
          [
           0.0000072756870395096485
          ],
          [
           0.000007112897037586663
          ],
          [
           0.000007112435469025513
          ],
          [
           0.000007105622444214532
          ],
          [
           0.000007103922143869568
          ],
          [
           0.000007082930551405298
          ],
          [
           0.000007080985596985556
          ],
          [
           0.00000700209466231172
          ],
          [
           0.000007001860922173364
          ],
          [
           0.000006782937362004304
          ],
          [
           0.0000067816308728652075
          ],
          [
           0.000006772718279535184
          ],
          [
           0.000006772001597710187
          ],
          [
           0.000006447899068007246
          ],
          [
           0.000006447345640481217
          ],
          [
           0.000006446244697144721
          ],
          [
           0.000006444886821554974
          ],
          [
           0.000006429293989640428
          ],
          [
           0.0000064285459302482195
          ],
          [
           0.000006361454779835185
          ],
          [
           0.000006361114628816722
          ],
          [
           0.000006274332008615602
          ],
          [
           0.00000627335657554795
          ],
          [
           0.000006236266017367598
          ],
          [
           0.000006235760793060763
          ],
          [
           0.000006182892775541404
          ],
          [
           0.000006182237939356128
          ],
          [
           0.0000061086170717317145
          ],
          [
           0.000006108215075073531
          ],
          [
           0.00000601725105298101
          ],
          [
           0.000006016786301188404
          ],
          [
           0.000005925844106968725
          ],
          [
           0.000005924070137552917
          ],
          [
           0.000005892185072298162
          ],
          [
           0.000005891724413231714
          ],
          [
           0.000005713419341191184
          ],
          [
           0.000005713184691558126
          ],
          [
           0.0000056433786994603
          ],
          [
           0.000005643002168653766
          ],
          [
           0.000005448790489026578
          ],
          [
           0.000005447818693937734
          ],
          [
           0.000005401640919444617
          ],
          [
           0.000005399163910624338
          ],
          [
           0.00000539281381861656
          ],
          [
           0.000005392736511566909
          ],
          [
           0.000005378125024435576
          ],
          [
           0.000005377571142162196
          ],
          [
           0.0000053760327318741474
          ],
          [
           0.000005375981345423497
          ],
          [
           0.000005352919288270641
          ],
          [
           0.000005352143489290029
          ],
          [
           0.000005268658696877537
          ],
          [
           0.000005268005679681664
          ],
          [
           0.000005154008249519393
          ],
          [
           0.000005152091944182757
          ],
          [
           0.000005141328074387275
          ],
          [
           0.0000051399747462710366
          ],
          [
           0.000005118124590808293
          ],
          [
           0.000005117665750731248
          ],
          [
           0.000005105561740492703
          ],
          [
           0.000005105483978695702
          ],
          [
           0.000005004047579859616
          ],
          [
           0.000005003795195079874
          ],
          [
           0.000004708775122708175
          ],
          [
           0.000004708519554696977
          ],
          [
           0.0000046693699005118106
          ],
          [
           0.0000046683767322974745
          ],
          [
           0.000004641789018933196
          ],
          [
           0.000004641758096113335
          ],
          [
           0.000004625368546840036
          ],
          [
           0.000004625223027687753
          ],
          [
           0.000004547523076325888
          ],
          [
           0.000004547418939182535
          ],
          [
           0.0000045460224100679625
          ],
          [
           0.000004545831870927941
          ],
          [
           0.0000044165185499878135
          ],
          [
           0.000004416358478920301
          ],
          [
           0.000004234827429172583
          ],
          [
           0.000004234722382534528
          ],
          [
           0.000004010973043477861
          ],
          [
           0.000004010456905234605
          ],
          [
           0.0000039081551221897826
          ],
          [
           0.000003907282916770782
          ],
          [
           0.0000038518164728884585
          ],
          [
           0.000003851438123092521
          ],
          [
           0.0000037967388379911426
          ],
          [
           0.0000037960473946441198
          ],
          [
           0.000003724230509760673
          ],
          [
           0.0000037237546166579705
          ],
          [
           0.0000036539429402182577
          ],
          [
           0.0000036537201140163234
          ],
          [
           0.0000036390763398230774
          ],
          [
           0.0000036359265322971623
          ],
          [
           0.0000036040792110725306
          ],
          [
           0.000003602842070904444
          ],
          [
           0.000003543101229297463
          ],
          [
           0.000003542813601598027
          ],
          [
           0.000003503746711430722
          ],
          [
           0.0000035034695429203566
          ],
          [
           0.0000034550366763141938
          ],
          [
           0.000003454443685768638
          ],
          [
           0.0000033414503377571236
          ],
          [
           0.000003340924649819499
          ],
          [
           0.0000032068903692561435
          ],
          [
           0.0000032063521757663693
          ],
          [
           0.000003130246795990388
          ],
          [
           0.000003127919399048551
          ],
          [
           0.0000031192003007163294
          ],
          [
           0.0000031189324545266572
          ],
          [
           0.000003065375722144381
          ],
          [
           0.0000030644901016785298
          ],
          [
           0.0000030327189506351715
          ],
          [
           0.0000030319120014610235
          ],
          [
           0.000003030157358807628
          ],
          [
           0.000003029761728612357
          ],
          [
           0.000003026088279511896
          ],
          [
           0.0000030241642434702953
          ],
          [
           0.0000029907680527685443
          ],
          [
           0.000002990696657434455
          ],
          [
           0.000002947215534732095
          ],
          [
           0.0000029466534670063993
          ],
          [
           0.0000029367165552685037
          ],
          [
           0.0000029339144020923413
          ],
          [
           0.0000029204647944425233
          ],
          [
           0.0000029192701731517445
          ],
          [
           0.0000028993465548410313
          ],
          [
           0.0000028990505143156042
          ],
          [
           0.0000028815557016059756
          ],
          [
           0.0000028813633434765507
          ],
          [
           0.000002880849478970049
          ],
          [
           0.000002880788997572381
          ],
          [
           0.0000026352270197094185
          ],
          [
           0.0000026342722776462324
          ],
          [
           0.0000025990273115894524
          ],
          [
           0.000002598953187771258
          ],
          [
           0.0000025746217033884022
          ],
          [
           0.0000025738779640960274
          ],
          [
           0.0000024649707484059036
          ],
          [
           0.0000024643243250466185
          ],
          [
           0.0000023848087948863395
          ],
          [
           0.0000023847815100452863
          ],
          [
           0.000002379751549597131
          ],
          [
           0.0000023785128178133164
          ],
          [
           0.000002291690634592669
          ],
          [
           0.0000022916599391464842
          ],
          [
           0.0000022878255094838096
          ],
          [
           0.000002286911467308528
          ],
          [
           0.0000022686278953187866
          ],
          [
           0.0000022685412659484427
          ],
          [
           0.0000022182593966135755
          ],
          [
           0.000002218075451310142
          ],
          [
           0.000002184778850278235
          ],
          [
           0.0000021838186512468383
          ],
          [
           0.0000021765913515991997
          ],
          [
           0.0000021749831375927897
          ],
          [
           0.0000021303173980413703
          ],
          [
           0.000002130293069058098
          ],
          [
           0.000002129884705937002
          ],
          [
           0.000002129577978848829
          ],
          [
           0.000002124202865161351
          ],
          [
           0.000002124190586982877
          ],
          [
           0.00000212383815778594
          ],
          [
           0.0000021234634459688095
          ],
          [
           0.0000021230766833468806
          ],
          [
           0.0000021230382571957307
          ],
          [
           0.0000020950328689650632
          ],
          [
           0.000002094379624395515
          ],
          [
           0.0000020863876670773607
          ],
          [
           0.0000020855181901424658
          ],
          [
           0.0000019976614566985518
          ],
          [
           0.0000019970805169577943
          ],
          [
           0.000001967163370864
          ],
          [
           0.000001966306172107579
          ],
          [
           0.000001949555326064001
          ],
          [
           0.0000019493843410600675
          ],
          [
           0.0000019396745756239397
          ],
          [
           0.000001939328512889915
          ],
          [
           0.0000019223436993343057
          ],
          [
           0.0000019213521227356978
          ],
          [
           0.0000019202586827304913
          ],
          [
           0.0000019193450953025604
          ],
          [
           0.000001919231635838514
          ],
          [
           0.0000019177934973413358
          ],
          [
           0.0000018880680272559403
          ],
          [
           0.000001887812459244742
          ],
          [
           0.0000018739110601018183
          ],
          [
           0.0000018737289337877883
          ],
          [
           0.0000017326533452433068
          ],
          [
           0.000001732286591504817
          ],
          [
           0.0000016981122143988614
          ],
          [
           0.0000016975114931483404
          ],
          [
           0.0000016468640069433604
          ],
          [
           0.0000016468121657453594
          ],
          [
           0.000001439897346244834
          ],
          [
           0.000001439510128875554
          ],
          [
           0.000001371930352433992
          ],
          [
           0.0000013711794508708408
          ],
          [
           0.0000013074344451524667
          ],
          [
           0.0000013066866131339339
          ],
          [
           0.0000010613192671371507
          ],
          [
           0.000001060462409441243
          ],
          [
           0.0000010145711257791845
          ],
          [
           0.000001013892187984311
          ],
          [
           9.244350849257899e-7
          ],
          [
           9.239141718353494e-7
          ],
          [
           8.450110158264579e-7
          ],
          [
           8.448265020888357e-7
          ],
          [
           8.369962642973405e-7
          ],
          [
           8.356172429557773e-7
          ],
          [
           7.397873105219333e-7
          ],
          [
           7.397470653813798e-7
          ],
          [
           4.7381668366597296e-8
          ]
         ],
         "hovertemplate": "False Positive Rate=%{x}<br>True Positive Rate=%{y}<br>Threshold=%{customdata[0]}<extra></extra>",
         "legendgroup": "",
         "line": {
          "color": "#636efa"
         },
         "marker": {
          "symbol": "circle"
         },
         "mode": "lines",
         "name": "",
         "orientation": "v",
         "showlegend": false,
         "stackgroup": "1",
         "type": "scatter",
         "x": [
          0,
          0.000028094622689217283,
          0.00008428386806765185,
          0.00008428386806765185,
          0.0001685677361353037,
          0.0001685677361353037,
          0.000196662358824521,
          0.000196662358824521,
          0.00022475698151373826,
          0.00022475698151373826,
          0.0002528516042029556,
          0.0002528516042029556,
          0.0002809462268921728,
          0.0002809462268921728,
          0.0003090408495813901,
          0.0003090408495813901,
          0.0003652300949598247,
          0.0003652300949598247,
          0.0004495139630274765,
          0.0004495139630274765,
          0.0005337978310951284,
          0.0005337978310951284,
          0.000589987076473563,
          0.000589987076473563,
          0.0007304601899196494,
          0.0007304601899196494,
          0.0007585548126088666,
          0.0007585548126088666,
          0.000786649435298084,
          0.000786649435298084,
          0.0009552171714333876,
          0.0009552171714333876,
          0.0009833117941226049,
          0.0009833117941226049,
          0.0012080687756363432,
          0.0012080687756363432,
          0.0012923526437039951,
          0.0012923526437039951,
          0.001404731134460864,
          0.001404731134460864,
          0.001489015002528516,
          0.001489015002528516,
          0.0016013934932853852,
          0.0016013934932853852,
          0.0016294881159746024,
          0.0016294881159746024,
          0.0017418666067314716,
          0.0017418666067314716,
          0.0019666235882452097,
          0.0019666235882452097,
          0.0024442321739619037,
          0.0024442321739619037,
          0.0025847052874079903,
          0.0025847052874079903,
          0.0026127999100972075,
          0.0026127999100972075,
          0.0026408945327864248,
          0.0026408945327864248,
          0.002781367646232511,
          0.002837556891610946,
          0.0031185031185031187,
          0.0031185031185031187,
          0.0036242063269090294,
          0.0036242063269090294,
          0.0038489633084227677,
          0.0038489633084227677,
          0.003877057931111985,
          0.003877057931111985,
          0.0040737202899365065,
          0.0040737202899365065,
          0.004438950384896331,
          0.004438950384896331,
          0.004747991234477721,
          0.004747991234477721,
          0.004832275102545373,
          0.004888464347923807,
          0.005337978310951284,
          0.005450356801708153,
          0.006237006237006237,
          0.0064898578412091925,
          0.007051750294993538,
          0.007051750294993538,
          0.007894588975670056,
          0.007894588975670056,
          0.008006967466426925,
          0.00806315671180536,
          0.008512670674832837,
          0.008568859920211272,
          0.00879361690172501,
          0.008877900769792661,
          0.008905995392481878,
          0.008905995392481878,
          0.009383603978198573,
          0.009383603978198573,
          0.009636455582401528,
          0.009861212563915266,
          0.009889307186604484,
          0.009889307186604484,
          0.010085969545429004,
          0.010142158790807439,
          0.010170253413496656,
          0.010226442658875092,
          0.010423105017699613,
          0.010563578131145699,
          0.011125470584930044,
          0.011125470584930044,
          0.01126594369837613,
          0.01126594369837613,
          0.011294038321065349,
          0.011378322189133,
          0.011771646906782042,
          0.011771646906782042,
          0.01199640388829578,
          0.0121930662471203,
          0.0121930662471203,
          0.012333539360566387,
          0.012333539360566387,
          0.012389728605944823,
          0.012502107096701692,
          0.012502107096701692,
          0.012670674832836995,
          0.01292352643703995,
          0.01292352643703995,
          0.013344945777378209,
          0.013401135022756644,
          0.013625892004270383,
          0.013710175872338035,
          0.014665393043771423,
          0.014665393043771423,
          0.015086812384109681,
          0.015114907006798899,
          0.015283474742934202,
          0.015536326347137157,
          0.01562061021520481,
          0.015761083328650897,
          0.015789177951340112,
          0.01601393493285385,
          0.016266786537056807,
          0.016266786537056807,
          0.016407259650502895,
          0.016407259650502895,
          0.017137719840422543,
          0.017222003708490197,
          0.017334382199247066,
          0.017418666067314716,
          0.017531044558071585,
          0.017643423048828454,
          0.01812103163454515,
          0.01812103163454515,
          0.018711018711018712,
          0.018711018711018712,
          0.01890768106984323,
          0.01890768106984323,
          0.01893577569253245,
          0.019076248805978534,
          0.019525762769006014,
          0.019666235882452098,
          0.01986289824127662,
          0.020031465977411924,
          0.023149969095915043,
          0.02326234758667191,
          0.023318536832050346,
          0.02337472607742878,
          0.023768050795077822,
          0.02390852390852391,
          0.024470416362308255,
          0.024470416362308255,
          0.024863741079957296,
          0.02494802494802495,
          0.025116592684160253,
          0.025116592684160253,
          0.025706579760633813,
          0.025790863628701467,
          0.025931336742147554,
          0.026324661459796596,
          0.026437039950553465,
          0.0273079732539192,
          0.027560824858122154,
          0.027701297971568242,
          0.027701297971568242,
          0.029049839860650673,
          0.029555543069056583,
          0.02997696240939484,
          0.030061246277462494,
          0.030145530145530147,
          0.03031409788166545,
          0.03360116873630387,
          0.03368545260437152,
          0.03424734505815587,
          0.03424734505815587,
          0.03708490194976682,
          0.037197280440523686,
          0.03733775355396977,
          0.037393942799348205,
          0.03798392987582177,
          0.03809630836657864,
          0.03896724166994437,
          0.039248187896836546,
          0.04000674270944541,
          0.04025959431364837,
          0.040315783559026805,
          0.040371972804405236,
          0.04270382648761027,
          0.0427600157329887,
          0.04298477271450244,
          0.04309715120525932,
          0.04523234252963983,
          0.04523234252963983,
          0.045541383379221215,
          0.045541383379221215,
          0.04587851885149182,
          0.04593470809687026,
          0.046159465078384,
          0.04624374894645165,
          0.0477889531943586,
          0.04784514243973703,
          0.04806989942125077,
          0.048435129516210595,
          0.050233185368320506,
          0.05028937461369894,
          0.050317469236388156,
          0.05101983480361859,
          0.053211215373377536,
          0.053295499241445186,
          0.054391189526324664,
          0.054447378771703095,
          0.055458785188514916,
          0.05551497443389335,
          0.0560768668876777,
          0.056133056133056136,
          0.05627352924650222,
          0.05647019160532674,
          0.05767826038096308,
          0.05773444962634152,
          0.0578749227397876,
          0.05812777434399056,
          0.05883013991122099,
          0.05891442377928864,
          0.05975726245996516,
          0.060262965668371075,
          0.06214530538854863,
          0.06220149463392707,
          0.062426251615440805,
          0.06256672472888689,
          0.06610664718772827,
          0.0661628364331067,
          0.06700567511378322,
          0.06706186435916166,
          0.06708995898185087,
          0.06770804068101366,
          0.0684385008709333,
          0.0684385008709333,
          0.06970275889194807,
          0.06978704276001574,
          0.07040512445917851,
          0.07096701691296285,
          0.07335505984154633,
          0.07341124908692476,
          0.07402933078608755,
          0.07408552003146597,
          0.07616452211046805,
          0.07624880597853571,
          0.07627690060122493,
          0.0763892790919818,
          0.07714783390459067,
          0.07748496937686127,
          0.07776591560375344,
          0.07787829409451032,
          0.07832780805753779,
          0.07858065966174074,
          0.07942349834241726,
          0.0794796875877957,
          0.08439624655840872,
          0.08439624655840872,
          0.08448053042647637,
          0.0845367196718548,
          0.0850143282575715,
          0.0851548013710176,
          0.0855200314659774,
          0.08574478844749114,
          0.08636287014665393,
          0.08641905939203237,
          0.08757093892229027,
          0.08757093892229027,
          0.08782379052649322,
          0.08830139911220992,
          0.08872281845254819,
          0.08948137326515705,
          0.08973422486936,
          0.08979041411473844,
          0.0939484182727426,
          0.09400460751812104,
          0.09406079676349946,
          0.09436983761308086,
          0.09462268921728381,
          0.09467887846266225,
          0.09524077091644659,
          0.09529696016182503,
          0.09560600101140641,
          0.09560600101140641,
          0.09633646120132607,
          0.09644883969208294,
          0.0983311794122605,
          0.09844355790301736,
          0.09920211271562623,
          0.09953924818789683,
          0.10043827611395179,
          0.10066303309546552,
          0.10195538573916953,
          0.10203966960723718,
          0.10232061583412935,
          0.102404899702197,
          0.10279822441984604,
          0.10288250828791369,
          0.10400629319548238,
          0.10406248244086082,
          0.10529864583918638,
          0.10535483508456481,
          0.10928808226105523,
          0.10937236612912289,
          0.10984997471483958,
          0.10996235320559646,
          0.11220992302073383,
          0.11229420688880148,
          0.11732314435017138,
          0.11743552284092824,
          0.11954261954261955,
          0.1196269034106872,
          0.12010451199640389,
          0.12032926897791762,
          0.12103163454514806,
          0.12108782379052649,
          0.12676293757374837,
          0.12712816766870821,
          0.12752149238635724,
          0.1276057762544249,
          0.12771815474518178,
          0.12819576333089847,
          0.12858908804854752,
          0.12858908804854752,
          0.13122998258133392,
          0.13128617182671237,
          0.13224138899814575,
          0.13257852447041638,
          0.13451705343597237,
          0.1345732426813508,
          0.13597797381581164,
          0.1360622576838793,
          0.13788840815867842,
          0.13797269202674609,
          0.13853458448053044,
          0.13859077372590886,
          0.13991122099230208,
          0.1399674102376805,
          0.1409226274091139,
          0.14097881665449233,
          0.14387256279148172,
          0.14387256279148172,
          0.1471034444007417,
          0.14735629600494465,
          0.14800247232679664,
          0.1480867561948643,
          0.14901387874360847,
          0.14907006798898692,
          0.1505309883688262,
          0.15069955610496152,
          0.1524695173343822,
          0.15283474742934203,
          0.15384615384615385,
          0.15390234309153228,
          0.15452042479069505,
          0.15460470865876272,
          0.15519469573523628,
          0.1552508849806147,
          0.15690846771927852,
          0.15713322470079227,
          0.15811653649491486,
          0.15822891498567174,
          0.15983030847895713,
          0.15983030847895713,
          0.15988649772433555,
          0.16084171489576896,
          0.16089790414114738,
          0.16280833848401416,
          0.16280833848401416,
          0.16342642018317693,
          0.1635107040512446,
          0.16730347811428892,
          0.16735966735966737,
          0.16851154688992526,
          0.1685677361353037,
          0.16977580491094005,
          0.16983199415631847,
          0.17255717255717257,
          0.172613361802551,
          0.17561948643029723,
          0.17567567567567569,
          0.17657470360173064,
          0.17657470360173064,
          0.17679946058324436,
          0.17688374445131202,
          0.1789346519076249,
          0.17899084115300332,
          0.1796370174748553,
          0.1797774905883014,
          0.18036747766477496,
          0.18036747766477496,
          0.18354217002865653,
          0.18376692701017025,
          0.18396358936899476,
          0.18401977861437321,
          0.18444119795471148,
          0.1844973872000899,
          0.18696971399674103,
          0.18702590324211946,
          0.1880934989043097,
          0.18817778277237737,
          0.190200595606001,
          0.19050963645558242,
          0.19076248805978535,
          0.19104343428667753,
          0.19315053098836882,
          0.19323481485643648,
          0.1932629094791257,
          0.19331909872450412,
          0.193431477215261,
          0.19348766646063945,
          0.19646569646569648,
          0.1967185480698994,
          0.19899421250772603,
          0.19905040175310446,
          0.1999494296791594,
          0.20000561892453783,
          0.20082036298252515,
          0.20093274147328202,
          0.20551216497162444,
          0.20621453053885486,
          0.20674832836995,
          0.20686070686070687,
          0.20722593695566668,
          0.2072821262010451,
          0.20745069393718044,
          0.20750688318255886,
          0.20753497780524807,
          0.20759116705062652,
          0.20798449176827555,
          0.20815305950441085,
          0.20924874978929034,
          0.20930493903466876,
          0.21110299488677867,
          0.21152441422711693,
          0.2127886722481317,
          0.21284486149351015,
          0.21444625498679554,
          0.21464291734562005,
          0.21649716244310838,
          0.21686239253806822,
          0.21807046131370456,
          0.21812665055908298,
          0.2207394504691802,
          0.22079563971455862,
          0.22231274933977638,
          0.222397033207844,
          0.2259369556666854,
          0.22602123953475306,
          0.2273697814238355,
          0.2273697814238355,
          0.22958925661628365,
          0.22972972972972974,
          0.23192111029948867,
          0.23220205652638085,
          0.23290442209361129,
          0.233129179075125,
          0.23588245209866832,
          0.23596673596673598,
          0.2360229252121144,
          0.23607911445749283,
          0.23613530370287128,
          0.23661291228858797,
          0.23970332078440187,
          0.2397595100297803,
          0.23998426701129405,
          0.24012474012474014,
          0.2407428218239029,
          0.24079901106928134,
          0.2446198797550149,
          0.24467606900039332,
          0.24565938079451594,
          0.24571557003989436,
          0.24813170759116704,
          0.24824408608192391,
          0.2516716300500084,
          0.25181210316345454,
          0.2527392257121987,
          0.2527954149575771,
          0.2560262965668371,
          0.25611058043490476,
          0.25656009439793226,
          0.2566162836433107,
          0.25903242119458336,
          0.2590886104399618,
          0.25931336742147554,
          0.2595943136483677,
          0.2601843007248413,
          0.2602404899702197,
          0.26035286846097655,
          0.26043715232904424,
          0.26178569421812664,
          0.2620385458223296,
          0.2631061414845199,
          0.2631623307298983,
          0.26372422318368266,
          0.2637804124290611,
          0.26389279091981793,
          0.26394898016519636,
          0.26403326403326405,
          0.26408945327864247,
          0.2659998876215092,
          0.26616845535764455,
          0.2667303478114289,
          0.2667865370568073,
          0.2668989155475642,
          0.26695510479294265,
          0.2678541327189976,
          0.26791032196437603,
          0.26959599932572903,
          0.2696521885711075,
          0.2700174186660673,
          0.27007360791144575,
          0.2752430184862617,
          0.2753553969770186,
          0.2759734786761814,
          0.27608585716693823,
          0.2774063044333315,
          0.2775186829240883,
          0.2811990784963758,
          0.2814238354778895,
          0.28198572793167387,
          0.2820419171770523,
          0.2835028375568916,
          0.28355902680227,
          0.2835871214249593,
          0.2836433106703377,
          0.28378378378378377,
          0.2838399730291622,
          0.28437377086025734,
          0.28442996010563576,
          0.2850199471821093,
          0.2850761364274878,
          0.28586278586278585,
          0.28600325897623197,
          0.28634039444850257,
          0.286396583693881,
          0.28794178794178793,
          0.28808226105523405,
          0.2887003427543968,
          0.28875653199977525,
          0.2922402652132382,
          0.29232454908130584,
          0.29670731022082375,
          0.2967915940888914,
          0.2968477833342698,
          0.2969601618250267,
          0.2969882564477159,
          0.29704444569309435,
          0.29915154239478564,
          0.29920773164016407,
          0.30145530145530147,
          0.30176434230488286,
          0.30196100466370734,
          0.30384334438388494,
          0.3039557228746418,
          0.3044052368376693,
          0.3047142776872507,
          0.3050514131595213,
          0.3051076024048997,
          0.30676518514356355,
          0.3069337528796988,
          0.3076361184469293,
          0.3079170646738214,
          0.3091251334494578,
          0.30926560656290386,
          0.3099960667528235,
          0.31005225599820196,
          0.31207506883182556,
          0.31213125807720404,
          0.31246839354947464,
          0.31252458279485307,
          0.31390121930662473,
          0.3140978816654492,
          0.3152216665730179,
          0.31539023430915325,
          0.3162330729898297,
          0.3162892622352082,
          0.31935157610833287,
          0.31949204922177893,
          0.31996965780749564,
          0.32002584705287407,
          0.3205596448839692,
          0.32070011799741527,
          0.3213743889419565,
          0.32143057818733495,
          0.32390290498398605,
          0.3239590942293645,
          0.32421194583356744,
          0.32429622970163513,
          0.32679665112097545,
          0.3270775973478676,
          0.33022419508906,
          0.33033657357981683,
          0.3335674551890768,
          0.33362364443445525,
          0.33544979490925436,
          0.3355059841546328,
          0.33573074113614654,
          0.3359274034949711,
          0.3366297690622015,
          0.33716356689329663,
          0.3372759453840535,
          0.3373321346294319,
          0.3400292184075968,
          0.34008540765297524,
          0.3412934764286116,
          0.34146204416474685,
          0.3437938978479519,
          0.3438500870933303,
          0.3468562117210766,
          0.3471090633252795,
          0.35053660729336406,
          0.3507051750294993,
          0.36539866269596,
          0.3654548519413384,
          0.3660167443951228,
          0.3661291228858796,
          0.3665786368489071,
          0.36663482609428555,
          0.36846097656908466,
          0.3685171658144631,
          0.36862954430522,
          0.3707366410069113,
          0.3709333033657358,
          0.37096139798842503,
          0.3715232904422094,
          0.3743608473338203,
          0.37444513120188794,
          0.374838455919537,
          0.37489464516491544,
          0.375484632241389,
          0.37554082148676743,
          0.3757936730909704,
          0.37590605158172724,
          0.37787267516997247,
          0.3779288644153509,
          0.37820981064224307,
          0.3783221891329999,
          0.37894027083216275,
          0.37913693319098724,
          0.3818059223464629,
          0.3821711524414227,
          0.38422205989773556,
          0.384278249143114,
          0.3868348598078328,
          0.3868910490532112,
          0.3923975951002978,
          0.39245378434567624,
          0.39363375849862337,
          0.3938023262347587,
          0.3941675563297185,
          0.39422374557509693,
          0.3945327864246783,
          0.39458897567005674,
          0.39689273473057257,
          0.39717368095746475,
          0.40079788728437377,
          0.4008821711524414,
          0.40192167219194247,
          0.4019778614373209,
          0.402118334550767,
          0.40225880766421307,
          0.4023711861549699,
          0.4024273754003484,
          0.40293307860875427,
          0.4029892678541327,
          0.40532112153733774,
          0.4053773107827162,
          0.4059392032365005,
          0.4061920548407035,
          0.4081867730516379,
          0.40829915154239477,
          0.4091419902230713,
          0.4091981794684497,
          0.4133842782491431,
          0.41344046749452157,
          0.4141990223071304,
          0.41425521155250883,
          0.41428330617519804,
          0.41478900938360397,
          0.41619374051806485,
          0.4163061190088217,
          0.41653087599033545,
          0.41658706523571387,
          0.41728943080294434,
          0.4174860931617688,
          0.4179075125021071,
          0.41796370174748554,
          0.41877844580547285,
          0.41905939203236503,
          0.41911558127774345,
          0.4192560543911895,
          0.4208293532617857,
          0.4208293532617857,
          0.42231836826431424,
          0.42254312524582793,
          0.42259931449120636,
          0.4227959768500309,
          0.42400404562566724,
          0.42406023487104566,
          0.4250435466651683,
          0.4250997359105467,
          0.42743158959375177,
          0.4275439680845086,
          0.4288925099735911,
          0.4289486992189695,
          0.4296791594088891,
          0.42987582176771366,
          0.4302410518626735,
          0.4304096195988088,
          0.43279766252739227,
          0.43310670337697366,
          0.4333314603584874,
          0.43338764960386583,
          0.4335000280946227,
          0.4335562173400011,
          0.4347923807383267,
          0.4351014215879081,
          0.43524189470135416,
          0.4354385570601787,
          0.43555093555093555,
          0.43569140866438166,
          0.4357475979097601,
          0.43585997640051694,
          0.43625330111816596,
          0.43630949036354444,
          0.4364780580996797,
          0.4365904365904366,
          0.4367590043265719,
          0.4368432881946395,
          0.43698376130808564,
          0.43703995055346406,
          0.4385289655559926,
          0.438585154801371,
          0.4408327246165084,
          0.44091700848457605,
          0.44122604933415743,
          0.44128223857953586,
          0.4415350901837388,
          0.44206888801483396,
          0.4433331460358487,
          0.4434174299039164,
          0.44558071585098613,
          0.44563690509636456,
          0.44844636736528626,
          0.4486711243468,
          0.44920492217789515,
          0.449317300668652,
          0.4515929651064786,
          0.45167724897454625,
          0.4522672360510198,
          0.45240770916446593,
          0.4658369388099118,
          0.4658931280552902,
          0.46887115806034724,
          0.46892734730572566,
          0.47193347193347196,
          0.4722144181603641,
          0.4767376524133281,
          0.47699050401753107,
          0.4791256953419116,
          0.47932235770073606,
          0.4809518458167107,
          0.48106422430746754,
          0.4819632522335225,
          0.4820194414789009,
          0.48328369949991573,
          0.48333988874529416,
          0.4848850929932011,
          0.4849412822385795,
          0.48873405630162386,
          0.4887902455470023,
          0.48940832724616506,
          0.4895488003596112,
          0.49182446479743774,
          0.4924425464966006,
          0.4952520087655223,
          0.4953643872562791,
          0.49803337641175477,
          0.4984828903747823,
          0.4988762150924313,
          0.49907287745125584,
          0.500646176321852,
          0.5010956902848794,
          0.5015452042479069,
          0.5016013934932854,
          0.5025285160420295,
          0.502584705287408,
          0.508287913693319,
          0.508400292184076,
          0.5093274147328202,
          0.5094116986008878,
          0.5094959824689554,
          0.5095521717143339,
          0.5103388211496319,
          0.5104511996403889,
          0.5117154576614036,
          0.511884025397539,
          0.5142439737034331,
          0.5143001629488116,
          0.5149463392706636,
          0.515002528516042,
          0.5159577456874754,
          0.5163510704051245,
          0.5247513625892004,
          0.5248075518345788,
          0.5248356464572681,
          0.5249761195707142,
          0.52548182277912,
          0.525734674383323,
          0.5263246614597966,
          0.526380850705175,
          0.5266617969320672,
          0.5267741754228241,
          0.5269708377816485,
          0.5272798786312299,
          0.5285160420295555,
          0.528572231274934,
          0.530117435522841,
          0.5301736247682194,
          0.5333764117547901,
          0.533882114963196,
          0.5353992245884138,
          0.5354554138337922,
          0.5409619598808788,
          0.5410181491262572,
          0.5427319211102994,
          0.5428162049783671,
          0.5429004888464348,
          0.5430409619598808,
          0.545906613474181,
          0.5459628027195594,
          0.5467213575321683,
          0.5467775467775468,
          0.550682699331348,
          0.5507388885767264,
          0.5514131595212677,
          0.5514693487666461,
          0.5523402820700118,
          0.5523964713153903,
          0.5550935550935551,
          0.5554587851885149,
          0.5578187334944091,
          0.5579592066078553,
          0.5587177614204641,
          0.5587739506658426,
          0.5589425184019778,
          0.559082991515424,
          0.5591672753834916,
          0.5592234646288701,
          0.5607405742540877,
          0.5607967634994662,
          0.5608248581221554,
          0.5609091419902231,
          0.5619205484070349,
          0.5619767376524133,
          0.569815137382705,
          0.5699275158734618,
          0.5715289093667472,
          0.5716131932348149,
          0.5729898297465865,
          0.5730741136146541,
          0.5738607630499523,
          0.5740574254087768,
          0.5774287801314828,
          0.5775130639995505,
          0.578103051076024,
          0.5781592403214025,
          0.5791706467382143,
          0.5792268359835927,
          0.5821486767432713,
          0.5822048659886497,
          0.5850143282575715,
          0.5852671798617745,
          0.5900432657189414,
          0.5900994549643198,
          0.5939765128954319,
          0.5940327021408103,
          0.5968421644097319,
          0.5969545429004889,
          0.5979378546946115,
          0.5979940439399899,
          0.5983030847895713,
          0.5984154632803281,
          0.5988649772433556,
          0.5988649772433556,
          0.6002978030005057,
          0.6005506546047087,
          0.603697252345901,
          0.6037534415912794,
          0.6069562285778503,
          0.6070124178232287,
          0.6070405124459178,
          0.6071247963139855,
          0.6072933640501208,
          0.6073495532954992,
          0.6102152048097994,
          0.6106366241501376,
          0.6131651401921672,
          0.6132494240602349,
          0.6153565207619262,
          0.6154127100073046,
          0.6173793335955499,
          0.6176040905770636,
          0.6197111872787548,
          0.6197673765241333,
          0.6220992302073383,
          0.6223520818115412,
          0.6233072989829747,
          0.6233915828510423,
          0.6236444344552453,
          0.6237287183233129,
          0.6268191268191268,
          0.6268753160645053,
          0.6292352643703996,
          0.6293476428611564,
          0.6310895094678879,
          0.6311456987132663,
          0.6318761589031859,
          0.6319323481485644,
          0.633308984660336,
          0.6333651739057145,
          0.6342642018317693,
          0.6344327695679047,
          0.6376917457998539,
          0.6377479350452323,
          0.6394898016519638,
          0.6395740855200315,
          0.6427206832612238,
          0.6427768725066022,
          0.6429173456200483,
          0.6429735348654267,
          0.6436478058099679,
          0.6440130359049278,
          0.6446030229814014,
          0.6446592122267798,
          0.6514300162948812,
          0.6516266786537057,
          0.6560937236612913,
          0.6561780075293588,
          0.6579760633814687,
          0.6580322526268472,
          0.6584536719671855,
          0.6585098612125639,
          0.6591841321571051,
          0.6592403214024836,
          0.6641568803730966,
          0.664213069618475,
          0.6650840029218408,
          0.6655897061302467,
          0.6664325448109232,
          0.6665730179243693,
          0.6670787211327752,
          0.6671630050008428,
          0.6675001404731135,
          0.6676687082092487,
          0.6677529920773164,
          0.6678091813226948,
          0.6686520200033713,
          0.6687082092487497,
          0.6715176715176715,
          0.6715738607630499,
          0.6738776198235658,
          0.6741304714277687,
          0.6743271337865933,
          0.6744676069000394,
          0.677136596055515,
          0.6773613530370287,
          0.6774175422824071,
          0.6776984885092994,
          0.6785694218126651,
          0.6786256110580435,
          0.6862954430521998,
          0.6865482946564028,
          0.6901444063606226,
          0.6902567848513794,
          0.6907062988144069,
          0.6907624880597854,
          0.698600887790077,
          0.6987975501489015,
          0.7023936618531214,
          0.7024779457211889,
          0.7035736360060685,
          0.7036298252514469,
          0.7063269090296117,
          0.7063830982749901,
          0.7067202337472608,
          0.7067764229926392,
          0.7089116143170198,
          0.7089678035623982,
          0.7128448614935101,
          0.7129853346069562,
          0.7131819969657808,
          0.7132381862111592,
          0.7136877001741867,
          0.7137719840422543,
          0.715935269989324,
          0.7159914592347025,
          0.7228746417935608,
          0.7229308310389392,
          0.7231836826431421,
          0.723689385851548,
          0.7331010844524358,
          0.7332415575658819,
          0.7332977468112604,
          0.7336910715289093,
          0.7340563016238691,
          0.7345339102095859,
          0.7367252907793448,
          0.7367814800247233,
          0.7395066584255774,
          0.7395628476709558,
          0.7403214024835646,
          0.7407428218239029,
          0.7425127830533236,
          0.742568972298702,
          0.7450412990953531,
          0.7450974883407315,
          0.7484407484407485,
          0.7484969376861269,
          0.7513344945777378,
          0.7514187784458055,
          0.7524020902399281,
          0.752514468730685,
          0.7583581502500422,
          0.7584143394954206,
          0.7611957071416531,
          0.7612518963870315,
          0.7676574703601731,
          0.7679384165870652,
          0.7693431477215261,
          0.7694274315895937,
          0.7696240939484182,
          0.7696802831937967,
          0.7702140810248919,
          0.7702702702702703,
          0.7704669326290948,
          0.7705231218744732,
          0.7714221498005281,
          0.7714783390459066,
          0.774372085182896,
          0.7744282744282744,
          0.7792886441535091,
          0.7793448333988875,
          0.7797381581165365,
          0.7797943473619149,
          0.7806090914199022,
          0.7806652806652806,
          0.7811990784963758,
          0.7812552677417542,
          0.7847109063325279,
          0.7847670955779064,
          0.7957239984267012,
          0.795836376917458,
          0.797128729561162,
          0.7971849188065404,
          0.7984772714502444,
          0.7985896499410013,
          0.7992639208855425,
          0.799320110130921,
          0.8025228971174917,
          0.8026352756082485,
          0.8026633702309378,
          0.8027195594763162,
          0.8078046861830646,
          0.8079732539191998,
          0.8142945440242737,
          0.8143507332696522,
          0.8232567286621341,
          0.8233129179075125,
          0.8270214081024891,
          0.8274147328201382,
          0.8293532617856942,
          0.8294375456537618,
          0.8317974939596561,
          0.8318536832050346,
          0.8345788616058887,
          0.8350845648142945,
          0.8378378378378378,
          0.8380625948193515,
          0.8389054335000281,
          0.8389616227454065,
          0.840450637747935,
          0.8405068269933135,
          0.8432039107714784,
          0.8432601000168568,
          0.8446086419059392,
          0.8446648311513176,
          0.8467438332303198,
          0.8468000224756982,
          0.851182783615216,
          0.8512389728605945,
          0.8578412091925606,
          0.857897398437939,
          0.8606506714614822,
          0.8607068607068608,
          0.8611001854245097,
          0.8612406585379558,
          0.8637691745799854,
          0.8638253638253638,
          0.8655110411867168,
          0.8655672304320953,
          0.8656234196774737,
          0.8656796089228521,
          0.8659043659043659,
          0.8659605551497443,
          0.8674214755295836,
          0.8675619486430297,
          0.8693038152497612,
          0.8693038152497612,
          0.8698657077035455,
          0.869921896948924,
          0.8706804517615329,
          0.870820924874979,
          0.8719728044052368,
          0.8720289936506153,
          0.8729561161993594,
          0.8730123054447378,
          0.8730684946901163,
          0.8731246839354947,
          0.8837725459347081,
          0.8838287351800865,
          0.8854863179187503,
          0.8855425071641287,
          0.8867505759397651,
          0.8868067651851436,
          0.8926223520818115,
          0.8927066359498792,
          0.8963589368994774,
          0.8964151261448559,
          0.8967241669944372,
          0.8968084508625049,
          0.9007136034163061,
          0.9007697926616846,
          0.9009945496431983,
          0.9011350227566444,
          0.901977861437321,
          0.9020621453053885,
          0.9038602011574984,
          0.9039163904028769,
          0.9058830139911221,
          0.9059392032365006,
          0.906248244086082,
          0.9064449064449065,
          0.9090577063550036,
          0.9091138956003821,
          0.9091700848457606,
          0.909226274091139,
          0.9095634095634095,
          0.9097319772995449,
          0.9097600719222341,
          0.9098162611676125,
          0.9099848289037479,
          0.9100972073945047,
          0.9114457492835871,
          0.9115019385289655,
          0.9118109793785469,
          0.9120638309827499,
          0.9163623082542002,
          0.9164184974995786,
          0.9179917963701747,
          0.9181603641063101,
          0.9187784458054729,
          0.9188346350508513,
          0.9193965275046356,
          0.9194808113727032,
          0.9203236500533798,
          0.9203798392987582,
          0.9204641231668259,
          0.9206888801483396,
          0.9207169747710289,
          0.9207731640164073,
          0.9222621790189358,
          0.9223183682643142,
          0.9230207338315446,
          0.9230769230769231,
          0.9300443895038489,
          0.9301005787492274,
          0.9317581614878913,
          0.9318424453559588,
          0.9340338259257178,
          0.9342866775299208,
          0.9447378771703095,
          0.9449907287745125,
          0.9481935157610833,
          0.9485306512333539,
          0.9515086812384109,
          0.9515648704837893,
          0.9642917345620048,
          0.9643479238073832,
          0.9665954936225206,
          0.966651682867899,
          0.9705006461763218,
          0.9705568354217002,
          0.9742372309939877,
          0.9742934202393662,
          0.974658650334326,
          0.9747148395797044,
          0.9791818845872899,
          0.9792380738326685,
          1
         ],
         "xaxis": "x",
         "y": [
          0,
          0,
          0,
          0.011363636363636364,
          0.011363636363636364,
          0.022727272727272728,
          0.022727272727272728,
          0.045454545454545456,
          0.045454545454545456,
          0.056818181818181816,
          0.056818181818181816,
          0.09090909090909091,
          0.09090909090909091,
          0.10227272727272728,
          0.10227272727272728,
          0.125,
          0.125,
          0.14772727272727273,
          0.14772727272727273,
          0.17045454545454544,
          0.17045454545454544,
          0.18181818181818182,
          0.18181818181818182,
          0.20454545454545456,
          0.20454545454545456,
          0.2159090909090909,
          0.2159090909090909,
          0.22727272727272727,
          0.22727272727272727,
          0.26136363636363635,
          0.26136363636363635,
          0.2727272727272727,
          0.2727272727272727,
          0.2840909090909091,
          0.2840909090909091,
          0.29545454545454547,
          0.29545454545454547,
          0.3068181818181818,
          0.3068181818181818,
          0.3181818181818182,
          0.3181818181818182,
          0.32954545454545453,
          0.32954545454545453,
          0.3409090909090909,
          0.3409090909090909,
          0.3522727272727273,
          0.3522727272727273,
          0.375,
          0.375,
          0.38636363636363635,
          0.38636363636363635,
          0.3977272727272727,
          0.3977272727272727,
          0.4090909090909091,
          0.4090909090909091,
          0.42045454545454547,
          0.42045454545454547,
          0.4318181818181818,
          0.4318181818181818,
          0.4318181818181818,
          0.4318181818181818,
          0.4431818181818182,
          0.4431818181818182,
          0.45454545454545453,
          0.45454545454545453,
          0.4659090909090909,
          0.4659090909090909,
          0.4772727272727273,
          0.4772727272727273,
          0.48863636363636365,
          0.48863636363636365,
          0.5113636363636364,
          0.5113636363636364,
          0.5227272727272727,
          0.5227272727272727,
          0.5227272727272727,
          0.5227272727272727,
          0.5227272727272727,
          0.5227272727272727,
          0.5227272727272727,
          0.5227272727272727,
          0.5340909090909091,
          0.5340909090909091,
          0.5454545454545454,
          0.5454545454545454,
          0.5454545454545454,
          0.5454545454545454,
          0.5454545454545454,
          0.5454545454545454,
          0.5454545454545454,
          0.5454545454545454,
          0.5568181818181818,
          0.5568181818181818,
          0.5681818181818182,
          0.5681818181818182,
          0.5681818181818182,
          0.5681818181818182,
          0.5795454545454546,
          0.5795454545454546,
          0.5795454545454546,
          0.5795454545454546,
          0.5795454545454546,
          0.5795454545454546,
          0.5795454545454546,
          0.5795454545454546,
          0.5909090909090909,
          0.5909090909090909,
          0.6022727272727273,
          0.6022727272727273,
          0.6022727272727273,
          0.6022727272727273,
          0.6136363636363636,
          0.6136363636363636,
          0.6136363636363636,
          0.625,
          0.625,
          0.6363636363636364,
          0.6363636363636364,
          0.6363636363636364,
          0.6590909090909091,
          0.6590909090909091,
          0.6590909090909091,
          0.6704545454545454,
          0.6704545454545454,
          0.6704545454545454,
          0.6704545454545454,
          0.6704545454545454,
          0.6704545454545454,
          0.6818181818181818,
          0.6818181818181818,
          0.6818181818181818,
          0.6818181818181818,
          0.6818181818181818,
          0.6818181818181818,
          0.6818181818181818,
          0.6818181818181818,
          0.6818181818181818,
          0.6818181818181818,
          0.6931818181818182,
          0.6931818181818182,
          0.7045454545454546,
          0.7045454545454546,
          0.7045454545454546,
          0.7045454545454546,
          0.7045454545454546,
          0.7045454545454546,
          0.7045454545454546,
          0.7045454545454546,
          0.7159090909090909,
          0.7159090909090909,
          0.7272727272727273,
          0.7272727272727273,
          0.7386363636363636,
          0.7386363636363636,
          0.7386363636363636,
          0.7386363636363636,
          0.7386363636363636,
          0.7386363636363636,
          0.7386363636363636,
          0.7386363636363636,
          0.7386363636363636,
          0.7386363636363636,
          0.7386363636363636,
          0.7386363636363636,
          0.7386363636363636,
          0.7386363636363636,
          0.75,
          0.75,
          0.75,
          0.75,
          0.7613636363636364,
          0.7613636363636364,
          0.7613636363636364,
          0.7613636363636364,
          0.7613636363636364,
          0.7613636363636364,
          0.7613636363636364,
          0.7613636363636364,
          0.7613636363636364,
          0.7727272727272727,
          0.7727272727272727,
          0.7727272727272727,
          0.7727272727272727,
          0.7727272727272727,
          0.7727272727272727,
          0.7727272727272727,
          0.7727272727272727,
          0.7727272727272727,
          0.7727272727272727,
          0.7840909090909091,
          0.7840909090909091,
          0.7840909090909091,
          0.7840909090909091,
          0.7840909090909091,
          0.7840909090909091,
          0.7840909090909091,
          0.7840909090909091,
          0.7840909090909091,
          0.7840909090909091,
          0.7840909090909091,
          0.7840909090909091,
          0.7840909090909091,
          0.7840909090909091,
          0.7840909090909091,
          0.7840909090909091,
          0.7840909090909091,
          0.7840909090909091,
          0.7954545454545454,
          0.7954545454545454,
          0.8068181818181818,
          0.8068181818181818,
          0.8068181818181818,
          0.8068181818181818,
          0.8068181818181818,
          0.8068181818181818,
          0.8068181818181818,
          0.8068181818181818,
          0.8068181818181818,
          0.8068181818181818,
          0.8068181818181818,
          0.8068181818181818,
          0.8068181818181818,
          0.8068181818181818,
          0.8068181818181818,
          0.8068181818181818,
          0.8068181818181818,
          0.8068181818181818,
          0.8068181818181818,
          0.8068181818181818,
          0.8068181818181818,
          0.8068181818181818,
          0.8068181818181818,
          0.8068181818181818,
          0.8068181818181818,
          0.8068181818181818,
          0.8068181818181818,
          0.8068181818181818,
          0.8068181818181818,
          0.8068181818181818,
          0.8068181818181818,
          0.8068181818181818,
          0.8068181818181818,
          0.8068181818181818,
          0.8068181818181818,
          0.8068181818181818,
          0.8068181818181818,
          0.8068181818181818,
          0.8068181818181818,
          0.8068181818181818,
          0.8068181818181818,
          0.8068181818181818,
          0.8181818181818182,
          0.8181818181818182,
          0.8181818181818182,
          0.8181818181818182,
          0.8181818181818182,
          0.8181818181818182,
          0.8181818181818182,
          0.8181818181818182,
          0.8295454545454546,
          0.8295454545454546,
          0.8295454545454546,
          0.8295454545454546,
          0.8295454545454546,
          0.8295454545454546,
          0.8295454545454546,
          0.8295454545454546,
          0.8295454545454546,
          0.8295454545454546,
          0.8295454545454546,
          0.8295454545454546,
          0.8295454545454546,
          0.8295454545454546,
          0.8409090909090909,
          0.8409090909090909,
          0.8409090909090909,
          0.8409090909090909,
          0.8409090909090909,
          0.8409090909090909,
          0.8409090909090909,
          0.8409090909090909,
          0.8409090909090909,
          0.8409090909090909,
          0.8522727272727273,
          0.8522727272727273,
          0.8522727272727273,
          0.8522727272727273,
          0.8522727272727273,
          0.8522727272727273,
          0.8522727272727273,
          0.8522727272727273,
          0.8522727272727273,
          0.8522727272727273,
          0.8522727272727273,
          0.8522727272727273,
          0.8522727272727273,
          0.8522727272727273,
          0.8522727272727273,
          0.8522727272727273,
          0.8636363636363636,
          0.8636363636363636,
          0.8636363636363636,
          0.8636363636363636,
          0.8636363636363636,
          0.8636363636363636,
          0.8636363636363636,
          0.8636363636363636,
          0.8636363636363636,
          0.8636363636363636,
          0.8636363636363636,
          0.8636363636363636,
          0.8636363636363636,
          0.8636363636363636,
          0.8636363636363636,
          0.8636363636363636,
          0.875,
          0.875,
          0.875,
          0.875,
          0.875,
          0.875,
          0.875,
          0.875,
          0.875,
          0.875,
          0.875,
          0.875,
          0.875,
          0.875,
          0.875,
          0.875,
          0.875,
          0.875,
          0.875,
          0.875,
          0.875,
          0.875,
          0.875,
          0.875,
          0.8863636363636364,
          0.8863636363636364,
          0.8863636363636364,
          0.8863636363636364,
          0.8863636363636364,
          0.8863636363636364,
          0.8863636363636364,
          0.8863636363636364,
          0.8863636363636364,
          0.8863636363636364,
          0.8863636363636364,
          0.8863636363636364,
          0.8863636363636364,
          0.8863636363636364,
          0.8863636363636364,
          0.8863636363636364,
          0.8863636363636364,
          0.8863636363636364,
          0.8977272727272727,
          0.8977272727272727,
          0.8977272727272727,
          0.8977272727272727,
          0.8977272727272727,
          0.8977272727272727,
          0.8977272727272727,
          0.8977272727272727,
          0.8977272727272727,
          0.8977272727272727,
          0.8977272727272727,
          0.8977272727272727,
          0.8977272727272727,
          0.8977272727272727,
          0.8977272727272727,
          0.8977272727272727,
          0.8977272727272727,
          0.8977272727272727,
          0.8977272727272727,
          0.8977272727272727,
          0.8977272727272727,
          0.8977272727272727,
          0.9090909090909091,
          0.9090909090909091,
          0.9090909090909091,
          0.9090909090909091,
          0.9090909090909091,
          0.9204545454545454,
          0.9204545454545454,
          0.9204545454545454,
          0.9204545454545454,
          0.9204545454545454,
          0.9204545454545454,
          0.9204545454545454,
          0.9204545454545454,
          0.9204545454545454,
          0.9204545454545454,
          0.9204545454545454,
          0.9204545454545454,
          0.9204545454545454,
          0.9204545454545454,
          0.9318181818181818,
          0.9318181818181818,
          0.9318181818181818,
          0.9318181818181818,
          0.9318181818181818,
          0.9318181818181818,
          0.9318181818181818,
          0.9318181818181818,
          0.9431818181818182,
          0.9431818181818182,
          0.9431818181818182,
          0.9431818181818182,
          0.9431818181818182,
          0.9431818181818182,
          0.9431818181818182,
          0.9431818181818182,
          0.9431818181818182,
          0.9431818181818182,
          0.9431818181818182,
          0.9431818181818182,
          0.9431818181818182,
          0.9431818181818182,
          0.9431818181818182,
          0.9431818181818182,
          0.9431818181818182,
          0.9431818181818182,
          0.9431818181818182,
          0.9431818181818182,
          0.9431818181818182,
          0.9431818181818182,
          0.9431818181818182,
          0.9431818181818182,
          0.9431818181818182,
          0.9431818181818182,
          0.9431818181818182,
          0.9431818181818182,
          0.9431818181818182,
          0.9431818181818182,
          0.9431818181818182,
          0.9431818181818182,
          0.9431818181818182,
          0.9431818181818182,
          0.9431818181818182,
          0.9431818181818182,
          0.9431818181818182,
          0.9431818181818182,
          0.9431818181818182,
          0.9431818181818182,
          0.9431818181818182,
          0.9431818181818182,
          0.9431818181818182,
          0.9431818181818182,
          0.9431818181818182,
          0.9431818181818182,
          0.9431818181818182,
          0.9431818181818182,
          0.9431818181818182,
          0.9431818181818182,
          0.9431818181818182,
          0.9431818181818182,
          0.9431818181818182,
          0.9431818181818182,
          0.9431818181818182,
          0.9431818181818182,
          0.9431818181818182,
          0.9431818181818182,
          0.9431818181818182,
          0.9431818181818182,
          0.9545454545454546,
          0.9545454545454546,
          0.9545454545454546,
          0.9545454545454546,
          0.9545454545454546,
          0.9545454545454546,
          0.9545454545454546,
          0.9545454545454546,
          0.9545454545454546,
          0.9545454545454546,
          0.9545454545454546,
          0.9545454545454546,
          0.9545454545454546,
          0.9545454545454546,
          0.9545454545454546,
          0.9545454545454546,
          0.9545454545454546,
          0.9545454545454546,
          0.9545454545454546,
          0.9545454545454546,
          0.9545454545454546,
          0.9545454545454546,
          0.9545454545454546,
          0.9545454545454546,
          0.9545454545454546,
          0.9545454545454546,
          0.9545454545454546,
          0.9545454545454546,
          0.9545454545454546,
          0.9545454545454546,
          0.9545454545454546,
          0.9545454545454546,
          0.9545454545454546,
          0.9545454545454546,
          0.9545454545454546,
          0.9545454545454546,
          0.9545454545454546,
          0.9545454545454546,
          0.9545454545454546,
          0.9545454545454546,
          0.9545454545454546,
          0.9545454545454546,
          0.9545454545454546,
          0.9545454545454546,
          0.9545454545454546,
          0.9545454545454546,
          0.9545454545454546,
          0.9545454545454546,
          0.9545454545454546,
          0.9545454545454546,
          0.9545454545454546,
          0.9545454545454546,
          0.9545454545454546,
          0.9545454545454546,
          0.9545454545454546,
          0.9545454545454546,
          0.9545454545454546,
          0.9545454545454546,
          0.9545454545454546,
          0.9545454545454546,
          0.9545454545454546,
          0.9545454545454546,
          0.9545454545454546,
          0.9545454545454546,
          0.9545454545454546,
          0.9545454545454546,
          0.9545454545454546,
          0.9545454545454546,
          0.9545454545454546,
          0.9545454545454546,
          0.9545454545454546,
          0.9545454545454546,
          0.9545454545454546,
          0.9545454545454546,
          0.9545454545454546,
          0.9545454545454546,
          0.9545454545454546,
          0.9545454545454546,
          0.9545454545454546,
          0.9545454545454546,
          0.9545454545454546,
          0.9545454545454546,
          0.9545454545454546,
          0.9545454545454546,
          0.9545454545454546,
          0.9545454545454546,
          0.9545454545454546,
          0.9545454545454546,
          0.9545454545454546,
          0.9545454545454546,
          0.9545454545454546,
          0.9545454545454546,
          0.9545454545454546,
          0.9545454545454546,
          0.9545454545454546,
          0.9545454545454546,
          0.9545454545454546,
          0.9545454545454546,
          0.9545454545454546,
          0.9545454545454546,
          0.9545454545454546,
          0.9545454545454546,
          0.9545454545454546,
          0.9545454545454546,
          0.9545454545454546,
          0.9545454545454546,
          0.9545454545454546,
          0.9545454545454546,
          0.9545454545454546,
          0.9545454545454546,
          0.9545454545454546,
          0.9545454545454546,
          0.9545454545454546,
          0.9545454545454546,
          0.9545454545454546,
          0.9545454545454546,
          0.9545454545454546,
          0.9545454545454546,
          0.9545454545454546,
          0.9545454545454546,
          0.9545454545454546,
          0.9545454545454546,
          0.9545454545454546,
          0.9545454545454546,
          0.9545454545454546,
          0.9545454545454546,
          0.9545454545454546,
          0.9545454545454546,
          0.9545454545454546,
          0.9545454545454546,
          0.9545454545454546,
          0.9545454545454546,
          0.9545454545454546,
          0.9545454545454546,
          0.9545454545454546,
          0.9545454545454546,
          0.9545454545454546,
          0.9545454545454546,
          0.9545454545454546,
          0.9545454545454546,
          0.9545454545454546,
          0.9545454545454546,
          0.9545454545454546,
          0.9545454545454546,
          0.9545454545454546,
          0.9545454545454546,
          0.9545454545454546,
          0.9545454545454546,
          0.9545454545454546,
          0.9545454545454546,
          0.9545454545454546,
          0.9545454545454546,
          0.9545454545454546,
          0.9545454545454546,
          0.9545454545454546,
          0.9545454545454546,
          0.9545454545454546,
          0.9545454545454546,
          0.9545454545454546,
          0.9545454545454546,
          0.9545454545454546,
          0.9545454545454546,
          0.9545454545454546,
          0.9545454545454546,
          0.9545454545454546,
          0.9545454545454546,
          0.9545454545454546,
          0.9545454545454546,
          0.9545454545454546,
          0.9545454545454546,
          0.9545454545454546,
          0.9545454545454546,
          0.9545454545454546,
          0.9545454545454546,
          0.9545454545454546,
          0.9545454545454546,
          0.9545454545454546,
          0.9545454545454546,
          0.9545454545454546,
          0.9545454545454546,
          0.9545454545454546,
          0.9545454545454546,
          0.9545454545454546,
          0.9545454545454546,
          0.9545454545454546,
          0.9545454545454546,
          0.9545454545454546,
          0.9545454545454546,
          0.9545454545454546,
          0.9545454545454546,
          0.9545454545454546,
          0.9545454545454546,
          0.9545454545454546,
          0.9545454545454546,
          0.9545454545454546,
          0.9545454545454546,
          0.9545454545454546,
          0.9545454545454546,
          0.9545454545454546,
          0.9545454545454546,
          0.9545454545454546,
          0.9545454545454546,
          0.9545454545454546,
          0.9545454545454546,
          0.9545454545454546,
          0.9545454545454546,
          0.9545454545454546,
          0.9545454545454546,
          0.9545454545454546,
          0.9545454545454546,
          0.9545454545454546,
          0.9545454545454546,
          0.9545454545454546,
          0.9545454545454546,
          0.9545454545454546,
          0.9545454545454546,
          0.9545454545454546,
          0.9545454545454546,
          0.9545454545454546,
          0.9545454545454546,
          0.9545454545454546,
          0.9545454545454546,
          0.9545454545454546,
          0.9545454545454546,
          0.9545454545454546,
          0.9545454545454546,
          0.9545454545454546,
          0.9545454545454546,
          0.9545454545454546,
          0.9545454545454546,
          0.9545454545454546,
          0.9545454545454546,
          0.9545454545454546,
          0.9545454545454546,
          0.9545454545454546,
          0.9545454545454546,
          0.9545454545454546,
          0.9545454545454546,
          0.9545454545454546,
          0.9545454545454546,
          0.9545454545454546,
          0.9545454545454546,
          0.9545454545454546,
          0.9545454545454546,
          0.9659090909090909,
          0.9659090909090909,
          0.9659090909090909,
          0.9659090909090909,
          0.9659090909090909,
          0.9659090909090909,
          0.9659090909090909,
          0.9659090909090909,
          0.9659090909090909,
          0.9659090909090909,
          0.9659090909090909,
          0.9659090909090909,
          0.9659090909090909,
          0.9659090909090909,
          0.9659090909090909,
          0.9659090909090909,
          0.9659090909090909,
          0.9659090909090909,
          0.9659090909090909,
          0.9659090909090909,
          0.9659090909090909,
          0.9659090909090909,
          0.9659090909090909,
          0.9659090909090909,
          0.9659090909090909,
          0.9659090909090909,
          0.9659090909090909,
          0.9659090909090909,
          0.9659090909090909,
          0.9659090909090909,
          0.9659090909090909,
          0.9659090909090909,
          0.9659090909090909,
          0.9659090909090909,
          0.9659090909090909,
          0.9659090909090909,
          0.9659090909090909,
          0.9659090909090909,
          0.9659090909090909,
          0.9659090909090909,
          0.9659090909090909,
          0.9659090909090909,
          0.9659090909090909,
          0.9659090909090909,
          0.9659090909090909,
          0.9659090909090909,
          0.9659090909090909,
          0.9659090909090909,
          0.9659090909090909,
          0.9659090909090909,
          0.9659090909090909,
          0.9659090909090909,
          0.9659090909090909,
          0.9659090909090909,
          0.9659090909090909,
          0.9659090909090909,
          0.9659090909090909,
          0.9659090909090909,
          0.9659090909090909,
          0.9659090909090909,
          0.9659090909090909,
          0.9659090909090909,
          0.9659090909090909,
          0.9659090909090909,
          0.9659090909090909,
          0.9659090909090909,
          0.9659090909090909,
          0.9659090909090909,
          0.9659090909090909,
          0.9659090909090909,
          0.9659090909090909,
          0.9659090909090909,
          0.9659090909090909,
          0.9659090909090909,
          0.9659090909090909,
          0.9659090909090909,
          0.9659090909090909,
          0.9659090909090909,
          0.9659090909090909,
          0.9659090909090909,
          0.9659090909090909,
          0.9659090909090909,
          0.9659090909090909,
          0.9659090909090909,
          0.9659090909090909,
          0.9659090909090909,
          0.9659090909090909,
          0.9659090909090909,
          0.9659090909090909,
          0.9659090909090909,
          0.9659090909090909,
          0.9659090909090909,
          0.9659090909090909,
          0.9659090909090909,
          0.9659090909090909,
          0.9659090909090909,
          0.9659090909090909,
          0.9659090909090909,
          0.9659090909090909,
          0.9659090909090909,
          0.9659090909090909,
          0.9659090909090909,
          0.9659090909090909,
          0.9659090909090909,
          0.9659090909090909,
          0.9659090909090909,
          0.9659090909090909,
          0.9659090909090909,
          0.9659090909090909,
          0.9659090909090909,
          0.9659090909090909,
          0.9659090909090909,
          0.9659090909090909,
          0.9659090909090909,
          0.9659090909090909,
          0.9659090909090909,
          0.9659090909090909,
          0.9659090909090909,
          0.9659090909090909,
          0.9659090909090909,
          0.9659090909090909,
          0.9659090909090909,
          0.9659090909090909,
          0.9659090909090909,
          0.9659090909090909,
          0.9659090909090909,
          0.9659090909090909,
          0.9659090909090909,
          0.9659090909090909,
          0.9659090909090909,
          0.9659090909090909,
          0.9659090909090909,
          0.9659090909090909,
          0.9659090909090909,
          0.9659090909090909,
          0.9659090909090909,
          0.9659090909090909,
          0.9659090909090909,
          0.9659090909090909,
          0.9659090909090909,
          0.9659090909090909,
          0.9659090909090909,
          0.9659090909090909,
          0.9659090909090909,
          0.9659090909090909,
          0.9659090909090909,
          0.9659090909090909,
          0.9659090909090909,
          0.9659090909090909,
          0.9659090909090909,
          0.9772727272727273,
          0.9772727272727273,
          0.9772727272727273,
          0.9772727272727273,
          0.9772727272727273,
          0.9772727272727273,
          0.9772727272727273,
          0.9772727272727273,
          0.9772727272727273,
          0.9772727272727273,
          0.9772727272727273,
          0.9772727272727273,
          0.9772727272727273,
          0.9772727272727273,
          0.9772727272727273,
          0.9772727272727273,
          0.9772727272727273,
          0.9772727272727273,
          0.9772727272727273,
          0.9772727272727273,
          0.9772727272727273,
          0.9772727272727273,
          0.9772727272727273,
          0.9772727272727273,
          0.9772727272727273,
          0.9772727272727273,
          0.9772727272727273,
          0.9772727272727273,
          0.9772727272727273,
          0.9772727272727273,
          0.9772727272727273,
          0.9772727272727273,
          0.9772727272727273,
          0.9772727272727273,
          0.9772727272727273,
          0.9772727272727273,
          0.9772727272727273,
          0.9772727272727273,
          0.9772727272727273,
          0.9772727272727273,
          0.9772727272727273,
          0.9772727272727273,
          0.9886363636363636,
          0.9886363636363636,
          0.9886363636363636,
          0.9886363636363636,
          0.9886363636363636,
          0.9886363636363636,
          0.9886363636363636,
          0.9886363636363636,
          0.9886363636363636,
          0.9886363636363636,
          0.9886363636363636,
          0.9886363636363636,
          0.9886363636363636,
          0.9886363636363636,
          0.9886363636363636,
          0.9886363636363636,
          0.9886363636363636,
          0.9886363636363636,
          0.9886363636363636,
          0.9886363636363636,
          0.9886363636363636,
          0.9886363636363636,
          0.9886363636363636,
          0.9886363636363636,
          0.9886363636363636,
          0.9886363636363636,
          0.9886363636363636,
          0.9886363636363636,
          0.9886363636363636,
          0.9886363636363636,
          0.9886363636363636,
          0.9886363636363636,
          0.9886363636363636,
          0.9886363636363636,
          0.9886363636363636,
          0.9886363636363636,
          0.9886363636363636,
          0.9886363636363636,
          0.9886363636363636,
          0.9886363636363636,
          0.9886363636363636,
          0.9886363636363636,
          0.9886363636363636,
          0.9886363636363636,
          0.9886363636363636,
          0.9886363636363636,
          0.9886363636363636,
          0.9886363636363636,
          0.9886363636363636,
          0.9886363636363636,
          0.9886363636363636,
          0.9886363636363636,
          0.9886363636363636,
          0.9886363636363636,
          0.9886363636363636,
          0.9886363636363636,
          0.9886363636363636,
          0.9886363636363636,
          0.9886363636363636,
          0.9886363636363636,
          0.9886363636363636,
          0.9886363636363636,
          0.9886363636363636,
          0.9886363636363636,
          0.9886363636363636,
          0.9886363636363636,
          0.9886363636363636,
          0.9886363636363636,
          0.9886363636363636,
          0.9886363636363636,
          0.9886363636363636,
          0.9886363636363636,
          0.9886363636363636,
          0.9886363636363636,
          0.9886363636363636,
          0.9886363636363636,
          0.9886363636363636,
          0.9886363636363636,
          0.9886363636363636,
          0.9886363636363636,
          0.9886363636363636,
          0.9886363636363636,
          0.9886363636363636,
          0.9886363636363636,
          0.9886363636363636,
          0.9886363636363636,
          0.9886363636363636,
          0.9886363636363636,
          0.9886363636363636,
          0.9886363636363636,
          0.9886363636363636,
          0.9886363636363636,
          0.9886363636363636,
          0.9886363636363636,
          0.9886363636363636,
          0.9886363636363636,
          0.9886363636363636,
          0.9886363636363636,
          0.9886363636363636,
          0.9886363636363636,
          0.9886363636363636,
          0.9886363636363636,
          0.9886363636363636,
          0.9886363636363636,
          0.9886363636363636,
          0.9886363636363636,
          0.9886363636363636,
          0.9886363636363636,
          0.9886363636363636,
          0.9886363636363636,
          0.9886363636363636,
          0.9886363636363636,
          0.9886363636363636,
          0.9886363636363636,
          0.9886363636363636,
          0.9886363636363636,
          0.9886363636363636,
          0.9886363636363636,
          0.9886363636363636,
          0.9886363636363636,
          0.9886363636363636,
          0.9886363636363636,
          0.9886363636363636,
          0.9886363636363636,
          0.9886363636363636,
          0.9886363636363636,
          0.9886363636363636,
          0.9886363636363636,
          0.9886363636363636,
          0.9886363636363636,
          0.9886363636363636,
          0.9886363636363636,
          0.9886363636363636,
          0.9886363636363636,
          0.9886363636363636,
          0.9886363636363636,
          0.9886363636363636,
          0.9886363636363636,
          0.9886363636363636,
          0.9886363636363636,
          0.9886363636363636,
          0.9886363636363636,
          0.9886363636363636,
          0.9886363636363636,
          0.9886363636363636,
          0.9886363636363636,
          0.9886363636363636,
          0.9886363636363636,
          0.9886363636363636,
          0.9886363636363636,
          0.9886363636363636,
          0.9886363636363636,
          0.9886363636363636,
          0.9886363636363636,
          0.9886363636363636,
          0.9886363636363636,
          0.9886363636363636,
          0.9886363636363636,
          0.9886363636363636,
          0.9886363636363636,
          0.9886363636363636,
          0.9886363636363636,
          0.9886363636363636,
          0.9886363636363636,
          0.9886363636363636,
          0.9886363636363636,
          0.9886363636363636,
          0.9886363636363636,
          0.9886363636363636,
          0.9886363636363636,
          0.9886363636363636,
          0.9886363636363636,
          0.9886363636363636,
          0.9886363636363636,
          0.9886363636363636,
          0.9886363636363636,
          0.9886363636363636,
          0.9886363636363636,
          0.9886363636363636,
          0.9886363636363636,
          0.9886363636363636,
          0.9886363636363636,
          0.9886363636363636,
          0.9886363636363636,
          0.9886363636363636,
          0.9886363636363636,
          0.9886363636363636,
          0.9886363636363636,
          0.9886363636363636,
          0.9886363636363636,
          0.9886363636363636,
          0.9886363636363636,
          0.9886363636363636,
          0.9886363636363636,
          0.9886363636363636,
          0.9886363636363636,
          0.9886363636363636,
          0.9886363636363636,
          0.9886363636363636,
          0.9886363636363636,
          0.9886363636363636,
          0.9886363636363636,
          0.9886363636363636,
          0.9886363636363636,
          0.9886363636363636,
          0.9886363636363636,
          0.9886363636363636,
          0.9886363636363636,
          0.9886363636363636,
          0.9886363636363636,
          0.9886363636363636,
          0.9886363636363636,
          0.9886363636363636,
          0.9886363636363636,
          0.9886363636363636,
          0.9886363636363636,
          0.9886363636363636,
          0.9886363636363636,
          0.9886363636363636,
          0.9886363636363636,
          0.9886363636363636,
          0.9886363636363636,
          0.9886363636363636,
          0.9886363636363636,
          1,
          1,
          1,
          1,
          1,
          1,
          1,
          1,
          1,
          1,
          1,
          1,
          1,
          1,
          1,
          1,
          1,
          1,
          1,
          1,
          1,
          1,
          1,
          1,
          1,
          1,
          1,
          1,
          1,
          1,
          1,
          1,
          1,
          1,
          1,
          1,
          1,
          1,
          1,
          1,
          1,
          1,
          1,
          1,
          1,
          1,
          1,
          1,
          1,
          1,
          1,
          1,
          1,
          1,
          1,
          1,
          1,
          1,
          1,
          1,
          1,
          1,
          1,
          1,
          1,
          1,
          1,
          1,
          1,
          1,
          1,
          1,
          1,
          1,
          1,
          1,
          1,
          1,
          1,
          1,
          1,
          1,
          1,
          1,
          1,
          1,
          1,
          1,
          1,
          1,
          1,
          1
         ],
         "yaxis": "y"
        }
       ],
       "layout": {
        "height": 500,
        "legend": {
         "tracegroupgap": 0
        },
        "shapes": [
         {
          "line": {
           "dash": "dash"
          },
          "type": "line",
          "x0": 0,
          "x1": 1,
          "y0": 0,
          "y1": 1
         }
        ],
        "template": {
         "data": {
          "bar": [
           {
            "error_x": {
             "color": "#2a3f5f"
            },
            "error_y": {
             "color": "#2a3f5f"
            },
            "marker": {
             "line": {
              "color": "#E5ECF6",
              "width": 0.5
             },
             "pattern": {
              "fillmode": "overlay",
              "size": 10,
              "solidity": 0.2
             }
            },
            "type": "bar"
           }
          ],
          "barpolar": [
           {
            "marker": {
             "line": {
              "color": "#E5ECF6",
              "width": 0.5
             },
             "pattern": {
              "fillmode": "overlay",
              "size": 10,
              "solidity": 0.2
             }
            },
            "type": "barpolar"
           }
          ],
          "carpet": [
           {
            "aaxis": {
             "endlinecolor": "#2a3f5f",
             "gridcolor": "white",
             "linecolor": "white",
             "minorgridcolor": "white",
             "startlinecolor": "#2a3f5f"
            },
            "baxis": {
             "endlinecolor": "#2a3f5f",
             "gridcolor": "white",
             "linecolor": "white",
             "minorgridcolor": "white",
             "startlinecolor": "#2a3f5f"
            },
            "type": "carpet"
           }
          ],
          "choropleth": [
           {
            "colorbar": {
             "outlinewidth": 0,
             "ticks": ""
            },
            "type": "choropleth"
           }
          ],
          "contour": [
           {
            "colorbar": {
             "outlinewidth": 0,
             "ticks": ""
            },
            "colorscale": [
             [
              0,
              "#0d0887"
             ],
             [
              0.1111111111111111,
              "#46039f"
             ],
             [
              0.2222222222222222,
              "#7201a8"
             ],
             [
              0.3333333333333333,
              "#9c179e"
             ],
             [
              0.4444444444444444,
              "#bd3786"
             ],
             [
              0.5555555555555556,
              "#d8576b"
             ],
             [
              0.6666666666666666,
              "#ed7953"
             ],
             [
              0.7777777777777778,
              "#fb9f3a"
             ],
             [
              0.8888888888888888,
              "#fdca26"
             ],
             [
              1,
              "#f0f921"
             ]
            ],
            "type": "contour"
           }
          ],
          "contourcarpet": [
           {
            "colorbar": {
             "outlinewidth": 0,
             "ticks": ""
            },
            "type": "contourcarpet"
           }
          ],
          "heatmap": [
           {
            "colorbar": {
             "outlinewidth": 0,
             "ticks": ""
            },
            "colorscale": [
             [
              0,
              "#0d0887"
             ],
             [
              0.1111111111111111,
              "#46039f"
             ],
             [
              0.2222222222222222,
              "#7201a8"
             ],
             [
              0.3333333333333333,
              "#9c179e"
             ],
             [
              0.4444444444444444,
              "#bd3786"
             ],
             [
              0.5555555555555556,
              "#d8576b"
             ],
             [
              0.6666666666666666,
              "#ed7953"
             ],
             [
              0.7777777777777778,
              "#fb9f3a"
             ],
             [
              0.8888888888888888,
              "#fdca26"
             ],
             [
              1,
              "#f0f921"
             ]
            ],
            "type": "heatmap"
           }
          ],
          "heatmapgl": [
           {
            "colorbar": {
             "outlinewidth": 0,
             "ticks": ""
            },
            "colorscale": [
             [
              0,
              "#0d0887"
             ],
             [
              0.1111111111111111,
              "#46039f"
             ],
             [
              0.2222222222222222,
              "#7201a8"
             ],
             [
              0.3333333333333333,
              "#9c179e"
             ],
             [
              0.4444444444444444,
              "#bd3786"
             ],
             [
              0.5555555555555556,
              "#d8576b"
             ],
             [
              0.6666666666666666,
              "#ed7953"
             ],
             [
              0.7777777777777778,
              "#fb9f3a"
             ],
             [
              0.8888888888888888,
              "#fdca26"
             ],
             [
              1,
              "#f0f921"
             ]
            ],
            "type": "heatmapgl"
           }
          ],
          "histogram": [
           {
            "marker": {
             "pattern": {
              "fillmode": "overlay",
              "size": 10,
              "solidity": 0.2
             }
            },
            "type": "histogram"
           }
          ],
          "histogram2d": [
           {
            "colorbar": {
             "outlinewidth": 0,
             "ticks": ""
            },
            "colorscale": [
             [
              0,
              "#0d0887"
             ],
             [
              0.1111111111111111,
              "#46039f"
             ],
             [
              0.2222222222222222,
              "#7201a8"
             ],
             [
              0.3333333333333333,
              "#9c179e"
             ],
             [
              0.4444444444444444,
              "#bd3786"
             ],
             [
              0.5555555555555556,
              "#d8576b"
             ],
             [
              0.6666666666666666,
              "#ed7953"
             ],
             [
              0.7777777777777778,
              "#fb9f3a"
             ],
             [
              0.8888888888888888,
              "#fdca26"
             ],
             [
              1,
              "#f0f921"
             ]
            ],
            "type": "histogram2d"
           }
          ],
          "histogram2dcontour": [
           {
            "colorbar": {
             "outlinewidth": 0,
             "ticks": ""
            },
            "colorscale": [
             [
              0,
              "#0d0887"
             ],
             [
              0.1111111111111111,
              "#46039f"
             ],
             [
              0.2222222222222222,
              "#7201a8"
             ],
             [
              0.3333333333333333,
              "#9c179e"
             ],
             [
              0.4444444444444444,
              "#bd3786"
             ],
             [
              0.5555555555555556,
              "#d8576b"
             ],
             [
              0.6666666666666666,
              "#ed7953"
             ],
             [
              0.7777777777777778,
              "#fb9f3a"
             ],
             [
              0.8888888888888888,
              "#fdca26"
             ],
             [
              1,
              "#f0f921"
             ]
            ],
            "type": "histogram2dcontour"
           }
          ],
          "mesh3d": [
           {
            "colorbar": {
             "outlinewidth": 0,
             "ticks": ""
            },
            "type": "mesh3d"
           }
          ],
          "parcoords": [
           {
            "line": {
             "colorbar": {
              "outlinewidth": 0,
              "ticks": ""
             }
            },
            "type": "parcoords"
           }
          ],
          "pie": [
           {
            "automargin": true,
            "type": "pie"
           }
          ],
          "scatter": [
           {
            "marker": {
             "colorbar": {
              "outlinewidth": 0,
              "ticks": ""
             }
            },
            "type": "scatter"
           }
          ],
          "scatter3d": [
           {
            "line": {
             "colorbar": {
              "outlinewidth": 0,
              "ticks": ""
             }
            },
            "marker": {
             "colorbar": {
              "outlinewidth": 0,
              "ticks": ""
             }
            },
            "type": "scatter3d"
           }
          ],
          "scattercarpet": [
           {
            "marker": {
             "colorbar": {
              "outlinewidth": 0,
              "ticks": ""
             }
            },
            "type": "scattercarpet"
           }
          ],
          "scattergeo": [
           {
            "marker": {
             "colorbar": {
              "outlinewidth": 0,
              "ticks": ""
             }
            },
            "type": "scattergeo"
           }
          ],
          "scattergl": [
           {
            "marker": {
             "colorbar": {
              "outlinewidth": 0,
              "ticks": ""
             }
            },
            "type": "scattergl"
           }
          ],
          "scattermapbox": [
           {
            "marker": {
             "colorbar": {
              "outlinewidth": 0,
              "ticks": ""
             }
            },
            "type": "scattermapbox"
           }
          ],
          "scatterpolar": [
           {
            "marker": {
             "colorbar": {
              "outlinewidth": 0,
              "ticks": ""
             }
            },
            "type": "scatterpolar"
           }
          ],
          "scatterpolargl": [
           {
            "marker": {
             "colorbar": {
              "outlinewidth": 0,
              "ticks": ""
             }
            },
            "type": "scatterpolargl"
           }
          ],
          "scatterternary": [
           {
            "marker": {
             "colorbar": {
              "outlinewidth": 0,
              "ticks": ""
             }
            },
            "type": "scatterternary"
           }
          ],
          "surface": [
           {
            "colorbar": {
             "outlinewidth": 0,
             "ticks": ""
            },
            "colorscale": [
             [
              0,
              "#0d0887"
             ],
             [
              0.1111111111111111,
              "#46039f"
             ],
             [
              0.2222222222222222,
              "#7201a8"
             ],
             [
              0.3333333333333333,
              "#9c179e"
             ],
             [
              0.4444444444444444,
              "#bd3786"
             ],
             [
              0.5555555555555556,
              "#d8576b"
             ],
             [
              0.6666666666666666,
              "#ed7953"
             ],
             [
              0.7777777777777778,
              "#fb9f3a"
             ],
             [
              0.8888888888888888,
              "#fdca26"
             ],
             [
              1,
              "#f0f921"
             ]
            ],
            "type": "surface"
           }
          ],
          "table": [
           {
            "cells": {
             "fill": {
              "color": "#EBF0F8"
             },
             "line": {
              "color": "white"
             }
            },
            "header": {
             "fill": {
              "color": "#C8D4E3"
             },
             "line": {
              "color": "white"
             }
            },
            "type": "table"
           }
          ]
         },
         "layout": {
          "annotationdefaults": {
           "arrowcolor": "#2a3f5f",
           "arrowhead": 0,
           "arrowwidth": 1
          },
          "autotypenumbers": "strict",
          "coloraxis": {
           "colorbar": {
            "outlinewidth": 0,
            "ticks": ""
           }
          },
          "colorscale": {
           "diverging": [
            [
             0,
             "#8e0152"
            ],
            [
             0.1,
             "#c51b7d"
            ],
            [
             0.2,
             "#de77ae"
            ],
            [
             0.3,
             "#f1b6da"
            ],
            [
             0.4,
             "#fde0ef"
            ],
            [
             0.5,
             "#f7f7f7"
            ],
            [
             0.6,
             "#e6f5d0"
            ],
            [
             0.7,
             "#b8e186"
            ],
            [
             0.8,
             "#7fbc41"
            ],
            [
             0.9,
             "#4d9221"
            ],
            [
             1,
             "#276419"
            ]
           ],
           "sequential": [
            [
             0,
             "#0d0887"
            ],
            [
             0.1111111111111111,
             "#46039f"
            ],
            [
             0.2222222222222222,
             "#7201a8"
            ],
            [
             0.3333333333333333,
             "#9c179e"
            ],
            [
             0.4444444444444444,
             "#bd3786"
            ],
            [
             0.5555555555555556,
             "#d8576b"
            ],
            [
             0.6666666666666666,
             "#ed7953"
            ],
            [
             0.7777777777777778,
             "#fb9f3a"
            ],
            [
             0.8888888888888888,
             "#fdca26"
            ],
            [
             1,
             "#f0f921"
            ]
           ],
           "sequentialminus": [
            [
             0,
             "#0d0887"
            ],
            [
             0.1111111111111111,
             "#46039f"
            ],
            [
             0.2222222222222222,
             "#7201a8"
            ],
            [
             0.3333333333333333,
             "#9c179e"
            ],
            [
             0.4444444444444444,
             "#bd3786"
            ],
            [
             0.5555555555555556,
             "#d8576b"
            ],
            [
             0.6666666666666666,
             "#ed7953"
            ],
            [
             0.7777777777777778,
             "#fb9f3a"
            ],
            [
             0.8888888888888888,
             "#fdca26"
            ],
            [
             1,
             "#f0f921"
            ]
           ]
          },
          "colorway": [
           "#636efa",
           "#EF553B",
           "#00cc96",
           "#ab63fa",
           "#FFA15A",
           "#19d3f3",
           "#FF6692",
           "#B6E880",
           "#FF97FF",
           "#FECB52"
          ],
          "font": {
           "color": "#2a3f5f"
          },
          "geo": {
           "bgcolor": "white",
           "lakecolor": "white",
           "landcolor": "#E5ECF6",
           "showlakes": true,
           "showland": true,
           "subunitcolor": "white"
          },
          "hoverlabel": {
           "align": "left"
          },
          "hovermode": "closest",
          "mapbox": {
           "style": "light"
          },
          "paper_bgcolor": "white",
          "plot_bgcolor": "#E5ECF6",
          "polar": {
           "angularaxis": {
            "gridcolor": "white",
            "linecolor": "white",
            "ticks": ""
           },
           "bgcolor": "#E5ECF6",
           "radialaxis": {
            "gridcolor": "white",
            "linecolor": "white",
            "ticks": ""
           }
          },
          "scene": {
           "xaxis": {
            "backgroundcolor": "#E5ECF6",
            "gridcolor": "white",
            "gridwidth": 2,
            "linecolor": "white",
            "showbackground": true,
            "ticks": "",
            "zerolinecolor": "white"
           },
           "yaxis": {
            "backgroundcolor": "#E5ECF6",
            "gridcolor": "white",
            "gridwidth": 2,
            "linecolor": "white",
            "showbackground": true,
            "ticks": "",
            "zerolinecolor": "white"
           },
           "zaxis": {
            "backgroundcolor": "#E5ECF6",
            "gridcolor": "white",
            "gridwidth": 2,
            "linecolor": "white",
            "showbackground": true,
            "ticks": "",
            "zerolinecolor": "white"
           }
          },
          "shapedefaults": {
           "line": {
            "color": "#2a3f5f"
           }
          },
          "ternary": {
           "aaxis": {
            "gridcolor": "white",
            "linecolor": "white",
            "ticks": ""
           },
           "baxis": {
            "gridcolor": "white",
            "linecolor": "white",
            "ticks": ""
           },
           "bgcolor": "#E5ECF6",
           "caxis": {
            "gridcolor": "white",
            "linecolor": "white",
            "ticks": ""
           }
          },
          "title": {
           "x": 0.05
          },
          "xaxis": {
           "automargin": true,
           "gridcolor": "white",
           "linecolor": "white",
           "ticks": "",
           "title": {
            "standoff": 15
           },
           "zerolinecolor": "white",
           "zerolinewidth": 2
          },
          "yaxis": {
           "automargin": true,
           "gridcolor": "white",
           "linecolor": "white",
           "ticks": "",
           "title": {
            "standoff": 15
           },
           "zerolinecolor": "white",
           "zerolinewidth": 2
          }
         }
        },
        "title": {
         "text": "ROC Curve (AUC=0.9471)"
        },
        "width": 700,
        "xaxis": {
         "anchor": "y",
         "constrain": "domain",
         "domain": [
          0,
          1
         ],
         "title": {
          "text": "False Positive Rate"
         }
        },
        "yaxis": {
         "anchor": "x",
         "domain": [
          0,
          1
         ],
         "scaleanchor": "x",
         "scaleratio": 1,
         "title": {
          "text": "True Positive Rate"
         }
        }
       }
      }
     },
     "metadata": {},
     "output_type": "display_data"
    }
   ],
   "source": [
    "plotly_roc(true_dict['test']['3H'], \n",
    "           probs_dict['test']['3H']\n",
    "           )"
   ]
  },
  {
   "cell_type": "code",
   "execution_count": 222,
   "id": "2fa8ad6a",
   "metadata": {},
   "outputs": [
    {
     "data": {
      "application/vnd.plotly.v1+json": {
       "config": {
        "plotlyServerURL": "https://plotly.com"
       },
       "data": [
        {
         "customdata": [
          [
           0.3892857142857143,
           0.6606060606060606,
           44.303030303030305
          ],
          [
           0.3248407643312102,
           0.46788990825688076,
           62.93577981651376
          ],
          [
           0.24257425742574257,
           0.47572815533980584,
           67.28155339805825
          ],
          [
           0.24598930481283424,
           0.4423076923076923,
           69.32692307692308
          ],
          [
           0.2348993288590604,
           0.35714285714285715,
           75.91836734693878
          ],
          [
           0.23493975903614459,
           0.42391304347826086,
           71.41304347826087
          ],
          [
           0.22058823529411764,
           0.5113636363636364,
           66.93181818181819
          ],
          [
           0.2079207920792079,
           0.27631578947368424,
           82.89473684210526
          ],
          [
           0.15789473684210525,
           0.38571428571428573,
           82
          ],
          [
           0.20833333333333334,
           0.3076923076923077,
           80.92307692307692
          ],
          [
           0.14792899408284024,
           0.4166666666666667,
           82.33333333333333
          ]
         ],
         "hovertemplate": "Window from Derate=%{x}<br>Total Savings=%{y}<br>Precision=%{customdata[0]}<br>Recall=%{customdata[1]}<br>Percent of Actual Costs=%{customdata[2]}<extra></extra>",
         "legendgroup": "",
         "line": {
          "color": "#636efa",
          "dash": "solid"
         },
         "marker": {
          "symbol": "circle"
         },
         "mode": "lines",
         "name": "",
         "orientation": "v",
         "showlegend": false,
         "type": "scatter",
         "x": [
          "0min",
          "15min",
          "30min",
          "45min",
          "1H",
          "2H",
          "3H",
          "6H",
          "8H",
          "11H",
          "14H"
         ],
         "xaxis": "x",
         "y": [
          459500,
          191000,
          168500,
          159500,
          114000,
          124500,
          145500,
          54500,
          62000,
          62000,
          48500
         ],
         "yaxis": "y"
        }
       ],
       "layout": {
        "height": 500,
        "legend": {
         "tracegroupgap": 0
        },
        "template": {
         "data": {
          "bar": [
           {
            "error_x": {
             "color": "#2a3f5f"
            },
            "error_y": {
             "color": "#2a3f5f"
            },
            "marker": {
             "line": {
              "color": "#E5ECF6",
              "width": 0.5
             },
             "pattern": {
              "fillmode": "overlay",
              "size": 10,
              "solidity": 0.2
             }
            },
            "type": "bar"
           }
          ],
          "barpolar": [
           {
            "marker": {
             "line": {
              "color": "#E5ECF6",
              "width": 0.5
             },
             "pattern": {
              "fillmode": "overlay",
              "size": 10,
              "solidity": 0.2
             }
            },
            "type": "barpolar"
           }
          ],
          "carpet": [
           {
            "aaxis": {
             "endlinecolor": "#2a3f5f",
             "gridcolor": "white",
             "linecolor": "white",
             "minorgridcolor": "white",
             "startlinecolor": "#2a3f5f"
            },
            "baxis": {
             "endlinecolor": "#2a3f5f",
             "gridcolor": "white",
             "linecolor": "white",
             "minorgridcolor": "white",
             "startlinecolor": "#2a3f5f"
            },
            "type": "carpet"
           }
          ],
          "choropleth": [
           {
            "colorbar": {
             "outlinewidth": 0,
             "ticks": ""
            },
            "type": "choropleth"
           }
          ],
          "contour": [
           {
            "colorbar": {
             "outlinewidth": 0,
             "ticks": ""
            },
            "colorscale": [
             [
              0,
              "#0d0887"
             ],
             [
              0.1111111111111111,
              "#46039f"
             ],
             [
              0.2222222222222222,
              "#7201a8"
             ],
             [
              0.3333333333333333,
              "#9c179e"
             ],
             [
              0.4444444444444444,
              "#bd3786"
             ],
             [
              0.5555555555555556,
              "#d8576b"
             ],
             [
              0.6666666666666666,
              "#ed7953"
             ],
             [
              0.7777777777777778,
              "#fb9f3a"
             ],
             [
              0.8888888888888888,
              "#fdca26"
             ],
             [
              1,
              "#f0f921"
             ]
            ],
            "type": "contour"
           }
          ],
          "contourcarpet": [
           {
            "colorbar": {
             "outlinewidth": 0,
             "ticks": ""
            },
            "type": "contourcarpet"
           }
          ],
          "heatmap": [
           {
            "colorbar": {
             "outlinewidth": 0,
             "ticks": ""
            },
            "colorscale": [
             [
              0,
              "#0d0887"
             ],
             [
              0.1111111111111111,
              "#46039f"
             ],
             [
              0.2222222222222222,
              "#7201a8"
             ],
             [
              0.3333333333333333,
              "#9c179e"
             ],
             [
              0.4444444444444444,
              "#bd3786"
             ],
             [
              0.5555555555555556,
              "#d8576b"
             ],
             [
              0.6666666666666666,
              "#ed7953"
             ],
             [
              0.7777777777777778,
              "#fb9f3a"
             ],
             [
              0.8888888888888888,
              "#fdca26"
             ],
             [
              1,
              "#f0f921"
             ]
            ],
            "type": "heatmap"
           }
          ],
          "heatmapgl": [
           {
            "colorbar": {
             "outlinewidth": 0,
             "ticks": ""
            },
            "colorscale": [
             [
              0,
              "#0d0887"
             ],
             [
              0.1111111111111111,
              "#46039f"
             ],
             [
              0.2222222222222222,
              "#7201a8"
             ],
             [
              0.3333333333333333,
              "#9c179e"
             ],
             [
              0.4444444444444444,
              "#bd3786"
             ],
             [
              0.5555555555555556,
              "#d8576b"
             ],
             [
              0.6666666666666666,
              "#ed7953"
             ],
             [
              0.7777777777777778,
              "#fb9f3a"
             ],
             [
              0.8888888888888888,
              "#fdca26"
             ],
             [
              1,
              "#f0f921"
             ]
            ],
            "type": "heatmapgl"
           }
          ],
          "histogram": [
           {
            "marker": {
             "pattern": {
              "fillmode": "overlay",
              "size": 10,
              "solidity": 0.2
             }
            },
            "type": "histogram"
           }
          ],
          "histogram2d": [
           {
            "colorbar": {
             "outlinewidth": 0,
             "ticks": ""
            },
            "colorscale": [
             [
              0,
              "#0d0887"
             ],
             [
              0.1111111111111111,
              "#46039f"
             ],
             [
              0.2222222222222222,
              "#7201a8"
             ],
             [
              0.3333333333333333,
              "#9c179e"
             ],
             [
              0.4444444444444444,
              "#bd3786"
             ],
             [
              0.5555555555555556,
              "#d8576b"
             ],
             [
              0.6666666666666666,
              "#ed7953"
             ],
             [
              0.7777777777777778,
              "#fb9f3a"
             ],
             [
              0.8888888888888888,
              "#fdca26"
             ],
             [
              1,
              "#f0f921"
             ]
            ],
            "type": "histogram2d"
           }
          ],
          "histogram2dcontour": [
           {
            "colorbar": {
             "outlinewidth": 0,
             "ticks": ""
            },
            "colorscale": [
             [
              0,
              "#0d0887"
             ],
             [
              0.1111111111111111,
              "#46039f"
             ],
             [
              0.2222222222222222,
              "#7201a8"
             ],
             [
              0.3333333333333333,
              "#9c179e"
             ],
             [
              0.4444444444444444,
              "#bd3786"
             ],
             [
              0.5555555555555556,
              "#d8576b"
             ],
             [
              0.6666666666666666,
              "#ed7953"
             ],
             [
              0.7777777777777778,
              "#fb9f3a"
             ],
             [
              0.8888888888888888,
              "#fdca26"
             ],
             [
              1,
              "#f0f921"
             ]
            ],
            "type": "histogram2dcontour"
           }
          ],
          "mesh3d": [
           {
            "colorbar": {
             "outlinewidth": 0,
             "ticks": ""
            },
            "type": "mesh3d"
           }
          ],
          "parcoords": [
           {
            "line": {
             "colorbar": {
              "outlinewidth": 0,
              "ticks": ""
             }
            },
            "type": "parcoords"
           }
          ],
          "pie": [
           {
            "automargin": true,
            "type": "pie"
           }
          ],
          "scatter": [
           {
            "marker": {
             "colorbar": {
              "outlinewidth": 0,
              "ticks": ""
             }
            },
            "type": "scatter"
           }
          ],
          "scatter3d": [
           {
            "line": {
             "colorbar": {
              "outlinewidth": 0,
              "ticks": ""
             }
            },
            "marker": {
             "colorbar": {
              "outlinewidth": 0,
              "ticks": ""
             }
            },
            "type": "scatter3d"
           }
          ],
          "scattercarpet": [
           {
            "marker": {
             "colorbar": {
              "outlinewidth": 0,
              "ticks": ""
             }
            },
            "type": "scattercarpet"
           }
          ],
          "scattergeo": [
           {
            "marker": {
             "colorbar": {
              "outlinewidth": 0,
              "ticks": ""
             }
            },
            "type": "scattergeo"
           }
          ],
          "scattergl": [
           {
            "marker": {
             "colorbar": {
              "outlinewidth": 0,
              "ticks": ""
             }
            },
            "type": "scattergl"
           }
          ],
          "scattermapbox": [
           {
            "marker": {
             "colorbar": {
              "outlinewidth": 0,
              "ticks": ""
             }
            },
            "type": "scattermapbox"
           }
          ],
          "scatterpolar": [
           {
            "marker": {
             "colorbar": {
              "outlinewidth": 0,
              "ticks": ""
             }
            },
            "type": "scatterpolar"
           }
          ],
          "scatterpolargl": [
           {
            "marker": {
             "colorbar": {
              "outlinewidth": 0,
              "ticks": ""
             }
            },
            "type": "scatterpolargl"
           }
          ],
          "scatterternary": [
           {
            "marker": {
             "colorbar": {
              "outlinewidth": 0,
              "ticks": ""
             }
            },
            "type": "scatterternary"
           }
          ],
          "surface": [
           {
            "colorbar": {
             "outlinewidth": 0,
             "ticks": ""
            },
            "colorscale": [
             [
              0,
              "#0d0887"
             ],
             [
              0.1111111111111111,
              "#46039f"
             ],
             [
              0.2222222222222222,
              "#7201a8"
             ],
             [
              0.3333333333333333,
              "#9c179e"
             ],
             [
              0.4444444444444444,
              "#bd3786"
             ],
             [
              0.5555555555555556,
              "#d8576b"
             ],
             [
              0.6666666666666666,
              "#ed7953"
             ],
             [
              0.7777777777777778,
              "#fb9f3a"
             ],
             [
              0.8888888888888888,
              "#fdca26"
             ],
             [
              1,
              "#f0f921"
             ]
            ],
            "type": "surface"
           }
          ],
          "table": [
           {
            "cells": {
             "fill": {
              "color": "#EBF0F8"
             },
             "line": {
              "color": "white"
             }
            },
            "header": {
             "fill": {
              "color": "#C8D4E3"
             },
             "line": {
              "color": "white"
             }
            },
            "type": "table"
           }
          ]
         },
         "layout": {
          "annotationdefaults": {
           "arrowcolor": "#2a3f5f",
           "arrowhead": 0,
           "arrowwidth": 1
          },
          "autotypenumbers": "strict",
          "coloraxis": {
           "colorbar": {
            "outlinewidth": 0,
            "ticks": ""
           }
          },
          "colorscale": {
           "diverging": [
            [
             0,
             "#8e0152"
            ],
            [
             0.1,
             "#c51b7d"
            ],
            [
             0.2,
             "#de77ae"
            ],
            [
             0.3,
             "#f1b6da"
            ],
            [
             0.4,
             "#fde0ef"
            ],
            [
             0.5,
             "#f7f7f7"
            ],
            [
             0.6,
             "#e6f5d0"
            ],
            [
             0.7,
             "#b8e186"
            ],
            [
             0.8,
             "#7fbc41"
            ],
            [
             0.9,
             "#4d9221"
            ],
            [
             1,
             "#276419"
            ]
           ],
           "sequential": [
            [
             0,
             "#0d0887"
            ],
            [
             0.1111111111111111,
             "#46039f"
            ],
            [
             0.2222222222222222,
             "#7201a8"
            ],
            [
             0.3333333333333333,
             "#9c179e"
            ],
            [
             0.4444444444444444,
             "#bd3786"
            ],
            [
             0.5555555555555556,
             "#d8576b"
            ],
            [
             0.6666666666666666,
             "#ed7953"
            ],
            [
             0.7777777777777778,
             "#fb9f3a"
            ],
            [
             0.8888888888888888,
             "#fdca26"
            ],
            [
             1,
             "#f0f921"
            ]
           ],
           "sequentialminus": [
            [
             0,
             "#0d0887"
            ],
            [
             0.1111111111111111,
             "#46039f"
            ],
            [
             0.2222222222222222,
             "#7201a8"
            ],
            [
             0.3333333333333333,
             "#9c179e"
            ],
            [
             0.4444444444444444,
             "#bd3786"
            ],
            [
             0.5555555555555556,
             "#d8576b"
            ],
            [
             0.6666666666666666,
             "#ed7953"
            ],
            [
             0.7777777777777778,
             "#fb9f3a"
            ],
            [
             0.8888888888888888,
             "#fdca26"
            ],
            [
             1,
             "#f0f921"
            ]
           ]
          },
          "colorway": [
           "#636efa",
           "#EF553B",
           "#00cc96",
           "#ab63fa",
           "#FFA15A",
           "#19d3f3",
           "#FF6692",
           "#B6E880",
           "#FF97FF",
           "#FECB52"
          ],
          "font": {
           "color": "#2a3f5f"
          },
          "geo": {
           "bgcolor": "white",
           "lakecolor": "white",
           "landcolor": "#E5ECF6",
           "showlakes": true,
           "showland": true,
           "subunitcolor": "white"
          },
          "hoverlabel": {
           "align": "left"
          },
          "hovermode": "closest",
          "mapbox": {
           "style": "light"
          },
          "paper_bgcolor": "white",
          "plot_bgcolor": "#E5ECF6",
          "polar": {
           "angularaxis": {
            "gridcolor": "white",
            "linecolor": "white",
            "ticks": ""
           },
           "bgcolor": "#E5ECF6",
           "radialaxis": {
            "gridcolor": "white",
            "linecolor": "white",
            "ticks": ""
           }
          },
          "scene": {
           "xaxis": {
            "backgroundcolor": "#E5ECF6",
            "gridcolor": "white",
            "gridwidth": 2,
            "linecolor": "white",
            "showbackground": true,
            "ticks": "",
            "zerolinecolor": "white"
           },
           "yaxis": {
            "backgroundcolor": "#E5ECF6",
            "gridcolor": "white",
            "gridwidth": 2,
            "linecolor": "white",
            "showbackground": true,
            "ticks": "",
            "zerolinecolor": "white"
           },
           "zaxis": {
            "backgroundcolor": "#E5ECF6",
            "gridcolor": "white",
            "gridwidth": 2,
            "linecolor": "white",
            "showbackground": true,
            "ticks": "",
            "zerolinecolor": "white"
           }
          },
          "shapedefaults": {
           "line": {
            "color": "#2a3f5f"
           }
          },
          "ternary": {
           "aaxis": {
            "gridcolor": "white",
            "linecolor": "white",
            "ticks": ""
           },
           "baxis": {
            "gridcolor": "white",
            "linecolor": "white",
            "ticks": ""
           },
           "bgcolor": "#E5ECF6",
           "caxis": {
            "gridcolor": "white",
            "linecolor": "white",
            "ticks": ""
           }
          },
          "title": {
           "x": 0.05
          },
          "xaxis": {
           "automargin": true,
           "gridcolor": "white",
           "linecolor": "white",
           "ticks": "",
           "title": {
            "standoff": 15
           },
           "zerolinecolor": "white",
           "zerolinewidth": 2
          },
          "yaxis": {
           "automargin": true,
           "gridcolor": "white",
           "linecolor": "white",
           "ticks": "",
           "title": {
            "standoff": 15
           },
           "zerolinecolor": "white",
           "zerolinewidth": 2
          }
         }
        },
        "title": {
         "text": "Our XGBoost model performs well in urgent situations and 3 Hours Out.<br>Our model would have saved you 1/3 of your derate costs."
        },
        "width": 700,
        "xaxis": {
         "anchor": "y",
         "domain": [
          0,
          1
         ],
         "title": {
          "text": "Window from Derate"
         }
        },
        "yaxis": {
         "anchor": "x",
         "domain": [
          0,
          1
         ],
         "title": {
          "text": "Total Savings"
         }
        }
       }
      }
     },
     "metadata": {},
     "output_type": "display_data"
    }
   ],
   "source": [
    "\n",
    "px.line(x = windows_df['window'],\n",
    "        y = windows_df['test_savings'],\n",
    "        hover_data=[windows_df['precision'], windows_df['recall'], windows_df['percent_of_actual_costs']],\n",
    "        labels = {'x':'Window from Derate',\n",
    "                  'y':'Total Savings',\n",
    "                  'hover_data_0':'Precision',\n",
    "                  'hover_data_1':'Recall',\n",
    "                  'hover_data_2':'Percent of Actual Costs'},\n",
    "        title = \"Our XGBoost model performs well in urgent situations and 3 hours out.<br>This model would have saved you 1/3 of your derate costs.\",\n",
    "        width = 700,\n",
    "        height = 500)"
   ]
  }
 ],
 "metadata": {
  "kernelspec": {
   "display_name": "Python 3 (ipykernel)",
   "language": "python",
   "name": "python3"
  },
  "language_info": {
   "codemirror_mode": {
    "name": "ipython",
    "version": 3
   },
   "file_extension": ".py",
   "mimetype": "text/x-python",
   "name": "python",
   "nbconvert_exporter": "python",
   "pygments_lexer": "ipython3",
   "version": "3.8.8"
  }
 },
 "nbformat": 4,
 "nbformat_minor": 5
}
