{
 "cells": [
  {
   "cell_type": "markdown",
   "metadata": {},
   "source": [
    "# Big G Express Predictive Models"
   ]
  },
  {
   "cell_type": "markdown",
   "metadata": {},
   "source": [
    "## Imports"
   ]
  },
  {
   "cell_type": "code",
   "execution_count": 171,
   "metadata": {},
   "outputs": [],
   "source": [
    "import numpy as np\n",
    "import pandas as pd\n",
    "import matplotlib.pyplot as plt\n",
    "import seaborn as sns\n",
    "import plotly.express as px\n",
    "import datetime as dt\n",
    "from my_functions import create_target_window, stratifier\n",
    "from sklearn.linear_model import LogisticRegression\n",
    "from sklearn.preprocessing import StandardScaler, OneHotEncoder\n",
    "from sklearn.compose import ColumnTransformer\n",
    "from sklearn.pipeline import Pipeline\n",
    "from sklearn.svm import SVC\n",
    "from sklearn.metrics import classification_report, confusion_matrix, f1_score, RocCurveDisplay, roc_auc_score, roc_curve\n",
    "import pickle"
   ]
  },
  {
   "cell_type": "code",
   "execution_count": 153,
   "metadata": {},
   "outputs": [],
   "source": [
    "def train_test_val_split(X, y, trucks = False):\n",
    "    X_strat = stratifier(X, trucks)\n",
    "    y_strat = stratifier(y, trucks)\n",
    "    X_train = X_strat.loc[X_strat['train_test_val']=='train', X_strat.drop(columns = ['EventTimeStamp', 'train_test_val', 'EquipmentID']).columns]\n",
    "    y_train = y_strat.loc[y_strat['train_test_val']=='train', 'target']\n",
    "    X_test = X_strat.loc[X_strat['train_test_val']=='test', X_strat.drop(columns = ['EventTimeStamp', 'train_test_val', 'EquipmentID']).columns]\n",
    "    y_test = y_strat.loc[y_strat['train_test_val']=='test', 'target']\n",
    "    X_val = X_strat.loc[X_strat['train_test_val']=='val', X_strat.drop(columns = ['EventTimeStamp', 'train_test_val', 'EquipmentID']).columns]\n",
    "    y_val = y_strat.loc[y_strat['train_test_val']=='val', 'target']\n",
    "    return X_train, y_train, X_test, y_test, X_val, y_val"
   ]
  },
  {
   "cell_type": "code",
   "execution_count": 154,
   "metadata": {},
   "outputs": [],
   "source": [
    "def cost_scorer(y_test, y_pred, cost_fp = 1.0, cost_fn = 1.0):\n",
    "    tn, fp, fn, tp = confusion_matrix(y_test, y_pred).ravel()\n",
    "    return (cost_fp*fp) + (cost_fn*fn)"
   ]
  },
  {
   "cell_type": "markdown",
   "metadata": {},
   "source": [
    "## Read ins"
   ]
  },
  {
   "cell_type": "code",
   "execution_count": 155,
   "metadata": {},
   "outputs": [],
   "source": [
    "faults = pd.read_pickle('../data/faults_df.pickle')\n",
    "diag = pd.read_pickle('../data/diag_df.pickle')\n",
    "fdwide = pd.read_pickle('../data/fdwide_df.pickle')"
   ]
  },
  {
   "cell_type": "code",
   "execution_count": 156,
   "metadata": {},
   "outputs": [
    {
     "data": {
      "text/html": [
       "<div>\n",
       "<style scoped>\n",
       "    .dataframe tbody tr th:only-of-type {\n",
       "        vertical-align: middle;\n",
       "    }\n",
       "\n",
       "    .dataframe tbody tr th {\n",
       "        vertical-align: top;\n",
       "    }\n",
       "\n",
       "    .dataframe thead th {\n",
       "        text-align: right;\n",
       "    }\n",
       "</style>\n",
       "<table border=\"1\" class=\"dataframe\">\n",
       "  <thead>\n",
       "    <tr style=\"text-align: right;\">\n",
       "      <th></th>\n",
       "      <th>EventTimeStamp</th>\n",
       "      <th>target</th>\n",
       "      <th>train_test_val</th>\n",
       "    </tr>\n",
       "  </thead>\n",
       "  <tbody>\n",
       "    <tr>\n",
       "      <th>2</th>\n",
       "      <td>2015-05-10 07:11:34</td>\n",
       "      <td>False</td>\n",
       "      <td>train</td>\n",
       "    </tr>\n",
       "    <tr>\n",
       "      <th>4</th>\n",
       "      <td>2015-05-11 13:11:20</td>\n",
       "      <td>False</td>\n",
       "      <td>train</td>\n",
       "    </tr>\n",
       "    <tr>\n",
       "      <th>6</th>\n",
       "      <td>2015-05-13 08:22:32</td>\n",
       "      <td>False</td>\n",
       "      <td>train</td>\n",
       "    </tr>\n",
       "    <tr>\n",
       "      <th>8</th>\n",
       "      <td>2015-05-18 09:34:05</td>\n",
       "      <td>False</td>\n",
       "      <td>train</td>\n",
       "    </tr>\n",
       "    <tr>\n",
       "      <th>11</th>\n",
       "      <td>2015-05-21 13:57:35</td>\n",
       "      <td>False</td>\n",
       "      <td>train</td>\n",
       "    </tr>\n",
       "    <tr>\n",
       "      <th>...</th>\n",
       "      <td>...</td>\n",
       "      <td>...</td>\n",
       "      <td>...</td>\n",
       "    </tr>\n",
       "    <tr>\n",
       "      <th>1187325</th>\n",
       "      <td>2018-09-06 00:34:32</td>\n",
       "      <td>False</td>\n",
       "      <td>validation</td>\n",
       "    </tr>\n",
       "    <tr>\n",
       "      <th>1187327</th>\n",
       "      <td>2015-02-24 13:45:06</td>\n",
       "      <td>False</td>\n",
       "      <td>train</td>\n",
       "    </tr>\n",
       "    <tr>\n",
       "      <th>1187328</th>\n",
       "      <td>2015-02-24 15:31:17</td>\n",
       "      <td>False</td>\n",
       "      <td>train</td>\n",
       "    </tr>\n",
       "    <tr>\n",
       "      <th>1187331</th>\n",
       "      <td>2015-02-26 13:12:11</td>\n",
       "      <td>False</td>\n",
       "      <td>train</td>\n",
       "    </tr>\n",
       "    <tr>\n",
       "      <th>1187333</th>\n",
       "      <td>2015-02-25 06:08:43</td>\n",
       "      <td>False</td>\n",
       "      <td>train</td>\n",
       "    </tr>\n",
       "  </tbody>\n",
       "</table>\n",
       "<p>585195 rows × 3 columns</p>\n",
       "</div>"
      ],
      "text/plain": [
       "             EventTimeStamp  target train_test_val\n",
       "2       2015-05-10 07:11:34   False          train\n",
       "4       2015-05-11 13:11:20   False          train\n",
       "6       2015-05-13 08:22:32   False          train\n",
       "8       2015-05-18 09:34:05   False          train\n",
       "11      2015-05-21 13:57:35   False          train\n",
       "...                     ...     ...            ...\n",
       "1187325 2018-09-06 00:34:32   False     validation\n",
       "1187327 2015-02-24 13:45:06   False          train\n",
       "1187328 2015-02-24 15:31:17   False          train\n",
       "1187331 2015-02-26 13:12:11   False          train\n",
       "1187333 2015-02-25 06:08:43   False          train\n",
       "\n",
       "[585195 rows x 3 columns]"
      ]
     },
     "execution_count": 156,
     "metadata": {},
     "output_type": "execute_result"
    }
   ],
   "source": [
    "stratifier(y)"
   ]
  },
  {
   "cell_type": "markdown",
   "metadata": {},
   "source": [
    "## First Model\n",
    "\n",
    "First, let's make a simple, scaled logistic regression model based on one of our important features, *FuelLtd*. Some notes:\n",
    "- Target window hours are set to 120 (5 days). We're allowing a lot of noise for this first run and will most likely shorten this window later.\n",
    "- Until I clean up my functions, EventTimeStamp and EquipmentID to be in both X and y for the custom train-test-validation split.\n",
    "- We'll consider trucks in the stratification."
   ]
  },
  {
   "cell_type": "code",
   "execution_count": 157,
   "metadata": {},
   "outputs": [],
   "source": [
    "df = create_target_window(fdwide, both_derate_types=False, target_window_hours=120)\n",
    "df_selected = df[['EventTimeStamp', 'EquipmentID', 'FuelLtd', 'target']].dropna()\n",
    "\n",
    "X = df_selected[['EventTimeStamp', 'EquipmentID', 'FuelLtd']]\n",
    "y = df_selected[['EventTimeStamp', 'EquipmentID','target']]\n",
    "\n",
    "X_train, y_train, X_test, y_test, X_val, y_val = train_test_val_split(X, y, trucks = True)\n",
    "\n",
    "pipeline = Pipeline([\n",
    "    ('scaler', StandardScaler()),\n",
    "    ('logreg', LogisticRegression())\n",
    "])\n",
    "\n",
    "pipeline.fit(X_train, y_train)\n",
    "y_pred = pipeline.predict(X_test)\n",
    "fuel_test_probs = pipeline.predict_proba(X_test)"
   ]
  },
  {
   "cell_type": "markdown",
   "metadata": {},
   "source": [
    "As shown below, this model simply predicts no derate for every point, which is typical when predicting faults (rare events)"
   ]
  },
  {
   "cell_type": "code",
   "execution_count": 158,
   "metadata": {},
   "outputs": [
    {
     "name": "stdout",
     "output_type": "stream",
     "text": [
      "f1_score:  0.0\n",
      "[[115355      0]\n",
      " [  1285      0]]\n",
      "              precision    recall  f1-score   support\n",
      "\n",
      "       False       0.99      1.00      0.99    115355\n",
      "        True       0.00      0.00      0.00      1285\n",
      "\n",
      "    accuracy                           0.99    116640\n",
      "   macro avg       0.49      0.50      0.50    116640\n",
      "weighted avg       0.98      0.99      0.98    116640\n",
      "\n",
      "count    116640.000000\n",
      "mean          0.007685\n",
      "std           0.001573\n",
      "min           0.005153\n",
      "25%           0.006777\n",
      "50%           0.007891\n",
      "75%           0.008429\n",
      "max           0.042919\n",
      "dtype: float64\n"
     ]
    },
    {
     "name": "stderr",
     "output_type": "stream",
     "text": [
      "C:\\Users\\jrior\\anaconda3\\lib\\site-packages\\sklearn\\metrics\\_classification.py:1318: UndefinedMetricWarning: Precision and F-score are ill-defined and being set to 0.0 in labels with no predicted samples. Use `zero_division` parameter to control this behavior.\n",
      "  _warn_prf(average, modifier, msg_start, len(result))\n",
      "C:\\Users\\jrior\\anaconda3\\lib\\site-packages\\sklearn\\metrics\\_classification.py:1318: UndefinedMetricWarning: Precision and F-score are ill-defined and being set to 0.0 in labels with no predicted samples. Use `zero_division` parameter to control this behavior.\n",
      "  _warn_prf(average, modifier, msg_start, len(result))\n",
      "C:\\Users\\jrior\\anaconda3\\lib\\site-packages\\sklearn\\metrics\\_classification.py:1318: UndefinedMetricWarning: Precision and F-score are ill-defined and being set to 0.0 in labels with no predicted samples. Use `zero_division` parameter to control this behavior.\n",
      "  _warn_prf(average, modifier, msg_start, len(result))\n"
     ]
    }
   ],
   "source": [
    "print(\"f1_score: \", f1_score(y_test, y_pred))\n",
    "print(confusion_matrix(y_test, y_pred))\n",
    "print(classification_report(y_test, y_pred))\n",
    "\n",
    "print(pd.Series(np.split(fuel_test_probs,2,axis=1)[1].flatten()).describe())"
   ]
  },
  {
   "cell_type": "markdown",
   "metadata": {},
   "source": [
    "The ROC curve below is pretty awful, though there is a point near the top right where the curve jumps up past the reference line."
   ]
  },
  {
   "cell_type": "code",
   "execution_count": 159,
   "metadata": {},
   "outputs": [
    {
     "data": {
      "image/png": "[encoded data removed]",
      "text/plain": [
       "<Figure size 432x288 with 1 Axes>"
      ]
     },
     "metadata": {
      "needs_background": "light"
     },
     "output_type": "display_data"
    }
   ],
   "source": [
    "RocCurveDisplay.from_estimator(pipeline, X_test, y_test)\n",
    "plt.plot([0,1], [0,1], '--');"
   ]
  },
  {
   "cell_type": "markdown",
   "metadata": {},
   "source": [
    "In our particular question, it's most important that we minimize total costs. Here, we check the total costs for each threshold on a 0.1 interval from 0 to 1. It looks like at some point between 0 and 0.1, there's a point where our regression only predicts a False. (That's likely also where our ROC makes a leap.)"
   ]
  },
  {
   "cell_type": "code",
   "execution_count": 160,
   "metadata": {},
   "outputs": [
    {
     "data": {
      "text/plain": [
       "{0.0: 138426000,\n",
       " 0.1: 6425000,\n",
       " 0.2: 6425000,\n",
       " 0.30000000000000004: 6425000,\n",
       " 0.4: 6425000,\n",
       " 0.5: 6425000,\n",
       " 0.6000000000000001: 6425000,\n",
       " 0.7000000000000001: 6425000,\n",
       " 0.8: 6425000,\n",
       " 0.9: 6425000,\n",
       " 1.0: 6425000}"
      ]
     },
     "execution_count": 160,
     "metadata": {},
     "output_type": "execute_result"
    }
   ],
   "source": [
    "threshold_range = np.arange(0, 1.1, 0.1)\n",
    "costs = {t: cost_scorer(y_test, [p[1] > t for p in fuel_test_probs], cost_fp=1200, cost_fn=5000) for t in threshold_range}\n",
    "costs"
   ]
  },
  {
   "cell_type": "markdown",
   "metadata": {},
   "source": [
    "### Let's experiment with looping this basic model for different target window times\n",
    "We're using the same setup as above; however, now we're building a larger dictionary for a variety of target windows from 3 hours to 5 days"
   ]
  },
  {
   "cell_type": "code",
   "execution_count": 161,
   "metadata": {},
   "outputs": [],
   "source": [
    "windows = np.concatenate([np.arange(3, 27, 3), np.arange(36, 121, 12)])\n",
    "costs_dict = {}\n",
    "for window in windows:\n",
    "    df = create_target_window(fdwide, both_derate_types=False, target_window_hours=float(window))\n",
    "    df_selected = df[['EventTimeStamp', 'EquipmentID', 'FuelLtd', 'target']].dropna()\n",
    "\n",
    "    X = df_selected[['EventTimeStamp', 'EquipmentID', 'FuelLtd']]\n",
    "    y = df_selected[['EventTimeStamp', 'EquipmentID','target']]\n",
    "\n",
    "    X_train, y_train, X_test, y_test, X_val, y_val = train_test_val_split(X, y, trucks = True)\n",
    "\n",
    "    pipeline = Pipeline([\n",
    "        ('scaler', StandardScaler()),\n",
    "        ('logreg', LogisticRegression())\n",
    "    ])\n",
    "\n",
    "    pipeline.fit(X_train, y_train)\n",
    "    y_pred = pipeline.predict(X_test)\n",
    "    fuel_test_probs = pipeline.predict_proba(X_test)\n",
    "\n",
    "    threshold_range = np.arange(0, 1.1, 0.1)\n",
    "    costs_dict[f\"{window} hours\"] = {t: cost_scorer(y_test, [p[1] > t for p in fuel_test_probs], cost_fp=1200, cost_fn=5000) for t in threshold_range}"
   ]
  },
  {
   "cell_type": "markdown",
   "metadata": {},
   "source": [
    "Collecting these results into a dataframe, we see that the minimum cost for each window occurs at the 0.1 threshold; however, the 3-hour target introduces the lowest costs."
   ]
  },
  {
   "cell_type": "code",
   "execution_count": 162,
   "metadata": {},
   "outputs": [
    {
     "data": {
      "text/html": [
       "<div>\n",
       "<style scoped>\n",
       "    .dataframe tbody tr th:only-of-type {\n",
       "        vertical-align: middle;\n",
       "    }\n",
       "\n",
       "    .dataframe tbody tr th {\n",
       "        vertical-align: top;\n",
       "    }\n",
       "\n",
       "    .dataframe thead th {\n",
       "        text-align: right;\n",
       "    }\n",
       "</style>\n",
       "<table border=\"1\" class=\"dataframe\">\n",
       "  <thead>\n",
       "    <tr style=\"text-align: right;\">\n",
       "      <th></th>\n",
       "      <th>target_window</th>\n",
       "      <th>threshold</th>\n",
       "      <th>cost</th>\n",
       "    </tr>\n",
       "  </thead>\n",
       "  <tbody>\n",
       "    <tr>\n",
       "      <th>0</th>\n",
       "      <td>3 hours</td>\n",
       "      <td>0.1</td>\n",
       "      <td>1135000</td>\n",
       "    </tr>\n",
       "    <tr>\n",
       "      <th>1</th>\n",
       "      <td>6 hours</td>\n",
       "      <td>0.1</td>\n",
       "      <td>1435000</td>\n",
       "    </tr>\n",
       "    <tr>\n",
       "      <th>2</th>\n",
       "      <td>9 hours</td>\n",
       "      <td>0.1</td>\n",
       "      <td>1575000</td>\n",
       "    </tr>\n",
       "    <tr>\n",
       "      <th>3</th>\n",
       "      <td>12 hours</td>\n",
       "      <td>0.1</td>\n",
       "      <td>2780000</td>\n",
       "    </tr>\n",
       "    <tr>\n",
       "      <th>4</th>\n",
       "      <td>15 hours</td>\n",
       "      <td>0.1</td>\n",
       "      <td>3095000</td>\n",
       "    </tr>\n",
       "    <tr>\n",
       "      <th>5</th>\n",
       "      <td>18 hours</td>\n",
       "      <td>0.1</td>\n",
       "      <td>3260000</td>\n",
       "    </tr>\n",
       "    <tr>\n",
       "      <th>6</th>\n",
       "      <td>21 hours</td>\n",
       "      <td>0.1</td>\n",
       "      <td>3390000</td>\n",
       "    </tr>\n",
       "    <tr>\n",
       "      <th>7</th>\n",
       "      <td>24 hours</td>\n",
       "      <td>0.1</td>\n",
       "      <td>3485000</td>\n",
       "    </tr>\n",
       "    <tr>\n",
       "      <th>8</th>\n",
       "      <td>36 hours</td>\n",
       "      <td>0.1</td>\n",
       "      <td>4875000</td>\n",
       "    </tr>\n",
       "    <tr>\n",
       "      <th>9</th>\n",
       "      <td>48 hours</td>\n",
       "      <td>0.1</td>\n",
       "      <td>5050000</td>\n",
       "    </tr>\n",
       "  </tbody>\n",
       "</table>\n",
       "</div>"
      ],
      "text/plain": [
       "  target_window threshold     cost\n",
       "0       3 hours       0.1  1135000\n",
       "1       6 hours       0.1  1435000\n",
       "2       9 hours       0.1  1575000\n",
       "3      12 hours       0.1  2780000\n",
       "4      15 hours       0.1  3095000\n",
       "5      18 hours       0.1  3260000\n",
       "6      21 hours       0.1  3390000\n",
       "7      24 hours       0.1  3485000\n",
       "8      36 hours       0.1  4875000\n",
       "9      48 hours       0.1  5050000"
      ]
     },
     "execution_count": 162,
     "metadata": {},
     "output_type": "execute_result"
    }
   ],
   "source": [
    "costs_df = (pd.DataFrame.from_dict(costs_dict, orient='index')\n",
    "        .reset_index()\n",
    "        .melt(id_vars='index', \n",
    "              var_name='threshold', \n",
    "              value_name='cost')\n",
    "        .rename(columns = {'index': 'target_window'})\n",
    "    )\n",
    "(costs_df.sort_values(['cost', 'threshold'])\n",
    "         .drop_duplicates(subset = ['target_window', 'cost'])\n",
    "         .reset_index(drop = True)\n",
    "         .head(10)\n",
    ")"
   ]
  },
  {
   "cell_type": "markdown",
   "metadata": {},
   "source": [
    "### As a last step with this simple model, let's look at all the reporting content with the target window and threshold optimized.\n",
    "So we're setting the window to 3 and the threshold to 0.1 (though we'll explore this a little, too)."
   ]
  },
  {
   "cell_type": "code",
   "execution_count": 163,
   "metadata": {},
   "outputs": [],
   "source": [
    "df = create_target_window(fdwide, both_derate_types=False, target_window_hours=3)\n",
    "df_selected = df[['EventTimeStamp', 'EquipmentID', 'FuelLtd', 'target']].dropna()\n",
    "\n",
    "X = df_selected[['EventTimeStamp', 'EquipmentID', 'FuelLtd']]\n",
    "y = df_selected[['EventTimeStamp', 'EquipmentID','target']]\n",
    "\n",
    "X_train, y_train, X_test, y_test, X_val, y_val = train_test_val_split(X, y, trucks = True)\n",
    "\n",
    "pipeline = Pipeline([\n",
    "    ('scaler', StandardScaler()),\n",
    "    ('logreg', LogisticRegression())\n",
    "])\n",
    "\n",
    "pipeline.fit(X_train, y_train)\n",
    "y_pred = pipeline.predict(X_test)\n",
    "fuel_test_probs = pipeline.predict_proba(X_test)"
   ]
  },
  {
   "cell_type": "markdown",
   "metadata": {},
   "source": [
    "Confirmed: Our optimal threshold is just the first threshold that never predicts a derate. There's some tension here, then, in whether to prioritize optimizing total costs or the f1 score. Most likely the total costs are the most important. We might just need some more features."
   ]
  },
  {
   "cell_type": "code",
   "execution_count": 192,
   "metadata": {},
   "outputs": [
    {
     "name": "stdout",
     "output_type": "stream",
     "text": [
      "confusion matrix:\n",
      " [[     0 116413]\n",
      " [     0    227]]\n",
      "False Positives:  116413 \n",
      "False Negatives:  0\n",
      "f1 score:  0.0038847578871708866\n",
      "Total Cost:  $139,695,600.00\n",
      "              precision    recall  f1-score   support\n",
      "\n",
      "       False       0.00      0.00      0.00    116413\n",
      "        True       0.00      1.00      0.00       227\n",
      "\n",
      "    accuracy                           0.00    116640\n",
      "   macro avg       0.00      0.50      0.00    116640\n",
      "weighted avg       0.00      0.00      0.00    116640\n",
      "\n",
      "Threshold value is: 2\n"
     ]
    },
    {
     "name": "stderr",
     "output_type": "stream",
     "text": [
      "C:\\Users\\jrior\\anaconda3\\lib\\site-packages\\sklearn\\metrics\\_classification.py:1318: UndefinedMetricWarning: Precision and F-score are ill-defined and being set to 0.0 in labels with no predicted samples. Use `zero_division` parameter to control this behavior.\n",
      "  _warn_prf(average, modifier, msg_start, len(result))\n",
      "C:\\Users\\jrior\\anaconda3\\lib\\site-packages\\sklearn\\metrics\\_classification.py:1318: UndefinedMetricWarning: Precision and F-score are ill-defined and being set to 0.0 in labels with no predicted samples. Use `zero_division` parameter to control this behavior.\n",
      "  _warn_prf(average, modifier, msg_start, len(result))\n",
      "C:\\Users\\jrior\\anaconda3\\lib\\site-packages\\sklearn\\metrics\\_classification.py:1318: UndefinedMetricWarning: Precision and F-score are ill-defined and being set to 0.0 in labels with no predicted samples. Use `zero_division` parameter to control this behavior.\n",
      "  _warn_prf(average, modifier, msg_start, len(result))\n"
     ]
    },
    {
     "data": {
      "image/png": "[encoded data removed]",
      "text/plain": [
       "<Figure size 432x288 with 1 Axes>"
      ]
     },
     "metadata": {
      "needs_background": "light"
     },
     "output_type": "display_data"
    }
   ],
   "source": [
    "t = 0\n",
    "preds = [p[1] > t for p in fuel_test_probs]\n",
    "tn, fp, fn, tp = confusion_matrix(y_test, preds).ravel()\n",
    "print(\"confusion matrix:\\n\", confusion_matrix(y_test, preds))\n",
    "print(\"False Positives: \", fp, \"\\nFalse Negatives: \", fn)\n",
    "print(\"f1 score: \", f1_score(y_test, preds))\n",
    "print(\"Total Cost: \",  \"${:,.2f}\".format(cost_scorer(y_test, preds, cost_fp=1200, cost_fn=5000)))\n",
    "print(classification_report(y_test, preds))\n",
    "\n",
    "fpr, tpr, thresholds = roc_curve(y_test, preds)\n",
    "optimal_idx = np.argmax(tpr - fpr)\n",
    "optimal_threshold = thresholds[optimal_idx]\n",
    "print(\"Threshold value is:\", optimal_threshold)\n",
    "\n",
    "RocCurveDisplay.from_estimator(pipeline, X_test, y_test)\n",
    "plt.plot([0,1], [0,1], '--');\n"
   ]
  },
  {
   "cell_type": "markdown",
   "metadata": {},
   "source": [
    "## Let's try including the spn and fmi columns"
   ]
  },
  {
   "cell_type": "code",
   "execution_count": 165,
   "metadata": {},
   "outputs": [],
   "source": [
    "# df = create_target_window(fdwide, both_derate_types=False, target_window_hours=36)\n",
    "# df_selected = df[['FuelLtd', 'spn', 'fmi', 'target']].dropna()\n",
    "\n",
    "# X = df_selected[['FuelLtd']]\n",
    "# y = df_selected[['target']]\n",
    "\n",
    "# X_train, y_train, X_test, y_test, X_val, y_val = train_test_val_split\n",
    "\n",
    "# ct = ColumnTransformer([\n",
    "#             ('ohe', OneHotEncoder(sparse = False, drop = 'first'), catcols)\n",
    "#         ],\n",
    "#         remainder=\"passthrough\"\n",
    "#     )\n",
    "\n",
    "# pipeline = Pipeline([\n",
    "#     ('ct', ct),\n",
    "#     ('scaler', StandardScaler()),\n",
    "#     ('logreg', LogisticRegression())\n",
    "# ])\n",
    "\n",
    "# pipeline.fit(X_train, y_train)\n",
    "# y_pred = pipeline.predict(X_test)\n",
    "\n",
    "# print(\"f1_score: \", f1_score(y_test_ y_pred))\n",
    "# print(confusion_matrix(y_test, y_pred))\n",
    "# print(classification_report(y_test_y_pred))"
   ]
  },
  {
   "cell_type": "markdown",
   "metadata": {},
   "source": [
    "## Appendix"
   ]
  },
  {
   "cell_type": "code",
   "execution_count": 166,
   "metadata": {},
   "outputs": [],
   "source": [
    "dropcols = ['RecordID','actionDescription','ESS_Id','eventDescription', 'ecuSoftwareVersion', 'ecuSerialNumber', 'ecuModel', 'ecuMake', 'ecuSource', \n",
    "            'faultValue', 'EquipmentID', 'MCTNumber', 'LocationTimeStamp', 'eventGroup', 'FaultId', 'EventTimeStamp', 'ParkingBrake', 'ServiceDistance',\n",
    "            'SwitchedBatteryVoltage', 'FuelTemperature', 'Throttle', 'spn-fmi']\n",
    "catcols = ['spn', 'fmi', 'LampStatus']\n",
    "# X = df.assign(timeTillLast = df['timeTillLast'].dt.total_seconds()).drop(columns = dropcols).dropna()\n",
    "# X.shape"
   ]
  }
 ],
 "metadata": {
  "interpreter": {
   "hash": "91809cd6930bcd5c93f1baaa8e75dc4fbfa15bbd921b33b01843a7cf2fa05e32"
  },
  "kernelspec": {
   "display_name": "Python 3.8.8 ('base')",
   "language": "python",
   "name": "python3"
  },
  "language_info": {
   "codemirror_mode": {
    "name": "ipython",
    "version": 3
   },
   "file_extension": ".py",
   "mimetype": "text/x-python",
   "name": "python",
   "nbconvert_exporter": "python",
   "pygments_lexer": "ipython3",
   "version": "3.8.8"
  },
  "orig_nbformat": 4
 },
 "nbformat": 4,
 "nbformat_minor": 2
}
