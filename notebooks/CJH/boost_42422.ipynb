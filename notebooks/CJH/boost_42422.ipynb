{
 "cells": [
  {
   "cell_type": "code",
   "execution_count": 1,
   "id": "54f02122",
   "metadata": {},
   "outputs": [
    {
     "name": "stderr",
     "output_type": "stream",
     "text": [
      "C:\\Users\\charr\\anaconda3\\lib\\site-packages\\xgboost\\compat.py:36: FutureWarning: pandas.Int64Index is deprecated and will be removed from pandas in a future version. Use pandas.Index with the appropriate dtype instead.\n",
      "  from pandas import MultiIndex, Int64Index\n"
     ]
    }
   ],
   "source": [
    "import pandas as pd\n",
    "import numpy as np\n",
    "from sklearn.model_selection import train_test_split, cross_val_score\n",
    "from sklearn.metrics import classification_report, confusion_matrix\n",
    "from sklearn.preprocessing import OneHotEncoder, StandardScaler\n",
    "from imblearn.pipeline import Pipeline\n",
    "from imblearn.over_sampling import SMOTE\n",
    "from xgboost import XGBClassifier"
   ]
  },
  {
   "cell_type": "code",
   "execution_count": 2,
   "id": "dd0ff16a",
   "metadata": {
    "scrolled": true
   },
   "outputs": [],
   "source": [
    "bigg = pd.read_csv('./data/CJH_big_g_express_dataset_042322_420PM.csv', low_memory = False)"
   ]
  },
  {
   "cell_type": "code",
   "execution_count": 3,
   "id": "1a997766",
   "metadata": {},
   "outputs": [],
   "source": [
    "bigg['event_time_stamp'] = pd.to_datetime(bigg['event_time_stamp'])\n",
    "\n",
    "bigg = bigg.loc[(bigg['event_time_stamp'].dt.year > 2014) & (bigg['event_time_stamp'].dt.year <= 2020)]"
   ]
  },
  {
   "cell_type": "code",
   "execution_count": 4,
   "id": "c256a85a",
   "metadata": {},
   "outputs": [],
   "source": [
    "def create_groups(grp, df, offset_grp = None):\n",
    "    df['full_derate'] = False\n",
    "    \n",
    "    if offset_grp is not None:\n",
    "        df = df[df[f'use_for_first_tow_hours_id_group_{offset_grp}'] == False]\n",
    "        \n",
    "    df['full_derate'] = (\n",
    "        np.where(df[f'hours_id_group_{grp}']\\\n",
    "                 .isin(list(df[f'hours_id_group_{grp}']\\\n",
    "                            .loc[(df[f'use_for_first_tow_hours_id_group_{grp}'] == True)])) &\n",
    "                 (df[f'use_for_first_tow_hours_id_group_{grp}'] == True),\n",
    "                 True,\n",
    "                 False)\n",
    "        )\n",
    "    \n",
    "    \n",
    "    mask = df.loc[(df[f'hours_id_group_{grp}']\\\n",
    "                    .isin(list(df[f'hours_id_group_{grp}']\\\n",
    "                               .loc[(df[f'use_for_first_tow_hours_id_group_{grp}'] == True)]))) &\n",
    "                    (df['full_derate'] == False)]\n",
    "    \n",
    "    row_ls = [i for i in df.index if i not in mask.index]\n",
    "    \n",
    "    df = df.loc[row_ls]\n",
    "    \n",
    "    grp_col = f'hours_id_group_{grp}'\n",
    "    \n",
    "    return df, grp_col"
   ]
  },
  {
   "cell_type": "code",
   "execution_count": 5,
   "id": "c347fb2c",
   "metadata": {},
   "outputs": [],
   "source": [
    "bigg, grp_col = create_groups('48H', bigg)"
   ]
  },
  {
   "cell_type": "code",
   "execution_count": 6,
   "id": "d178bb47",
   "metadata": {},
   "outputs": [],
   "source": [
    "bigg['common_derate_lamp_status'] = (\n",
    "    np.where((bigg['lamp_status'] == 22527) | (bigg['lamp_status'] == 18431), True, False)\n",
    ")\n",
    "\n",
    "bigg['fuel_temperature_over_32'] = (\n",
    "    np.where(bigg['fuel_temperature'] > 32, True, False)\n",
    ")\n",
    "\n",
    "bigg['accelerator_pedal_over_0'] = (\n",
    "    np.where(bigg['accelerator_pedal'] > 0, True, False)\n",
    ")\n",
    "\n",
    "bigg['cruise_control_set_speed_under_66'] = (\n",
    "    np.where(bigg['cruise_control_set_speed'] < 66, True, False)\n",
    ")\n",
    "\n",
    "bigg['switched_battery_voltage_less_than_3276.75'] = (\n",
    "    np.where(bigg['switched_battery_voltage'] < 3276.75, True, False)\n",
    "\n",
    ")\n",
    "\n",
    "bigg['event_description_SCR_related'] = (\n",
    "    np.where(bigg['event_description'].str.lower().str.contains('catalyst|aftertreatment|nox|derate'), True, False)\n",
    ")"
   ]
  },
  {
   "cell_type": "code",
   "execution_count": 7,
   "id": "add438f8",
   "metadata": {},
   "outputs": [],
   "source": [
    "cat_var = [\n",
    "    'common_derate_lamp_status',\n",
    "    'ecu_model',\n",
    "    'ecu_make',\n",
    "    'error_category',\n",
    "    'month',\n",
    "    'maintenance_before',\n",
    "    'fuel_temperature_over_32',\n",
    "    'accelerator_pedal_over_0',\n",
    "    'cruise_control_set_speed_under_66',\n",
    "    'switched_battery_voltage_less_than_3276.75',\n",
    "    'event_description_SCR_related']\n",
    "\n",
    "normalizers = ['ltd_distance',\n",
    "             'ltd_engine_time',\n",
    "             'ltd_fuel']\n",
    "\n",
    "var = ['barometric_pressure',\n",
    "       'ltd_distance',\n",
    "       'engine_coolant_temperature',\n",
    "       'engine_load',\n",
    "       'engine_oil_pressure',\n",
    "       'engine_oil_temperature',\n",
    "       'engine_rpm',\n",
    "       'ltd_engine_time',\n",
    "       'fuel_level',\n",
    "       'ltd_fuel',\n",
    "       'fuel_rate',\n",
    "       'intake_manifold_temperature',\n",
    "       'speed',\n",
    "       'turbo_boost_pressure',\n",
    "       'error_duration_(minutes)'\n",
    "      ]"
   ]
  },
  {
   "cell_type": "code",
   "execution_count": 8,
   "id": "37759f45",
   "metadata": {},
   "outputs": [],
   "source": [
    "ohe_col_ls = []\n",
    "for i in cat_var:\n",
    "    ohe = OneHotEncoder()\n",
    "    transformed = ohe.fit_transform(bigg[[i]])\n",
    "    bigg[ohe.get_feature_names_out()] = transformed.toarray()\n",
    "    ohe_col_ls += [i for i in ohe.get_feature_names_out()]"
   ]
  },
  {
   "cell_type": "code",
   "execution_count": 9,
   "id": "257013b8",
   "metadata": {},
   "outputs": [
    {
     "name": "stderr",
     "output_type": "stream",
     "text": [
      "C:\\Users\\charr\\anaconda3\\lib\\site-packages\\pandas\\core\\arraylike.py:397: RuntimeWarning: invalid value encountered in log\n",
      "  result = getattr(ufunc, method)(*inputs, **kwargs)\n",
      "C:\\Users\\charr\\anaconda3\\lib\\site-packages\\pandas\\core\\arraylike.py:397: RuntimeWarning: divide by zero encountered in log\n",
      "  result = getattr(ufunc, method)(*inputs, **kwargs)\n"
     ]
    }
   ],
   "source": [
    "def log_me(col):\n",
    "    bigg[col] = (\n",
    "        np.where((bigg[col].notnull()) & \n",
    "                 (np.log(bigg[col]) != -np.inf) &\n",
    "                 (np.log(bigg[col]) != np.inf), \n",
    "                 np.log(bigg[col]), np.nan)\n",
    "    )\n",
    "    \n",
    "    return bigg[col]\n",
    "\n",
    "log_cols = ['engine_oil_temperature',\n",
    "            'ltd_engine_time',\n",
    "            'fuel_rate',\n",
    "            'turbo_boost_pressure',\n",
    "            'speed',\n",
    "            'error_duration_(minutes)']\n",
    "\n",
    "bigg['barometric_pressure'] = np.exp(bigg['barometric_pressure'])\n",
    "\n",
    "for i in log_cols:\n",
    "    bigg[i] = log_me(i)"
   ]
  },
  {
   "cell_type": "code",
   "execution_count": 10,
   "id": "5d536c73",
   "metadata": {},
   "outputs": [],
   "source": [
    "# def normalize_me(col, normalizer):\n",
    "#     if col != normalizer:\n",
    "#         bigg[col] = (\n",
    "#             np.where((bigg[col].notnull()) & \n",
    "#                      (bigg[col]/bigg[normalizer] != -np.inf) &\n",
    "#                      (bigg[col]/bigg[normalizer] != np.inf), \n",
    "#                      bigg[col]/bigg[normalizer] * 100000, \n",
    "#                      np.nan))\n",
    "    \n",
    "#     return bigg[col]\n",
    "\n",
    "# normalized_var_ls = []\n",
    "\n",
    "# for i in var:\n",
    "#     for j in normalizers:\n",
    "#         col_name = f'{i}_{j}'\n",
    "#         bigg[col_name] = normalize_me(i, j)\n",
    "#         normalized_var_ls.append(col_name)"
   ]
  },
  {
   "cell_type": "code",
   "execution_count": 11,
   "id": "4b47da53",
   "metadata": {},
   "outputs": [],
   "source": [
    "cat_vars = bigg.groupby(grp_col)[ohe_col_ls].sum().reset_index()"
   ]
  },
  {
   "cell_type": "code",
   "execution_count": 12,
   "id": "0ce726b1",
   "metadata": {},
   "outputs": [],
   "source": [
    "mean_vars = bigg.groupby(grp_col)[var].mean().reset_index().fillna(0)\n",
    "std_vars = bigg.groupby(grp_col)[var].std().reset_index().fillna(0)"
   ]
  },
  {
   "cell_type": "code",
   "execution_count": 13,
   "id": "b518a64b",
   "metadata": {},
   "outputs": [],
   "source": [
    "target_values = bigg[[grp_col, 'full_derate']].drop_duplicates()"
   ]
  },
  {
   "cell_type": "code",
   "execution_count": 14,
   "id": "834dbc29",
   "metadata": {},
   "outputs": [],
   "source": [
    "all_vars = pd.merge(mean_vars, std_vars, on = grp_col).merge(cat_vars, on = grp_col)"
   ]
  },
  {
   "cell_type": "code",
   "execution_count": 15,
   "id": "c9b1e418",
   "metadata": {},
   "outputs": [],
   "source": [
    "X = all_vars.drop(columns = grp_col)\n",
    "y = target_values['full_derate']\n",
    "\n",
    "X_train, X_test, y_train, y_test = train_test_split(X, y, \n",
    "                                                    test_size = 0.30, \n",
    "                                                    train_size = 0.70, \n",
    "                                                    random_state = 111, \n",
    "                                                    stratify = y)"
   ]
  },
  {
   "cell_type": "code",
   "execution_count": 16,
   "id": "900db55d",
   "metadata": {},
   "outputs": [],
   "source": [
    "pipe = Pipeline(\n",
    "    steps = [\n",
    "        ('smt', SMOTE(n_jobs = -1)),\n",
    "        ('scale', StandardScaler()),\n",
    "        ('boost', XGBClassifier(verbosity = 2))\n",
    "    ]\n",
    ")"
   ]
  },
  {
   "cell_type": "code",
   "execution_count": 17,
   "id": "ef2556c6",
   "metadata": {},
   "outputs": [
    {
     "name": "stderr",
     "output_type": "stream",
     "text": [
      "[Parallel(n_jobs=-1)]: Using backend LokyBackend with 12 concurrent workers.\n",
      "[Parallel(n_jobs=-1)]: Done   3 out of   5 | elapsed:  1.8min remaining:  1.2min\n",
      "[Parallel(n_jobs=-1)]: Done   5 out of   5 | elapsed:  1.8min finished\n"
     ]
    }
   ],
   "source": [
    "cv = cross_val_score(estimator = pipe,\n",
    "                     X = X_train,\n",
    "                     y = y_train, \n",
    "                     cv = 5,\n",
    "                     n_jobs = -1,\n",
    "                     scoring = 'f1', \n",
    "                     verbose = 2)"
   ]
  },
  {
   "cell_type": "code",
   "execution_count": 18,
   "id": "a5eb6e94",
   "metadata": {},
   "outputs": [
    {
     "data": {
      "text/plain": [
       "array([0.52173913, 0.35971223, 0.4962406 , 0.47619048, 0.5248227 ])"
      ]
     },
     "execution_count": 18,
     "metadata": {},
     "output_type": "execute_result"
    }
   ],
   "source": [
    "cv"
   ]
  },
  {
   "cell_type": "code",
   "execution_count": 19,
   "id": "c52bd20a",
   "metadata": {},
   "outputs": [
    {
     "name": "stderr",
     "output_type": "stream",
     "text": [
      "C:\\Users\\charr\\anaconda3\\lib\\site-packages\\xgboost\\sklearn.py:1224: UserWarning: The use of label encoder in XGBClassifier is deprecated and will be removed in a future release. To remove this warning, do the following: 1) Pass option use_label_encoder=False when constructing XGBClassifier object; and 2) Encode your labels (y) as integers starting with 0, i.e. 0, 1, 2, ..., [num_class - 1].\n",
      "  warnings.warn(label_encoder_deprecation_msg, UserWarning)\n"
     ]
    },
    {
     "name": "stdout",
     "output_type": "stream",
     "text": [
      "[19:22:36] INFO: ..\\src\\tree\\updater_prune.cc:101: tree pruning end, 82 extra nodes, 0 pruned nodes, max_depth=6\n",
      "[19:22:36] WARNING: ..\\src\\learner.cc:1115: Starting in XGBoost 1.3.0, the default evaluation metric used with the objective 'binary:logistic' was changed from 'error' to 'logloss'. Explicitly set eval_metric if you'd like to restore the old behavior.\n",
      "[19:22:37] INFO: ..\\src\\tree\\updater_prune.cc:101: tree pruning end, 86 extra nodes, 0 pruned nodes, max_depth=6\n",
      "[19:22:37] INFO: ..\\src\\tree\\updater_prune.cc:101: tree pruning end, 80 extra nodes, 0 pruned nodes, max_depth=6\n",
      "[19:22:37] INFO: ..\\src\\tree\\updater_prune.cc:101: tree pruning end, 88 extra nodes, 0 pruned nodes, max_depth=6\n",
      "[19:22:37] INFO: ..\\src\\tree\\updater_prune.cc:101: tree pruning end, 86 extra nodes, 0 pruned nodes, max_depth=6\n",
      "[19:22:38] INFO: ..\\src\\tree\\updater_prune.cc:101: tree pruning end, 82 extra nodes, 0 pruned nodes, max_depth=6\n",
      "[19:22:38] INFO: ..\\src\\tree\\updater_prune.cc:101: tree pruning end, 88 extra nodes, 0 pruned nodes, max_depth=6\n",
      "[19:22:38] INFO: ..\\src\\tree\\updater_prune.cc:101: tree pruning end, 78 extra nodes, 0 pruned nodes, max_depth=6\n",
      "[19:22:39] INFO: ..\\src\\tree\\updater_prune.cc:101: tree pruning end, 76 extra nodes, 0 pruned nodes, max_depth=6\n",
      "[19:22:39] INFO: ..\\src\\tree\\updater_prune.cc:101: tree pruning end, 80 extra nodes, 0 pruned nodes, max_depth=6\n",
      "[19:22:39] INFO: ..\\src\\tree\\updater_prune.cc:101: tree pruning end, 84 extra nodes, 0 pruned nodes, max_depth=6\n",
      "[19:22:39] INFO: ..\\src\\tree\\updater_prune.cc:101: tree pruning end, 72 extra nodes, 0 pruned nodes, max_depth=6\n",
      "[19:22:40] INFO: ..\\src\\tree\\updater_prune.cc:101: tree pruning end, 68 extra nodes, 0 pruned nodes, max_depth=6\n",
      "[19:22:40] INFO: ..\\src\\tree\\updater_prune.cc:101: tree pruning end, 46 extra nodes, 0 pruned nodes, max_depth=6\n",
      "[19:22:40] INFO: ..\\src\\tree\\updater_prune.cc:101: tree pruning end, 82 extra nodes, 0 pruned nodes, max_depth=6\n",
      "[19:22:40] INFO: ..\\src\\tree\\updater_prune.cc:101: tree pruning end, 54 extra nodes, 0 pruned nodes, max_depth=6\n",
      "[19:22:41] INFO: ..\\src\\tree\\updater_prune.cc:101: tree pruning end, 48 extra nodes, 0 pruned nodes, max_depth=6\n",
      "[19:22:41] INFO: ..\\src\\tree\\updater_prune.cc:101: tree pruning end, 54 extra nodes, 0 pruned nodes, max_depth=6\n",
      "[19:22:41] INFO: ..\\src\\tree\\updater_prune.cc:101: tree pruning end, 58 extra nodes, 0 pruned nodes, max_depth=6\n",
      "[19:22:41] INFO: ..\\src\\tree\\updater_prune.cc:101: tree pruning end, 42 extra nodes, 0 pruned nodes, max_depth=6\n",
      "[19:22:42] INFO: ..\\src\\tree\\updater_prune.cc:101: tree pruning end, 46 extra nodes, 0 pruned nodes, max_depth=6\n",
      "[19:22:42] INFO: ..\\src\\tree\\updater_prune.cc:101: tree pruning end, 54 extra nodes, 0 pruned nodes, max_depth=6\n",
      "[19:22:42] INFO: ..\\src\\tree\\updater_prune.cc:101: tree pruning end, 72 extra nodes, 0 pruned nodes, max_depth=6\n",
      "[19:22:42] INFO: ..\\src\\tree\\updater_prune.cc:101: tree pruning end, 64 extra nodes, 0 pruned nodes, max_depth=6\n",
      "[19:22:43] INFO: ..\\src\\tree\\updater_prune.cc:101: tree pruning end, 84 extra nodes, 0 pruned nodes, max_depth=6\n",
      "[19:22:43] INFO: ..\\src\\tree\\updater_prune.cc:101: tree pruning end, 66 extra nodes, 0 pruned nodes, max_depth=6\n",
      "[19:22:43] INFO: ..\\src\\tree\\updater_prune.cc:101: tree pruning end, 84 extra nodes, 0 pruned nodes, max_depth=6\n",
      "[19:22:43] INFO: ..\\src\\tree\\updater_prune.cc:101: tree pruning end, 62 extra nodes, 0 pruned nodes, max_depth=6\n",
      "[19:22:44] INFO: ..\\src\\tree\\updater_prune.cc:101: tree pruning end, 84 extra nodes, 0 pruned nodes, max_depth=6\n",
      "[19:22:44] INFO: ..\\src\\tree\\updater_prune.cc:101: tree pruning end, 88 extra nodes, 0 pruned nodes, max_depth=6\n",
      "[19:22:44] INFO: ..\\src\\tree\\updater_prune.cc:101: tree pruning end, 80 extra nodes, 0 pruned nodes, max_depth=6\n",
      "[19:22:45] INFO: ..\\src\\tree\\updater_prune.cc:101: tree pruning end, 70 extra nodes, 0 pruned nodes, max_depth=6\n",
      "[19:22:45] INFO: ..\\src\\tree\\updater_prune.cc:101: tree pruning end, 76 extra nodes, 0 pruned nodes, max_depth=6\n",
      "[19:22:45] INFO: ..\\src\\tree\\updater_prune.cc:101: tree pruning end, 76 extra nodes, 0 pruned nodes, max_depth=6\n",
      "[19:22:45] INFO: ..\\src\\tree\\updater_prune.cc:101: tree pruning end, 76 extra nodes, 0 pruned nodes, max_depth=6\n",
      "[19:22:46] INFO: ..\\src\\tree\\updater_prune.cc:101: tree pruning end, 72 extra nodes, 0 pruned nodes, max_depth=6\n",
      "[19:22:46] INFO: ..\\src\\tree\\updater_prune.cc:101: tree pruning end, 74 extra nodes, 0 pruned nodes, max_depth=6\n",
      "[19:22:46] INFO: ..\\src\\tree\\updater_prune.cc:101: tree pruning end, 74 extra nodes, 0 pruned nodes, max_depth=6\n",
      "[19:22:47] INFO: ..\\src\\tree\\updater_prune.cc:101: tree pruning end, 62 extra nodes, 0 pruned nodes, max_depth=6\n",
      "[19:22:47] INFO: ..\\src\\tree\\updater_prune.cc:101: tree pruning end, 78 extra nodes, 0 pruned nodes, max_depth=6\n",
      "[19:22:47] INFO: ..\\src\\tree\\updater_prune.cc:101: tree pruning end, 54 extra nodes, 0 pruned nodes, max_depth=6\n",
      "[19:22:47] INFO: ..\\src\\tree\\updater_prune.cc:101: tree pruning end, 62 extra nodes, 0 pruned nodes, max_depth=6\n",
      "[19:22:48] INFO: ..\\src\\tree\\updater_prune.cc:101: tree pruning end, 76 extra nodes, 0 pruned nodes, max_depth=6\n",
      "[19:22:48] INFO: ..\\src\\tree\\updater_prune.cc:101: tree pruning end, 62 extra nodes, 0 pruned nodes, max_depth=6\n",
      "[19:22:48] INFO: ..\\src\\tree\\updater_prune.cc:101: tree pruning end, 54 extra nodes, 0 pruned nodes, max_depth=6\n",
      "[19:22:48] INFO: ..\\src\\tree\\updater_prune.cc:101: tree pruning end, 74 extra nodes, 0 pruned nodes, max_depth=6\n",
      "[19:22:49] INFO: ..\\src\\tree\\updater_prune.cc:101: tree pruning end, 62 extra nodes, 0 pruned nodes, max_depth=6\n",
      "[19:22:49] INFO: ..\\src\\tree\\updater_prune.cc:101: tree pruning end, 54 extra nodes, 0 pruned nodes, max_depth=6\n",
      "[19:22:49] INFO: ..\\src\\tree\\updater_prune.cc:101: tree pruning end, 68 extra nodes, 0 pruned nodes, max_depth=6\n",
      "[19:22:49] INFO: ..\\src\\tree\\updater_prune.cc:101: tree pruning end, 62 extra nodes, 0 pruned nodes, max_depth=6\n",
      "[19:22:50] INFO: ..\\src\\tree\\updater_prune.cc:101: tree pruning end, 68 extra nodes, 0 pruned nodes, max_depth=6\n",
      "[19:22:50] INFO: ..\\src\\tree\\updater_prune.cc:101: tree pruning end, 60 extra nodes, 0 pruned nodes, max_depth=6\n",
      "[19:22:50] INFO: ..\\src\\tree\\updater_prune.cc:101: tree pruning end, 40 extra nodes, 0 pruned nodes, max_depth=6\n",
      "[19:22:50] INFO: ..\\src\\tree\\updater_prune.cc:101: tree pruning end, 72 extra nodes, 0 pruned nodes, max_depth=6\n",
      "[19:22:51] INFO: ..\\src\\tree\\updater_prune.cc:101: tree pruning end, 48 extra nodes, 0 pruned nodes, max_depth=6\n",
      "[19:22:51] INFO: ..\\src\\tree\\updater_prune.cc:101: tree pruning end, 82 extra nodes, 0 pruned nodes, max_depth=6\n",
      "[19:22:51] INFO: ..\\src\\tree\\updater_prune.cc:101: tree pruning end, 44 extra nodes, 0 pruned nodes, max_depth=6\n",
      "[19:22:51] INFO: ..\\src\\tree\\updater_prune.cc:101: tree pruning end, 68 extra nodes, 0 pruned nodes, max_depth=6\n",
      "[19:22:52] INFO: ..\\src\\tree\\updater_prune.cc:101: tree pruning end, 44 extra nodes, 0 pruned nodes, max_depth=6\n",
      "[19:22:52] INFO: ..\\src\\tree\\updater_prune.cc:101: tree pruning end, 60 extra nodes, 0 pruned nodes, max_depth=6\n",
      "[19:22:52] INFO: ..\\src\\tree\\updater_prune.cc:101: tree pruning end, 56 extra nodes, 0 pruned nodes, max_depth=6\n",
      "[19:22:52] INFO: ..\\src\\tree\\updater_prune.cc:101: tree pruning end, 60 extra nodes, 0 pruned nodes, max_depth=6\n",
      "[19:22:53] INFO: ..\\src\\tree\\updater_prune.cc:101: tree pruning end, 56 extra nodes, 0 pruned nodes, max_depth=6\n",
      "[19:22:53] INFO: ..\\src\\tree\\updater_prune.cc:101: tree pruning end, 60 extra nodes, 0 pruned nodes, max_depth=6\n",
      "[19:22:53] INFO: ..\\src\\tree\\updater_prune.cc:101: tree pruning end, 68 extra nodes, 0 pruned nodes, max_depth=6\n",
      "[19:22:53] INFO: ..\\src\\tree\\updater_prune.cc:101: tree pruning end, 52 extra nodes, 0 pruned nodes, max_depth=6\n",
      "[19:22:54] INFO: ..\\src\\tree\\updater_prune.cc:101: tree pruning end, 42 extra nodes, 0 pruned nodes, max_depth=6\n",
      "[19:22:54] INFO: ..\\src\\tree\\updater_prune.cc:101: tree pruning end, 38 extra nodes, 0 pruned nodes, max_depth=6\n",
      "[19:22:54] INFO: ..\\src\\tree\\updater_prune.cc:101: tree pruning end, 46 extra nodes, 0 pruned nodes, max_depth=6\n",
      "[19:22:54] INFO: ..\\src\\tree\\updater_prune.cc:101: tree pruning end, 68 extra nodes, 0 pruned nodes, max_depth=6\n",
      "[19:22:55] INFO: ..\\src\\tree\\updater_prune.cc:101: tree pruning end, 28 extra nodes, 0 pruned nodes, max_depth=6\n"
     ]
    },
    {
     "name": "stdout",
     "output_type": "stream",
     "text": [
      "[19:22:55] INFO: ..\\src\\tree\\updater_prune.cc:101: tree pruning end, 64 extra nodes, 0 pruned nodes, max_depth=6\n",
      "[19:22:55] INFO: ..\\src\\tree\\updater_prune.cc:101: tree pruning end, 38 extra nodes, 0 pruned nodes, max_depth=6\n",
      "[19:22:55] INFO: ..\\src\\tree\\updater_prune.cc:101: tree pruning end, 50 extra nodes, 0 pruned nodes, max_depth=6\n",
      "[19:22:56] INFO: ..\\src\\tree\\updater_prune.cc:101: tree pruning end, 58 extra nodes, 0 pruned nodes, max_depth=6\n",
      "[19:22:56] INFO: ..\\src\\tree\\updater_prune.cc:101: tree pruning end, 50 extra nodes, 0 pruned nodes, max_depth=6\n",
      "[19:22:56] INFO: ..\\src\\tree\\updater_prune.cc:101: tree pruning end, 32 extra nodes, 0 pruned nodes, max_depth=6\n",
      "[19:22:56] INFO: ..\\src\\tree\\updater_prune.cc:101: tree pruning end, 70 extra nodes, 0 pruned nodes, max_depth=6\n",
      "[19:22:57] INFO: ..\\src\\tree\\updater_prune.cc:101: tree pruning end, 50 extra nodes, 0 pruned nodes, max_depth=6\n",
      "[19:22:57] INFO: ..\\src\\tree\\updater_prune.cc:101: tree pruning end, 84 extra nodes, 0 pruned nodes, max_depth=6\n",
      "[19:22:57] INFO: ..\\src\\tree\\updater_prune.cc:101: tree pruning end, 46 extra nodes, 0 pruned nodes, max_depth=6\n",
      "[19:22:57] INFO: ..\\src\\tree\\updater_prune.cc:101: tree pruning end, 60 extra nodes, 0 pruned nodes, max_depth=6\n",
      "[19:22:57] INFO: ..\\src\\tree\\updater_prune.cc:101: tree pruning end, 58 extra nodes, 0 pruned nodes, max_depth=6\n",
      "[19:22:58] INFO: ..\\src\\tree\\updater_prune.cc:101: tree pruning end, 46 extra nodes, 0 pruned nodes, max_depth=6\n",
      "[19:22:58] INFO: ..\\src\\tree\\updater_prune.cc:101: tree pruning end, 32 extra nodes, 0 pruned nodes, max_depth=6\n",
      "[19:22:58] INFO: ..\\src\\tree\\updater_prune.cc:101: tree pruning end, 26 extra nodes, 0 pruned nodes, max_depth=6\n",
      "[19:22:58] INFO: ..\\src\\tree\\updater_prune.cc:101: tree pruning end, 60 extra nodes, 0 pruned nodes, max_depth=6\n",
      "[19:22:59] INFO: ..\\src\\tree\\updater_prune.cc:101: tree pruning end, 50 extra nodes, 0 pruned nodes, max_depth=6\n",
      "[19:22:59] INFO: ..\\src\\tree\\updater_prune.cc:101: tree pruning end, 34 extra nodes, 0 pruned nodes, max_depth=6\n",
      "[19:22:59] INFO: ..\\src\\tree\\updater_prune.cc:101: tree pruning end, 34 extra nodes, 0 pruned nodes, max_depth=6\n",
      "[19:23:00] INFO: ..\\src\\tree\\updater_prune.cc:101: tree pruning end, 44 extra nodes, 0 pruned nodes, max_depth=6\n",
      "[19:23:00] INFO: ..\\src\\tree\\updater_prune.cc:101: tree pruning end, 36 extra nodes, 0 pruned nodes, max_depth=6\n",
      "[19:23:00] INFO: ..\\src\\tree\\updater_prune.cc:101: tree pruning end, 50 extra nodes, 0 pruned nodes, max_depth=6\n",
      "[19:23:00] INFO: ..\\src\\tree\\updater_prune.cc:101: tree pruning end, 48 extra nodes, 0 pruned nodes, max_depth=6\n",
      "[19:23:01] INFO: ..\\src\\tree\\updater_prune.cc:101: tree pruning end, 42 extra nodes, 0 pruned nodes, max_depth=6\n",
      "[19:23:01] INFO: ..\\src\\tree\\updater_prune.cc:101: tree pruning end, 44 extra nodes, 0 pruned nodes, max_depth=6\n",
      "[19:23:01] INFO: ..\\src\\tree\\updater_prune.cc:101: tree pruning end, 52 extra nodes, 0 pruned nodes, max_depth=6\n",
      "[19:23:01] INFO: ..\\src\\tree\\updater_prune.cc:101: tree pruning end, 50 extra nodes, 0 pruned nodes, max_depth=6\n",
      "[19:23:02] INFO: ..\\src\\tree\\updater_prune.cc:101: tree pruning end, 26 extra nodes, 0 pruned nodes, max_depth=6\n",
      "[19:23:02] INFO: ..\\src\\tree\\updater_prune.cc:101: tree pruning end, 44 extra nodes, 0 pruned nodes, max_depth=6\n"
     ]
    },
    {
     "data": {
      "text/plain": [
       "Pipeline(steps=[('smt', SMOTE(n_jobs=-1)), ('scale', StandardScaler()),\n",
       "                ('boost',\n",
       "                 XGBClassifier(base_score=0.5, booster='gbtree',\n",
       "                               colsample_bylevel=1, colsample_bynode=1,\n",
       "                               colsample_bytree=1, enable_categorical=False,\n",
       "                               gamma=0, gpu_id=-1, importance_type=None,\n",
       "                               interaction_constraints='',\n",
       "                               learning_rate=0.300000012, max_delta_step=0,\n",
       "                               max_depth=6, min_child_weight=1, missing=nan,\n",
       "                               monotone_constraints='()', n_estimators=100,\n",
       "                               n_jobs=12, num_parallel_tree=1, predictor='auto',\n",
       "                               random_state=0, reg_alpha=0, reg_lambda=1,\n",
       "                               scale_pos_weight=1, subsample=1,\n",
       "                               tree_method='exact', validate_parameters=1,\n",
       "                               verbosity=2))])"
      ]
     },
     "execution_count": 19,
     "metadata": {},
     "output_type": "execute_result"
    }
   ],
   "source": [
    "pipe.fit(X_train, y_train)"
   ]
  },
  {
   "cell_type": "code",
   "execution_count": 20,
   "id": "5b098d38",
   "metadata": {
    "scrolled": false
   },
   "outputs": [
    {
     "name": "stdout",
     "output_type": "stream",
     "text": [
      "              precision    recall  f1-score   support\n",
      "\n",
      "       False       1.00      1.00      1.00     35526\n",
      "        True       0.61      0.50      0.55       165\n",
      "\n",
      "    accuracy                           1.00     35691\n",
      "   macro avg       0.80      0.75      0.77     35691\n",
      "weighted avg       1.00      1.00      1.00     35691\n",
      "\n"
     ]
    }
   ],
   "source": [
    "print(classification_report(y_test, pipe.predict(X_test)))"
   ]
  },
  {
   "cell_type": "code",
   "execution_count": 21,
   "id": "33f0bb1c",
   "metadata": {},
   "outputs": [
    {
     "name": "stdout",
     "output_type": "stream",
     "text": [
      "[[35473    53]\n",
      " [   82    83]]\n"
     ]
    }
   ],
   "source": [
    "print(confusion_matrix(y_test, pipe.predict(X_test)))"
   ]
  },
  {
   "cell_type": "code",
   "execution_count": 22,
   "id": "e8679fcd",
   "metadata": {
    "scrolled": false
   },
   "outputs": [
    {
     "data": {
      "text/html": [
       "<div>\n",
       "<style scoped>\n",
       "    .dataframe tbody tr th:only-of-type {\n",
       "        vertical-align: middle;\n",
       "    }\n",
       "\n",
       "    .dataframe tbody tr th {\n",
       "        vertical-align: top;\n",
       "    }\n",
       "\n",
       "    .dataframe thead th {\n",
       "        text-align: right;\n",
       "    }\n",
       "</style>\n",
       "<table border=\"1\" class=\"dataframe\">\n",
       "  <thead>\n",
       "    <tr style=\"text-align: right;\">\n",
       "      <th></th>\n",
       "      <th>variable</th>\n",
       "      <th>importance</th>\n",
       "    </tr>\n",
       "  </thead>\n",
       "  <tbody>\n",
       "    <tr>\n",
       "      <th>69</th>\n",
       "      <td>error_category_SCR-Related</td>\n",
       "      <td>0.462671</td>\n",
       "    </tr>\n",
       "    <tr>\n",
       "      <th>87</th>\n",
       "      <td>accelerator_pedal_over_0_True</td>\n",
       "      <td>0.063697</td>\n",
       "    </tr>\n",
       "    <tr>\n",
       "      <th>85</th>\n",
       "      <td>fuel_temperature_over_32_True</td>\n",
       "      <td>0.039064</td>\n",
       "    </tr>\n",
       "    <tr>\n",
       "      <th>31</th>\n",
       "      <td>common_derate_lamp_status_True</td>\n",
       "      <td>0.034841</td>\n",
       "    </tr>\n",
       "    <tr>\n",
       "      <th>66</th>\n",
       "      <td>ecu_make_Unknown</td>\n",
       "      <td>0.032636</td>\n",
       "    </tr>\n",
       "    <tr>\n",
       "      <th>91</th>\n",
       "      <td>switched_battery_voltage_less_than_3276.75_True</td>\n",
       "      <td>0.027404</td>\n",
       "    </tr>\n",
       "    <tr>\n",
       "      <th>46</th>\n",
       "      <td>ecu_model_EC60-adv</td>\n",
       "      <td>0.025020</td>\n",
       "    </tr>\n",
       "    <tr>\n",
       "      <th>1</th>\n",
       "      <td>ltd_distance_x</td>\n",
       "      <td>0.023595</td>\n",
       "    </tr>\n",
       "    <tr>\n",
       "      <th>83</th>\n",
       "      <td>maintenance_before_True</td>\n",
       "      <td>0.021423</td>\n",
       "    </tr>\n",
       "    <tr>\n",
       "      <th>7</th>\n",
       "      <td>ltd_engine_time_x</td>\n",
       "      <td>0.019931</td>\n",
       "    </tr>\n",
       "  </tbody>\n",
       "</table>\n",
       "</div>"
      ],
      "text/plain": [
       "                                           variable  importance\n",
       "69                       error_category_SCR-Related    0.462671\n",
       "87                    accelerator_pedal_over_0_True    0.063697\n",
       "85                    fuel_temperature_over_32_True    0.039064\n",
       "31                   common_derate_lamp_status_True    0.034841\n",
       "66                                 ecu_make_Unknown    0.032636\n",
       "91  switched_battery_voltage_less_than_3276.75_True    0.027404\n",
       "46                               ecu_model_EC60-adv    0.025020\n",
       "1                                    ltd_distance_x    0.023595\n",
       "83                          maintenance_before_True    0.021423\n",
       "7                                 ltd_engine_time_x    0.019931"
      ]
     },
     "execution_count": 22,
     "metadata": {},
     "output_type": "execute_result"
    }
   ],
   "source": [
    "importances = pd.DataFrame({\n",
    "    'variable': X_train.columns,\n",
    "    'importance': pipe['boost'].feature_importances_\n",
    "})\n",
    "\n",
    "importances.sort_values('importance', ascending = False).head(10)"
   ]
  },
  {
   "cell_type": "code",
   "execution_count": 23,
   "id": "b08455e2",
   "metadata": {},
   "outputs": [],
   "source": [
    "import pickle\n",
    "\n",
    "with open('./data/boost_42422.pkl', 'wb') as file:\n",
    "    pickle.dump(pipe, file = file)"
   ]
  }
 ],
 "metadata": {
  "kernelspec": {
   "display_name": "Python 3 (ipykernel)",
   "language": "python",
   "name": "python3"
  },
  "language_info": {
   "codemirror_mode": {
    "name": "ipython",
    "version": 3
   },
   "file_extension": ".py",
   "mimetype": "text/x-python",
   "name": "python",
   "nbconvert_exporter": "python",
   "pygments_lexer": "ipython3",
   "version": "3.9.12"
  }
 },
 "nbformat": 4,
 "nbformat_minor": 5
}
