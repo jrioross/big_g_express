{
 "cells": [
  {
   "cell_type": "code",
   "execution_count": 1,
   "id": "54f02122",
   "metadata": {},
   "outputs": [],
   "source": [
    "import pandas as pd\n",
    "import numpy as np\n",
    "from sklearn.linear_model import LogisticRegression\n",
    "from sklearn.model_selection import train_test_split, cross_val_score, GridSearchCV\n",
    "from sklearn.metrics import classification_report, confusion_matrix\n",
    "from sklearn.preprocessing import StandardScaler, OneHotEncoder\n",
    "from sklearn.ensemble import AdaBoostClassifier\n",
    "from imblearn.pipeline import Pipeline\n",
    "from sklearn.pipeline import Pipeline"
   ]
  },
  {
   "cell_type": "code",
   "execution_count": 2,
   "id": "dd0ff16a",
   "metadata": {
    "scrolled": true
   },
   "outputs": [],
   "source": [
    "bigg = pd.read_csv('./data/CJH_big_g_express_dataset_041722_1054AM.csv', low_memory = False)"
   ]
  },
  {
   "cell_type": "code",
   "execution_count": 3,
   "id": "1a997766",
   "metadata": {},
   "outputs": [],
   "source": [
    "bigg['event_time_stamp'] = pd.to_datetime(bigg['event_time_stamp'])\n",
    "\n",
    "bigg = bigg.loc[(bigg['event_time_stamp'].dt.year > 2014) & (bigg['event_time_stamp'].dt.year <= 2020)]"
   ]
  },
  {
   "cell_type": "code",
   "execution_count": 4,
   "id": "c256a85a",
   "metadata": {},
   "outputs": [],
   "source": [
    "def create_groups(grp, df):\n",
    "    df['full_derate'] = False\n",
    "    df['full_derate'] = (\n",
    "        np.where(df[f'hours_id_group_{grp}']\\\n",
    "                    .isin(list(df[f'hours_id_group_{grp}']\\\n",
    "                               .loc[(df[f'use_for_first_tow_hours_id_group_{grp}'] == True)])) &\n",
    "                 (df[f'use_for_first_tow_hours_id_group_{grp}'] == True),\n",
    "                 True,\n",
    "                 False)\n",
    "        )\n",
    "    \n",
    "    \n",
    "    mask = df.loc[(df[f'hours_id_group_{grp}']\\\n",
    "                    .isin(list(df[f'hours_id_group_{grp}']\\\n",
    "                               .loc[(df[f'use_for_first_tow_hours_id_group_{grp}'] == True)]))) &\n",
    "                    (df[f'use_for_first_tow_hours_id_group_{grp}'] == False)]\n",
    "    \n",
    "    row_ls = [i for i in df.index if i not in mask.index]\n",
    "    \n",
    "    df = df.loc[row_ls]\n",
    "    \n",
    "    grp_col = f'hours_id_group_{grp}'\n",
    "    \n",
    "    return df, grp_col"
   ]
  },
  {
   "cell_type": "code",
   "execution_count": 5,
   "id": "c347fb2c",
   "metadata": {},
   "outputs": [],
   "source": [
    "bigg, grp_col = create_groups('14H', bigg)"
   ]
  },
  {
   "cell_type": "code",
   "execution_count": 6,
   "id": "d178bb47",
   "metadata": {},
   "outputs": [],
   "source": [
    "bigg['common_derate_lamp_status'] = (\n",
    "    np.where((bigg['lamp_status'] == 22527) | (bigg['lamp_status'] == 18431), True, False)\n",
    ")"
   ]
  },
  {
   "cell_type": "code",
   "execution_count": 7,
   "id": "add438f8",
   "metadata": {},
   "outputs": [],
   "source": [
    "cat_var = ['common_derate_lamp_status',\n",
    "           'ecu_model',\n",
    "           'ecu_make',\n",
    "           'error_category',\n",
    "           'month']\n",
    "\n",
    "# normalizers = ['ltd_distance',\n",
    "#              'ltd_engine_time',\n",
    "#              'ltd_fuel']\n",
    "\n",
    "var = [\n",
    "    'barometric_pressure',\n",
    "    'ltd_distance',\n",
    "    'engine_coolant_temperature',\n",
    "    'engine_load',\n",
    "    'engine_oil_pressure',\n",
    "    'engine_oil_temperature',\n",
    "    'engine_rpm',\n",
    "    'ltd_engine_time',\n",
    "    'fuel_level',\n",
    "    'ltd_fuel',\n",
    "    'fuel_rate',\n",
    "    'intake_manifold_temperature',\n",
    "    'speed',\n",
    "    'turbo_boost_pressure',\n",
    "    'error_duration_(minutes)']"
   ]
  },
  {
   "cell_type": "code",
   "execution_count": 8,
   "id": "a5b2fcc2",
   "metadata": {},
   "outputs": [],
   "source": [
    "#        'daily_avg_air_temp_for_location_(C)',\n",
    "#        'daily_min_air_temp_for_location_(C)',\n",
    "#        'daily_max_air_temp_for_location_(C)',\n",
    "#        'daily_precipitation_total_(mm)',\n",
    "#        'daily_snow_depth_(mm)',\n",
    "#        'daily_avg_wind_direction_(deg)',\n",
    "#        'daily_avg_wind_speed_(km/h)',\n",
    "#        'daily_peak_wind_gust_(km/h)',\n",
    "#     'daily_avg_sea_level_air_pressure_(hPa)',\n",
    "#        'daily_sunshine_total_(minutes)'"
   ]
  },
  {
   "cell_type": "code",
   "execution_count": 9,
   "id": "37759f45",
   "metadata": {},
   "outputs": [],
   "source": [
    "ohe_col_ls = []\n",
    "for i in cat_var:\n",
    "    ohe = OneHotEncoder()\n",
    "    transformed = ohe.fit_transform(bigg[[i]])\n",
    "    bigg[ohe.get_feature_names_out()] = transformed.toarray()\n",
    "    ohe_col_ls += [i for i in ohe.get_feature_names_out()]"
   ]
  },
  {
   "cell_type": "code",
   "execution_count": 10,
   "id": "257013b8",
   "metadata": {},
   "outputs": [],
   "source": [
    "def log_me(col):\n",
    "    bigg[col] = (\n",
    "        np.where((bigg[col].notnull()) & \n",
    "                 (np.log(bigg[col]) != -np.inf) &\n",
    "                 (np.log(bigg[col]) != np.inf), \n",
    "                 np.log(bigg[col]), np.nan)\n",
    "    )\n",
    "    \n",
    "    return bigg[col]\n",
    "\n",
    "log_cols = ['engine_oil_temperature',\n",
    "            'ltd_engine_time',\n",
    "            'fuel_rate',\n",
    "            'turbo_boost_pressure',\n",
    "#             'daily_precipitation_total_(mm)',\n",
    "#             'daily_snow_depth_(mm)',\n",
    "#             'daily_peak_wind_gust_(km/h)',\n",
    "#             'daily_sunshine_total_(minutes)',\n",
    "            'speed',\n",
    "            'error_duration_(minutes)']\n",
    "\n",
    "bigg['barometric_pressure'] = np.exp(bigg['barometric_pressure'])\n",
    "# bigg['daily_sunshine_total_(minutes)'] = np.exp(bigg['daily_sunshine_total_(minutes)'])"
   ]
  },
  {
   "cell_type": "code",
   "execution_count": 11,
   "id": "ac484676",
   "metadata": {},
   "outputs": [],
   "source": [
    "# def normalize_me(col, normalizer):\n",
    "#     if col != normalizer:\n",
    "#         bigg[col] = (\n",
    "#             np.where((bigg[col].notnull()) & \n",
    "#                      (bigg[col]/bigg[normalizer] != -np.inf) &\n",
    "#                      (bigg[col]/bigg[normalizer] != np.inf), \n",
    "#                      bigg[col]/bigg[normalizer] * 1000, \n",
    "#                      np.nan))\n",
    "    \n",
    "#     return bigg[col]\n",
    "\n",
    "# normalized_var_ls = []\n",
    "\n",
    "# for i in var:\n",
    "#     for j in normalizers:\n",
    "#         col_name = f'{i}_{j}'\n",
    "#         bigg[col_name] = normalize_me(i, j)\n",
    "#         normalized_var_ls.append(col_name)"
   ]
  },
  {
   "cell_type": "code",
   "execution_count": 12,
   "id": "4b47da53",
   "metadata": {},
   "outputs": [],
   "source": [
    "cat_vars = bigg.groupby(grp_col)[ohe_col_ls].sum().reset_index()"
   ]
  },
  {
   "cell_type": "code",
   "execution_count": 13,
   "id": "0ce726b1",
   "metadata": {},
   "outputs": [],
   "source": [
    "mean_vars = bigg.groupby(grp_col)[var].mean().reset_index().fillna(0)\n",
    "std_vars = bigg.groupby(grp_col)[var].std().reset_index().fillna(0)"
   ]
  },
  {
   "cell_type": "code",
   "execution_count": 14,
   "id": "b518a64b",
   "metadata": {},
   "outputs": [],
   "source": [
    "target_values = bigg[[grp_col, 'full_derate']].drop_duplicates()"
   ]
  },
  {
   "cell_type": "code",
   "execution_count": 15,
   "id": "834dbc29",
   "metadata": {},
   "outputs": [],
   "source": [
    "all_vars = pd.merge(mean_vars, std_vars, on = grp_col).merge(cat_vars, on = grp_col)"
   ]
  },
  {
   "cell_type": "code",
   "execution_count": 16,
   "id": "c9b1e418",
   "metadata": {},
   "outputs": [],
   "source": [
    "X = all_vars.drop(columns = grp_col)\n",
    "y = target_values['full_derate']\n",
    "\n",
    "X_train, X_test, y_train, y_test = train_test_split(X, y, \n",
    "                                                    test_size = 0.20, \n",
    "                                                    train_size = 0.80, \n",
    "                                                    random_state = 100, \n",
    "                                                    stratify = y)"
   ]
  },
  {
   "cell_type": "code",
   "execution_count": 17,
   "id": "900db55d",
   "metadata": {},
   "outputs": [
    {
     "name": "stderr",
     "output_type": "stream",
     "text": [
      "[Parallel(n_jobs=-1)]: Using backend LokyBackend with 12 concurrent workers.\n",
      "[Parallel(n_jobs=-1)]: Done   3 out of   5 | elapsed:   23.1s remaining:   15.4s\n",
      "[Parallel(n_jobs=-1)]: Done   5 out of   5 | elapsed:   24.6s finished\n"
     ]
    }
   ],
   "source": [
    "pipe = Pipeline(\n",
    "    steps = [\n",
    "        ('scale', StandardScaler()),\n",
    "        ('logistic', LogisticRegression(class_weight = {0:1, 1:50},\n",
    "                                        max_iter = 1000, \n",
    "                                        n_jobs = -1, \n",
    "                                        verbose = 2))\n",
    "    ]\n",
    ")\n",
    "\n",
    "\n",
    "cv = cross_val_score(estimator = pipe,\n",
    "                     X = X_train,\n",
    "                     y = y_train, \n",
    "                     cv = 5,\n",
    "                     n_jobs = -1,\n",
    "                     scoring = 'f1_macro', \n",
    "                     verbose = 2)"
   ]
  },
  {
   "cell_type": "code",
   "execution_count": 18,
   "id": "70577af9",
   "metadata": {},
   "outputs": [
    {
     "data": {
      "text/plain": [
       "array([0.57034332, 0.56155453, 0.57914844, 0.55124918, 0.5768975 ])"
      ]
     },
     "execution_count": 18,
     "metadata": {},
     "output_type": "execute_result"
    }
   ],
   "source": [
    "cv"
   ]
  },
  {
   "cell_type": "code",
   "execution_count": 19,
   "id": "8a45bffa",
   "metadata": {},
   "outputs": [
    {
     "name": "stderr",
     "output_type": "stream",
     "text": [
      "[Parallel(n_jobs=-1)]: Using backend LokyBackend with 12 concurrent workers.\n",
      "[Parallel(n_jobs=-1)]: Done   1 out of   1 | elapsed:  1.8min finished\n"
     ]
    },
    {
     "data": {
      "text/plain": [
       "Pipeline(steps=[('scale', StandardScaler()),\n",
       "                ('logistic',\n",
       "                 LogisticRegression(class_weight={0: 1, 1: 50}, max_iter=1000,\n",
       "                                    n_jobs=-1, verbose=2))])"
      ]
     },
     "execution_count": 19,
     "metadata": {},
     "output_type": "execute_result"
    }
   ],
   "source": [
    "pipe.fit(X_train, y_train)"
   ]
  },
  {
   "cell_type": "code",
   "execution_count": 20,
   "id": "a3909a84",
   "metadata": {},
   "outputs": [
    {
     "name": "stdout",
     "output_type": "stream",
     "text": [
      "              precision    recall  f1-score   support\n",
      "\n",
      "       False       1.00      0.98      0.99     41685\n",
      "        True       0.10      0.68      0.17       137\n",
      "\n",
      "    accuracy                           0.98     41822\n",
      "   macro avg       0.55      0.83      0.58     41822\n",
      "weighted avg       1.00      0.98      0.99     41822\n",
      "\n"
     ]
    }
   ],
   "source": [
    "print(classification_report(y_test, pipe.predict(X_test)))"
   ]
  },
  {
   "cell_type": "code",
   "execution_count": 21,
   "id": "7a4ff85f",
   "metadata": {},
   "outputs": [
    {
     "name": "stdout",
     "output_type": "stream",
     "text": [
      "[[40821   864]\n",
      " [   44    93]]\n"
     ]
    }
   ],
   "source": [
    "print(confusion_matrix(y_test, pipe.predict(X_test)))"
   ]
  }
 ],
 "metadata": {
  "kernelspec": {
   "display_name": "Python 3 (ipykernel)",
   "language": "python",
   "name": "python3"
  },
  "language_info": {
   "codemirror_mode": {
    "name": "ipython",
    "version": 3
   },
   "file_extension": ".py",
   "mimetype": "text/x-python",
   "name": "python",
   "nbconvert_exporter": "python",
   "pygments_lexer": "ipython3",
   "version": "3.9.12"
  }
 },
 "nbformat": 4,
 "nbformat_minor": 5
}
