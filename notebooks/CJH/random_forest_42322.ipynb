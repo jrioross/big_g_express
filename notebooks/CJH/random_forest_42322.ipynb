{
 "cells": [
  {
   "cell_type": "code",
   "execution_count": null,
   "id": "54f02122",
   "metadata": {},
   "outputs": [],
   "source": [
    "import pandas as pd\n",
    "import numpy as np\n",
    "from sklearn.model_selection import train_test_split, cross_val_score, GridSearchCV\n",
    "from sklearn.metrics import classification_report, confusion_matrix\n",
    "from sklearn.preprocessing import StandardScaler, OneHotEncoder\n",
    "from sklearn.ensemble import RandomForestClassifier\n",
    "from imblearn.pipeline import Pipeline\n",
    "from imblearn.over_sampling import SMOTE"
   ]
  },
  {
   "cell_type": "code",
   "execution_count": null,
   "id": "dd0ff16a",
   "metadata": {
    "scrolled": true
   },
   "outputs": [],
   "source": [
    "bigg = pd.read_csv('./data/CJH_big_g_express_dataset_042322_1010AM.csv', low_memory = False)"
   ]
  },
  {
   "cell_type": "code",
   "execution_count": null,
   "id": "1a997766",
   "metadata": {},
   "outputs": [],
   "source": [
    "bigg['event_time_stamp'] = pd.to_datetime(bigg['event_time_stamp'])\n",
    "\n",
    "bigg = bigg.loc[(bigg['event_time_stamp'].dt.year > 2014) & (bigg['event_time_stamp'].dt.year <= 2020)]"
   ]
  },
  {
   "cell_type": "code",
   "execution_count": null,
   "id": "c256a85a",
   "metadata": {},
   "outputs": [],
   "source": [
    "def create_groups(grp, df, offset_grp = None):\n",
    "    df['full_derate'] = False\n",
    "    \n",
    "    if offset_grp is not None:\n",
    "        df = df[df[f'use_for_first_tow_hours_id_group_{offset_grp}'] == False]\n",
    "        \n",
    "    df['full_derate'] = (\n",
    "        np.where(df[f'hours_id_group_{grp}']\\\n",
    "                 .isin(list(df[f'hours_id_group_{grp}']\\\n",
    "                            .loc[(df[f'use_for_first_tow_hours_id_group_{grp}'] == True)])) &\n",
    "                 (df[f'use_for_first_tow_hours_id_group_{grp}'] == True),\n",
    "                 True,\n",
    "                 False)\n",
    "        )\n",
    "    \n",
    "    \n",
    "    mask = df.loc[(df[f'hours_id_group_{grp}']\\\n",
    "                    .isin(list(df[f'hours_id_group_{grp}']\\\n",
    "                               .loc[(df[f'use_for_first_tow_hours_id_group_{grp}'] == True)]))) &\n",
    "                    (df['full_derate'] == False)]\n",
    "    \n",
    "    row_ls = [i for i in df.index if i not in mask.index]\n",
    "    \n",
    "    df = df.loc[row_ls]\n",
    "    \n",
    "    grp_col = f'hours_id_group_{grp}'\n",
    "    \n",
    "    return df, grp_col"
   ]
  },
  {
   "cell_type": "code",
   "execution_count": null,
   "id": "c347fb2c",
   "metadata": {},
   "outputs": [],
   "source": [
    "bigg, grp_col = create_groups('48H', bigg, '1H')"
   ]
  },
  {
   "cell_type": "code",
   "execution_count": null,
   "id": "d178bb47",
   "metadata": {},
   "outputs": [],
   "source": [
    "bigg['common_derate_lamp_status'] = (\n",
    "    np.where((bigg['lamp_status'] == 22527) | (bigg['lamp_status'] == 18431), True, False)\n",
    ")"
   ]
  },
  {
   "cell_type": "code",
   "execution_count": null,
   "id": "add438f8",
   "metadata": {},
   "outputs": [],
   "source": [
    "cat_var = [\n",
    "    'common_derate_lamp_status',\n",
    "    'ecu_model',\n",
    "    'ecu_make',\n",
    "    'error_category',\n",
    "    'month',\n",
    "    'maintenance_before']\n",
    "\n",
    "var = ['barometric_pressure',\n",
    "       'ltd_distance',\n",
    "       'engine_coolant_temperature',\n",
    "       'engine_load',\n",
    "       'engine_oil_pressure',\n",
    "       'engine_oil_temperature',\n",
    "       'engine_rpm',\n",
    "       'ltd_engine_time',\n",
    "       'fuel_level',\n",
    "       'ltd_fuel',\n",
    "       'fuel_rate',\n",
    "       'intake_manifold_temperature',\n",
    "       'speed',\n",
    "       'turbo_boost_pressure',\n",
    "       'error_duration_(minutes)']"
   ]
  },
  {
   "cell_type": "code",
   "execution_count": null,
   "id": "37759f45",
   "metadata": {},
   "outputs": [],
   "source": [
    "ohe_col_ls = []\n",
    "for i in cat_var:\n",
    "    ohe = OneHotEncoder()\n",
    "    transformed = ohe.fit_transform(bigg[[i]])\n",
    "    bigg[ohe.get_feature_names_out()] = transformed.toarray()\n",
    "    ohe_col_ls += [i for i in ohe.get_feature_names_out()]"
   ]
  },
  {
   "cell_type": "code",
   "execution_count": null,
   "id": "257013b8",
   "metadata": {},
   "outputs": [],
   "source": [
    "def log_me(col):\n",
    "    bigg[col] = (\n",
    "        np.where((bigg[col].notnull()) & \n",
    "                 (np.log(bigg[col]) != -np.inf) &\n",
    "                 (np.log(bigg[col]) != np.inf), \n",
    "                 np.log(bigg[col]), np.nan)\n",
    "    )\n",
    "    \n",
    "    return bigg[col]\n",
    "\n",
    "log_cols = ['engine_oil_temperature',\n",
    "            'ltd_engine_time',\n",
    "            'fuel_rate',\n",
    "            'turbo_boost_pressure',\n",
    "            'speed',\n",
    "            'error_duration_(minutes)']\n",
    "\n",
    "bigg['barometric_pressure'] = np.exp(bigg['barometric_pressure'])"
   ]
  },
  {
   "cell_type": "code",
   "execution_count": null,
   "id": "4b47da53",
   "metadata": {},
   "outputs": [],
   "source": [
    "cat_vars = bigg.groupby(grp_col)[ohe_col_ls].sum().reset_index()"
   ]
  },
  {
   "cell_type": "code",
   "execution_count": null,
   "id": "0ce726b1",
   "metadata": {},
   "outputs": [],
   "source": [
    "mean_vars = bigg.groupby(grp_col)[var].mean().reset_index().fillna(0)\n",
    "std_vars = bigg.groupby(grp_col)[var].std().reset_index().fillna(0)"
   ]
  },
  {
   "cell_type": "code",
   "execution_count": null,
   "id": "b518a64b",
   "metadata": {},
   "outputs": [],
   "source": [
    "target_values = bigg[[grp_col, 'full_derate']].drop_duplicates()"
   ]
  },
  {
   "cell_type": "code",
   "execution_count": null,
   "id": "834dbc29",
   "metadata": {},
   "outputs": [],
   "source": [
    "all_vars = pd.merge(mean_vars, std_vars, on = grp_col).merge(cat_vars, on = grp_col)"
   ]
  },
  {
   "cell_type": "code",
   "execution_count": null,
   "id": "c9b1e418",
   "metadata": {},
   "outputs": [],
   "source": [
    "# X = cat_vars.drop(columns = grp_col)\n",
    "X = all_vars.drop(columns = grp_col)\n",
    "y = target_values['full_derate']\n",
    "\n",
    "X_train, X_test, y_train, y_test = train_test_split(X, y, \n",
    "                                                    test_size = 0.20, \n",
    "                                                    train_size = 0.80, \n",
    "                                                    random_state = 36, \n",
    "                                                    stratify = y)"
   ]
  },
  {
   "cell_type": "code",
   "execution_count": null,
   "id": "900db55d",
   "metadata": {},
   "outputs": [],
   "source": [
    "param_grid = {'smt__sampling_strategy': np.arange(0.1,1,0.1).tolist()}\n",
    "\n",
    "\n",
    "pipe = Pipeline(\n",
    "    steps = [\n",
    "        ('smt', SMOTE(n_jobs = -1)),\n",
    "        ('scale', StandardScaler()),\n",
    "        ('rf', RandomForestClassifier(n_estimators = 100, verbose = 2)) \n",
    "    ]\n",
    ")\n",
    "\n",
    "gs = GridSearchCV(estimator = pipe, \n",
    "                  param_grid = param_grid,\n",
    "                  scoring = 'f1',\n",
    "                  cv = 5)\n",
    "\n",
    "# cv = cross_val_score(estimator = pipe,\n",
    "#                      X = X_train,\n",
    "#                      y = y_train, \n",
    "#                      cv = 5,\n",
    "#                      n_jobs = -1,\n",
    "#                      scoring = 'precision', \n",
    "#                      verbose = 2)"
   ]
  },
  {
   "cell_type": "code",
   "execution_count": null,
   "id": "bed7c067",
   "metadata": {
    "scrolled": true
   },
   "outputs": [],
   "source": [
    "# cv"
   ]
  },
  {
   "cell_type": "code",
   "execution_count": null,
   "id": "0e51ede8",
   "metadata": {},
   "outputs": [],
   "source": [
    "# cv = cross_val_score(estimator = pipe,\n",
    "#                      X = X_train,\n",
    "#                      y = y_train, \n",
    "#                      cv = 5,\n",
    "#                      n_jobs = -1,\n",
    "#                      scoring = 'recall', \n",
    "#                      verbose = 2)"
   ]
  },
  {
   "cell_type": "code",
   "execution_count": null,
   "id": "329d1d03",
   "metadata": {},
   "outputs": [],
   "source": [
    "# cv"
   ]
  },
  {
   "cell_type": "code",
   "execution_count": null,
   "id": "8a45bffa",
   "metadata": {
    "scrolled": true
   },
   "outputs": [],
   "source": [
    "gs.fit(X_train, y_train)"
   ]
  },
  {
   "cell_type": "code",
   "execution_count": null,
   "id": "e38a3516",
   "metadata": {},
   "outputs": [],
   "source": [
    "gs.best_params_"
   ]
  },
  {
   "cell_type": "code",
   "execution_count": null,
   "id": "6e3aae6d",
   "metadata": {},
   "outputs": [],
   "source": [
    "gs.best_score_"
   ]
  },
  {
   "cell_type": "code",
   "execution_count": null,
   "id": "dfbff6c8",
   "metadata": {},
   "outputs": [],
   "source": [
    "print(classification_report(y_test, gs.predict(X_test)))"
   ]
  },
  {
   "cell_type": "code",
   "execution_count": null,
   "id": "9fe8d4b1",
   "metadata": {},
   "outputs": [],
   "source": [
    "print(confusion_matrix(y_test, gs.predict(X_test)))"
   ]
  },
  {
   "cell_type": "code",
   "execution_count": null,
   "id": "e8679fcd",
   "metadata": {},
   "outputs": [],
   "source": [
    "importances = pd.DataFrame({\n",
    "    'variable': X_train.columns,\n",
    "    'importance': gs['rf'].feature_importances_\n",
    "})\n",
    "\n",
    "importances.sort_values('importance', ascending = False).head(10)"
   ]
  }
 ],
 "metadata": {
  "kernelspec": {
   "display_name": "Python 3 (ipykernel)",
   "language": "python",
   "name": "python3"
  },
  "language_info": {
   "codemirror_mode": {
    "name": "ipython",
    "version": 3
   },
   "file_extension": ".py",
   "mimetype": "text/x-python",
   "name": "python",
   "nbconvert_exporter": "python",
   "pygments_lexer": "ipython3",
   "version": "3.9.12"
  }
 },
 "nbformat": 4,
 "nbformat_minor": 5
}
