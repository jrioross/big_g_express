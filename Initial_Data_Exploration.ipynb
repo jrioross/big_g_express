{
 "cells": [
  {
   "cell_type": "code",
   "execution_count": null,
   "id": "68ebe1e6",
   "metadata": {},
   "outputs": [],
   "source": [
    "import pandas as pd\n",
    "import numpy as np"
   ]
  },
  {
   "cell_type": "code",
   "execution_count": null,
   "id": "fa51391f",
   "metadata": {
    "scrolled": true
   },
   "outputs": [],
   "source": [
    "faults = pd.read_csv('./data/J1939Faults.csv',\n",
    "                    usecols = ['RecordID',\n",
    "                               'ESS_Id',\n",
    "                               'EventTimeStamp',\n",
    "                               'eventDescription',\n",
    "                               'ecuSoftwareVersion',\n",
    "                               'ecuSerialNumber',\n",
    "                               'ecuModel',\n",
    "                               'ecuMake',\n",
    "                               'ecuSource',\n",
    "                               'spn',\n",
    "                               'fmi',\n",
    "                               'active',\n",
    "                               'activeTransitionCount',\n",
    "                               'MCTNumber',\n",
    "                               'Latitude',\n",
    "                               'Longitude',\n",
    "                               'LocationTimeStamp'],\n",
    "                    dtype = {'spn':'object', 'fmi':'object'})\n",
    "fault_codes = pd.read_excel('./data/Service Fault Codes_1_0_0_167.xlsx',\n",
    "                           usecols = ['SPN',\n",
    "                                      'J1939 FMI',\n",
    "                                      'Lamp Color',\n",
    "                                      'Lamp Device',\n",
    "                                      'Cummins Description',\n",
    "                                      'Algorithm Description'],\n",
    "                           dtype = 'object')\n",
    "onboard = pd.read_csv('./data/VehicleDiagnosticOnboardData.csv')\n"
   ]
  },
  {
   "cell_type": "code",
   "execution_count": null,
   "id": "4cbf0282",
   "metadata": {},
   "outputs": [],
   "source": [
    "fault_codes_2 = fault_codes.dropna()"
   ]
  },
  {
   "cell_type": "code",
   "execution_count": null,
   "id": "2dfd49d6",
   "metadata": {},
   "outputs": [],
   "source": [
    "onboard_faults_make_codes = (\n",
    "    onboard.\\\n",
    "    pivot(index = 'FaultId', columns = 'Name', values = 'Value').\\\n",
    "    reset_index().\\\n",
    "    merge(faults, left_on = 'FaultId', right_on = 'RecordID').\\\n",
    "    merge(fault_codes_2, left_on = ['spn','fmi'], right_on = ['SPN','J1939 FMI'], how = 'left')\n",
    ")"
   ]
  },
  {
   "cell_type": "code",
   "execution_count": null,
   "id": "fa5ba5cd",
   "metadata": {},
   "outputs": [],
   "source": [
    "float_list = ['AcceleratorPedal', \n",
    "              'BarometricPressure', \n",
    "              'CruiseControlSetSpeed',\n",
    "              'DistanceLtd',\n",
    "              'EngineCoolantTemperature',\n",
    "              'EngineOilPressure',\n",
    "              'EngineOilTemperature',\n",
    "              'EngineRpm',\n",
    "              'EngineTimeLtd',\n",
    "              'FuelLevel',\n",
    "              'FuelLtd',\n",
    "              'FuelRate',\n",
    "              'FuelTemperature',\n",
    "              'IntakeManifoldTemperature',\n",
    "              'ServiceDistance',\n",
    "              'Speed',\n",
    "              'SwitchedBatteryVoltage',\n",
    "              'Throttle',\n",
    "              'TurboBoostPressure']\n",
    "int_list = ['EngineLoad', 'LampStatus']\n",
    "bool_list = ['CruiseControlActive', \n",
    "             'IgnStatus',\n",
    "             'ParkingBrake']"
   ]
  },
  {
   "cell_type": "code",
   "execution_count": null,
   "id": "82ef6e96",
   "metadata": {},
   "outputs": [],
   "source": [
    "for i in float_list:\n",
    "    onboard_faults_make_codes[i] = (\n",
    "        onboard_faults_make_codes[i].str.replace(',','.').fillna(0).astype(float)\n",
    "    )\n",
    "\n",
    "for i in int_list:\n",
    "    onboard_faults_make_codes[i] = (\n",
    "        onboard_faults_make_codes[i].fillna(0).astype(int)\n",
    "    )\n",
    "\n",
    "for i in bool_list:\n",
    "    onboard_faults_make_codes[i] = (\n",
    "        onboard_faults_make_codes[i].fillna(False).astype(bool)\n",
    "    )\n"
   ]
  }
 ],
 "metadata": {
  "kernelspec": {
   "display_name": "Python 3 (ipykernel)",
   "language": "python",
   "name": "python3"
  },
  "language_info": {
   "codemirror_mode": {
    "name": "ipython",
    "version": 3
   },
   "file_extension": ".py",
   "mimetype": "text/x-python",
   "name": "python",
   "nbconvert_exporter": "python",
   "pygments_lexer": "ipython3",
   "version": "3.9.7"
  }
 },
 "nbformat": 4,
 "nbformat_minor": 5
}
